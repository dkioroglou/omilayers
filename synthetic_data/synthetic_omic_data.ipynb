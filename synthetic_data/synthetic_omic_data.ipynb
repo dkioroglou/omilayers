{
 "cells": [
  {
   "cell_type": "code",
   "execution_count": 1,
   "id": "bc4dc317-9ba1-43dd-9efa-f64fbab61ede",
   "metadata": {
    "tags": []
   },
   "outputs": [],
   "source": [
    "import pandas as pd\n",
    "import multiprocessing\n",
    "import numpy as np\n",
    "import time\n",
    "from omilayers import Omilayers\n",
    "import io"
   ]
  },
  {
   "cell_type": "markdown",
   "id": "828bb6a7-89d8-40fd-b191-ddbf166d36eb",
   "metadata": {
    "tags": []
   },
   "source": [
    "# Connect to database"
   ]
  },
  {
   "cell_type": "code",
   "execution_count": 2,
   "id": "71148b6c-f982-44a2-9ad2-f1638de377f5",
   "metadata": {
    "tags": []
   },
   "outputs": [],
   "source": [
    "omi = Omilayers(\"project.duckdb\")"
   ]
  },
  {
   "cell_type": "markdown",
   "id": "bfe02075-8eff-468f-bd08-284f1eb9493e",
   "metadata": {
    "jp-MarkdownHeadingCollapsed": true,
    "tags": []
   },
   "source": [
    "# Helper functions"
   ]
  },
  {
   "cell_type": "code",
   "execution_count": 2,
   "id": "88c9d287-5603-46ba-9756-491be1616f0c",
   "metadata": {
    "tags": []
   },
   "outputs": [],
   "source": [
    "Nsamples = 100\n",
    "sampleIDs = [\"SA\"+f\"{i}\".zfill(3) for i in range(1, Nsamples+1)]\n",
    "\n",
    "def timeit(func):\n",
    "    \"\"\"\n",
    "    Decorator that times the execution of a function.\n",
    "    \"\"\"\n",
    "    def wrapper(*args, **kwargs):\n",
    "        start_time = time.time()\n",
    "        result = func(*args, **kwargs)\n",
    "        end_time = time.time()\n",
    "        duration = np.round(end_time - start_time, 2)\n",
    "        return (duration, result)\n",
    "    \n",
    "    return wrapper\n",
    "\n",
    "@timeit\n",
    "def simulate_data(featuresName, features, minValue, maxValue, integers=False):\n",
    "    \"\"\"\n",
    "    Function for simulating data.\n",
    "    \"\"\"\n",
    "    JSON = {}\n",
    "    for feature in features:\n",
    "        if not integers:\n",
    "            JSON[feature] = np.round(np.random.uniform(minValue, maxValue, Nsamples), 4)\n",
    "        else:\n",
    "            JSON[feature] = np.random.randint(minValue, maxValue, Nsamples)\n",
    "    data = pd.DataFrame(JSON, index=sampleIDs)\n",
    "    data = data.T\n",
    "    data = data.reset_index()\n",
    "    data = data.rename(columns={\"index\":featuresName})\n",
    "    \n",
    "    return data\n",
    "\n",
    "def memory_usage_simulated_data(data):\n",
    "    \"\"\"\n",
    "    Function for estimating the memory usage of a pandas.DataFrame.\n",
    "    \"\"\"\n",
    "    output = io.StringIO()\n",
    "    data.info(memory_usage='deep', buf=output)\n",
    "    output = output.getvalue().split(\"\\n\")\n",
    "    memoryUsage = output[-2].split(\":\")[-1].strip()\n",
    "    \n",
    "    return memoryUsage\n",
    "\n",
    "@timeit\n",
    "def store_data(dataToStore, layerName, tagName, description):\n",
    "    \"\"\"\n",
    "    Function for storing omic layer data.\n",
    "    \"\"\"\n",
    "    omi.layers[layerName] = \"dataToStore\"\n",
    "    omi.layers[layerName].set_tag(tagName)\n",
    "    omi.layers[layerName].set_info(description)\n",
    "    \n",
    "    return None\n",
    "\n",
    "@timeit\n",
    "def load_layer(layerName):\n",
    "    \"\"\"\n",
    "    Function for loading stored omic layer data.\n",
    "    \"\"\"\n",
    "    layerData = omi.layers[layerName].to_df()\n",
    "    \n",
    "    return layerData\n",
    "\n",
    "@timeit\n",
    "def get_sample(layer, sample):\n",
    "    result = omi.layers[layer][sample]\n",
    "    \n",
    "    return result\n",
    "\n",
    "@timeit\n",
    "def add_sample(layer, sampleName, data):\n",
    "    omi.layers[layer][sampleName] = data\n",
    "    \n",
    "    return None\n",
    "\n"
   ]
  },
  {
   "cell_type": "markdown",
   "id": "102e139c-d134-4d7f-b788-cb62899428d0",
   "metadata": {
    "jp-MarkdownHeadingCollapsed": true,
    "tags": []
   },
   "source": [
    "# Cohort features"
   ]
  },
  {
   "cell_type": "markdown",
   "id": "5917af56-8de1-486a-a87c-0091e600f8a1",
   "metadata": {
    "tags": []
   },
   "source": [
    "## Create synthetic data"
   ]
  },
  {
   "cell_type": "code",
   "execution_count": 4,
   "id": "844f55a2-fddc-4599-9ec0-a5d0d688b889",
   "metadata": {
    "tags": []
   },
   "outputs": [],
   "source": [
    "data = pd.DataFrame({\n",
    "    \"sample_id\": sampleIDs,\n",
    "    \"gender\": np.random.choice([\"female\", \"male\"], Nsamples),\n",
    "    \"age\": np.random.randint(20, 50, Nsamples),\n",
    "    \"bmi\": np.round(np.random.uniform(20, 40, Nsamples), 2)\n",
    "})"
   ]
  },
  {
   "cell_type": "markdown",
   "id": "04e2bac2-afef-4704-b18b-f933d45095c3",
   "metadata": {},
   "source": [
    "Get memory usage of simulated data"
   ]
  },
  {
   "cell_type": "code",
   "execution_count": 5,
   "id": "e50905cd-4c30-49ad-8887-04fb78904ba0",
   "metadata": {
    "tags": []
   },
   "outputs": [],
   "source": [
    "memoryUsage = memory_usage_simulated_data(data)"
   ]
  },
  {
   "cell_type": "code",
   "execution_count": 6,
   "id": "5f7b026b-555d-4583-94aa-07a7d5b5714c",
   "metadata": {
    "tags": []
   },
   "outputs": [
    {
     "name": "stdout",
     "output_type": "stream",
     "text": [
      "Memory usage of simulated data: 13.8 KB\n"
     ]
    }
   ],
   "source": [
    "print(f\"Memory usage of simulated data: {memoryUsage}\")"
   ]
  },
  {
   "cell_type": "markdown",
   "id": "e5f4a6b5-2507-4a0f-90ee-4a972339b05a",
   "metadata": {},
   "source": [
    "## Store synthetic data"
   ]
  },
  {
   "cell_type": "code",
   "execution_count": 7,
   "id": "050cf37d-f00a-4996-9bbb-b0b3b68099a4",
   "metadata": {
    "tags": []
   },
   "outputs": [],
   "source": [
    "duration, _ = store_data(data, \"cohort\", \"raw\", \"Cohort features.\")"
   ]
  },
  {
   "cell_type": "code",
   "execution_count": 8,
   "id": "4bd291f5-317e-4ebf-b400-dff3b445db87",
   "metadata": {
    "tags": []
   },
   "outputs": [
    {
     "name": "stdout",
     "output_type": "stream",
     "text": [
      "Time to store simulated data: 0.07 s\n"
     ]
    }
   ],
   "source": [
    "print(f\"Time to store simulated data: {duration} s\")"
   ]
  },
  {
   "cell_type": "markdown",
   "id": "6ec5bf6e-c068-44b7-9b92-ed571fb86424",
   "metadata": {},
   "source": [
    "## Retrieve stored data"
   ]
  },
  {
   "cell_type": "code",
   "execution_count": 12,
   "id": "6e9cf4f5-6ff7-468c-9d43-75b71b8bdd0b",
   "metadata": {
    "tags": []
   },
   "outputs": [],
   "source": [
    "duration, layerData = load_layer(\"cohort\")"
   ]
  },
  {
   "cell_type": "code",
   "execution_count": 13,
   "id": "ce00b107-192b-4ed4-bdbd-e108cf9a0dfb",
   "metadata": {
    "tags": []
   },
   "outputs": [
    {
     "name": "stdout",
     "output_type": "stream",
     "text": [
      "Time to load stored layer: 0.02 s\n"
     ]
    }
   ],
   "source": [
    "print(f\"Time to load stored layer: {duration} s\")"
   ]
  },
  {
   "cell_type": "code",
   "execution_count": 14,
   "id": "59285dee-1f5b-4215-a0f6-79ca7a97f2a4",
   "metadata": {
    "tags": []
   },
   "outputs": [
    {
     "data": {
      "text/html": [
       "<div>\n",
       "<style scoped>\n",
       "    .dataframe tbody tr th:only-of-type {\n",
       "        vertical-align: middle;\n",
       "    }\n",
       "\n",
       "    .dataframe tbody tr th {\n",
       "        vertical-align: top;\n",
       "    }\n",
       "\n",
       "    .dataframe thead th {\n",
       "        text-align: right;\n",
       "    }\n",
       "</style>\n",
       "<table border=\"1\" class=\"dataframe\">\n",
       "  <thead>\n",
       "    <tr style=\"text-align: right;\">\n",
       "      <th></th>\n",
       "      <th>sample_id</th>\n",
       "      <th>gender</th>\n",
       "      <th>age</th>\n",
       "      <th>bmi</th>\n",
       "    </tr>\n",
       "  </thead>\n",
       "  <tbody>\n",
       "    <tr>\n",
       "      <th>0</th>\n",
       "      <td>SA001</td>\n",
       "      <td>female</td>\n",
       "      <td>42</td>\n",
       "      <td>31.47</td>\n",
       "    </tr>\n",
       "    <tr>\n",
       "      <th>1</th>\n",
       "      <td>SA002</td>\n",
       "      <td>male</td>\n",
       "      <td>41</td>\n",
       "      <td>21.97</td>\n",
       "    </tr>\n",
       "    <tr>\n",
       "      <th>2</th>\n",
       "      <td>SA003</td>\n",
       "      <td>male</td>\n",
       "      <td>32</td>\n",
       "      <td>29.82</td>\n",
       "    </tr>\n",
       "    <tr>\n",
       "      <th>3</th>\n",
       "      <td>SA004</td>\n",
       "      <td>female</td>\n",
       "      <td>36</td>\n",
       "      <td>30.54</td>\n",
       "    </tr>\n",
       "    <tr>\n",
       "      <th>4</th>\n",
       "      <td>SA005</td>\n",
       "      <td>male</td>\n",
       "      <td>42</td>\n",
       "      <td>34.72</td>\n",
       "    </tr>\n",
       "    <tr>\n",
       "      <th>...</th>\n",
       "      <td>...</td>\n",
       "      <td>...</td>\n",
       "      <td>...</td>\n",
       "      <td>...</td>\n",
       "    </tr>\n",
       "    <tr>\n",
       "      <th>95</th>\n",
       "      <td>SA096</td>\n",
       "      <td>male</td>\n",
       "      <td>41</td>\n",
       "      <td>29.65</td>\n",
       "    </tr>\n",
       "    <tr>\n",
       "      <th>96</th>\n",
       "      <td>SA097</td>\n",
       "      <td>male</td>\n",
       "      <td>25</td>\n",
       "      <td>34.08</td>\n",
       "    </tr>\n",
       "    <tr>\n",
       "      <th>97</th>\n",
       "      <td>SA098</td>\n",
       "      <td>male</td>\n",
       "      <td>25</td>\n",
       "      <td>29.27</td>\n",
       "    </tr>\n",
       "    <tr>\n",
       "      <th>98</th>\n",
       "      <td>SA099</td>\n",
       "      <td>female</td>\n",
       "      <td>36</td>\n",
       "      <td>31.45</td>\n",
       "    </tr>\n",
       "    <tr>\n",
       "      <th>99</th>\n",
       "      <td>SA100</td>\n",
       "      <td>male</td>\n",
       "      <td>34</td>\n",
       "      <td>20.15</td>\n",
       "    </tr>\n",
       "  </tbody>\n",
       "</table>\n",
       "<p>100 rows × 4 columns</p>\n",
       "</div>"
      ],
      "text/plain": [
       "   sample_id  gender  age    bmi\n",
       "0      SA001  female   42  31.47\n",
       "1      SA002    male   41  21.97\n",
       "2      SA003    male   32  29.82\n",
       "3      SA004  female   36  30.54\n",
       "4      SA005    male   42  34.72\n",
       "..       ...     ...  ...    ...\n",
       "95     SA096    male   41  29.65\n",
       "96     SA097    male   25  34.08\n",
       "97     SA098    male   25  29.27\n",
       "98     SA099  female   36  31.45\n",
       "99     SA100    male   34  20.15\n",
       "\n",
       "[100 rows x 4 columns]"
      ]
     },
     "execution_count": 14,
     "metadata": {},
     "output_type": "execute_result"
    }
   ],
   "source": [
    "layerData"
   ]
  },
  {
   "cell_type": "markdown",
   "id": "81672de9-a3af-4393-8d9e-b6354b4f2e34",
   "metadata": {
    "jp-MarkdownHeadingCollapsed": true,
    "tags": []
   },
   "source": [
    "# Blood metabolomic data"
   ]
  },
  {
   "cell_type": "markdown",
   "id": "34803b41-afd4-4f71-89bf-e17506c39782",
   "metadata": {},
   "source": [
    "## Create synthetic data"
   ]
  },
  {
   "cell_type": "markdown",
   "id": "09b50482-ab9a-4f08-ae2c-5899ff918b8c",
   "metadata": {
    "tags": []
   },
   "source": [
    "Load features"
   ]
  },
  {
   "cell_type": "code",
   "execution_count": 16,
   "id": "09cbf3db-2e5b-49ae-b5a1-cfa5956ebf63",
   "metadata": {
    "tags": []
   },
   "outputs": [
    {
     "name": "stdout",
     "output_type": "stream",
     "text": [
      "Number of features: 37228\n"
     ]
    }
   ],
   "source": [
    "features = pd.read_csv(\"blood_metabolites-2024-06-25.csv\")['NAME']\n",
    "print(f\"Number of features: {len(features)}\")"
   ]
  },
  {
   "cell_type": "code",
   "execution_count": 19,
   "id": "d069b9fa-6136-48d0-901a-b1dbb86bc337",
   "metadata": {
    "tags": []
   },
   "outputs": [],
   "source": [
    "duration, data = simulate_data(\"metabolite\", features, minValue=0, maxValue=1000, integers=False)"
   ]
  },
  {
   "cell_type": "code",
   "execution_count": 20,
   "id": "827ffd8f-7b0e-464e-9826-57ae8fb9a9e6",
   "metadata": {
    "tags": []
   },
   "outputs": [
    {
     "name": "stdout",
     "output_type": "stream",
     "text": [
      "Time to create simulated data: 0.48 s\n"
     ]
    }
   ],
   "source": [
    "print(f\"Time to create simulated data: {duration} s\")"
   ]
  },
  {
   "cell_type": "markdown",
   "id": "292a856e-76d3-4c67-abf1-99b50df6ff0c",
   "metadata": {},
   "source": [
    "Get memory usage of simulated data"
   ]
  },
  {
   "cell_type": "code",
   "execution_count": 21,
   "id": "da12d1da-4bea-495d-8391-b4b1128a4b34",
   "metadata": {
    "tags": []
   },
   "outputs": [],
   "source": [
    "memoryUsage = memory_usage_simulated_data(data)"
   ]
  },
  {
   "cell_type": "code",
   "execution_count": 22,
   "id": "ada75e29-0e33-4a36-98e5-3c313e0f6892",
   "metadata": {
    "tags": []
   },
   "outputs": [
    {
     "name": "stdout",
     "output_type": "stream",
     "text": [
      "Memory usage of simulated data: 31.6 MB\n"
     ]
    }
   ],
   "source": [
    "print(f\"Memory usage of simulated data: {memoryUsage}\")"
   ]
  },
  {
   "cell_type": "markdown",
   "id": "ea02625c-c8c9-40d0-b0a0-48b781386e3e",
   "metadata": {},
   "source": [
    "## Store synthetic data"
   ]
  },
  {
   "cell_type": "code",
   "execution_count": 23,
   "id": "be2cf372-3dbd-43c4-82c1-64f18ebb1e9f",
   "metadata": {
    "tags": []
   },
   "outputs": [],
   "source": [
    "duration, _ = store_data(data, \"blood_metas\", \"raw\", \"Raw blood metabolomic data.\")"
   ]
  },
  {
   "cell_type": "code",
   "execution_count": 24,
   "id": "e8a37103-38f5-417d-af8d-b30e796a080a",
   "metadata": {
    "tags": []
   },
   "outputs": [
    {
     "name": "stdout",
     "output_type": "stream",
     "text": [
      "Time to store simulated data: 1.24 s\n"
     ]
    }
   ],
   "source": [
    "print(f\"Time to store simulated data: {duration} s\")"
   ]
  },
  {
   "cell_type": "markdown",
   "id": "6842ade5-0cb7-4447-93dd-521e8ee3f5cd",
   "metadata": {},
   "source": [
    "## Retrieve stored data"
   ]
  },
  {
   "cell_type": "code",
   "execution_count": 25,
   "id": "4b18816b-2339-4975-92fa-15e52b924ba0",
   "metadata": {
    "tags": []
   },
   "outputs": [],
   "source": [
    "duration, layerData = load_layer(\"blood_metas\")"
   ]
  },
  {
   "cell_type": "code",
   "execution_count": 26,
   "id": "ec2e6afd-dd2f-4a1b-a770-d002fa85b1b7",
   "metadata": {
    "tags": []
   },
   "outputs": [
    {
     "name": "stdout",
     "output_type": "stream",
     "text": [
      "Time to load stored layer: 0.09 s\n"
     ]
    }
   ],
   "source": [
    "print(f\"Time to load stored layer: {duration} s\")"
   ]
  },
  {
   "cell_type": "code",
   "execution_count": 27,
   "id": "9b8d77fc-9fc0-40ed-bc89-6ba54df702df",
   "metadata": {
    "tags": []
   },
   "outputs": [
    {
     "data": {
      "text/html": [
       "<div>\n",
       "<style scoped>\n",
       "    .dataframe tbody tr th:only-of-type {\n",
       "        vertical-align: middle;\n",
       "    }\n",
       "\n",
       "    .dataframe tbody tr th {\n",
       "        vertical-align: top;\n",
       "    }\n",
       "\n",
       "    .dataframe thead th {\n",
       "        text-align: right;\n",
       "    }\n",
       "</style>\n",
       "<table border=\"1\" class=\"dataframe\">\n",
       "  <thead>\n",
       "    <tr style=\"text-align: right;\">\n",
       "      <th></th>\n",
       "      <th>metabolite</th>\n",
       "      <th>SA001</th>\n",
       "      <th>SA002</th>\n",
       "      <th>SA003</th>\n",
       "      <th>SA004</th>\n",
       "      <th>SA005</th>\n",
       "      <th>SA006</th>\n",
       "      <th>SA007</th>\n",
       "      <th>SA008</th>\n",
       "      <th>SA009</th>\n",
       "      <th>...</th>\n",
       "      <th>SA091</th>\n",
       "      <th>SA092</th>\n",
       "      <th>SA093</th>\n",
       "      <th>SA094</th>\n",
       "      <th>SA095</th>\n",
       "      <th>SA096</th>\n",
       "      <th>SA097</th>\n",
       "      <th>SA098</th>\n",
       "      <th>SA099</th>\n",
       "      <th>SA100</th>\n",
       "    </tr>\n",
       "  </thead>\n",
       "  <tbody>\n",
       "    <tr>\n",
       "      <th>0</th>\n",
       "      <td>1-Methylhistidine</td>\n",
       "      <td>790.4385</td>\n",
       "      <td>479.1370</td>\n",
       "      <td>465.4743</td>\n",
       "      <td>255.7633</td>\n",
       "      <td>450.6971</td>\n",
       "      <td>176.2241</td>\n",
       "      <td>768.7096</td>\n",
       "      <td>969.0874</td>\n",
       "      <td>434.7642</td>\n",
       "      <td>...</td>\n",
       "      <td>676.5417</td>\n",
       "      <td>650.8838</td>\n",
       "      <td>544.7083</td>\n",
       "      <td>681.2309</td>\n",
       "      <td>729.1389</td>\n",
       "      <td>445.8075</td>\n",
       "      <td>791.4020</td>\n",
       "      <td>885.9607</td>\n",
       "      <td>422.0507</td>\n",
       "      <td>52.3249</td>\n",
       "    </tr>\n",
       "    <tr>\n",
       "      <th>1</th>\n",
       "      <td>1,3-Diaminopropane</td>\n",
       "      <td>933.0550</td>\n",
       "      <td>596.9813</td>\n",
       "      <td>785.5830</td>\n",
       "      <td>819.0367</td>\n",
       "      <td>437.4976</td>\n",
       "      <td>377.9883</td>\n",
       "      <td>767.9444</td>\n",
       "      <td>909.9663</td>\n",
       "      <td>972.9616</td>\n",
       "      <td>...</td>\n",
       "      <td>822.3848</td>\n",
       "      <td>580.3374</td>\n",
       "      <td>702.6395</td>\n",
       "      <td>586.4949</td>\n",
       "      <td>921.2759</td>\n",
       "      <td>734.2608</td>\n",
       "      <td>887.1223</td>\n",
       "      <td>565.5894</td>\n",
       "      <td>819.2684</td>\n",
       "      <td>539.9147</td>\n",
       "    </tr>\n",
       "    <tr>\n",
       "      <th>2</th>\n",
       "      <td>2-Ketobutyric acid</td>\n",
       "      <td>779.2190</td>\n",
       "      <td>945.5954</td>\n",
       "      <td>325.1594</td>\n",
       "      <td>13.7247</td>\n",
       "      <td>891.7784</td>\n",
       "      <td>368.2823</td>\n",
       "      <td>478.2548</td>\n",
       "      <td>0.0550</td>\n",
       "      <td>876.3774</td>\n",
       "      <td>...</td>\n",
       "      <td>614.7638</td>\n",
       "      <td>470.3742</td>\n",
       "      <td>409.7030</td>\n",
       "      <td>508.5735</td>\n",
       "      <td>264.2065</td>\n",
       "      <td>453.4717</td>\n",
       "      <td>158.0714</td>\n",
       "      <td>71.2529</td>\n",
       "      <td>367.1318</td>\n",
       "      <td>456.2037</td>\n",
       "    </tr>\n",
       "    <tr>\n",
       "      <th>3</th>\n",
       "      <td>2-Hydroxybutyric acid</td>\n",
       "      <td>564.6894</td>\n",
       "      <td>966.6212</td>\n",
       "      <td>911.2661</td>\n",
       "      <td>160.9762</td>\n",
       "      <td>834.9034</td>\n",
       "      <td>996.4355</td>\n",
       "      <td>32.7219</td>\n",
       "      <td>391.2687</td>\n",
       "      <td>781.6500</td>\n",
       "      <td>...</td>\n",
       "      <td>641.3102</td>\n",
       "      <td>219.6839</td>\n",
       "      <td>614.7418</td>\n",
       "      <td>369.7123</td>\n",
       "      <td>873.3008</td>\n",
       "      <td>996.4800</td>\n",
       "      <td>532.6586</td>\n",
       "      <td>375.2889</td>\n",
       "      <td>192.1418</td>\n",
       "      <td>886.9793</td>\n",
       "    </tr>\n",
       "    <tr>\n",
       "      <th>4</th>\n",
       "      <td>2-Methoxyestrone</td>\n",
       "      <td>993.7184</td>\n",
       "      <td>945.3338</td>\n",
       "      <td>33.5006</td>\n",
       "      <td>186.7108</td>\n",
       "      <td>365.8788</td>\n",
       "      <td>169.4356</td>\n",
       "      <td>226.6432</td>\n",
       "      <td>256.0707</td>\n",
       "      <td>256.5543</td>\n",
       "      <td>...</td>\n",
       "      <td>477.0651</td>\n",
       "      <td>981.3518</td>\n",
       "      <td>600.1203</td>\n",
       "      <td>548.4905</td>\n",
       "      <td>44.8454</td>\n",
       "      <td>286.1296</td>\n",
       "      <td>203.6216</td>\n",
       "      <td>503.1338</td>\n",
       "      <td>959.2261</td>\n",
       "      <td>798.4632</td>\n",
       "    </tr>\n",
       "    <tr>\n",
       "      <th>...</th>\n",
       "      <td>...</td>\n",
       "      <td>...</td>\n",
       "      <td>...</td>\n",
       "      <td>...</td>\n",
       "      <td>...</td>\n",
       "      <td>...</td>\n",
       "      <td>...</td>\n",
       "      <td>...</td>\n",
       "      <td>...</td>\n",
       "      <td>...</td>\n",
       "      <td>...</td>\n",
       "      <td>...</td>\n",
       "      <td>...</td>\n",
       "      <td>...</td>\n",
       "      <td>...</td>\n",
       "      <td>...</td>\n",
       "      <td>...</td>\n",
       "      <td>...</td>\n",
       "      <td>...</td>\n",
       "      <td>...</td>\n",
       "      <td>...</td>\n",
       "    </tr>\n",
       "    <tr>\n",
       "      <th>37223</th>\n",
       "      <td>Succinylserine</td>\n",
       "      <td>426.3019</td>\n",
       "      <td>79.3807</td>\n",
       "      <td>105.2245</td>\n",
       "      <td>729.2262</td>\n",
       "      <td>144.6969</td>\n",
       "      <td>444.0021</td>\n",
       "      <td>114.5421</td>\n",
       "      <td>964.2886</td>\n",
       "      <td>183.6636</td>\n",
       "      <td>...</td>\n",
       "      <td>237.5009</td>\n",
       "      <td>394.1744</td>\n",
       "      <td>664.8537</td>\n",
       "      <td>847.1231</td>\n",
       "      <td>968.7375</td>\n",
       "      <td>491.2920</td>\n",
       "      <td>130.5776</td>\n",
       "      <td>490.9311</td>\n",
       "      <td>428.4874</td>\n",
       "      <td>659.0267</td>\n",
       "    </tr>\n",
       "    <tr>\n",
       "      <th>37224</th>\n",
       "      <td>4-Hydroxylidocaine</td>\n",
       "      <td>718.7427</td>\n",
       "      <td>310.3886</td>\n",
       "      <td>63.2965</td>\n",
       "      <td>746.0249</td>\n",
       "      <td>736.1797</td>\n",
       "      <td>183.4879</td>\n",
       "      <td>348.3069</td>\n",
       "      <td>311.4648</td>\n",
       "      <td>229.8678</td>\n",
       "      <td>...</td>\n",
       "      <td>898.9060</td>\n",
       "      <td>694.9580</td>\n",
       "      <td>820.5873</td>\n",
       "      <td>619.9116</td>\n",
       "      <td>976.5609</td>\n",
       "      <td>808.4757</td>\n",
       "      <td>534.3990</td>\n",
       "      <td>232.3339</td>\n",
       "      <td>433.6389</td>\n",
       "      <td>313.7139</td>\n",
       "    </tr>\n",
       "    <tr>\n",
       "      <th>37225</th>\n",
       "      <td>Tryptophan N-glucoside</td>\n",
       "      <td>763.2851</td>\n",
       "      <td>392.5069</td>\n",
       "      <td>333.6453</td>\n",
       "      <td>442.6015</td>\n",
       "      <td>679.5470</td>\n",
       "      <td>853.9085</td>\n",
       "      <td>562.4418</td>\n",
       "      <td>940.8951</td>\n",
       "      <td>294.8120</td>\n",
       "      <td>...</td>\n",
       "      <td>460.2327</td>\n",
       "      <td>247.3520</td>\n",
       "      <td>900.9480</td>\n",
       "      <td>153.3615</td>\n",
       "      <td>401.8935</td>\n",
       "      <td>383.3765</td>\n",
       "      <td>611.9506</td>\n",
       "      <td>123.0550</td>\n",
       "      <td>161.6592</td>\n",
       "      <td>702.3039</td>\n",
       "    </tr>\n",
       "    <tr>\n",
       "      <th>37226</th>\n",
       "      <td>6-Amino-5-formamido-1,3-dimethyluracil</td>\n",
       "      <td>564.9067</td>\n",
       "      <td>386.0231</td>\n",
       "      <td>731.6503</td>\n",
       "      <td>466.3171</td>\n",
       "      <td>627.5026</td>\n",
       "      <td>258.3179</td>\n",
       "      <td>686.4799</td>\n",
       "      <td>246.8360</td>\n",
       "      <td>265.7690</td>\n",
       "      <td>...</td>\n",
       "      <td>111.0318</td>\n",
       "      <td>729.6773</td>\n",
       "      <td>543.0595</td>\n",
       "      <td>646.0449</td>\n",
       "      <td>82.8429</td>\n",
       "      <td>783.8854</td>\n",
       "      <td>380.4824</td>\n",
       "      <td>145.0220</td>\n",
       "      <td>945.2639</td>\n",
       "      <td>743.7019</td>\n",
       "    </tr>\n",
       "    <tr>\n",
       "      <th>37227</th>\n",
       "      <td>(1S,2S)-(+)-Pseudoephedrine</td>\n",
       "      <td>574.5625</td>\n",
       "      <td>14.9802</td>\n",
       "      <td>768.1542</td>\n",
       "      <td>294.8278</td>\n",
       "      <td>329.1302</td>\n",
       "      <td>661.2860</td>\n",
       "      <td>514.8607</td>\n",
       "      <td>707.7565</td>\n",
       "      <td>893.8687</td>\n",
       "      <td>...</td>\n",
       "      <td>325.3420</td>\n",
       "      <td>474.6448</td>\n",
       "      <td>220.6038</td>\n",
       "      <td>990.6502</td>\n",
       "      <td>217.9564</td>\n",
       "      <td>417.2358</td>\n",
       "      <td>304.3487</td>\n",
       "      <td>893.3415</td>\n",
       "      <td>356.3434</td>\n",
       "      <td>421.0698</td>\n",
       "    </tr>\n",
       "  </tbody>\n",
       "</table>\n",
       "<p>37228 rows × 101 columns</p>\n",
       "</div>"
      ],
      "text/plain": [
       "                                   metabolite     SA001     SA002     SA003  \\\n",
       "0                           1-Methylhistidine  790.4385  479.1370  465.4743   \n",
       "1                          1,3-Diaminopropane  933.0550  596.9813  785.5830   \n",
       "2                          2-Ketobutyric acid  779.2190  945.5954  325.1594   \n",
       "3                       2-Hydroxybutyric acid  564.6894  966.6212  911.2661   \n",
       "4                            2-Methoxyestrone  993.7184  945.3338   33.5006   \n",
       "...                                       ...       ...       ...       ...   \n",
       "37223                          Succinylserine  426.3019   79.3807  105.2245   \n",
       "37224                      4-Hydroxylidocaine  718.7427  310.3886   63.2965   \n",
       "37225                  Tryptophan N-glucoside  763.2851  392.5069  333.6453   \n",
       "37226  6-Amino-5-formamido-1,3-dimethyluracil  564.9067  386.0231  731.6503   \n",
       "37227             (1S,2S)-(+)-Pseudoephedrine  574.5625   14.9802  768.1542   \n",
       "\n",
       "          SA004     SA005     SA006     SA007     SA008     SA009  ...  \\\n",
       "0      255.7633  450.6971  176.2241  768.7096  969.0874  434.7642  ...   \n",
       "1      819.0367  437.4976  377.9883  767.9444  909.9663  972.9616  ...   \n",
       "2       13.7247  891.7784  368.2823  478.2548    0.0550  876.3774  ...   \n",
       "3      160.9762  834.9034  996.4355   32.7219  391.2687  781.6500  ...   \n",
       "4      186.7108  365.8788  169.4356  226.6432  256.0707  256.5543  ...   \n",
       "...         ...       ...       ...       ...       ...       ...  ...   \n",
       "37223  729.2262  144.6969  444.0021  114.5421  964.2886  183.6636  ...   \n",
       "37224  746.0249  736.1797  183.4879  348.3069  311.4648  229.8678  ...   \n",
       "37225  442.6015  679.5470  853.9085  562.4418  940.8951  294.8120  ...   \n",
       "37226  466.3171  627.5026  258.3179  686.4799  246.8360  265.7690  ...   \n",
       "37227  294.8278  329.1302  661.2860  514.8607  707.7565  893.8687  ...   \n",
       "\n",
       "          SA091     SA092     SA093     SA094     SA095     SA096     SA097  \\\n",
       "0      676.5417  650.8838  544.7083  681.2309  729.1389  445.8075  791.4020   \n",
       "1      822.3848  580.3374  702.6395  586.4949  921.2759  734.2608  887.1223   \n",
       "2      614.7638  470.3742  409.7030  508.5735  264.2065  453.4717  158.0714   \n",
       "3      641.3102  219.6839  614.7418  369.7123  873.3008  996.4800  532.6586   \n",
       "4      477.0651  981.3518  600.1203  548.4905   44.8454  286.1296  203.6216   \n",
       "...         ...       ...       ...       ...       ...       ...       ...   \n",
       "37223  237.5009  394.1744  664.8537  847.1231  968.7375  491.2920  130.5776   \n",
       "37224  898.9060  694.9580  820.5873  619.9116  976.5609  808.4757  534.3990   \n",
       "37225  460.2327  247.3520  900.9480  153.3615  401.8935  383.3765  611.9506   \n",
       "37226  111.0318  729.6773  543.0595  646.0449   82.8429  783.8854  380.4824   \n",
       "37227  325.3420  474.6448  220.6038  990.6502  217.9564  417.2358  304.3487   \n",
       "\n",
       "          SA098     SA099     SA100  \n",
       "0      885.9607  422.0507   52.3249  \n",
       "1      565.5894  819.2684  539.9147  \n",
       "2       71.2529  367.1318  456.2037  \n",
       "3      375.2889  192.1418  886.9793  \n",
       "4      503.1338  959.2261  798.4632  \n",
       "...         ...       ...       ...  \n",
       "37223  490.9311  428.4874  659.0267  \n",
       "37224  232.3339  433.6389  313.7139  \n",
       "37225  123.0550  161.6592  702.3039  \n",
       "37226  145.0220  945.2639  743.7019  \n",
       "37227  893.3415  356.3434  421.0698  \n",
       "\n",
       "[37228 rows x 101 columns]"
      ]
     },
     "execution_count": 27,
     "metadata": {},
     "output_type": "execute_result"
    }
   ],
   "source": [
    "layerData"
   ]
  },
  {
   "cell_type": "markdown",
   "id": "12b00dc2-6d02-408f-8629-194b94174649",
   "metadata": {
    "jp-MarkdownHeadingCollapsed": true,
    "tags": []
   },
   "source": [
    "# Urine metabolomic data"
   ]
  },
  {
   "cell_type": "markdown",
   "id": "b2c7edb7-052a-43d3-b133-c3dbff8705c7",
   "metadata": {
    "tags": []
   },
   "source": [
    "## Create synthetic data"
   ]
  },
  {
   "cell_type": "markdown",
   "id": "5d37bb60-c7fb-49a6-a6d4-3b4195e87e13",
   "metadata": {
    "tags": []
   },
   "source": [
    "Load features"
   ]
  },
  {
   "cell_type": "code",
   "execution_count": 28,
   "id": "3f9487dd-e6fc-4cd7-b264-08193173ce99",
   "metadata": {
    "tags": []
   },
   "outputs": [
    {
     "name": "stdout",
     "output_type": "stream",
     "text": [
      "Number of features: 5661\n"
     ]
    }
   ],
   "source": [
    "features = pd.read_csv(\"urine_metabolites-2024-06-25.csv\")['NAME']\n",
    "print(f\"Number of features: {len(features)}\")"
   ]
  },
  {
   "cell_type": "code",
   "execution_count": 29,
   "id": "e281acfa-edcd-460f-8131-0cd3baa8c9d1",
   "metadata": {
    "tags": []
   },
   "outputs": [],
   "source": [
    "duration, data = simulate_data(\"metabolite\", features, minValue=0, maxValue=1000, integers=False)"
   ]
  },
  {
   "cell_type": "code",
   "execution_count": 30,
   "id": "768bce6c-836d-4480-a62b-a2aaadf914b3",
   "metadata": {
    "tags": []
   },
   "outputs": [
    {
     "name": "stdout",
     "output_type": "stream",
     "text": [
      "Time to create simulated data: 0.1 s\n"
     ]
    }
   ],
   "source": [
    "print(f\"Time to create simulated data: {duration} s\")"
   ]
  },
  {
   "cell_type": "markdown",
   "id": "c93c9f6e-af34-4ab3-a431-c544182829cc",
   "metadata": {},
   "source": [
    "Get memory usage of simulated data"
   ]
  },
  {
   "cell_type": "code",
   "execution_count": 31,
   "id": "594f947a-a020-4cc3-b4b0-73c193516ac1",
   "metadata": {
    "tags": []
   },
   "outputs": [],
   "source": [
    "memoryUsage = memory_usage_simulated_data(data)"
   ]
  },
  {
   "cell_type": "code",
   "execution_count": 32,
   "id": "2e626fc6-f314-4d97-9b89-4382af0af336",
   "metadata": {
    "tags": []
   },
   "outputs": [
    {
     "name": "stdout",
     "output_type": "stream",
     "text": [
      "Memory usage of simulated data: 4.7 MB\n"
     ]
    }
   ],
   "source": [
    "print(f\"Memory usage of simulated data: {memoryUsage}\")"
   ]
  },
  {
   "cell_type": "markdown",
   "id": "bd4dc072-a0c9-49b5-afaa-bc3825bda99f",
   "metadata": {},
   "source": [
    "## Store synthetic data"
   ]
  },
  {
   "cell_type": "code",
   "execution_count": 33,
   "id": "b4e91ec4-8d68-4468-9746-83e6842b876b",
   "metadata": {
    "tags": []
   },
   "outputs": [],
   "source": [
    "duration, _ = store_data(data, \"urine_metas\", \"raw\", \"Raw urine metabolomic data.\")"
   ]
  },
  {
   "cell_type": "code",
   "execution_count": 34,
   "id": "f8061ebd-3fc4-4205-8cb1-3bf77e6eed28",
   "metadata": {
    "tags": []
   },
   "outputs": [
    {
     "name": "stdout",
     "output_type": "stream",
     "text": [
      "Time to store simulated data: 1.11 s\n"
     ]
    }
   ],
   "source": [
    "print(f\"Time to store simulated data: {duration} s\")"
   ]
  },
  {
   "cell_type": "markdown",
   "id": "f6c9fcaa-b8c9-4a55-bb39-ea8ba2def9e1",
   "metadata": {},
   "source": [
    "## Retrieve stored data"
   ]
  },
  {
   "cell_type": "code",
   "execution_count": 35,
   "id": "d12e072b-19c8-4e69-a55d-6052137cf20d",
   "metadata": {
    "tags": []
   },
   "outputs": [],
   "source": [
    "duration, layerData = load_layer(\"urine_metas\")"
   ]
  },
  {
   "cell_type": "code",
   "execution_count": 36,
   "id": "212c9999-ad2b-416e-8093-03331074b39b",
   "metadata": {
    "tags": []
   },
   "outputs": [
    {
     "name": "stdout",
     "output_type": "stream",
     "text": [
      "Time to load stored layer: 0.07 s\n"
     ]
    }
   ],
   "source": [
    "print(f\"Time to load stored layer: {duration} s\")"
   ]
  },
  {
   "cell_type": "code",
   "execution_count": 37,
   "id": "1bb10295-6d91-47fd-bb73-074e676e8008",
   "metadata": {
    "tags": []
   },
   "outputs": [
    {
     "data": {
      "text/html": [
       "<div>\n",
       "<style scoped>\n",
       "    .dataframe tbody tr th:only-of-type {\n",
       "        vertical-align: middle;\n",
       "    }\n",
       "\n",
       "    .dataframe tbody tr th {\n",
       "        vertical-align: top;\n",
       "    }\n",
       "\n",
       "    .dataframe thead th {\n",
       "        text-align: right;\n",
       "    }\n",
       "</style>\n",
       "<table border=\"1\" class=\"dataframe\">\n",
       "  <thead>\n",
       "    <tr style=\"text-align: right;\">\n",
       "      <th></th>\n",
       "      <th>metabolite</th>\n",
       "      <th>SA001</th>\n",
       "      <th>SA002</th>\n",
       "      <th>SA003</th>\n",
       "      <th>SA004</th>\n",
       "      <th>SA005</th>\n",
       "      <th>SA006</th>\n",
       "      <th>SA007</th>\n",
       "      <th>SA008</th>\n",
       "      <th>SA009</th>\n",
       "      <th>...</th>\n",
       "      <th>SA091</th>\n",
       "      <th>SA092</th>\n",
       "      <th>SA093</th>\n",
       "      <th>SA094</th>\n",
       "      <th>SA095</th>\n",
       "      <th>SA096</th>\n",
       "      <th>SA097</th>\n",
       "      <th>SA098</th>\n",
       "      <th>SA099</th>\n",
       "      <th>SA100</th>\n",
       "    </tr>\n",
       "  </thead>\n",
       "  <tbody>\n",
       "    <tr>\n",
       "      <th>0</th>\n",
       "      <td>1-Methylhistidine</td>\n",
       "      <td>520.9914</td>\n",
       "      <td>773.8543</td>\n",
       "      <td>886.9167</td>\n",
       "      <td>818.8746</td>\n",
       "      <td>739.5974</td>\n",
       "      <td>912.9197</td>\n",
       "      <td>36.4682</td>\n",
       "      <td>507.7532</td>\n",
       "      <td>640.2385</td>\n",
       "      <td>...</td>\n",
       "      <td>710.5847</td>\n",
       "      <td>3.3084</td>\n",
       "      <td>989.9201</td>\n",
       "      <td>528.6773</td>\n",
       "      <td>805.4751</td>\n",
       "      <td>741.7653</td>\n",
       "      <td>680.5614</td>\n",
       "      <td>186.4169</td>\n",
       "      <td>4.1461</td>\n",
       "      <td>223.4690</td>\n",
       "    </tr>\n",
       "    <tr>\n",
       "      <th>1</th>\n",
       "      <td>1,3-Diaminopropane</td>\n",
       "      <td>794.1838</td>\n",
       "      <td>108.2707</td>\n",
       "      <td>877.6342</td>\n",
       "      <td>133.5558</td>\n",
       "      <td>228.9019</td>\n",
       "      <td>696.1183</td>\n",
       "      <td>694.9589</td>\n",
       "      <td>520.9567</td>\n",
       "      <td>929.4043</td>\n",
       "      <td>...</td>\n",
       "      <td>57.2923</td>\n",
       "      <td>71.0374</td>\n",
       "      <td>369.9070</td>\n",
       "      <td>188.3528</td>\n",
       "      <td>495.9905</td>\n",
       "      <td>432.4917</td>\n",
       "      <td>692.6938</td>\n",
       "      <td>595.2354</td>\n",
       "      <td>883.6898</td>\n",
       "      <td>101.0429</td>\n",
       "    </tr>\n",
       "    <tr>\n",
       "      <th>2</th>\n",
       "      <td>2-Ketobutyric acid</td>\n",
       "      <td>133.4277</td>\n",
       "      <td>127.2726</td>\n",
       "      <td>365.6887</td>\n",
       "      <td>581.9479</td>\n",
       "      <td>57.9929</td>\n",
       "      <td>626.7420</td>\n",
       "      <td>240.6875</td>\n",
       "      <td>438.9613</td>\n",
       "      <td>245.5784</td>\n",
       "      <td>...</td>\n",
       "      <td>399.2345</td>\n",
       "      <td>415.9058</td>\n",
       "      <td>176.1171</td>\n",
       "      <td>520.8446</td>\n",
       "      <td>879.4136</td>\n",
       "      <td>785.7176</td>\n",
       "      <td>665.0320</td>\n",
       "      <td>705.1218</td>\n",
       "      <td>209.6178</td>\n",
       "      <td>983.8270</td>\n",
       "    </tr>\n",
       "    <tr>\n",
       "      <th>3</th>\n",
       "      <td>2-Hydroxybutyric acid</td>\n",
       "      <td>758.4010</td>\n",
       "      <td>908.8080</td>\n",
       "      <td>446.6645</td>\n",
       "      <td>307.8894</td>\n",
       "      <td>130.6359</td>\n",
       "      <td>871.3185</td>\n",
       "      <td>757.4312</td>\n",
       "      <td>127.3789</td>\n",
       "      <td>140.5263</td>\n",
       "      <td>...</td>\n",
       "      <td>712.3591</td>\n",
       "      <td>780.1865</td>\n",
       "      <td>34.1524</td>\n",
       "      <td>339.5172</td>\n",
       "      <td>686.8037</td>\n",
       "      <td>23.4492</td>\n",
       "      <td>890.4642</td>\n",
       "      <td>951.3504</td>\n",
       "      <td>213.9050</td>\n",
       "      <td>758.8808</td>\n",
       "    </tr>\n",
       "    <tr>\n",
       "      <th>4</th>\n",
       "      <td>2-Methoxyestrone</td>\n",
       "      <td>325.3456</td>\n",
       "      <td>732.4450</td>\n",
       "      <td>950.1547</td>\n",
       "      <td>199.9093</td>\n",
       "      <td>213.2191</td>\n",
       "      <td>528.1664</td>\n",
       "      <td>645.0592</td>\n",
       "      <td>610.1322</td>\n",
       "      <td>144.7181</td>\n",
       "      <td>...</td>\n",
       "      <td>201.3537</td>\n",
       "      <td>270.9674</td>\n",
       "      <td>546.0308</td>\n",
       "      <td>778.0867</td>\n",
       "      <td>49.8483</td>\n",
       "      <td>165.0221</td>\n",
       "      <td>278.7912</td>\n",
       "      <td>138.6843</td>\n",
       "      <td>291.0290</td>\n",
       "      <td>503.9690</td>\n",
       "    </tr>\n",
       "    <tr>\n",
       "      <th>...</th>\n",
       "      <td>...</td>\n",
       "      <td>...</td>\n",
       "      <td>...</td>\n",
       "      <td>...</td>\n",
       "      <td>...</td>\n",
       "      <td>...</td>\n",
       "      <td>...</td>\n",
       "      <td>...</td>\n",
       "      <td>...</td>\n",
       "      <td>...</td>\n",
       "      <td>...</td>\n",
       "      <td>...</td>\n",
       "      <td>...</td>\n",
       "      <td>...</td>\n",
       "      <td>...</td>\n",
       "      <td>...</td>\n",
       "      <td>...</td>\n",
       "      <td>...</td>\n",
       "      <td>...</td>\n",
       "      <td>...</td>\n",
       "      <td>...</td>\n",
       "    </tr>\n",
       "    <tr>\n",
       "      <th>5656</th>\n",
       "      <td>Succinylserine</td>\n",
       "      <td>67.9395</td>\n",
       "      <td>670.0967</td>\n",
       "      <td>608.3988</td>\n",
       "      <td>835.2662</td>\n",
       "      <td>868.6693</td>\n",
       "      <td>793.3685</td>\n",
       "      <td>624.6668</td>\n",
       "      <td>488.2755</td>\n",
       "      <td>754.5705</td>\n",
       "      <td>...</td>\n",
       "      <td>867.0585</td>\n",
       "      <td>462.4128</td>\n",
       "      <td>459.4015</td>\n",
       "      <td>737.8237</td>\n",
       "      <td>19.7071</td>\n",
       "      <td>225.3894</td>\n",
       "      <td>585.9125</td>\n",
       "      <td>925.2182</td>\n",
       "      <td>268.0463</td>\n",
       "      <td>287.6336</td>\n",
       "    </tr>\n",
       "    <tr>\n",
       "      <th>5657</th>\n",
       "      <td>4-Hydroxylidocaine</td>\n",
       "      <td>181.9414</td>\n",
       "      <td>913.5699</td>\n",
       "      <td>621.0165</td>\n",
       "      <td>217.8846</td>\n",
       "      <td>650.0279</td>\n",
       "      <td>811.4643</td>\n",
       "      <td>412.1920</td>\n",
       "      <td>547.6706</td>\n",
       "      <td>265.7782</td>\n",
       "      <td>...</td>\n",
       "      <td>862.1512</td>\n",
       "      <td>784.7165</td>\n",
       "      <td>700.6826</td>\n",
       "      <td>977.6106</td>\n",
       "      <td>122.3832</td>\n",
       "      <td>708.6793</td>\n",
       "      <td>154.8254</td>\n",
       "      <td>220.6026</td>\n",
       "      <td>872.4163</td>\n",
       "      <td>919.0863</td>\n",
       "    </tr>\n",
       "    <tr>\n",
       "      <th>5658</th>\n",
       "      <td>Tryptophan N-glucoside</td>\n",
       "      <td>372.7239</td>\n",
       "      <td>560.6989</td>\n",
       "      <td>876.2181</td>\n",
       "      <td>640.2097</td>\n",
       "      <td>594.5999</td>\n",
       "      <td>818.3350</td>\n",
       "      <td>117.2741</td>\n",
       "      <td>44.8309</td>\n",
       "      <td>390.3994</td>\n",
       "      <td>...</td>\n",
       "      <td>222.0776</td>\n",
       "      <td>156.2529</td>\n",
       "      <td>655.0262</td>\n",
       "      <td>442.1350</td>\n",
       "      <td>419.6910</td>\n",
       "      <td>848.0367</td>\n",
       "      <td>911.9151</td>\n",
       "      <td>605.4445</td>\n",
       "      <td>955.6774</td>\n",
       "      <td>55.6342</td>\n",
       "    </tr>\n",
       "    <tr>\n",
       "      <th>5659</th>\n",
       "      <td>6-Amino-5-formamido-1,3-dimethyluracil</td>\n",
       "      <td>673.8078</td>\n",
       "      <td>388.0446</td>\n",
       "      <td>657.4035</td>\n",
       "      <td>816.7510</td>\n",
       "      <td>115.6600</td>\n",
       "      <td>22.4933</td>\n",
       "      <td>684.9080</td>\n",
       "      <td>217.1122</td>\n",
       "      <td>925.3388</td>\n",
       "      <td>...</td>\n",
       "      <td>126.3337</td>\n",
       "      <td>989.6082</td>\n",
       "      <td>812.4913</td>\n",
       "      <td>366.3966</td>\n",
       "      <td>680.2468</td>\n",
       "      <td>692.4485</td>\n",
       "      <td>865.0907</td>\n",
       "      <td>979.6344</td>\n",
       "      <td>154.7754</td>\n",
       "      <td>317.1179</td>\n",
       "    </tr>\n",
       "    <tr>\n",
       "      <th>5660</th>\n",
       "      <td>(1S,2S)-(+)-Pseudoephedrine</td>\n",
       "      <td>413.3722</td>\n",
       "      <td>857.0222</td>\n",
       "      <td>584.8771</td>\n",
       "      <td>183.4202</td>\n",
       "      <td>301.2286</td>\n",
       "      <td>473.0419</td>\n",
       "      <td>166.7907</td>\n",
       "      <td>33.6275</td>\n",
       "      <td>955.0023</td>\n",
       "      <td>...</td>\n",
       "      <td>228.1411</td>\n",
       "      <td>486.3779</td>\n",
       "      <td>2.5272</td>\n",
       "      <td>626.0590</td>\n",
       "      <td>517.7173</td>\n",
       "      <td>641.1470</td>\n",
       "      <td>612.3153</td>\n",
       "      <td>433.3849</td>\n",
       "      <td>60.0275</td>\n",
       "      <td>319.0071</td>\n",
       "    </tr>\n",
       "  </tbody>\n",
       "</table>\n",
       "<p>5661 rows × 101 columns</p>\n",
       "</div>"
      ],
      "text/plain": [
       "                                  metabolite     SA001     SA002     SA003  \\\n",
       "0                          1-Methylhistidine  520.9914  773.8543  886.9167   \n",
       "1                         1,3-Diaminopropane  794.1838  108.2707  877.6342   \n",
       "2                         2-Ketobutyric acid  133.4277  127.2726  365.6887   \n",
       "3                      2-Hydroxybutyric acid  758.4010  908.8080  446.6645   \n",
       "4                           2-Methoxyestrone  325.3456  732.4450  950.1547   \n",
       "...                                      ...       ...       ...       ...   \n",
       "5656                          Succinylserine   67.9395  670.0967  608.3988   \n",
       "5657                      4-Hydroxylidocaine  181.9414  913.5699  621.0165   \n",
       "5658                  Tryptophan N-glucoside  372.7239  560.6989  876.2181   \n",
       "5659  6-Amino-5-formamido-1,3-dimethyluracil  673.8078  388.0446  657.4035   \n",
       "5660             (1S,2S)-(+)-Pseudoephedrine  413.3722  857.0222  584.8771   \n",
       "\n",
       "         SA004     SA005     SA006     SA007     SA008     SA009  ...  \\\n",
       "0     818.8746  739.5974  912.9197   36.4682  507.7532  640.2385  ...   \n",
       "1     133.5558  228.9019  696.1183  694.9589  520.9567  929.4043  ...   \n",
       "2     581.9479   57.9929  626.7420  240.6875  438.9613  245.5784  ...   \n",
       "3     307.8894  130.6359  871.3185  757.4312  127.3789  140.5263  ...   \n",
       "4     199.9093  213.2191  528.1664  645.0592  610.1322  144.7181  ...   \n",
       "...        ...       ...       ...       ...       ...       ...  ...   \n",
       "5656  835.2662  868.6693  793.3685  624.6668  488.2755  754.5705  ...   \n",
       "5657  217.8846  650.0279  811.4643  412.1920  547.6706  265.7782  ...   \n",
       "5658  640.2097  594.5999  818.3350  117.2741   44.8309  390.3994  ...   \n",
       "5659  816.7510  115.6600   22.4933  684.9080  217.1122  925.3388  ...   \n",
       "5660  183.4202  301.2286  473.0419  166.7907   33.6275  955.0023  ...   \n",
       "\n",
       "         SA091     SA092     SA093     SA094     SA095     SA096     SA097  \\\n",
       "0     710.5847    3.3084  989.9201  528.6773  805.4751  741.7653  680.5614   \n",
       "1      57.2923   71.0374  369.9070  188.3528  495.9905  432.4917  692.6938   \n",
       "2     399.2345  415.9058  176.1171  520.8446  879.4136  785.7176  665.0320   \n",
       "3     712.3591  780.1865   34.1524  339.5172  686.8037   23.4492  890.4642   \n",
       "4     201.3537  270.9674  546.0308  778.0867   49.8483  165.0221  278.7912   \n",
       "...        ...       ...       ...       ...       ...       ...       ...   \n",
       "5656  867.0585  462.4128  459.4015  737.8237   19.7071  225.3894  585.9125   \n",
       "5657  862.1512  784.7165  700.6826  977.6106  122.3832  708.6793  154.8254   \n",
       "5658  222.0776  156.2529  655.0262  442.1350  419.6910  848.0367  911.9151   \n",
       "5659  126.3337  989.6082  812.4913  366.3966  680.2468  692.4485  865.0907   \n",
       "5660  228.1411  486.3779    2.5272  626.0590  517.7173  641.1470  612.3153   \n",
       "\n",
       "         SA098     SA099     SA100  \n",
       "0     186.4169    4.1461  223.4690  \n",
       "1     595.2354  883.6898  101.0429  \n",
       "2     705.1218  209.6178  983.8270  \n",
       "3     951.3504  213.9050  758.8808  \n",
       "4     138.6843  291.0290  503.9690  \n",
       "...        ...       ...       ...  \n",
       "5656  925.2182  268.0463  287.6336  \n",
       "5657  220.6026  872.4163  919.0863  \n",
       "5658  605.4445  955.6774   55.6342  \n",
       "5659  979.6344  154.7754  317.1179  \n",
       "5660  433.3849   60.0275  319.0071  \n",
       "\n",
       "[5661 rows x 101 columns]"
      ]
     },
     "execution_count": 37,
     "metadata": {},
     "output_type": "execute_result"
    }
   ],
   "source": [
    "layerData"
   ]
  },
  {
   "cell_type": "markdown",
   "id": "9ca37708-0d61-4fdc-b267-0c789b133db7",
   "metadata": {
    "jp-MarkdownHeadingCollapsed": true,
    "tags": []
   },
   "source": [
    "# Bulk RNASeq data"
   ]
  },
  {
   "cell_type": "markdown",
   "id": "f53a141e-46a3-41b2-9c2c-37c0127877c5",
   "metadata": {
    "tags": []
   },
   "source": [
    "## Create synthetic data"
   ]
  },
  {
   "cell_type": "markdown",
   "id": "3aba79cf-3415-4aa3-ad8b-5423524b7a9e",
   "metadata": {
    "tags": []
   },
   "source": [
    "Load features"
   ]
  },
  {
   "cell_type": "code",
   "execution_count": 38,
   "id": "242a25b2-1827-4353-a541-da1fdcaadb5c",
   "metadata": {
    "tags": []
   },
   "outputs": [
    {
     "name": "stdout",
     "output_type": "stream",
     "text": [
      "Number of features: 60649\n"
     ]
    }
   ],
   "source": [
    "features = open(\"hg38_ensembl_ids.txt\").read().splitlines()\n",
    "print(f\"Number of features: {len(features)}\")"
   ]
  },
  {
   "cell_type": "code",
   "execution_count": 39,
   "id": "ceaac274-f3a1-4f90-9186-b541cb167d89",
   "metadata": {
    "tags": []
   },
   "outputs": [],
   "source": [
    "duration, data = simulate_data(\"gene\", features, minValue=0, maxValue=1000, integers=True)"
   ]
  },
  {
   "cell_type": "code",
   "execution_count": 40,
   "id": "de383571-2652-4685-b7a8-3c2ad5f58bcf",
   "metadata": {
    "tags": []
   },
   "outputs": [
    {
     "name": "stdout",
     "output_type": "stream",
     "text": [
      "Time to create simulated data: 0.84 s\n"
     ]
    }
   ],
   "source": [
    "print(f\"Time to create simulated data: {duration} s\")"
   ]
  },
  {
   "cell_type": "markdown",
   "id": "b28dc291-9b30-41b4-b8a2-119b39c0b898",
   "metadata": {},
   "source": [
    "Get memory usage of simulated data"
   ]
  },
  {
   "cell_type": "code",
   "execution_count": 41,
   "id": "d67a56ab-e7c3-4f02-ad45-2a80eb708701",
   "metadata": {
    "tags": []
   },
   "outputs": [],
   "source": [
    "memoryUsage = memory_usage_simulated_data(data)"
   ]
  },
  {
   "cell_type": "code",
   "execution_count": 42,
   "id": "dd9e4e55-dd56-483d-877d-6d564e0d099b",
   "metadata": {
    "tags": []
   },
   "outputs": [
    {
     "name": "stdout",
     "output_type": "stream",
     "text": [
      "Memory usage of simulated data: 50.4 MB\n"
     ]
    }
   ],
   "source": [
    "print(f\"Memory usage of simulated data: {memoryUsage}\")"
   ]
  },
  {
   "cell_type": "markdown",
   "id": "47415e16-f205-4d6d-b3fa-42bdc9d805de",
   "metadata": {},
   "source": [
    "## Store synthetic data"
   ]
  },
  {
   "cell_type": "code",
   "execution_count": 43,
   "id": "8202dd36-6cda-4c44-ba21-f2f0a90118db",
   "metadata": {
    "tags": []
   },
   "outputs": [],
   "source": [
    "duration, _ = store_data(data, \"rnaseq\", \"raw\", \"Raw bulk RNASeq data.\")"
   ]
  },
  {
   "cell_type": "code",
   "execution_count": 44,
   "id": "f851d3e5-8318-4f73-abb6-e28ebdfab1a3",
   "metadata": {
    "tags": []
   },
   "outputs": [
    {
     "name": "stdout",
     "output_type": "stream",
     "text": [
      "Time to store simulated data: 1.21 s\n"
     ]
    }
   ],
   "source": [
    "print(f\"Time to store simulated data: {duration} s\")"
   ]
  },
  {
   "cell_type": "markdown",
   "id": "eed8241c-2490-4e0f-895f-3175b4d0107a",
   "metadata": {},
   "source": [
    "## Retrieve stored data"
   ]
  },
  {
   "cell_type": "code",
   "execution_count": 45,
   "id": "a17ac281-c41b-4c5e-bb38-369bf05b9c52",
   "metadata": {
    "tags": []
   },
   "outputs": [],
   "source": [
    "duration, layerData = load_layer(\"rnaseq\")"
   ]
  },
  {
   "cell_type": "code",
   "execution_count": 46,
   "id": "d197da3a-6ecc-4029-88e8-9f8bffa196be",
   "metadata": {
    "tags": []
   },
   "outputs": [
    {
     "name": "stdout",
     "output_type": "stream",
     "text": [
      "Time to load stored layer: 0.13 s\n"
     ]
    }
   ],
   "source": [
    "print(f\"Time to load stored layer: {duration} s\")"
   ]
  },
  {
   "cell_type": "code",
   "execution_count": 47,
   "id": "84e095a3-9e77-469e-b7bd-752bdec6cde5",
   "metadata": {
    "tags": []
   },
   "outputs": [
    {
     "data": {
      "text/html": [
       "<div>\n",
       "<style scoped>\n",
       "    .dataframe tbody tr th:only-of-type {\n",
       "        vertical-align: middle;\n",
       "    }\n",
       "\n",
       "    .dataframe tbody tr th {\n",
       "        vertical-align: top;\n",
       "    }\n",
       "\n",
       "    .dataframe thead th {\n",
       "        text-align: right;\n",
       "    }\n",
       "</style>\n",
       "<table border=\"1\" class=\"dataframe\">\n",
       "  <thead>\n",
       "    <tr style=\"text-align: right;\">\n",
       "      <th></th>\n",
       "      <th>gene</th>\n",
       "      <th>SA001</th>\n",
       "      <th>SA002</th>\n",
       "      <th>SA003</th>\n",
       "      <th>SA004</th>\n",
       "      <th>SA005</th>\n",
       "      <th>SA006</th>\n",
       "      <th>SA007</th>\n",
       "      <th>SA008</th>\n",
       "      <th>SA009</th>\n",
       "      <th>...</th>\n",
       "      <th>SA091</th>\n",
       "      <th>SA092</th>\n",
       "      <th>SA093</th>\n",
       "      <th>SA094</th>\n",
       "      <th>SA095</th>\n",
       "      <th>SA096</th>\n",
       "      <th>SA097</th>\n",
       "      <th>SA098</th>\n",
       "      <th>SA099</th>\n",
       "      <th>SA100</th>\n",
       "    </tr>\n",
       "  </thead>\n",
       "  <tbody>\n",
       "    <tr>\n",
       "      <th>0</th>\n",
       "      <td>ENSG00000223972</td>\n",
       "      <td>885</td>\n",
       "      <td>5</td>\n",
       "      <td>917</td>\n",
       "      <td>802</td>\n",
       "      <td>670</td>\n",
       "      <td>260</td>\n",
       "      <td>740</td>\n",
       "      <td>492</td>\n",
       "      <td>529</td>\n",
       "      <td>...</td>\n",
       "      <td>0</td>\n",
       "      <td>780</td>\n",
       "      <td>635</td>\n",
       "      <td>643</td>\n",
       "      <td>996</td>\n",
       "      <td>334</td>\n",
       "      <td>905</td>\n",
       "      <td>814</td>\n",
       "      <td>593</td>\n",
       "      <td>386</td>\n",
       "    </tr>\n",
       "    <tr>\n",
       "      <th>1</th>\n",
       "      <td>ENSG00000227232</td>\n",
       "      <td>899</td>\n",
       "      <td>55</td>\n",
       "      <td>611</td>\n",
       "      <td>266</td>\n",
       "      <td>67</td>\n",
       "      <td>247</td>\n",
       "      <td>472</td>\n",
       "      <td>635</td>\n",
       "      <td>769</td>\n",
       "      <td>...</td>\n",
       "      <td>710</td>\n",
       "      <td>656</td>\n",
       "      <td>899</td>\n",
       "      <td>467</td>\n",
       "      <td>671</td>\n",
       "      <td>665</td>\n",
       "      <td>573</td>\n",
       "      <td>835</td>\n",
       "      <td>938</td>\n",
       "      <td>639</td>\n",
       "    </tr>\n",
       "    <tr>\n",
       "      <th>2</th>\n",
       "      <td>ENSG00000278267</td>\n",
       "      <td>640</td>\n",
       "      <td>718</td>\n",
       "      <td>852</td>\n",
       "      <td>896</td>\n",
       "      <td>85</td>\n",
       "      <td>975</td>\n",
       "      <td>831</td>\n",
       "      <td>323</td>\n",
       "      <td>695</td>\n",
       "      <td>...</td>\n",
       "      <td>901</td>\n",
       "      <td>549</td>\n",
       "      <td>294</td>\n",
       "      <td>519</td>\n",
       "      <td>513</td>\n",
       "      <td>947</td>\n",
       "      <td>159</td>\n",
       "      <td>860</td>\n",
       "      <td>98</td>\n",
       "      <td>212</td>\n",
       "    </tr>\n",
       "    <tr>\n",
       "      <th>3</th>\n",
       "      <td>ENSG00000243485</td>\n",
       "      <td>73</td>\n",
       "      <td>924</td>\n",
       "      <td>96</td>\n",
       "      <td>501</td>\n",
       "      <td>956</td>\n",
       "      <td>695</td>\n",
       "      <td>721</td>\n",
       "      <td>923</td>\n",
       "      <td>891</td>\n",
       "      <td>...</td>\n",
       "      <td>794</td>\n",
       "      <td>563</td>\n",
       "      <td>945</td>\n",
       "      <td>19</td>\n",
       "      <td>51</td>\n",
       "      <td>752</td>\n",
       "      <td>396</td>\n",
       "      <td>540</td>\n",
       "      <td>588</td>\n",
       "      <td>964</td>\n",
       "    </tr>\n",
       "    <tr>\n",
       "      <th>4</th>\n",
       "      <td>ENSG00000284332</td>\n",
       "      <td>359</td>\n",
       "      <td>598</td>\n",
       "      <td>466</td>\n",
       "      <td>798</td>\n",
       "      <td>573</td>\n",
       "      <td>203</td>\n",
       "      <td>116</td>\n",
       "      <td>982</td>\n",
       "      <td>252</td>\n",
       "      <td>...</td>\n",
       "      <td>769</td>\n",
       "      <td>343</td>\n",
       "      <td>77</td>\n",
       "      <td>192</td>\n",
       "      <td>723</td>\n",
       "      <td>131</td>\n",
       "      <td>799</td>\n",
       "      <td>220</td>\n",
       "      <td>586</td>\n",
       "      <td>448</td>\n",
       "    </tr>\n",
       "    <tr>\n",
       "      <th>...</th>\n",
       "      <td>...</td>\n",
       "      <td>...</td>\n",
       "      <td>...</td>\n",
       "      <td>...</td>\n",
       "      <td>...</td>\n",
       "      <td>...</td>\n",
       "      <td>...</td>\n",
       "      <td>...</td>\n",
       "      <td>...</td>\n",
       "      <td>...</td>\n",
       "      <td>...</td>\n",
       "      <td>...</td>\n",
       "      <td>...</td>\n",
       "      <td>...</td>\n",
       "      <td>...</td>\n",
       "      <td>...</td>\n",
       "      <td>...</td>\n",
       "      <td>...</td>\n",
       "      <td>...</td>\n",
       "      <td>...</td>\n",
       "      <td>...</td>\n",
       "    </tr>\n",
       "    <tr>\n",
       "      <th>60600</th>\n",
       "      <td>ENSG00000198695</td>\n",
       "      <td>856</td>\n",
       "      <td>977</td>\n",
       "      <td>203</td>\n",
       "      <td>195</td>\n",
       "      <td>221</td>\n",
       "      <td>588</td>\n",
       "      <td>615</td>\n",
       "      <td>70</td>\n",
       "      <td>883</td>\n",
       "      <td>...</td>\n",
       "      <td>142</td>\n",
       "      <td>918</td>\n",
       "      <td>582</td>\n",
       "      <td>954</td>\n",
       "      <td>343</td>\n",
       "      <td>370</td>\n",
       "      <td>633</td>\n",
       "      <td>554</td>\n",
       "      <td>870</td>\n",
       "      <td>505</td>\n",
       "    </tr>\n",
       "    <tr>\n",
       "      <th>60601</th>\n",
       "      <td>ENSG00000210194</td>\n",
       "      <td>329</td>\n",
       "      <td>443</td>\n",
       "      <td>780</td>\n",
       "      <td>373</td>\n",
       "      <td>701</td>\n",
       "      <td>116</td>\n",
       "      <td>768</td>\n",
       "      <td>473</td>\n",
       "      <td>408</td>\n",
       "      <td>...</td>\n",
       "      <td>11</td>\n",
       "      <td>764</td>\n",
       "      <td>188</td>\n",
       "      <td>551</td>\n",
       "      <td>945</td>\n",
       "      <td>881</td>\n",
       "      <td>998</td>\n",
       "      <td>206</td>\n",
       "      <td>357</td>\n",
       "      <td>348</td>\n",
       "    </tr>\n",
       "    <tr>\n",
       "      <th>60602</th>\n",
       "      <td>ENSG00000198727</td>\n",
       "      <td>6</td>\n",
       "      <td>422</td>\n",
       "      <td>911</td>\n",
       "      <td>936</td>\n",
       "      <td>424</td>\n",
       "      <td>11</td>\n",
       "      <td>822</td>\n",
       "      <td>949</td>\n",
       "      <td>229</td>\n",
       "      <td>...</td>\n",
       "      <td>499</td>\n",
       "      <td>474</td>\n",
       "      <td>803</td>\n",
       "      <td>160</td>\n",
       "      <td>997</td>\n",
       "      <td>445</td>\n",
       "      <td>181</td>\n",
       "      <td>18</td>\n",
       "      <td>506</td>\n",
       "      <td>703</td>\n",
       "    </tr>\n",
       "    <tr>\n",
       "      <th>60603</th>\n",
       "      <td>ENSG00000210195</td>\n",
       "      <td>525</td>\n",
       "      <td>599</td>\n",
       "      <td>947</td>\n",
       "      <td>896</td>\n",
       "      <td>780</td>\n",
       "      <td>235</td>\n",
       "      <td>677</td>\n",
       "      <td>151</td>\n",
       "      <td>955</td>\n",
       "      <td>...</td>\n",
       "      <td>431</td>\n",
       "      <td>435</td>\n",
       "      <td>659</td>\n",
       "      <td>735</td>\n",
       "      <td>565</td>\n",
       "      <td>770</td>\n",
       "      <td>637</td>\n",
       "      <td>658</td>\n",
       "      <td>135</td>\n",
       "      <td>4</td>\n",
       "    </tr>\n",
       "    <tr>\n",
       "      <th>60604</th>\n",
       "      <td>ENSG00000210196</td>\n",
       "      <td>992</td>\n",
       "      <td>283</td>\n",
       "      <td>548</td>\n",
       "      <td>812</td>\n",
       "      <td>106</td>\n",
       "      <td>742</td>\n",
       "      <td>533</td>\n",
       "      <td>349</td>\n",
       "      <td>36</td>\n",
       "      <td>...</td>\n",
       "      <td>853</td>\n",
       "      <td>195</td>\n",
       "      <td>966</td>\n",
       "      <td>35</td>\n",
       "      <td>977</td>\n",
       "      <td>360</td>\n",
       "      <td>116</td>\n",
       "      <td>511</td>\n",
       "      <td>65</td>\n",
       "      <td>970</td>\n",
       "    </tr>\n",
       "  </tbody>\n",
       "</table>\n",
       "<p>60605 rows × 101 columns</p>\n",
       "</div>"
      ],
      "text/plain": [
       "                  gene  SA001  SA002  SA003  SA004  SA005  SA006  SA007  \\\n",
       "0      ENSG00000223972    885      5    917    802    670    260    740   \n",
       "1      ENSG00000227232    899     55    611    266     67    247    472   \n",
       "2      ENSG00000278267    640    718    852    896     85    975    831   \n",
       "3      ENSG00000243485     73    924     96    501    956    695    721   \n",
       "4      ENSG00000284332    359    598    466    798    573    203    116   \n",
       "...                ...    ...    ...    ...    ...    ...    ...    ...   \n",
       "60600  ENSG00000198695    856    977    203    195    221    588    615   \n",
       "60601  ENSG00000210194    329    443    780    373    701    116    768   \n",
       "60602  ENSG00000198727      6    422    911    936    424     11    822   \n",
       "60603  ENSG00000210195    525    599    947    896    780    235    677   \n",
       "60604  ENSG00000210196    992    283    548    812    106    742    533   \n",
       "\n",
       "       SA008  SA009  ...  SA091  SA092  SA093  SA094  SA095  SA096  SA097  \\\n",
       "0        492    529  ...      0    780    635    643    996    334    905   \n",
       "1        635    769  ...    710    656    899    467    671    665    573   \n",
       "2        323    695  ...    901    549    294    519    513    947    159   \n",
       "3        923    891  ...    794    563    945     19     51    752    396   \n",
       "4        982    252  ...    769    343     77    192    723    131    799   \n",
       "...      ...    ...  ...    ...    ...    ...    ...    ...    ...    ...   \n",
       "60600     70    883  ...    142    918    582    954    343    370    633   \n",
       "60601    473    408  ...     11    764    188    551    945    881    998   \n",
       "60602    949    229  ...    499    474    803    160    997    445    181   \n",
       "60603    151    955  ...    431    435    659    735    565    770    637   \n",
       "60604    349     36  ...    853    195    966     35    977    360    116   \n",
       "\n",
       "       SA098  SA099  SA100  \n",
       "0        814    593    386  \n",
       "1        835    938    639  \n",
       "2        860     98    212  \n",
       "3        540    588    964  \n",
       "4        220    586    448  \n",
       "...      ...    ...    ...  \n",
       "60600    554    870    505  \n",
       "60601    206    357    348  \n",
       "60602     18    506    703  \n",
       "60603    658    135      4  \n",
       "60604    511     65    970  \n",
       "\n",
       "[60605 rows x 101 columns]"
      ]
     },
     "execution_count": 47,
     "metadata": {},
     "output_type": "execute_result"
    }
   ],
   "source": [
    "layerData"
   ]
  },
  {
   "cell_type": "markdown",
   "id": "c27c3c9d-ca15-4be1-97be-056f563b1198",
   "metadata": {
    "tags": []
   },
   "source": [
    "## Retrieve all stored features for sample"
   ]
  },
  {
   "cell_type": "code",
   "execution_count": 48,
   "id": "d37fd67a-b485-41fe-9810-7710e8534064",
   "metadata": {
    "tags": []
   },
   "outputs": [],
   "source": [
    "duration, sample = get_sample(\"rnaseq\", \"SA090\")"
   ]
  },
  {
   "cell_type": "code",
   "execution_count": 49,
   "id": "9167e7d3-b049-4601-b1f5-17c7e72a8173",
   "metadata": {
    "tags": []
   },
   "outputs": [
    {
     "name": "stdout",
     "output_type": "stream",
     "text": [
      "Time to load sample with 60605 features: 0.03 s\n"
     ]
    }
   ],
   "source": [
    "print(f\"Time to load sample with {len(sample)} features: {duration} s\")"
   ]
  },
  {
   "cell_type": "code",
   "execution_count": 50,
   "id": "ad3dec45-7e41-47b2-be6e-065bbc0399ba",
   "metadata": {
    "tags": []
   },
   "outputs": [
    {
     "name": "stdout",
     "output_type": "stream",
     "text": [
      "Memory footprint of data: 473.6 KB\n"
     ]
    }
   ],
   "source": [
    "print(f\"Memory footprint of data: {memory_usage_simulated_data(pd.Series(sample))}\")"
   ]
  },
  {
   "cell_type": "markdown",
   "id": "38e72414-993e-433f-b93e-de6e3601e565",
   "metadata": {},
   "source": [
    "## Add new sample"
   ]
  },
  {
   "cell_type": "code",
   "execution_count": 51,
   "id": "6a5d1c32-2911-4d17-a558-b8346b61113a",
   "metadata": {
    "tags": []
   },
   "outputs": [],
   "source": [
    "duration, _ = add_sample(\"rnaseq\", \"SA101\", sample)"
   ]
  },
  {
   "cell_type": "code",
   "execution_count": 52,
   "id": "adafc9e3-5205-47e5-8f73-81de3524a17c",
   "metadata": {
    "tags": []
   },
   "outputs": [
    {
     "name": "stdout",
     "output_type": "stream",
     "text": [
      "Time to add new sample with 60605 features: 127.38 s\n"
     ]
    }
   ],
   "source": [
    "print(f\"Time to add new sample with {len(sample)} features: {duration} s\")"
   ]
  },
  {
   "cell_type": "markdown",
   "id": "701936b6-09fa-4102-ae76-1a25dc1d895e",
   "metadata": {
    "jp-MarkdownHeadingCollapsed": true,
    "tags": []
   },
   "source": [
    "# Gut microbiome data"
   ]
  },
  {
   "cell_type": "markdown",
   "id": "fa1b7816-bde7-4d1d-a604-63dc78057652",
   "metadata": {
    "tags": []
   },
   "source": [
    "## Create synthetic data"
   ]
  },
  {
   "cell_type": "markdown",
   "id": "b504a890-d90c-4079-8046-688d53183a9b",
   "metadata": {
    "tags": []
   },
   "source": [
    "Load features"
   ]
  },
  {
   "cell_type": "code",
   "execution_count": 53,
   "id": "fe4c3500-e0aa-490e-b934-43c6fbc37240",
   "metadata": {
    "tags": []
   },
   "outputs": [
    {
     "name": "stdout",
     "output_type": "stream",
     "text": [
      "Number of features: 6914\n"
     ]
    }
   ],
   "source": [
    "features = open(\"species.txt\").read().splitlines()\n",
    "print(f\"Number of features: {len(features)}\")"
   ]
  },
  {
   "cell_type": "code",
   "execution_count": 54,
   "id": "9eb438c8-2015-47fa-947a-1e34c7051ccb",
   "metadata": {
    "tags": []
   },
   "outputs": [],
   "source": [
    "duration, data = simulate_data(\"species\", features, minValue=0, maxValue=1000, integers=True)"
   ]
  },
  {
   "cell_type": "code",
   "execution_count": 55,
   "id": "277f6d4f-1855-41cf-8d91-7f825a8c0f41",
   "metadata": {
    "tags": []
   },
   "outputs": [
    {
     "name": "stdout",
     "output_type": "stream",
     "text": [
      "Time to create simulated data: 0.11 s\n"
     ]
    }
   ],
   "source": [
    "print(f\"Time to create simulated data: {duration} s\")"
   ]
  },
  {
   "cell_type": "markdown",
   "id": "7452cc72-7e61-460d-a0ad-b2a80694d38d",
   "metadata": {},
   "source": [
    "Get memory usage of simulated data"
   ]
  },
  {
   "cell_type": "code",
   "execution_count": 56,
   "id": "50d8c72e-eda2-48f0-90f6-37aba791fa52",
   "metadata": {
    "tags": []
   },
   "outputs": [],
   "source": [
    "memoryUsage = memory_usage_simulated_data(data)"
   ]
  },
  {
   "cell_type": "code",
   "execution_count": 57,
   "id": "ea0d765b-ec29-4c00-8b60-e39aa46140e8",
   "metadata": {
    "tags": []
   },
   "outputs": [
    {
     "name": "stdout",
     "output_type": "stream",
     "text": [
      "Memory usage of simulated data: 5.8 MB\n"
     ]
    }
   ],
   "source": [
    "print(f\"Memory usage of simulated data: {memoryUsage}\")"
   ]
  },
  {
   "cell_type": "markdown",
   "id": "09928645-61b7-4b29-b4ff-863d33ac0e8d",
   "metadata": {},
   "source": [
    "## Store synthetic data"
   ]
  },
  {
   "cell_type": "code",
   "execution_count": 58,
   "id": "29778372-071f-4d6a-8ab3-44d6b9dcc7af",
   "metadata": {
    "tags": []
   },
   "outputs": [],
   "source": [
    "duration, _ = store_data(data, \"microbiome\", \"raw\", \"Raw gut microbiome data.\")"
   ]
  },
  {
   "cell_type": "code",
   "execution_count": 59,
   "id": "8b1ae6c2-9768-4520-81ca-22d7e909e092",
   "metadata": {
    "tags": []
   },
   "outputs": [
    {
     "name": "stdout",
     "output_type": "stream",
     "text": [
      "Time to store simulated data: 1.25 s\n"
     ]
    }
   ],
   "source": [
    "print(f\"Time to store simulated data: {duration} s\")"
   ]
  },
  {
   "cell_type": "markdown",
   "id": "b521dc05-4b1e-4f46-a42a-bb4bdab307a7",
   "metadata": {},
   "source": [
    "## Retrieve stored data"
   ]
  },
  {
   "cell_type": "code",
   "execution_count": 60,
   "id": "5cd3c945-2859-4ae0-a290-ffbb7b676b87",
   "metadata": {
    "tags": []
   },
   "outputs": [],
   "source": [
    "duration, layerData = load_layer(\"microbiome\")"
   ]
  },
  {
   "cell_type": "code",
   "execution_count": 61,
   "id": "e32c93bc-f03e-4055-ac48-5eec65251ec9",
   "metadata": {
    "tags": []
   },
   "outputs": [
    {
     "name": "stdout",
     "output_type": "stream",
     "text": [
      "Time to load stored layer: 0.07 s\n"
     ]
    }
   ],
   "source": [
    "print(f\"Time to load stored layer: {duration} s\")"
   ]
  },
  {
   "cell_type": "code",
   "execution_count": 62,
   "id": "12fe3846-a9d5-412d-8d1c-aab37c825180",
   "metadata": {
    "tags": []
   },
   "outputs": [
    {
     "data": {
      "text/html": [
       "<div>\n",
       "<style scoped>\n",
       "    .dataframe tbody tr th:only-of-type {\n",
       "        vertical-align: middle;\n",
       "    }\n",
       "\n",
       "    .dataframe tbody tr th {\n",
       "        vertical-align: top;\n",
       "    }\n",
       "\n",
       "    .dataframe thead th {\n",
       "        text-align: right;\n",
       "    }\n",
       "</style>\n",
       "<table border=\"1\" class=\"dataframe\">\n",
       "  <thead>\n",
       "    <tr style=\"text-align: right;\">\n",
       "      <th></th>\n",
       "      <th>species</th>\n",
       "      <th>SA001</th>\n",
       "      <th>SA002</th>\n",
       "      <th>SA003</th>\n",
       "      <th>SA004</th>\n",
       "      <th>SA005</th>\n",
       "      <th>SA006</th>\n",
       "      <th>SA007</th>\n",
       "      <th>SA008</th>\n",
       "      <th>SA009</th>\n",
       "      <th>...</th>\n",
       "      <th>SA091</th>\n",
       "      <th>SA092</th>\n",
       "      <th>SA093</th>\n",
       "      <th>SA094</th>\n",
       "      <th>SA095</th>\n",
       "      <th>SA096</th>\n",
       "      <th>SA097</th>\n",
       "      <th>SA098</th>\n",
       "      <th>SA099</th>\n",
       "      <th>SA100</th>\n",
       "    </tr>\n",
       "  </thead>\n",
       "  <tbody>\n",
       "    <tr>\n",
       "      <th>0</th>\n",
       "      <td>Bacteroides uniformis</td>\n",
       "      <td>90</td>\n",
       "      <td>780</td>\n",
       "      <td>50</td>\n",
       "      <td>605</td>\n",
       "      <td>157</td>\n",
       "      <td>166</td>\n",
       "      <td>636</td>\n",
       "      <td>906</td>\n",
       "      <td>420</td>\n",
       "      <td>...</td>\n",
       "      <td>366</td>\n",
       "      <td>725</td>\n",
       "      <td>682</td>\n",
       "      <td>19</td>\n",
       "      <td>254</td>\n",
       "      <td>387</td>\n",
       "      <td>329</td>\n",
       "      <td>601</td>\n",
       "      <td>140</td>\n",
       "      <td>914</td>\n",
       "    </tr>\n",
       "    <tr>\n",
       "      <th>1</th>\n",
       "      <td>Bacteroides ovatus</td>\n",
       "      <td>607</td>\n",
       "      <td>599</td>\n",
       "      <td>173</td>\n",
       "      <td>615</td>\n",
       "      <td>305</td>\n",
       "      <td>752</td>\n",
       "      <td>559</td>\n",
       "      <td>415</td>\n",
       "      <td>566</td>\n",
       "      <td>...</td>\n",
       "      <td>53</td>\n",
       "      <td>86</td>\n",
       "      <td>100</td>\n",
       "      <td>542</td>\n",
       "      <td>132</td>\n",
       "      <td>228</td>\n",
       "      <td>926</td>\n",
       "      <td>298</td>\n",
       "      <td>980</td>\n",
       "      <td>545</td>\n",
       "    </tr>\n",
       "    <tr>\n",
       "      <th>2</th>\n",
       "      <td>Bacteroides vulgatus</td>\n",
       "      <td>411</td>\n",
       "      <td>770</td>\n",
       "      <td>270</td>\n",
       "      <td>476</td>\n",
       "      <td>512</td>\n",
       "      <td>983</td>\n",
       "      <td>306</td>\n",
       "      <td>837</td>\n",
       "      <td>438</td>\n",
       "      <td>...</td>\n",
       "      <td>498</td>\n",
       "      <td>275</td>\n",
       "      <td>506</td>\n",
       "      <td>511</td>\n",
       "      <td>736</td>\n",
       "      <td>37</td>\n",
       "      <td>781</td>\n",
       "      <td>766</td>\n",
       "      <td>490</td>\n",
       "      <td>788</td>\n",
       "    </tr>\n",
       "    <tr>\n",
       "      <th>3</th>\n",
       "      <td>Blautia obeum</td>\n",
       "      <td>345</td>\n",
       "      <td>540</td>\n",
       "      <td>56</td>\n",
       "      <td>661</td>\n",
       "      <td>269</td>\n",
       "      <td>368</td>\n",
       "      <td>536</td>\n",
       "      <td>787</td>\n",
       "      <td>630</td>\n",
       "      <td>...</td>\n",
       "      <td>104</td>\n",
       "      <td>362</td>\n",
       "      <td>715</td>\n",
       "      <td>603</td>\n",
       "      <td>64</td>\n",
       "      <td>859</td>\n",
       "      <td>764</td>\n",
       "      <td>669</td>\n",
       "      <td>660</td>\n",
       "      <td>381</td>\n",
       "    </tr>\n",
       "    <tr>\n",
       "      <th>4</th>\n",
       "      <td>[Eubacterium] rectale</td>\n",
       "      <td>173</td>\n",
       "      <td>586</td>\n",
       "      <td>239</td>\n",
       "      <td>679</td>\n",
       "      <td>571</td>\n",
       "      <td>507</td>\n",
       "      <td>258</td>\n",
       "      <td>487</td>\n",
       "      <td>611</td>\n",
       "      <td>...</td>\n",
       "      <td>922</td>\n",
       "      <td>908</td>\n",
       "      <td>987</td>\n",
       "      <td>712</td>\n",
       "      <td>597</td>\n",
       "      <td>142</td>\n",
       "      <td>384</td>\n",
       "      <td>883</td>\n",
       "      <td>379</td>\n",
       "      <td>283</td>\n",
       "    </tr>\n",
       "    <tr>\n",
       "      <th>...</th>\n",
       "      <td>...</td>\n",
       "      <td>...</td>\n",
       "      <td>...</td>\n",
       "      <td>...</td>\n",
       "      <td>...</td>\n",
       "      <td>...</td>\n",
       "      <td>...</td>\n",
       "      <td>...</td>\n",
       "      <td>...</td>\n",
       "      <td>...</td>\n",
       "      <td>...</td>\n",
       "      <td>...</td>\n",
       "      <td>...</td>\n",
       "      <td>...</td>\n",
       "      <td>...</td>\n",
       "      <td>...</td>\n",
       "      <td>...</td>\n",
       "      <td>...</td>\n",
       "      <td>...</td>\n",
       "      <td>...</td>\n",
       "      <td>...</td>\n",
       "    </tr>\n",
       "    <tr>\n",
       "      <th>6909</th>\n",
       "      <td>Rathayibacter festucae</td>\n",
       "      <td>119</td>\n",
       "      <td>627</td>\n",
       "      <td>736</td>\n",
       "      <td>487</td>\n",
       "      <td>716</td>\n",
       "      <td>410</td>\n",
       "      <td>923</td>\n",
       "      <td>402</td>\n",
       "      <td>630</td>\n",
       "      <td>...</td>\n",
       "      <td>905</td>\n",
       "      <td>852</td>\n",
       "      <td>750</td>\n",
       "      <td>80</td>\n",
       "      <td>840</td>\n",
       "      <td>399</td>\n",
       "      <td>29</td>\n",
       "      <td>913</td>\n",
       "      <td>952</td>\n",
       "      <td>468</td>\n",
       "    </tr>\n",
       "    <tr>\n",
       "      <th>6910</th>\n",
       "      <td>Thermosipho sp. DSM 6568</td>\n",
       "      <td>641</td>\n",
       "      <td>356</td>\n",
       "      <td>284</td>\n",
       "      <td>155</td>\n",
       "      <td>512</td>\n",
       "      <td>673</td>\n",
       "      <td>749</td>\n",
       "      <td>32</td>\n",
       "      <td>510</td>\n",
       "      <td>...</td>\n",
       "      <td>115</td>\n",
       "      <td>688</td>\n",
       "      <td>744</td>\n",
       "      <td>718</td>\n",
       "      <td>413</td>\n",
       "      <td>142</td>\n",
       "      <td>67</td>\n",
       "      <td>673</td>\n",
       "      <td>74</td>\n",
       "      <td>823</td>\n",
       "    </tr>\n",
       "    <tr>\n",
       "      <th>6911</th>\n",
       "      <td>Demequina globuliformis</td>\n",
       "      <td>712</td>\n",
       "      <td>112</td>\n",
       "      <td>125</td>\n",
       "      <td>947</td>\n",
       "      <td>307</td>\n",
       "      <td>167</td>\n",
       "      <td>701</td>\n",
       "      <td>734</td>\n",
       "      <td>157</td>\n",
       "      <td>...</td>\n",
       "      <td>158</td>\n",
       "      <td>107</td>\n",
       "      <td>663</td>\n",
       "      <td>796</td>\n",
       "      <td>244</td>\n",
       "      <td>243</td>\n",
       "      <td>777</td>\n",
       "      <td>739</td>\n",
       "      <td>873</td>\n",
       "      <td>676</td>\n",
       "    </tr>\n",
       "    <tr>\n",
       "      <th>6912</th>\n",
       "      <td>Streptomyces abyssalis</td>\n",
       "      <td>988</td>\n",
       "      <td>612</td>\n",
       "      <td>332</td>\n",
       "      <td>454</td>\n",
       "      <td>922</td>\n",
       "      <td>55</td>\n",
       "      <td>645</td>\n",
       "      <td>525</td>\n",
       "      <td>964</td>\n",
       "      <td>...</td>\n",
       "      <td>915</td>\n",
       "      <td>409</td>\n",
       "      <td>89</td>\n",
       "      <td>434</td>\n",
       "      <td>164</td>\n",
       "      <td>25</td>\n",
       "      <td>416</td>\n",
       "      <td>639</td>\n",
       "      <td>820</td>\n",
       "      <td>190</td>\n",
       "    </tr>\n",
       "    <tr>\n",
       "      <th>6913</th>\n",
       "      <td>Paenibacillus sp. HBUM179190</td>\n",
       "      <td>334</td>\n",
       "      <td>594</td>\n",
       "      <td>414</td>\n",
       "      <td>774</td>\n",
       "      <td>561</td>\n",
       "      <td>539</td>\n",
       "      <td>315</td>\n",
       "      <td>709</td>\n",
       "      <td>400</td>\n",
       "      <td>...</td>\n",
       "      <td>544</td>\n",
       "      <td>72</td>\n",
       "      <td>36</td>\n",
       "      <td>173</td>\n",
       "      <td>460</td>\n",
       "      <td>299</td>\n",
       "      <td>414</td>\n",
       "      <td>771</td>\n",
       "      <td>43</td>\n",
       "      <td>995</td>\n",
       "    </tr>\n",
       "  </tbody>\n",
       "</table>\n",
       "<p>6914 rows × 101 columns</p>\n",
       "</div>"
      ],
      "text/plain": [
       "                           species  SA001  SA002  SA003  SA004  SA005  SA006  \\\n",
       "0            Bacteroides uniformis     90    780     50    605    157    166   \n",
       "1               Bacteroides ovatus    607    599    173    615    305    752   \n",
       "2             Bacteroides vulgatus    411    770    270    476    512    983   \n",
       "3                    Blautia obeum    345    540     56    661    269    368   \n",
       "4            [Eubacterium] rectale    173    586    239    679    571    507   \n",
       "...                            ...    ...    ...    ...    ...    ...    ...   \n",
       "6909        Rathayibacter festucae    119    627    736    487    716    410   \n",
       "6910      Thermosipho sp. DSM 6568    641    356    284    155    512    673   \n",
       "6911       Demequina globuliformis    712    112    125    947    307    167   \n",
       "6912        Streptomyces abyssalis    988    612    332    454    922     55   \n",
       "6913  Paenibacillus sp. HBUM179190    334    594    414    774    561    539   \n",
       "\n",
       "      SA007  SA008  SA009  ...  SA091  SA092  SA093  SA094  SA095  SA096  \\\n",
       "0       636    906    420  ...    366    725    682     19    254    387   \n",
       "1       559    415    566  ...     53     86    100    542    132    228   \n",
       "2       306    837    438  ...    498    275    506    511    736     37   \n",
       "3       536    787    630  ...    104    362    715    603     64    859   \n",
       "4       258    487    611  ...    922    908    987    712    597    142   \n",
       "...     ...    ...    ...  ...    ...    ...    ...    ...    ...    ...   \n",
       "6909    923    402    630  ...    905    852    750     80    840    399   \n",
       "6910    749     32    510  ...    115    688    744    718    413    142   \n",
       "6911    701    734    157  ...    158    107    663    796    244    243   \n",
       "6912    645    525    964  ...    915    409     89    434    164     25   \n",
       "6913    315    709    400  ...    544     72     36    173    460    299   \n",
       "\n",
       "      SA097  SA098  SA099  SA100  \n",
       "0       329    601    140    914  \n",
       "1       926    298    980    545  \n",
       "2       781    766    490    788  \n",
       "3       764    669    660    381  \n",
       "4       384    883    379    283  \n",
       "...     ...    ...    ...    ...  \n",
       "6909     29    913    952    468  \n",
       "6910     67    673     74    823  \n",
       "6911    777    739    873    676  \n",
       "6912    416    639    820    190  \n",
       "6913    414    771     43    995  \n",
       "\n",
       "[6914 rows x 101 columns]"
      ]
     },
     "execution_count": 62,
     "metadata": {},
     "output_type": "execute_result"
    }
   ],
   "source": [
    "layerData"
   ]
  },
  {
   "cell_type": "markdown",
   "id": "cf4bbfb8-00d6-4e26-a656-2ebf2bcaaf11",
   "metadata": {
    "jp-MarkdownHeadingCollapsed": true,
    "tags": []
   },
   "source": [
    "# Genomic data (VCF)"
   ]
  },
  {
   "cell_type": "markdown",
   "id": "fb4de40d-7e22-4420-bd91-74d013931394",
   "metadata": {},
   "source": [
    "## Download data"
   ]
  },
  {
   "cell_type": "markdown",
   "id": "27a0ac6f-dae8-4b2c-8c82-9d4811f59e0a",
   "metadata": {},
   "source": [
    "The synthetic VCF file is hosted on Zenodo where is can be downloaded.\n",
    "\n",
    "[![DOI](https://zenodo.org/badge/DOI/10.5281/zenodo.12790872.svg)](https://doi.org/10.5281/zenodo.12790872)"
   ]
  },
  {
   "cell_type": "markdown",
   "id": "e4989056-2da4-408a-aa21-5c07d00bfc58",
   "metadata": {},
   "source": [
    "## Store synthetic data"
   ]
  },
  {
   "cell_type": "code",
   "execution_count": 60,
   "id": "4ff24db6-1087-4b46-8e71-ef4f98eca1de",
   "metadata": {
    "tags": []
   },
   "outputs": [],
   "source": [
    "@timeit\n",
    "def store_vcf(filename):\n",
    "    omi.layers.from_csv(layer='vcf', filename=filename, sep='\\t', chunksize=100000)\n",
    "    return None\n",
    "\n",
    "duration, _ = store_vcf(\"simulated.vcf.gz\")"
   ]
  },
  {
   "cell_type": "code",
   "execution_count": 61,
   "id": "456c7fb5-6a83-4f0e-bf01-86383dec6b80",
   "metadata": {
    "tags": []
   },
   "outputs": [
    {
     "name": "stdout",
     "output_type": "stream",
     "text": [
      "Time to store simulated data: 1726.73 s\n"
     ]
    }
   ],
   "source": [
    "print(f\"Time to store simulated data: {duration} s\")"
   ]
  },
  {
   "cell_type": "markdown",
   "id": "5d204d2b-efb1-4b45-a043-e0c77513c8ae",
   "metadata": {},
   "source": [
    "Add tag and description to layer"
   ]
  },
  {
   "cell_type": "code",
   "execution_count": 62,
   "id": "01be0b1a-d0c3-4fb7-bf57-df83298c9281",
   "metadata": {
    "tags": []
   },
   "outputs": [],
   "source": [
    "omi.layers['vcf'].set_tag(\"raw\")\n",
    "omi.layers['vcf'].set_info(\"Cohort imputed VCF.\")"
   ]
  },
  {
   "cell_type": "markdown",
   "id": "2d7c1f7b-910e-4b3f-86c4-7f8f1af8d04d",
   "metadata": {},
   "source": [
    "## Add new sample"
   ]
  },
  {
   "cell_type": "markdown",
   "id": "003fcbb0-6739-4126-8aa0-49bd8ab012bc",
   "metadata": {},
   "source": [
    "<span style='color:red'>**NOTE**</span><br>\n",
    "The following line of code requires an **extensive runtime**."
   ]
  },
  {
   "cell_type": "code",
   "execution_count": null,
   "id": "33c3835e-f2b4-403f-8dec-996c7247d170",
   "metadata": {
    "tags": []
   },
   "outputs": [],
   "source": [
    "duration, _ = add_sample(\"vcf\", \"SA101\", sample)"
   ]
  },
  {
   "cell_type": "markdown",
   "id": "e1356a2b-3b61-42bf-acfd-0169ab7620ad",
   "metadata": {},
   "source": [
    "<span style='color:red'>**NOTE**</span> <br>\n",
    "The execution of the above line of code was not allowed to finish during testing due to the extensive runtime needed. The execution was manually terminated after 1 hour of runtime. Below, the number of entries that were registered in the database during the 1 hour of execution is given."
   ]
  },
  {
   "cell_type": "code",
   "execution_count": 23,
   "id": "c652cc46-5cd0-46a3-8bc5-e9e3120db3b1",
   "metadata": {
    "tags": []
   },
   "outputs": [
    {
     "name": "stdout",
     "output_type": "stream",
     "text": [
      "Total number of entries inserted within 1 hour of execution using 8 threads: 312049 entries\n"
     ]
    }
   ],
   "source": [
    "print(\"Total number of entries inserted within 1 hour of execution using 8 threads: {} entries\".format((omi.layers['vcf']['SA101'] != None).sum()))"
   ]
  },
  {
   "cell_type": "markdown",
   "id": "c9710dda-0fe1-46dc-8613-8f06fec12672",
   "metadata": {},
   "source": [
    "Based on the above information, the addition of the whole sample with 9640953 features would require approximately 30 hours of runtime."
   ]
  },
  {
   "cell_type": "markdown",
   "id": "bb341c0f-dd69-4a79-b5fe-73354ffba237",
   "metadata": {
    "tags": []
   },
   "source": [
    "## Retrieve stored data"
   ]
  },
  {
   "cell_type": "markdown",
   "id": "dddf999f-cab6-4568-9ba3-dc2097a8de58",
   "metadata": {},
   "source": [
    "VCF includes character \"#\" infront of the 'CHROM\" column. Rename column to remove character."
   ]
  },
  {
   "cell_type": "code",
   "execution_count": 63,
   "id": "061059cc-6f49-440b-a2a6-ba55be0e4f0e",
   "metadata": {
    "tags": []
   },
   "outputs": [],
   "source": [
    "omi.layers['vcf'].rename(\"'#CHROM'\", 'CHROM')"
   ]
  },
  {
   "cell_type": "code",
   "execution_count": 13,
   "id": "ed6aa79a-4e4e-41d0-ace3-32ba03ceaf8b",
   "metadata": {
    "tags": []
   },
   "outputs": [],
   "source": [
    "@timeit\n",
    "def parse_vcf(chromo, pos, columns):\n",
    "    if chromo is not None:\n",
    "        result = omi.layers['vcf'].query(f\"CHROM == '{chromo}' and POS == '{pos}'\")[columns]\n",
    "    else:\n",
    "        result = omi.layers['vcf'].select(cols=columns, where='POS', values=pos)\n",
    "    return result\n",
    "\n",
    "@timeit\n",
    "def parse_range_vcf(chromo, start, end, columns):\n",
    "    result = omi.layers['vcf'].query(f\"CHROM == '{chromo}' and POS BETWEEN {start} AND {end}\")[columns]\n",
    "    return result\n",
    "    "
   ]
  },
  {
   "cell_type": "code",
   "execution_count": 5,
   "id": "c6f1f90b-1b6e-484c-a933-bf48cfda1aa2",
   "metadata": {
    "tags": []
   },
   "outputs": [
    {
     "data": {
      "text/html": [
       "<div>\n",
       "<style scoped>\n",
       "    .dataframe tbody tr th:only-of-type {\n",
       "        vertical-align: middle;\n",
       "    }\n",
       "\n",
       "    .dataframe tbody tr th {\n",
       "        vertical-align: top;\n",
       "    }\n",
       "\n",
       "    .dataframe thead th {\n",
       "        text-align: right;\n",
       "    }\n",
       "</style>\n",
       "<table border=\"1\" class=\"dataframe\">\n",
       "  <thead>\n",
       "    <tr style=\"text-align: right;\">\n",
       "      <th></th>\n",
       "      <th>ID</th>\n",
       "      <th>SA010</th>\n",
       "      <th>SA090</th>\n",
       "    </tr>\n",
       "    <tr>\n",
       "      <th>rowid</th>\n",
       "      <th></th>\n",
       "      <th></th>\n",
       "      <th></th>\n",
       "    </tr>\n",
       "  </thead>\n",
       "  <tbody>\n",
       "    <tr>\n",
       "      <th>1654040</th>\n",
       "      <td>3:100000:G:T</td>\n",
       "      <td>1|0:0.184:0.051,0.062:0.353,0.285,0.362</td>\n",
       "      <td>0|1:0.363:0.761,0.894:0.995,0.002,0.003</td>\n",
       "    </tr>\n",
       "  </tbody>\n",
       "</table>\n",
       "</div>"
      ],
      "text/plain": [
       "                   ID                                    SA010  \\\n",
       "rowid                                                            \n",
       "1654040  3:100000:G:T  1|0:0.184:0.051,0.062:0.353,0.285,0.362   \n",
       "\n",
       "                                           SA090  \n",
       "rowid                                             \n",
       "1654040  0|1:0.363:0.761,0.894:0.995,0.002,0.003  "
      ]
     },
     "execution_count": 5,
     "metadata": {},
     "output_type": "execute_result"
    }
   ],
   "source": [
    "duration, result = parse_vcf('chr3', 100000, ['ID', 'SA010', 'SA090'])\n",
    "result     "
   ]
  },
  {
   "cell_type": "code",
   "execution_count": 6,
   "id": "d01af005-8b3a-4a01-aba0-95fd6cb0caf0",
   "metadata": {
    "tags": []
   },
   "outputs": [
    {
     "name": "stdout",
     "output_type": "stream",
     "text": [
      "Time to parse vcf: 0.13 s\n"
     ]
    }
   ],
   "source": [
    "print(f\"Time to parse vcf: {duration} s\")  "
   ]
  },
  {
   "cell_type": "code",
   "execution_count": 7,
   "id": "09a05f42-6e3a-4a70-bdf6-53addd9fa0ef",
   "metadata": {
    "tags": []
   },
   "outputs": [
    {
     "data": {
      "text/html": [
       "<div>\n",
       "<style scoped>\n",
       "    .dataframe tbody tr th:only-of-type {\n",
       "        vertical-align: middle;\n",
       "    }\n",
       "\n",
       "    .dataframe tbody tr th {\n",
       "        vertical-align: top;\n",
       "    }\n",
       "\n",
       "    .dataframe thead th {\n",
       "        text-align: right;\n",
       "    }\n",
       "</style>\n",
       "<table border=\"1\" class=\"dataframe\">\n",
       "  <thead>\n",
       "    <tr style=\"text-align: right;\">\n",
       "      <th></th>\n",
       "      <th>ID</th>\n",
       "      <th>SA010</th>\n",
       "      <th>SA090</th>\n",
       "    </tr>\n",
       "    <tr>\n",
       "      <th>rowid</th>\n",
       "      <th></th>\n",
       "      <th></th>\n",
       "      <th></th>\n",
       "    </tr>\n",
       "  </thead>\n",
       "  <tbody>\n",
       "    <tr>\n",
       "      <th>9588773</th>\n",
       "      <td>22:100000:T:A</td>\n",
       "      <td>1|1:0.542:0.438,0.166:0.957,0.016,0.027</td>\n",
       "      <td>1|0:0.888:0.686,0.946:0.231,0.194,0.575</td>\n",
       "    </tr>\n",
       "  </tbody>\n",
       "</table>\n",
       "</div>"
      ],
      "text/plain": [
       "                    ID                                    SA010  \\\n",
       "rowid                                                             \n",
       "9588773  22:100000:T:A  1|1:0.542:0.438,0.166:0.957,0.016,0.027   \n",
       "\n",
       "                                           SA090  \n",
       "rowid                                             \n",
       "9588773  1|0:0.888:0.686,0.946:0.231,0.194,0.575  "
      ]
     },
     "execution_count": 7,
     "metadata": {},
     "output_type": "execute_result"
    }
   ],
   "source": [
    "duration, result = parse_vcf('chr22', 100000, ['ID', 'SA010', 'SA090'])\n",
    "result"
   ]
  },
  {
   "cell_type": "code",
   "execution_count": 8,
   "id": "34e8b93e-e629-4b97-8ac4-5cf094849db0",
   "metadata": {
    "tags": []
   },
   "outputs": [
    {
     "name": "stdout",
     "output_type": "stream",
     "text": [
      "Time to parse vcf: 0.17 s\n"
     ]
    }
   ],
   "source": [
    "print(f\"Time to parse vcf: {duration} s\")"
   ]
  },
  {
   "cell_type": "code",
   "execution_count": 9,
   "id": "e2e9922f-85df-4249-8720-fd64e2317233",
   "metadata": {
    "tags": []
   },
   "outputs": [
    {
     "data": {
      "text/html": [
       "<div>\n",
       "<style scoped>\n",
       "    .dataframe tbody tr th:only-of-type {\n",
       "        vertical-align: middle;\n",
       "    }\n",
       "\n",
       "    .dataframe tbody tr th {\n",
       "        vertical-align: top;\n",
       "    }\n",
       "\n",
       "    .dataframe thead th {\n",
       "        text-align: right;\n",
       "    }\n",
       "</style>\n",
       "<table border=\"1\" class=\"dataframe\">\n",
       "  <thead>\n",
       "    <tr style=\"text-align: right;\">\n",
       "      <th></th>\n",
       "      <th>POS</th>\n",
       "      <th>ID</th>\n",
       "      <th>SA010</th>\n",
       "      <th>SA090</th>\n",
       "    </tr>\n",
       "    <tr>\n",
       "      <th>rowid</th>\n",
       "      <th></th>\n",
       "      <th></th>\n",
       "      <th></th>\n",
       "      <th></th>\n",
       "    </tr>\n",
       "  </thead>\n",
       "  <tbody>\n",
       "    <tr>\n",
       "      <th>90000</th>\n",
       "      <td>100000</td>\n",
       "      <td>1:100000:G:A</td>\n",
       "      <td>0|1:0.641:0.88,0.203:0.934,0.052,0.014</td>\n",
       "      <td>0|1:0.322:0.518,0.689:0.519,0.382,0.099</td>\n",
       "    </tr>\n",
       "    <tr>\n",
       "      <th>832932</th>\n",
       "      <td>100000</td>\n",
       "      <td>2:100000:C:T</td>\n",
       "      <td>1|0:0.144:0.462,0.846:0.759,0.197,0.044</td>\n",
       "      <td>1|0:0.72:0.378,0.539:0.059,0.664,0.277</td>\n",
       "    </tr>\n",
       "    <tr>\n",
       "      <th>1654040</th>\n",
       "      <td>100000</td>\n",
       "      <td>3:100000:G:T</td>\n",
       "      <td>1|0:0.184:0.051,0.062:0.353,0.285,0.362</td>\n",
       "      <td>0|1:0.363:0.761,0.894:0.995,0.002,0.003</td>\n",
       "    </tr>\n",
       "    <tr>\n",
       "      <th>2355176</th>\n",
       "      <td>100000</td>\n",
       "      <td>4:100000:C:G</td>\n",
       "      <td>1|0:0.363:0.021,0.732:0.172,0.233,0.595</td>\n",
       "      <td>1|0:0.119:0.441,0.84:0.413,0.083,0.504</td>\n",
       "    </tr>\n",
       "    <tr>\n",
       "      <th>3066329</th>\n",
       "      <td>100000</td>\n",
       "      <td>5:100000:C:G</td>\n",
       "      <td>0|0:0.423:0.948,0.166:0.015,0.454,0.531</td>\n",
       "      <td>0|0:0.62:0.254,0.99:0.903,0.049,0.048</td>\n",
       "    </tr>\n",
       "    <tr>\n",
       "      <th>3702775</th>\n",
       "      <td>100000</td>\n",
       "      <td>6:100000:C:A</td>\n",
       "      <td>1|1:0.17:0.174,0.625:0.935,0.006,0.059</td>\n",
       "      <td>1|0:0.07:0.751,0.039:0.772,0.095,0.133</td>\n",
       "    </tr>\n",
       "    <tr>\n",
       "      <th>4349834</th>\n",
       "      <td>100000</td>\n",
       "      <td>7:100000:A:C</td>\n",
       "      <td>1|1:0.498:0.045,0.372:0.818,0.081,0.101</td>\n",
       "      <td>0|1:0.078:0.716,0.819:0.151,0.258,0.591</td>\n",
       "    </tr>\n",
       "    <tr>\n",
       "      <th>4911808</th>\n",
       "      <td>100000</td>\n",
       "      <td>8:100000:T:C</td>\n",
       "      <td>0|1:0.757:0.785,0.161:0.778,0.207,0.015</td>\n",
       "      <td>1|0:0.185:0.632,0.472:0.83,0.133,0.037</td>\n",
       "    </tr>\n",
       "    <tr>\n",
       "      <th>5459234</th>\n",
       "      <td>100000</td>\n",
       "      <td>9:100000:A:C</td>\n",
       "      <td>0|1:0.774:0.915,0.858:0.975,0.003,0.022</td>\n",
       "      <td>1|0:0.732:0.647,0.803:0.607,0.005,0.388</td>\n",
       "    </tr>\n",
       "    <tr>\n",
       "      <th>5876401</th>\n",
       "      <td>100000</td>\n",
       "      <td>10:100000:T:A</td>\n",
       "      <td>1|1:0.235:0.982,0.52:0.729,0.11,0.161</td>\n",
       "      <td>0|1:0.041:0.004,0.031:0.805,0.015,0.18</td>\n",
       "    </tr>\n",
       "    <tr>\n",
       "      <th>6370708</th>\n",
       "      <td>100000</td>\n",
       "      <td>11:100000:A:T</td>\n",
       "      <td>0|1:0.494:0.63,0.363:0.393,0.168,0.439</td>\n",
       "      <td>1|1:0.296:0.89,0.411:0.717,0.206,0.077</td>\n",
       "    </tr>\n",
       "    <tr>\n",
       "      <th>6858100</th>\n",
       "      <td>100000</td>\n",
       "      <td>12:100000:T:C</td>\n",
       "      <td>0|0:0.124:0.582,0.742:0.968,0.017,0.015</td>\n",
       "      <td>1|1:0.824:0.99,0.816:0.871,0.084,0.045</td>\n",
       "    </tr>\n",
       "    <tr>\n",
       "      <th>7315204</th>\n",
       "      <td>100000</td>\n",
       "      <td>13:100000:T:A</td>\n",
       "      <td>0|0:0.871:0.845,0.932:0.053,0.696,0.251</td>\n",
       "      <td>0|1:0.41:0.219,0.662:0.141,0.592,0.267</td>\n",
       "    </tr>\n",
       "    <tr>\n",
       "      <th>7675107</th>\n",
       "      <td>100000</td>\n",
       "      <td>14:100000:G:A</td>\n",
       "      <td>0|0:0.765:0.804,0.514:0.484,0.258,0.258</td>\n",
       "      <td>0|1:0.11:0.814,0.262:0.9,0.079,0.021</td>\n",
       "    </tr>\n",
       "    <tr>\n",
       "      <th>7987317</th>\n",
       "      <td>100000</td>\n",
       "      <td>15:100000:T:G</td>\n",
       "      <td>1|1:0.248:0.269,0.53:0.494,0.288,0.218</td>\n",
       "      <td>1|0:0.193:0.446,0.133:0.18,0.406,0.414</td>\n",
       "    </tr>\n",
       "    <tr>\n",
       "      <th>8253819</th>\n",
       "      <td>100000</td>\n",
       "      <td>16:100000:C:T</td>\n",
       "      <td>1|1:0.094:0.184,0.641:0.56,0.178,0.262</td>\n",
       "      <td>1|1:0.155:0.063,0.759:0.983,0.002,0.015</td>\n",
       "    </tr>\n",
       "    <tr>\n",
       "      <th>8545284</th>\n",
       "      <td>100000</td>\n",
       "      <td>17:100000:T:G</td>\n",
       "      <td>1|1:0.789:0.466,0.504:0.858,0.058,0.084</td>\n",
       "      <td>1|0:0.84:0.263,0.996:0.428,0.147,0.425</td>\n",
       "    </tr>\n",
       "    <tr>\n",
       "      <th>8788352</th>\n",
       "      <td>100000</td>\n",
       "      <td>18:100000:C:T</td>\n",
       "      <td>0|0:0.488:0.486,0.865:0.355,0.36,0.285</td>\n",
       "      <td>0|0:0.85:0.235,0.548:0.419,0.211,0.37</td>\n",
       "    </tr>\n",
       "    <tr>\n",
       "      <th>9059248</th>\n",
       "      <td>100000</td>\n",
       "      <td>19:100000:G:T</td>\n",
       "      <td>1|1:0.092:0.59,0.258:0.662,0.29,0.048</td>\n",
       "      <td>1|0:0.086:0.381,0.389:0.765,0.013,0.222</td>\n",
       "    </tr>\n",
       "    <tr>\n",
       "      <th>9249465</th>\n",
       "      <td>100000</td>\n",
       "      <td>20:100000:A:G</td>\n",
       "      <td>1|0:0.035:0.564,0.668:0.925,0.065,0.01</td>\n",
       "      <td>0|1:0.071:0.306,0.734:0.366,0.632,0.002</td>\n",
       "    </tr>\n",
       "    <tr>\n",
       "      <th>9461243</th>\n",
       "      <td>100000</td>\n",
       "      <td>21:100000:A:C</td>\n",
       "      <td>0|0:0.835:0.05,0.892:0.732,0.111,0.157</td>\n",
       "      <td>0|0:0.886:0.915,0.837:0.744,0.046,0.21</td>\n",
       "    </tr>\n",
       "    <tr>\n",
       "      <th>9588773</th>\n",
       "      <td>100000</td>\n",
       "      <td>22:100000:T:A</td>\n",
       "      <td>1|1:0.542:0.438,0.166:0.957,0.016,0.027</td>\n",
       "      <td>1|0:0.888:0.686,0.946:0.231,0.194,0.575</td>\n",
       "    </tr>\n",
       "  </tbody>\n",
       "</table>\n",
       "</div>"
      ],
      "text/plain": [
       "            POS             ID                                    SA010  \\\n",
       "rowid                                                                     \n",
       "90000    100000   1:100000:G:A   0|1:0.641:0.88,0.203:0.934,0.052,0.014   \n",
       "832932   100000   2:100000:C:T  1|0:0.144:0.462,0.846:0.759,0.197,0.044   \n",
       "1654040  100000   3:100000:G:T  1|0:0.184:0.051,0.062:0.353,0.285,0.362   \n",
       "2355176  100000   4:100000:C:G  1|0:0.363:0.021,0.732:0.172,0.233,0.595   \n",
       "3066329  100000   5:100000:C:G  0|0:0.423:0.948,0.166:0.015,0.454,0.531   \n",
       "3702775  100000   6:100000:C:A   1|1:0.17:0.174,0.625:0.935,0.006,0.059   \n",
       "4349834  100000   7:100000:A:C  1|1:0.498:0.045,0.372:0.818,0.081,0.101   \n",
       "4911808  100000   8:100000:T:C  0|1:0.757:0.785,0.161:0.778,0.207,0.015   \n",
       "5459234  100000   9:100000:A:C  0|1:0.774:0.915,0.858:0.975,0.003,0.022   \n",
       "5876401  100000  10:100000:T:A    1|1:0.235:0.982,0.52:0.729,0.11,0.161   \n",
       "6370708  100000  11:100000:A:T   0|1:0.494:0.63,0.363:0.393,0.168,0.439   \n",
       "6858100  100000  12:100000:T:C  0|0:0.124:0.582,0.742:0.968,0.017,0.015   \n",
       "7315204  100000  13:100000:T:A  0|0:0.871:0.845,0.932:0.053,0.696,0.251   \n",
       "7675107  100000  14:100000:G:A  0|0:0.765:0.804,0.514:0.484,0.258,0.258   \n",
       "7987317  100000  15:100000:T:G   1|1:0.248:0.269,0.53:0.494,0.288,0.218   \n",
       "8253819  100000  16:100000:C:T   1|1:0.094:0.184,0.641:0.56,0.178,0.262   \n",
       "8545284  100000  17:100000:T:G  1|1:0.789:0.466,0.504:0.858,0.058,0.084   \n",
       "8788352  100000  18:100000:C:T   0|0:0.488:0.486,0.865:0.355,0.36,0.285   \n",
       "9059248  100000  19:100000:G:T    1|1:0.092:0.59,0.258:0.662,0.29,0.048   \n",
       "9249465  100000  20:100000:A:G   1|0:0.035:0.564,0.668:0.925,0.065,0.01   \n",
       "9461243  100000  21:100000:A:C   0|0:0.835:0.05,0.892:0.732,0.111,0.157   \n",
       "9588773  100000  22:100000:T:A  1|1:0.542:0.438,0.166:0.957,0.016,0.027   \n",
       "\n",
       "                                           SA090  \n",
       "rowid                                             \n",
       "90000    0|1:0.322:0.518,0.689:0.519,0.382,0.099  \n",
       "832932    1|0:0.72:0.378,0.539:0.059,0.664,0.277  \n",
       "1654040  0|1:0.363:0.761,0.894:0.995,0.002,0.003  \n",
       "2355176   1|0:0.119:0.441,0.84:0.413,0.083,0.504  \n",
       "3066329    0|0:0.62:0.254,0.99:0.903,0.049,0.048  \n",
       "3702775   1|0:0.07:0.751,0.039:0.772,0.095,0.133  \n",
       "4349834  0|1:0.078:0.716,0.819:0.151,0.258,0.591  \n",
       "4911808   1|0:0.185:0.632,0.472:0.83,0.133,0.037  \n",
       "5459234  1|0:0.732:0.647,0.803:0.607,0.005,0.388  \n",
       "5876401   0|1:0.041:0.004,0.031:0.805,0.015,0.18  \n",
       "6370708   1|1:0.296:0.89,0.411:0.717,0.206,0.077  \n",
       "6858100   1|1:0.824:0.99,0.816:0.871,0.084,0.045  \n",
       "7315204   0|1:0.41:0.219,0.662:0.141,0.592,0.267  \n",
       "7675107     0|1:0.11:0.814,0.262:0.9,0.079,0.021  \n",
       "7987317   1|0:0.193:0.446,0.133:0.18,0.406,0.414  \n",
       "8253819  1|1:0.155:0.063,0.759:0.983,0.002,0.015  \n",
       "8545284   1|0:0.84:0.263,0.996:0.428,0.147,0.425  \n",
       "8788352    0|0:0.85:0.235,0.548:0.419,0.211,0.37  \n",
       "9059248  1|0:0.086:0.381,0.389:0.765,0.013,0.222  \n",
       "9249465  0|1:0.071:0.306,0.734:0.366,0.632,0.002  \n",
       "9461243   0|0:0.886:0.915,0.837:0.744,0.046,0.21  \n",
       "9588773  1|0:0.888:0.686,0.946:0.231,0.194,0.575  "
      ]
     },
     "execution_count": 9,
     "metadata": {},
     "output_type": "execute_result"
    }
   ],
   "source": [
    "duration, result = parse_vcf(chromo=None, pos=100000, columns=['ID', 'SA010', 'SA090'])\n",
    "result"
   ]
  },
  {
   "cell_type": "code",
   "execution_count": 10,
   "id": "80c34712-1b04-434c-a2fe-a396c714ac78",
   "metadata": {
    "tags": []
   },
   "outputs": [
    {
     "name": "stdout",
     "output_type": "stream",
     "text": [
      "Time to parse vcf: 0.1 s\n"
     ]
    }
   ],
   "source": [
    "print(f\"Time to parse vcf: {duration} s\")"
   ]
  },
  {
   "cell_type": "code",
   "execution_count": 14,
   "id": "e2d21279-30e8-4df9-9079-3832f29faaa7",
   "metadata": {
    "tags": []
   },
   "outputs": [
    {
     "data": {
      "text/html": [
       "<div>\n",
       "<style scoped>\n",
       "    .dataframe tbody tr th:only-of-type {\n",
       "        vertical-align: middle;\n",
       "    }\n",
       "\n",
       "    .dataframe tbody tr th {\n",
       "        vertical-align: top;\n",
       "    }\n",
       "\n",
       "    .dataframe thead th {\n",
       "        text-align: right;\n",
       "    }\n",
       "</style>\n",
       "<table border=\"1\" class=\"dataframe\">\n",
       "  <thead>\n",
       "    <tr style=\"text-align: right;\">\n",
       "      <th></th>\n",
       "      <th>ID</th>\n",
       "      <th>SA010</th>\n",
       "      <th>SA090</th>\n",
       "    </tr>\n",
       "    <tr>\n",
       "      <th>rowid</th>\n",
       "      <th></th>\n",
       "      <th></th>\n",
       "      <th></th>\n",
       "    </tr>\n",
       "  </thead>\n",
       "  <tbody>\n",
       "    <tr>\n",
       "      <th>7937317</th>\n",
       "      <td>15:50000:A:G</td>\n",
       "      <td>1|1:0.502:0.24,0.938:0.434,0.19,0.376</td>\n",
       "      <td>1|0:0.975:0.318,0.538:0.176,0.674,0.15</td>\n",
       "    </tr>\n",
       "    <tr>\n",
       "      <th>7937318</th>\n",
       "      <td>15:50001:C:T</td>\n",
       "      <td>1|1:0.214:0.732,0.514:0.236,0.158,0.606</td>\n",
       "      <td>0|0:0.732:0.979,0.842:0.1,0.066,0.834</td>\n",
       "    </tr>\n",
       "    <tr>\n",
       "      <th>7937319</th>\n",
       "      <td>15:50002:A:G</td>\n",
       "      <td>1|1:0.396:0.537,0.581:0.534,0.277,0.189</td>\n",
       "      <td>0|0:0.446:0.276,0.065:0.747,0.047,0.206</td>\n",
       "    </tr>\n",
       "    <tr>\n",
       "      <th>7937320</th>\n",
       "      <td>15:50003:A:G</td>\n",
       "      <td>0|0:0.677:0.191,0.832:0.589,0.254,0.157</td>\n",
       "      <td>0|1:0.336:0.97,0.848:0.737,0.194,0.069</td>\n",
       "    </tr>\n",
       "    <tr>\n",
       "      <th>7937321</th>\n",
       "      <td>15:50004:A:G</td>\n",
       "      <td>1|0:0.947:0.946,0.091:0.468,0.477,0.055</td>\n",
       "      <td>0|1:0.252:0.284,0.098:0.888,0.037,0.075</td>\n",
       "    </tr>\n",
       "    <tr>\n",
       "      <th>7937322</th>\n",
       "      <td>15:50005:T:G</td>\n",
       "      <td>1|0:0.055:0.06,0.958:0.846,0.102,0.052</td>\n",
       "      <td>1|0:0.344:0.956,0.419:0.204,0.495,0.301</td>\n",
       "    </tr>\n",
       "    <tr>\n",
       "      <th>7937323</th>\n",
       "      <td>15:50006:C:A</td>\n",
       "      <td>0|0:0.108:0.658,0.017:0.771,0.056,0.173</td>\n",
       "      <td>0|1:0.85:0.109,0.291:0.932,0.028,0.04</td>\n",
       "    </tr>\n",
       "    <tr>\n",
       "      <th>7937324</th>\n",
       "      <td>15:50007:T:C</td>\n",
       "      <td>1|1:0.53:0.347,0.236:0.381,0.571,0.048</td>\n",
       "      <td>1|1:0.764:0.96,0.585:0.152,0.184,0.664</td>\n",
       "    </tr>\n",
       "    <tr>\n",
       "      <th>7937325</th>\n",
       "      <td>15:50008:T:A</td>\n",
       "      <td>1|1:0.542:0.539,0.925:0.344,0.492,0.164</td>\n",
       "      <td>1|1:0.799:0.346,0.185:0.125,0.456,0.419</td>\n",
       "    </tr>\n",
       "    <tr>\n",
       "      <th>7937326</th>\n",
       "      <td>15:50009:C:T</td>\n",
       "      <td>0|1:0.699:0.793,0.185:0.085,0.404,0.511</td>\n",
       "      <td>0|1:0.741:0.316,0.701:0.717,0.029,0.254</td>\n",
       "    </tr>\n",
       "    <tr>\n",
       "      <th>7937327</th>\n",
       "      <td>15:50010:G:T</td>\n",
       "      <td>0|0:0.872:0.603,0.466:0.177,0.701,0.122</td>\n",
       "      <td>0|0:0.866:0.536,0.804:0.065,0.03,0.905</td>\n",
       "    </tr>\n",
       "  </tbody>\n",
       "</table>\n",
       "</div>"
      ],
      "text/plain": [
       "                   ID                                    SA010  \\\n",
       "rowid                                                            \n",
       "7937317  15:50000:A:G    1|1:0.502:0.24,0.938:0.434,0.19,0.376   \n",
       "7937318  15:50001:C:T  1|1:0.214:0.732,0.514:0.236,0.158,0.606   \n",
       "7937319  15:50002:A:G  1|1:0.396:0.537,0.581:0.534,0.277,0.189   \n",
       "7937320  15:50003:A:G  0|0:0.677:0.191,0.832:0.589,0.254,0.157   \n",
       "7937321  15:50004:A:G  1|0:0.947:0.946,0.091:0.468,0.477,0.055   \n",
       "7937322  15:50005:T:G   1|0:0.055:0.06,0.958:0.846,0.102,0.052   \n",
       "7937323  15:50006:C:A  0|0:0.108:0.658,0.017:0.771,0.056,0.173   \n",
       "7937324  15:50007:T:C   1|1:0.53:0.347,0.236:0.381,0.571,0.048   \n",
       "7937325  15:50008:T:A  1|1:0.542:0.539,0.925:0.344,0.492,0.164   \n",
       "7937326  15:50009:C:T  0|1:0.699:0.793,0.185:0.085,0.404,0.511   \n",
       "7937327  15:50010:G:T  0|0:0.872:0.603,0.466:0.177,0.701,0.122   \n",
       "\n",
       "                                           SA090  \n",
       "rowid                                             \n",
       "7937317   1|0:0.975:0.318,0.538:0.176,0.674,0.15  \n",
       "7937318    0|0:0.732:0.979,0.842:0.1,0.066,0.834  \n",
       "7937319  0|0:0.446:0.276,0.065:0.747,0.047,0.206  \n",
       "7937320   0|1:0.336:0.97,0.848:0.737,0.194,0.069  \n",
       "7937321  0|1:0.252:0.284,0.098:0.888,0.037,0.075  \n",
       "7937322  1|0:0.344:0.956,0.419:0.204,0.495,0.301  \n",
       "7937323    0|1:0.85:0.109,0.291:0.932,0.028,0.04  \n",
       "7937324   1|1:0.764:0.96,0.585:0.152,0.184,0.664  \n",
       "7937325  1|1:0.799:0.346,0.185:0.125,0.456,0.419  \n",
       "7937326  0|1:0.741:0.316,0.701:0.717,0.029,0.254  \n",
       "7937327   0|0:0.866:0.536,0.804:0.065,0.03,0.905  "
      ]
     },
     "execution_count": 14,
     "metadata": {},
     "output_type": "execute_result"
    }
   ],
   "source": [
    "duration, result = parse_range_vcf('chr15', 50000, 50010, ['ID', 'SA010', 'SA090'])\n",
    "result"
   ]
  },
  {
   "cell_type": "code",
   "execution_count": 15,
   "id": "aa571b93-b354-4947-aba6-757128818933",
   "metadata": {
    "tags": []
   },
   "outputs": [
    {
     "name": "stdout",
     "output_type": "stream",
     "text": [
      "Time to parse vcf: 0.08 s\n"
     ]
    }
   ],
   "source": [
    "print(f\"Time to parse vcf: {duration} s\")"
   ]
  },
  {
   "cell_type": "markdown",
   "id": "fa03a8a3-ca1d-4f0b-9796-94065dbd6865",
   "metadata": {},
   "source": [
    "## Retrieve all stored features for sample"
   ]
  },
  {
   "cell_type": "code",
   "execution_count": 73,
   "id": "75ace1c1-a8dc-4082-b428-6634002cfcd8",
   "metadata": {
    "tags": []
   },
   "outputs": [],
   "source": [
    "duration, sample = get_sample(\"vcf\", \"SA090\")"
   ]
  },
  {
   "cell_type": "code",
   "execution_count": 74,
   "id": "ae9b3075-6d2d-4449-bcf3-635e018d4f99",
   "metadata": {
    "tags": []
   },
   "outputs": [
    {
     "name": "stdout",
     "output_type": "stream",
     "text": [
      "Time to load sample with 9640953 features: 1.88 s\n"
     ]
    }
   ],
   "source": [
    "print(f\"Time to load sample with {len(sample)} features: {duration} s\")"
   ]
  },
  {
   "cell_type": "code",
   "execution_count": 75,
   "id": "27b27787-6646-4c97-a86c-7e6bd544c1ac",
   "metadata": {
    "tags": []
   },
   "outputs": [
    {
     "name": "stdout",
     "output_type": "stream",
     "text": [
      "Memory footprint of data: 876.5 MB\n"
     ]
    }
   ],
   "source": [
    "print(f\"Memory footprint of data: {memory_usage_simulated_data(pd.Series(sample))}\")"
   ]
  },
  {
   "cell_type": "markdown",
   "id": "624e767b-e653-4070-8471-6316e24dc182",
   "metadata": {},
   "source": [
    "## Retrieve stored data in parallel"
   ]
  },
  {
   "cell_type": "markdown",
   "id": "8c9dab7e-0957-46f9-a38c-cb8343e5e1b3",
   "metadata": {},
   "source": [
    "For parallel data retrieval, the database should be accessed in read-only mode"
   ]
  },
  {
   "cell_type": "code",
   "execution_count": 3,
   "id": "a966995d-5927-40a2-83f8-53c318d03821",
   "metadata": {
    "tags": []
   },
   "outputs": [],
   "source": [
    "omi = Omilayers(\"project.duckdb\", read_only=True)"
   ]
  },
  {
   "cell_type": "code",
   "execution_count": 4,
   "id": "af0227d5-8d0f-406a-9578-ec9f1a707315",
   "metadata": {
    "tags": []
   },
   "outputs": [],
   "source": [
    "def getSamples(chromo, pos):\n",
    "    result = omi.layers['vcf'].query(f\"CHROM == '{chromo}' and POS == {pos}\")[['SA096', 'SA098', 'SA099']]\n",
    "    return (chromo, pos, result.values)\n",
    "\n",
    "@timeit\n",
    "def queryInParallel(queries):\n",
    "    with multiprocessing.Pool(processes=8) as pool:\n",
    "        results = pool.starmap(getSamples, queries)\n",
    "    return results\n",
    "\n",
    "queries = []\n",
    "for i in [1,10,20]:\n",
    "    for j in range(1, 100):\n",
    "        queries.append((f\"chr{i}\", 100000+j))\n",
    "        \n",
    "duration, results = queryInParallel(queries)"
   ]
  },
  {
   "cell_type": "code",
   "execution_count": 6,
   "id": "c2f4607d-18a8-4c30-b292-a358e4696290",
   "metadata": {
    "tags": []
   },
   "outputs": [
    {
     "data": {
      "text/plain": [
       "[('chr1',\n",
       "  100001,\n",
       "  array([['0|0:0.508:0.702,0.432:0.962,0.013,0.025',\n",
       "          '1|1:0.913:0.092,0.546:0.795,0.028,0.177',\n",
       "          '1|0:0.721:0.193,0.479:0.051,0.172,0.777']], dtype=object)),\n",
       " ('chr1',\n",
       "  100002,\n",
       "  array([['1|0:0.25:0.389,0.383:0.668,0.059,0.273',\n",
       "          '0|1:0.681:0.042,0.261:0.72,0.034,0.246',\n",
       "          '0|0:0.455:0.177,0.445:0.776,0.003,0.221']], dtype=object)),\n",
       " ('chr1',\n",
       "  100003,\n",
       "  array([['0|1:0.981:0.986,0.122:0.157,0.182,0.661',\n",
       "          '1|0:0.513:0.84,0.457:0.292,0.133,0.575',\n",
       "          '1|1:0.766:0.471,0.88:0.145,0.423,0.432']], dtype=object)),\n",
       " ('chr1',\n",
       "  100004,\n",
       "  array([['0|1:0.676:0.346,0.759:0.183,0.637,0.18',\n",
       "          '1|0:0.061:0.735,0.559:0.236,0.309,0.455',\n",
       "          '1|1:0.895:0.97,0.068:0.275,0.665,0.06']], dtype=object)),\n",
       " ('chr1',\n",
       "  100005,\n",
       "  array([['1|1:0.364:0.393,0.319:0.193,0.313,0.494',\n",
       "          '0|1:0.569:0.968,0.188:0.516,0.027,0.457',\n",
       "          '0|1:0.896:0.018,0.915:0.057,0.866,0.077']], dtype=object))]"
      ]
     },
     "execution_count": 6,
     "metadata": {},
     "output_type": "execute_result"
    }
   ],
   "source": [
    "results[:5]"
   ]
  },
  {
   "cell_type": "code",
   "execution_count": 7,
   "id": "c4cc2826-4ec6-4d78-96cb-43d3d65001e4",
   "metadata": {
    "tags": []
   },
   "outputs": [
    {
     "name": "stdout",
     "output_type": "stream",
     "text": [
      "Time to parse vcf in parallel: 6.43 s\n"
     ]
    }
   ],
   "source": [
    "print(f\"Time to parse vcf in parallel: {duration} s\")"
   ]
  },
  {
   "cell_type": "markdown",
   "id": "3113789b-8b8a-4b5d-9745-35d64d9c00d3",
   "metadata": {},
   "source": [
    "# View stored omic layers"
   ]
  },
  {
   "cell_type": "code",
   "execution_count": 8,
   "id": "fba33265-34da-4484-a656-d950118f2449",
   "metadata": {
    "tags": []
   },
   "outputs": [
    {
     "data": {
      "text/plain": [
       "       name tag       shape                        info\n",
       "     cohort raw       100x4            Cohort features.\n",
       "        vcf raw 9640953x109         Cohort imputed VCF.\n",
       "blood_metas raw   37228x101 Raw blood metabolomic data.\n",
       "urine_metas raw    5661x101 Raw urine metabolomic data.\n",
       "     rnaseq raw   60605x102       Raw bulk RNASeq data.\n",
       " microbiome raw    6914x101    Raw gut microbiome data."
      ]
     },
     "execution_count": 8,
     "metadata": {},
     "output_type": "execute_result"
    }
   ],
   "source": [
    "omi.layers"
   ]
  }
 ],
 "metadata": {
  "kernelspec": {
   "display_name": "Python 3 (ipykernel)",
   "language": "python",
   "name": "python3"
  },
  "language_info": {
   "codemirror_mode": {
    "name": "ipython",
    "version": 3
   },
   "file_extension": ".py",
   "mimetype": "text/x-python",
   "name": "python",
   "nbconvert_exporter": "python",
   "pygments_lexer": "ipython3",
   "version": "3.10.13"
  }
 },
 "nbformat": 4,
 "nbformat_minor": 5
}
