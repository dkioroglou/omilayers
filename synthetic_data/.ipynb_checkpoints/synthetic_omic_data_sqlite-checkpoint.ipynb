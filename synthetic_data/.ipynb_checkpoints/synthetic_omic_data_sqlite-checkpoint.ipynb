{
 "cells": [
  {
   "cell_type": "code",
   "execution_count": 1,
   "id": "bc4dc317-9ba1-43dd-9efa-f64fbab61ede",
   "metadata": {
    "tags": []
   },
   "outputs": [],
   "source": [
    "import pandas as pd\n",
    "import multiprocessing\n",
    "import numpy as np\n",
    "import time\n",
    "from omilayers import Omilayers\n",
    "import io"
   ]
  },
  {
   "cell_type": "markdown",
   "id": "828bb6a7-89d8-40fd-b191-ddbf166d36eb",
   "metadata": {
    "tags": []
   },
   "source": [
    "# Connect to database"
   ]
  },
  {
   "cell_type": "code",
   "execution_count": 2,
   "id": "71148b6c-f982-44a2-9ad2-f1638de377f5",
   "metadata": {
    "tags": []
   },
   "outputs": [],
   "source": [
    "omi = Omilayers(\"project.sqlite\", engine='sqlite')"
   ]
  },
  {
   "cell_type": "markdown",
   "id": "bfe02075-8eff-468f-bd08-284f1eb9493e",
   "metadata": {
    "tags": []
   },
   "source": [
    "# Helper functions"
   ]
  },
  {
   "cell_type": "code",
   "execution_count": 3,
   "id": "88c9d287-5603-46ba-9756-491be1616f0c",
   "metadata": {
    "tags": []
   },
   "outputs": [],
   "source": [
    "Nsamples = 100\n",
    "sampleIDs = [\"SA\"+f\"{i}\".zfill(3) for i in range(1, Nsamples+1)]\n",
    "\n",
    "def timeit(func):\n",
    "    \"\"\"\n",
    "    Decorator that times the execution of a function.\n",
    "    \"\"\"\n",
    "    def wrapper(*args, **kwargs):\n",
    "        start_time = time.time()\n",
    "        result = func(*args, **kwargs)\n",
    "        end_time = time.time()\n",
    "        duration = np.round(end_time - start_time, 2)\n",
    "        return (duration, result)\n",
    "    \n",
    "    return wrapper\n",
    "\n",
    "@timeit\n",
    "def simulate_data(featuresName, features, minValue, maxValue, integers=False):\n",
    "    \"\"\"\n",
    "    Function for simulating data.\n",
    "    \"\"\"\n",
    "    JSON = {}\n",
    "    for feature in features:\n",
    "        if not integers:\n",
    "            JSON[feature] = np.round(np.random.uniform(minValue, maxValue, Nsamples), 4)\n",
    "        else:\n",
    "            JSON[feature] = np.random.randint(minValue, maxValue, Nsamples)\n",
    "    data = pd.DataFrame(JSON, index=sampleIDs)\n",
    "    data = data.T\n",
    "    data = data.reset_index()\n",
    "    data = data.rename(columns={\"index\":featuresName})\n",
    "    \n",
    "    return data\n",
    "\n",
    "def memory_usage_simulated_data(data):\n",
    "    \"\"\"\n",
    "    Function for estimating the memory usage of a pandas.DataFrame.\n",
    "    \"\"\"\n",
    "    output = io.StringIO()\n",
    "    data.info(memory_usage='deep', buf=output)\n",
    "    output = output.getvalue().split(\"\\n\")\n",
    "    memoryUsage = output[-2].split(\":\")[-1].strip()\n",
    "    \n",
    "    return memoryUsage\n",
    "\n",
    "@timeit\n",
    "def store_data(dataToStore, layerName, tagName, description):\n",
    "    \"\"\"\n",
    "    Function for storing omic layer data.\n",
    "    \"\"\"\n",
    "    omi.layers[layerName] = dataToStore\n",
    "    omi.layers[layerName].set_tag(tagName)\n",
    "    omi.layers[layerName].set_info(description)\n",
    "    \n",
    "    return None\n",
    "\n",
    "@timeit\n",
    "def load_layer(layerName):\n",
    "    \"\"\"\n",
    "    Function for loading stored omic layer data.\n",
    "    \"\"\"\n",
    "    layerData = omi.layers[layerName].to_df()\n",
    "    \n",
    "    return layerData\n",
    "\n",
    "@timeit\n",
    "def get_sample(layer, sample):\n",
    "    result = omi.layers[layer][sample]\n",
    "    \n",
    "    return result\n",
    "\n",
    "@timeit\n",
    "def add_sample(layer, sampleName, data):\n",
    "    omi.layers[layer][sampleName] = data\n",
    "    \n",
    "    return None\n",
    "\n"
   ]
  },
  {
   "cell_type": "markdown",
   "id": "102e139c-d134-4d7f-b788-cb62899428d0",
   "metadata": {
    "tags": []
   },
   "source": [
    "# Cohort features"
   ]
  },
  {
   "cell_type": "markdown",
   "id": "5917af56-8de1-486a-a87c-0091e600f8a1",
   "metadata": {
    "tags": []
   },
   "source": [
    "## Create synthetic data"
   ]
  },
  {
   "cell_type": "code",
   "execution_count": 4,
   "id": "844f55a2-fddc-4599-9ec0-a5d0d688b889",
   "metadata": {
    "tags": []
   },
   "outputs": [],
   "source": [
    "data = pd.DataFrame({\n",
    "    \"sample_id\": sampleIDs,\n",
    "    \"gender\": np.random.choice([\"female\", \"male\"], Nsamples),\n",
    "    \"age\": np.random.randint(20, 50, Nsamples),\n",
    "    \"bmi\": np.round(np.random.uniform(20, 40, Nsamples), 2)\n",
    "})"
   ]
  },
  {
   "cell_type": "markdown",
   "id": "04e2bac2-afef-4704-b18b-f933d45095c3",
   "metadata": {},
   "source": [
    "Get memory usage of simulated data"
   ]
  },
  {
   "cell_type": "code",
   "execution_count": 5,
   "id": "e50905cd-4c30-49ad-8887-04fb78904ba0",
   "metadata": {
    "tags": []
   },
   "outputs": [],
   "source": [
    "memoryUsage = memory_usage_simulated_data(data)"
   ]
  },
  {
   "cell_type": "code",
   "execution_count": 6,
   "id": "5f7b026b-555d-4583-94aa-07a7d5b5714c",
   "metadata": {
    "tags": []
   },
   "outputs": [
    {
     "name": "stdout",
     "output_type": "stream",
     "text": [
      "Memory usage of simulated data: 12.2 KB\n"
     ]
    }
   ],
   "source": [
    "print(f\"Memory usage of simulated data: {memoryUsage}\")"
   ]
  },
  {
   "cell_type": "markdown",
   "id": "e5f4a6b5-2507-4a0f-90ee-4a972339b05a",
   "metadata": {},
   "source": [
    "## Store synthetic data"
   ]
  },
  {
   "cell_type": "code",
   "execution_count": 7,
   "id": "050cf37d-f00a-4996-9bbb-b0b3b68099a4",
   "metadata": {
    "tags": []
   },
   "outputs": [],
   "source": [
    "duration, _ = store_data(data, \"cohort\", \"raw\", \"Cohort features.\")"
   ]
  },
  {
   "cell_type": "code",
   "execution_count": 8,
   "id": "4bd291f5-317e-4ebf-b400-dff3b445db87",
   "metadata": {
    "tags": []
   },
   "outputs": [
    {
     "name": "stdout",
     "output_type": "stream",
     "text": [
      "Time to store simulated data: 0.03 s\n"
     ]
    }
   ],
   "source": [
    "print(f\"Time to store simulated data: {duration} s\")"
   ]
  },
  {
   "cell_type": "markdown",
   "id": "6ec5bf6e-c068-44b7-9b92-ed571fb86424",
   "metadata": {},
   "source": [
    "## Retrieve stored data"
   ]
  },
  {
   "cell_type": "code",
   "execution_count": 9,
   "id": "6e9cf4f5-6ff7-468c-9d43-75b71b8bdd0b",
   "metadata": {
    "tags": []
   },
   "outputs": [],
   "source": [
    "duration, layerData = load_layer(\"cohort\")"
   ]
  },
  {
   "cell_type": "code",
   "execution_count": 10,
   "id": "ce00b107-192b-4ed4-bdbd-e108cf9a0dfb",
   "metadata": {
    "tags": []
   },
   "outputs": [
    {
     "name": "stdout",
     "output_type": "stream",
     "text": [
      "Time to load stored layer: 0.0 s\n"
     ]
    }
   ],
   "source": [
    "print(f\"Time to load stored layer: {duration} s\")"
   ]
  },
  {
   "cell_type": "code",
   "execution_count": 11,
   "id": "59285dee-1f5b-4215-a0f6-79ca7a97f2a4",
   "metadata": {
    "tags": []
   },
   "outputs": [
    {
     "data": {
      "text/html": [
       "<div>\n",
       "<style scoped>\n",
       "    .dataframe tbody tr th:only-of-type {\n",
       "        vertical-align: middle;\n",
       "    }\n",
       "\n",
       "    .dataframe tbody tr th {\n",
       "        vertical-align: top;\n",
       "    }\n",
       "\n",
       "    .dataframe thead th {\n",
       "        text-align: right;\n",
       "    }\n",
       "</style>\n",
       "<table border=\"1\" class=\"dataframe\">\n",
       "  <thead>\n",
       "    <tr style=\"text-align: right;\">\n",
       "      <th></th>\n",
       "      <th>sample_id</th>\n",
       "      <th>gender</th>\n",
       "      <th>age</th>\n",
       "      <th>bmi</th>\n",
       "    </tr>\n",
       "  </thead>\n",
       "  <tbody>\n",
       "    <tr>\n",
       "      <th>1</th>\n",
       "      <td>SA001</td>\n",
       "      <td>female</td>\n",
       "      <td>22</td>\n",
       "      <td>23.83</td>\n",
       "    </tr>\n",
       "    <tr>\n",
       "      <th>2</th>\n",
       "      <td>SA002</td>\n",
       "      <td>female</td>\n",
       "      <td>45</td>\n",
       "      <td>24.63</td>\n",
       "    </tr>\n",
       "    <tr>\n",
       "      <th>3</th>\n",
       "      <td>SA003</td>\n",
       "      <td>male</td>\n",
       "      <td>39</td>\n",
       "      <td>29.54</td>\n",
       "    </tr>\n",
       "    <tr>\n",
       "      <th>4</th>\n",
       "      <td>SA004</td>\n",
       "      <td>male</td>\n",
       "      <td>21</td>\n",
       "      <td>28.51</td>\n",
       "    </tr>\n",
       "    <tr>\n",
       "      <th>5</th>\n",
       "      <td>SA005</td>\n",
       "      <td>female</td>\n",
       "      <td>35</td>\n",
       "      <td>36.35</td>\n",
       "    </tr>\n",
       "    <tr>\n",
       "      <th>...</th>\n",
       "      <td>...</td>\n",
       "      <td>...</td>\n",
       "      <td>...</td>\n",
       "      <td>...</td>\n",
       "    </tr>\n",
       "    <tr>\n",
       "      <th>96</th>\n",
       "      <td>SA096</td>\n",
       "      <td>male</td>\n",
       "      <td>47</td>\n",
       "      <td>33.93</td>\n",
       "    </tr>\n",
       "    <tr>\n",
       "      <th>97</th>\n",
       "      <td>SA097</td>\n",
       "      <td>female</td>\n",
       "      <td>20</td>\n",
       "      <td>24.12</td>\n",
       "    </tr>\n",
       "    <tr>\n",
       "      <th>98</th>\n",
       "      <td>SA098</td>\n",
       "      <td>female</td>\n",
       "      <td>23</td>\n",
       "      <td>37.86</td>\n",
       "    </tr>\n",
       "    <tr>\n",
       "      <th>99</th>\n",
       "      <td>SA099</td>\n",
       "      <td>male</td>\n",
       "      <td>27</td>\n",
       "      <td>27.00</td>\n",
       "    </tr>\n",
       "    <tr>\n",
       "      <th>100</th>\n",
       "      <td>SA100</td>\n",
       "      <td>male</td>\n",
       "      <td>42</td>\n",
       "      <td>30.23</td>\n",
       "    </tr>\n",
       "  </tbody>\n",
       "</table>\n",
       "<p>100 rows × 4 columns</p>\n",
       "</div>"
      ],
      "text/plain": [
       "    sample_id  gender  age    bmi\n",
       "1       SA001  female   22  23.83\n",
       "2       SA002  female   45  24.63\n",
       "3       SA003    male   39  29.54\n",
       "4       SA004    male   21  28.51\n",
       "5       SA005  female   35  36.35\n",
       "..        ...     ...  ...    ...\n",
       "96      SA096    male   47  33.93\n",
       "97      SA097  female   20  24.12\n",
       "98      SA098  female   23  37.86\n",
       "99      SA099    male   27  27.00\n",
       "100     SA100    male   42  30.23\n",
       "\n",
       "[100 rows x 4 columns]"
      ]
     },
     "execution_count": 11,
     "metadata": {},
     "output_type": "execute_result"
    }
   ],
   "source": [
    "layerData"
   ]
  },
  {
   "cell_type": "markdown",
   "id": "81672de9-a3af-4393-8d9e-b6354b4f2e34",
   "metadata": {
    "tags": []
   },
   "source": [
    "# Blood metabolomic data"
   ]
  },
  {
   "cell_type": "markdown",
   "id": "34803b41-afd4-4f71-89bf-e17506c39782",
   "metadata": {},
   "source": [
    "## Create synthetic data"
   ]
  },
  {
   "cell_type": "markdown",
   "id": "09b50482-ab9a-4f08-ae2c-5899ff918b8c",
   "metadata": {
    "tags": []
   },
   "source": [
    "Load features"
   ]
  },
  {
   "cell_type": "code",
   "execution_count": 12,
   "id": "09cbf3db-2e5b-49ae-b5a1-cfa5956ebf63",
   "metadata": {
    "tags": []
   },
   "outputs": [
    {
     "name": "stdout",
     "output_type": "stream",
     "text": [
      "Number of features: 37228\n"
     ]
    }
   ],
   "source": [
    "features = pd.read_csv(\"omic_features/blood_metabolites-2024-06-25.csv\")['NAME']\n",
    "print(f\"Number of features: {len(features)}\")"
   ]
  },
  {
   "cell_type": "code",
   "execution_count": 13,
   "id": "d069b9fa-6136-48d0-901a-b1dbb86bc337",
   "metadata": {
    "tags": []
   },
   "outputs": [],
   "source": [
    "duration, data = simulate_data(\"metabolite\", features, minValue=0, maxValue=1000, integers=False)"
   ]
  },
  {
   "cell_type": "code",
   "execution_count": 14,
   "id": "827ffd8f-7b0e-464e-9826-57ae8fb9a9e6",
   "metadata": {
    "tags": []
   },
   "outputs": [
    {
     "name": "stdout",
     "output_type": "stream",
     "text": [
      "Time to create simulated data: 0.61 s\n"
     ]
    }
   ],
   "source": [
    "print(f\"Time to create simulated data: {duration} s\")"
   ]
  },
  {
   "cell_type": "markdown",
   "id": "292a856e-76d3-4c67-abf1-99b50df6ff0c",
   "metadata": {},
   "source": [
    "Get memory usage of simulated data"
   ]
  },
  {
   "cell_type": "code",
   "execution_count": 15,
   "id": "da12d1da-4bea-495d-8391-b4b1128a4b34",
   "metadata": {
    "tags": []
   },
   "outputs": [],
   "source": [
    "memoryUsage = memory_usage_simulated_data(data)"
   ]
  },
  {
   "cell_type": "code",
   "execution_count": 16,
   "id": "ada75e29-0e33-4a36-98e5-3c313e0f6892",
   "metadata": {
    "tags": []
   },
   "outputs": [
    {
     "name": "stdout",
     "output_type": "stream",
     "text": [
      "Memory usage of simulated data: 31.3 MB\n"
     ]
    }
   ],
   "source": [
    "print(f\"Memory usage of simulated data: {memoryUsage}\")"
   ]
  },
  {
   "cell_type": "markdown",
   "id": "ea02625c-c8c9-40d0-b0a0-48b781386e3e",
   "metadata": {},
   "source": [
    "## Store synthetic data"
   ]
  },
  {
   "cell_type": "code",
   "execution_count": 17,
   "id": "be2cf372-3dbd-43c4-82c1-64f18ebb1e9f",
   "metadata": {
    "tags": []
   },
   "outputs": [],
   "source": [
    "duration, _ = store_data(data, \"blood_metas\", \"raw\", \"Raw blood metabolomic data.\")"
   ]
  },
  {
   "cell_type": "code",
   "execution_count": 18,
   "id": "e8a37103-38f5-417d-af8d-b30e796a080a",
   "metadata": {
    "tags": []
   },
   "outputs": [
    {
     "name": "stdout",
     "output_type": "stream",
     "text": [
      "Time to store simulated data: 0.89 s\n"
     ]
    }
   ],
   "source": [
    "print(f\"Time to store simulated data: {duration} s\")"
   ]
  },
  {
   "cell_type": "markdown",
   "id": "6842ade5-0cb7-4447-93dd-521e8ee3f5cd",
   "metadata": {},
   "source": [
    "## Retrieve stored data"
   ]
  },
  {
   "cell_type": "code",
   "execution_count": 19,
   "id": "4b18816b-2339-4975-92fa-15e52b924ba0",
   "metadata": {
    "tags": []
   },
   "outputs": [],
   "source": [
    "duration, layerData = load_layer(\"blood_metas\")"
   ]
  },
  {
   "cell_type": "code",
   "execution_count": 20,
   "id": "ec2e6afd-dd2f-4a1b-a770-d002fa85b1b7",
   "metadata": {
    "tags": []
   },
   "outputs": [
    {
     "name": "stdout",
     "output_type": "stream",
     "text": [
      "Time to load stored layer: 1.57 s\n"
     ]
    }
   ],
   "source": [
    "print(f\"Time to load stored layer: {duration} s\")"
   ]
  },
  {
   "cell_type": "code",
   "execution_count": 21,
   "id": "9b8d77fc-9fc0-40ed-bc89-6ba54df702df",
   "metadata": {
    "tags": []
   },
   "outputs": [
    {
     "data": {
      "text/html": [
       "<div>\n",
       "<style scoped>\n",
       "    .dataframe tbody tr th:only-of-type {\n",
       "        vertical-align: middle;\n",
       "    }\n",
       "\n",
       "    .dataframe tbody tr th {\n",
       "        vertical-align: top;\n",
       "    }\n",
       "\n",
       "    .dataframe thead th {\n",
       "        text-align: right;\n",
       "    }\n",
       "</style>\n",
       "<table border=\"1\" class=\"dataframe\">\n",
       "  <thead>\n",
       "    <tr style=\"text-align: right;\">\n",
       "      <th></th>\n",
       "      <th>metabolite</th>\n",
       "      <th>SA001</th>\n",
       "      <th>SA002</th>\n",
       "      <th>SA003</th>\n",
       "      <th>SA004</th>\n",
       "      <th>SA005</th>\n",
       "      <th>SA006</th>\n",
       "      <th>SA007</th>\n",
       "      <th>SA008</th>\n",
       "      <th>SA009</th>\n",
       "      <th>...</th>\n",
       "      <th>SA091</th>\n",
       "      <th>SA092</th>\n",
       "      <th>SA093</th>\n",
       "      <th>SA094</th>\n",
       "      <th>SA095</th>\n",
       "      <th>SA096</th>\n",
       "      <th>SA097</th>\n",
       "      <th>SA098</th>\n",
       "      <th>SA099</th>\n",
       "      <th>SA100</th>\n",
       "    </tr>\n",
       "  </thead>\n",
       "  <tbody>\n",
       "    <tr>\n",
       "      <th>1</th>\n",
       "      <td>1-Methylhistidine</td>\n",
       "      <td>45.3706</td>\n",
       "      <td>478.6055</td>\n",
       "      <td>328.2729</td>\n",
       "      <td>377.1951</td>\n",
       "      <td>775.6611</td>\n",
       "      <td>232.0408</td>\n",
       "      <td>307.5129</td>\n",
       "      <td>120.0841</td>\n",
       "      <td>106.7276</td>\n",
       "      <td>...</td>\n",
       "      <td>959.9922</td>\n",
       "      <td>392.5347</td>\n",
       "      <td>276.8086</td>\n",
       "      <td>378.3022</td>\n",
       "      <td>882.3151</td>\n",
       "      <td>499.0548</td>\n",
       "      <td>326.1606</td>\n",
       "      <td>202.9317</td>\n",
       "      <td>636.0588</td>\n",
       "      <td>191.3103</td>\n",
       "    </tr>\n",
       "    <tr>\n",
       "      <th>2</th>\n",
       "      <td>1,3-Diaminopropane</td>\n",
       "      <td>225.4026</td>\n",
       "      <td>872.0941</td>\n",
       "      <td>146.7751</td>\n",
       "      <td>755.5319</td>\n",
       "      <td>732.7744</td>\n",
       "      <td>224.7002</td>\n",
       "      <td>737.7373</td>\n",
       "      <td>733.0400</td>\n",
       "      <td>410.1918</td>\n",
       "      <td>...</td>\n",
       "      <td>823.6695</td>\n",
       "      <td>982.3547</td>\n",
       "      <td>89.2593</td>\n",
       "      <td>775.2037</td>\n",
       "      <td>301.4046</td>\n",
       "      <td>342.9952</td>\n",
       "      <td>476.2215</td>\n",
       "      <td>164.1154</td>\n",
       "      <td>933.5161</td>\n",
       "      <td>382.7093</td>\n",
       "    </tr>\n",
       "    <tr>\n",
       "      <th>3</th>\n",
       "      <td>2-Ketobutyric acid</td>\n",
       "      <td>700.1429</td>\n",
       "      <td>772.7507</td>\n",
       "      <td>307.6208</td>\n",
       "      <td>134.1636</td>\n",
       "      <td>553.8676</td>\n",
       "      <td>192.4303</td>\n",
       "      <td>967.0663</td>\n",
       "      <td>820.5887</td>\n",
       "      <td>984.5681</td>\n",
       "      <td>...</td>\n",
       "      <td>132.9107</td>\n",
       "      <td>241.6282</td>\n",
       "      <td>132.8417</td>\n",
       "      <td>35.6768</td>\n",
       "      <td>953.3979</td>\n",
       "      <td>233.4450</td>\n",
       "      <td>11.9798</td>\n",
       "      <td>120.9393</td>\n",
       "      <td>365.6358</td>\n",
       "      <td>20.5123</td>\n",
       "    </tr>\n",
       "    <tr>\n",
       "      <th>4</th>\n",
       "      <td>2-Hydroxybutyric acid</td>\n",
       "      <td>102.5729</td>\n",
       "      <td>742.4443</td>\n",
       "      <td>631.6390</td>\n",
       "      <td>252.9539</td>\n",
       "      <td>695.4263</td>\n",
       "      <td>358.3840</td>\n",
       "      <td>47.3662</td>\n",
       "      <td>676.4373</td>\n",
       "      <td>835.8446</td>\n",
       "      <td>...</td>\n",
       "      <td>251.5147</td>\n",
       "      <td>126.7600</td>\n",
       "      <td>982.0232</td>\n",
       "      <td>723.5378</td>\n",
       "      <td>651.4645</td>\n",
       "      <td>370.3369</td>\n",
       "      <td>936.0268</td>\n",
       "      <td>239.9355</td>\n",
       "      <td>173.7366</td>\n",
       "      <td>712.1068</td>\n",
       "    </tr>\n",
       "    <tr>\n",
       "      <th>5</th>\n",
       "      <td>2-Methoxyestrone</td>\n",
       "      <td>119.0940</td>\n",
       "      <td>243.2109</td>\n",
       "      <td>344.9199</td>\n",
       "      <td>517.7811</td>\n",
       "      <td>423.5300</td>\n",
       "      <td>806.0178</td>\n",
       "      <td>272.3354</td>\n",
       "      <td>764.6878</td>\n",
       "      <td>628.3809</td>\n",
       "      <td>...</td>\n",
       "      <td>759.6443</td>\n",
       "      <td>813.6800</td>\n",
       "      <td>237.7346</td>\n",
       "      <td>458.7994</td>\n",
       "      <td>663.9205</td>\n",
       "      <td>523.5593</td>\n",
       "      <td>388.8600</td>\n",
       "      <td>571.5247</td>\n",
       "      <td>65.2239</td>\n",
       "      <td>61.3496</td>\n",
       "    </tr>\n",
       "    <tr>\n",
       "      <th>...</th>\n",
       "      <td>...</td>\n",
       "      <td>...</td>\n",
       "      <td>...</td>\n",
       "      <td>...</td>\n",
       "      <td>...</td>\n",
       "      <td>...</td>\n",
       "      <td>...</td>\n",
       "      <td>...</td>\n",
       "      <td>...</td>\n",
       "      <td>...</td>\n",
       "      <td>...</td>\n",
       "      <td>...</td>\n",
       "      <td>...</td>\n",
       "      <td>...</td>\n",
       "      <td>...</td>\n",
       "      <td>...</td>\n",
       "      <td>...</td>\n",
       "      <td>...</td>\n",
       "      <td>...</td>\n",
       "      <td>...</td>\n",
       "      <td>...</td>\n",
       "    </tr>\n",
       "    <tr>\n",
       "      <th>37224</th>\n",
       "      <td>Succinylserine</td>\n",
       "      <td>621.8102</td>\n",
       "      <td>822.8640</td>\n",
       "      <td>543.8633</td>\n",
       "      <td>536.7050</td>\n",
       "      <td>682.2519</td>\n",
       "      <td>526.2239</td>\n",
       "      <td>209.0388</td>\n",
       "      <td>676.9137</td>\n",
       "      <td>70.4114</td>\n",
       "      <td>...</td>\n",
       "      <td>777.6977</td>\n",
       "      <td>240.7427</td>\n",
       "      <td>516.7844</td>\n",
       "      <td>352.4962</td>\n",
       "      <td>367.6868</td>\n",
       "      <td>757.7798</td>\n",
       "      <td>729.1987</td>\n",
       "      <td>639.0870</td>\n",
       "      <td>785.3333</td>\n",
       "      <td>124.5689</td>\n",
       "    </tr>\n",
       "    <tr>\n",
       "      <th>37225</th>\n",
       "      <td>4-Hydroxylidocaine</td>\n",
       "      <td>669.6796</td>\n",
       "      <td>522.7420</td>\n",
       "      <td>276.9837</td>\n",
       "      <td>143.7012</td>\n",
       "      <td>263.2380</td>\n",
       "      <td>856.7332</td>\n",
       "      <td>817.9850</td>\n",
       "      <td>110.7852</td>\n",
       "      <td>408.0559</td>\n",
       "      <td>...</td>\n",
       "      <td>657.5754</td>\n",
       "      <td>271.2418</td>\n",
       "      <td>838.7848</td>\n",
       "      <td>458.2431</td>\n",
       "      <td>806.2078</td>\n",
       "      <td>974.7964</td>\n",
       "      <td>787.2245</td>\n",
       "      <td>46.0643</td>\n",
       "      <td>879.9023</td>\n",
       "      <td>811.1177</td>\n",
       "    </tr>\n",
       "    <tr>\n",
       "      <th>37226</th>\n",
       "      <td>Tryptophan N-glucoside</td>\n",
       "      <td>400.4810</td>\n",
       "      <td>699.4903</td>\n",
       "      <td>83.5269</td>\n",
       "      <td>228.9070</td>\n",
       "      <td>652.2775</td>\n",
       "      <td>524.0437</td>\n",
       "      <td>538.5030</td>\n",
       "      <td>803.0403</td>\n",
       "      <td>434.3476</td>\n",
       "      <td>...</td>\n",
       "      <td>381.9734</td>\n",
       "      <td>181.5014</td>\n",
       "      <td>902.7167</td>\n",
       "      <td>445.6827</td>\n",
       "      <td>942.7741</td>\n",
       "      <td>438.2394</td>\n",
       "      <td>27.1573</td>\n",
       "      <td>89.1503</td>\n",
       "      <td>317.7183</td>\n",
       "      <td>505.8846</td>\n",
       "    </tr>\n",
       "    <tr>\n",
       "      <th>37227</th>\n",
       "      <td>6-Amino-5-formamido-1,3-dimethyluracil</td>\n",
       "      <td>763.1958</td>\n",
       "      <td>434.0678</td>\n",
       "      <td>785.8578</td>\n",
       "      <td>495.8024</td>\n",
       "      <td>988.3055</td>\n",
       "      <td>975.1518</td>\n",
       "      <td>821.4391</td>\n",
       "      <td>833.9318</td>\n",
       "      <td>52.5221</td>\n",
       "      <td>...</td>\n",
       "      <td>873.8257</td>\n",
       "      <td>154.6516</td>\n",
       "      <td>618.6343</td>\n",
       "      <td>931.8189</td>\n",
       "      <td>729.1797</td>\n",
       "      <td>139.2886</td>\n",
       "      <td>246.8257</td>\n",
       "      <td>2.4672</td>\n",
       "      <td>537.3168</td>\n",
       "      <td>742.0887</td>\n",
       "    </tr>\n",
       "    <tr>\n",
       "      <th>37228</th>\n",
       "      <td>(1S,2S)-(+)-Pseudoephedrine</td>\n",
       "      <td>532.8849</td>\n",
       "      <td>135.4685</td>\n",
       "      <td>505.8672</td>\n",
       "      <td>327.7945</td>\n",
       "      <td>452.1264</td>\n",
       "      <td>212.9929</td>\n",
       "      <td>559.1310</td>\n",
       "      <td>316.7104</td>\n",
       "      <td>109.2794</td>\n",
       "      <td>...</td>\n",
       "      <td>150.7430</td>\n",
       "      <td>316.1573</td>\n",
       "      <td>651.8625</td>\n",
       "      <td>974.3545</td>\n",
       "      <td>110.5144</td>\n",
       "      <td>820.3797</td>\n",
       "      <td>344.5816</td>\n",
       "      <td>333.5045</td>\n",
       "      <td>146.7483</td>\n",
       "      <td>356.2710</td>\n",
       "    </tr>\n",
       "  </tbody>\n",
       "</table>\n",
       "<p>37228 rows × 101 columns</p>\n",
       "</div>"
      ],
      "text/plain": [
       "                                   metabolite     SA001     SA002     SA003  \\\n",
       "1                           1-Methylhistidine   45.3706  478.6055  328.2729   \n",
       "2                          1,3-Diaminopropane  225.4026  872.0941  146.7751   \n",
       "3                          2-Ketobutyric acid  700.1429  772.7507  307.6208   \n",
       "4                       2-Hydroxybutyric acid  102.5729  742.4443  631.6390   \n",
       "5                            2-Methoxyestrone  119.0940  243.2109  344.9199   \n",
       "...                                       ...       ...       ...       ...   \n",
       "37224                          Succinylserine  621.8102  822.8640  543.8633   \n",
       "37225                      4-Hydroxylidocaine  669.6796  522.7420  276.9837   \n",
       "37226                  Tryptophan N-glucoside  400.4810  699.4903   83.5269   \n",
       "37227  6-Amino-5-formamido-1,3-dimethyluracil  763.1958  434.0678  785.8578   \n",
       "37228             (1S,2S)-(+)-Pseudoephedrine  532.8849  135.4685  505.8672   \n",
       "\n",
       "          SA004     SA005     SA006     SA007     SA008     SA009  ...  \\\n",
       "1      377.1951  775.6611  232.0408  307.5129  120.0841  106.7276  ...   \n",
       "2      755.5319  732.7744  224.7002  737.7373  733.0400  410.1918  ...   \n",
       "3      134.1636  553.8676  192.4303  967.0663  820.5887  984.5681  ...   \n",
       "4      252.9539  695.4263  358.3840   47.3662  676.4373  835.8446  ...   \n",
       "5      517.7811  423.5300  806.0178  272.3354  764.6878  628.3809  ...   \n",
       "...         ...       ...       ...       ...       ...       ...  ...   \n",
       "37224  536.7050  682.2519  526.2239  209.0388  676.9137   70.4114  ...   \n",
       "37225  143.7012  263.2380  856.7332  817.9850  110.7852  408.0559  ...   \n",
       "37226  228.9070  652.2775  524.0437  538.5030  803.0403  434.3476  ...   \n",
       "37227  495.8024  988.3055  975.1518  821.4391  833.9318   52.5221  ...   \n",
       "37228  327.7945  452.1264  212.9929  559.1310  316.7104  109.2794  ...   \n",
       "\n",
       "          SA091     SA092     SA093     SA094     SA095     SA096     SA097  \\\n",
       "1      959.9922  392.5347  276.8086  378.3022  882.3151  499.0548  326.1606   \n",
       "2      823.6695  982.3547   89.2593  775.2037  301.4046  342.9952  476.2215   \n",
       "3      132.9107  241.6282  132.8417   35.6768  953.3979  233.4450   11.9798   \n",
       "4      251.5147  126.7600  982.0232  723.5378  651.4645  370.3369  936.0268   \n",
       "5      759.6443  813.6800  237.7346  458.7994  663.9205  523.5593  388.8600   \n",
       "...         ...       ...       ...       ...       ...       ...       ...   \n",
       "37224  777.6977  240.7427  516.7844  352.4962  367.6868  757.7798  729.1987   \n",
       "37225  657.5754  271.2418  838.7848  458.2431  806.2078  974.7964  787.2245   \n",
       "37226  381.9734  181.5014  902.7167  445.6827  942.7741  438.2394   27.1573   \n",
       "37227  873.8257  154.6516  618.6343  931.8189  729.1797  139.2886  246.8257   \n",
       "37228  150.7430  316.1573  651.8625  974.3545  110.5144  820.3797  344.5816   \n",
       "\n",
       "          SA098     SA099     SA100  \n",
       "1      202.9317  636.0588  191.3103  \n",
       "2      164.1154  933.5161  382.7093  \n",
       "3      120.9393  365.6358   20.5123  \n",
       "4      239.9355  173.7366  712.1068  \n",
       "5      571.5247   65.2239   61.3496  \n",
       "...         ...       ...       ...  \n",
       "37224  639.0870  785.3333  124.5689  \n",
       "37225   46.0643  879.9023  811.1177  \n",
       "37226   89.1503  317.7183  505.8846  \n",
       "37227    2.4672  537.3168  742.0887  \n",
       "37228  333.5045  146.7483  356.2710  \n",
       "\n",
       "[37228 rows x 101 columns]"
      ]
     },
     "execution_count": 21,
     "metadata": {},
     "output_type": "execute_result"
    }
   ],
   "source": [
    "layerData"
   ]
  },
  {
   "cell_type": "markdown",
   "id": "12b00dc2-6d02-408f-8629-194b94174649",
   "metadata": {
    "tags": []
   },
   "source": [
    "# Urine metabolomic data"
   ]
  },
  {
   "cell_type": "markdown",
   "id": "b2c7edb7-052a-43d3-b133-c3dbff8705c7",
   "metadata": {
    "tags": []
   },
   "source": [
    "## Create synthetic data"
   ]
  },
  {
   "cell_type": "markdown",
   "id": "5d37bb60-c7fb-49a6-a6d4-3b4195e87e13",
   "metadata": {
    "tags": []
   },
   "source": [
    "Load features"
   ]
  },
  {
   "cell_type": "code",
   "execution_count": 22,
   "id": "3f9487dd-e6fc-4cd7-b264-08193173ce99",
   "metadata": {
    "tags": []
   },
   "outputs": [
    {
     "name": "stdout",
     "output_type": "stream",
     "text": [
      "Number of features: 5661\n"
     ]
    }
   ],
   "source": [
    "features = pd.read_csv(\"omic_features/urine_metabolites-2024-06-25.csv\")['NAME']\n",
    "print(f\"Number of features: {len(features)}\")"
   ]
  },
  {
   "cell_type": "code",
   "execution_count": 23,
   "id": "e281acfa-edcd-460f-8131-0cd3baa8c9d1",
   "metadata": {
    "tags": []
   },
   "outputs": [],
   "source": [
    "duration, data = simulate_data(\"metabolite\", features, minValue=0, maxValue=1000, integers=False)"
   ]
  },
  {
   "cell_type": "code",
   "execution_count": 24,
   "id": "768bce6c-836d-4480-a62b-a2aaadf914b3",
   "metadata": {
    "tags": []
   },
   "outputs": [
    {
     "name": "stdout",
     "output_type": "stream",
     "text": [
      "Time to create simulated data: 0.09 s\n"
     ]
    }
   ],
   "source": [
    "print(f\"Time to create simulated data: {duration} s\")"
   ]
  },
  {
   "cell_type": "markdown",
   "id": "c93c9f6e-af34-4ab3-a431-c544182829cc",
   "metadata": {},
   "source": [
    "Get memory usage of simulated data"
   ]
  },
  {
   "cell_type": "code",
   "execution_count": 25,
   "id": "594f947a-a020-4cc3-b4b0-73c193516ac1",
   "metadata": {
    "tags": []
   },
   "outputs": [],
   "source": [
    "memoryUsage = memory_usage_simulated_data(data)"
   ]
  },
  {
   "cell_type": "code",
   "execution_count": 26,
   "id": "2e626fc6-f314-4d97-9b89-4382af0af336",
   "metadata": {
    "tags": []
   },
   "outputs": [
    {
     "name": "stdout",
     "output_type": "stream",
     "text": [
      "Memory usage of simulated data: 4.7 MB\n"
     ]
    }
   ],
   "source": [
    "print(f\"Memory usage of simulated data: {memoryUsage}\")"
   ]
  },
  {
   "cell_type": "markdown",
   "id": "bd4dc072-a0c9-49b5-afaa-bc3825bda99f",
   "metadata": {},
   "source": [
    "## Store synthetic data"
   ]
  },
  {
   "cell_type": "code",
   "execution_count": 27,
   "id": "b4e91ec4-8d68-4468-9746-83e6842b876b",
   "metadata": {
    "tags": []
   },
   "outputs": [],
   "source": [
    "duration, _ = store_data(data, \"urine_metas\", \"raw\", \"Raw urine metabolomic data.\")"
   ]
  },
  {
   "cell_type": "code",
   "execution_count": 28,
   "id": "f8061ebd-3fc4-4205-8cb1-3bf77e6eed28",
   "metadata": {
    "tags": []
   },
   "outputs": [
    {
     "name": "stdout",
     "output_type": "stream",
     "text": [
      "Time to store simulated data: 0.16 s\n"
     ]
    }
   ],
   "source": [
    "print(f\"Time to store simulated data: {duration} s\")"
   ]
  },
  {
   "cell_type": "markdown",
   "id": "f6c9fcaa-b8c9-4a55-bb39-ea8ba2def9e1",
   "metadata": {},
   "source": [
    "## Retrieve stored data"
   ]
  },
  {
   "cell_type": "code",
   "execution_count": 29,
   "id": "d12e072b-19c8-4e69-a55d-6052137cf20d",
   "metadata": {
    "tags": []
   },
   "outputs": [],
   "source": [
    "duration, layerData = load_layer(\"urine_metas\")"
   ]
  },
  {
   "cell_type": "code",
   "execution_count": 30,
   "id": "212c9999-ad2b-416e-8093-03331074b39b",
   "metadata": {
    "tags": []
   },
   "outputs": [
    {
     "name": "stdout",
     "output_type": "stream",
     "text": [
      "Time to load stored layer: 0.14 s\n"
     ]
    }
   ],
   "source": [
    "print(f\"Time to load stored layer: {duration} s\")"
   ]
  },
  {
   "cell_type": "code",
   "execution_count": 31,
   "id": "1bb10295-6d91-47fd-bb73-074e676e8008",
   "metadata": {
    "tags": []
   },
   "outputs": [
    {
     "data": {
      "text/html": [
       "<div>\n",
       "<style scoped>\n",
       "    .dataframe tbody tr th:only-of-type {\n",
       "        vertical-align: middle;\n",
       "    }\n",
       "\n",
       "    .dataframe tbody tr th {\n",
       "        vertical-align: top;\n",
       "    }\n",
       "\n",
       "    .dataframe thead th {\n",
       "        text-align: right;\n",
       "    }\n",
       "</style>\n",
       "<table border=\"1\" class=\"dataframe\">\n",
       "  <thead>\n",
       "    <tr style=\"text-align: right;\">\n",
       "      <th></th>\n",
       "      <th>metabolite</th>\n",
       "      <th>SA001</th>\n",
       "      <th>SA002</th>\n",
       "      <th>SA003</th>\n",
       "      <th>SA004</th>\n",
       "      <th>SA005</th>\n",
       "      <th>SA006</th>\n",
       "      <th>SA007</th>\n",
       "      <th>SA008</th>\n",
       "      <th>SA009</th>\n",
       "      <th>...</th>\n",
       "      <th>SA091</th>\n",
       "      <th>SA092</th>\n",
       "      <th>SA093</th>\n",
       "      <th>SA094</th>\n",
       "      <th>SA095</th>\n",
       "      <th>SA096</th>\n",
       "      <th>SA097</th>\n",
       "      <th>SA098</th>\n",
       "      <th>SA099</th>\n",
       "      <th>SA100</th>\n",
       "    </tr>\n",
       "  </thead>\n",
       "  <tbody>\n",
       "    <tr>\n",
       "      <th>1</th>\n",
       "      <td>1-Methylhistidine</td>\n",
       "      <td>792.3147</td>\n",
       "      <td>826.0664</td>\n",
       "      <td>120.9468</td>\n",
       "      <td>999.0884</td>\n",
       "      <td>980.6263</td>\n",
       "      <td>460.5441</td>\n",
       "      <td>685.4633</td>\n",
       "      <td>88.6773</td>\n",
       "      <td>599.5874</td>\n",
       "      <td>...</td>\n",
       "      <td>191.7147</td>\n",
       "      <td>201.6404</td>\n",
       "      <td>508.7420</td>\n",
       "      <td>306.9755</td>\n",
       "      <td>560.6245</td>\n",
       "      <td>934.2456</td>\n",
       "      <td>321.2244</td>\n",
       "      <td>759.3123</td>\n",
       "      <td>981.3626</td>\n",
       "      <td>593.3694</td>\n",
       "    </tr>\n",
       "    <tr>\n",
       "      <th>2</th>\n",
       "      <td>1,3-Diaminopropane</td>\n",
       "      <td>630.0177</td>\n",
       "      <td>926.0808</td>\n",
       "      <td>629.3713</td>\n",
       "      <td>531.3176</td>\n",
       "      <td>588.3823</td>\n",
       "      <td>960.9402</td>\n",
       "      <td>668.0743</td>\n",
       "      <td>211.6372</td>\n",
       "      <td>965.2359</td>\n",
       "      <td>...</td>\n",
       "      <td>874.0533</td>\n",
       "      <td>695.9193</td>\n",
       "      <td>747.2220</td>\n",
       "      <td>432.2935</td>\n",
       "      <td>970.6788</td>\n",
       "      <td>694.2447</td>\n",
       "      <td>67.7990</td>\n",
       "      <td>559.3346</td>\n",
       "      <td>151.4413</td>\n",
       "      <td>48.9508</td>\n",
       "    </tr>\n",
       "    <tr>\n",
       "      <th>3</th>\n",
       "      <td>2-Ketobutyric acid</td>\n",
       "      <td>6.5942</td>\n",
       "      <td>170.8984</td>\n",
       "      <td>983.4950</td>\n",
       "      <td>968.7197</td>\n",
       "      <td>693.0017</td>\n",
       "      <td>782.7152</td>\n",
       "      <td>617.6278</td>\n",
       "      <td>475.4380</td>\n",
       "      <td>565.4883</td>\n",
       "      <td>...</td>\n",
       "      <td>981.2040</td>\n",
       "      <td>360.9761</td>\n",
       "      <td>782.3894</td>\n",
       "      <td>15.0917</td>\n",
       "      <td>411.9089</td>\n",
       "      <td>500.6740</td>\n",
       "      <td>795.7136</td>\n",
       "      <td>732.8313</td>\n",
       "      <td>542.0177</td>\n",
       "      <td>879.2099</td>\n",
       "    </tr>\n",
       "    <tr>\n",
       "      <th>4</th>\n",
       "      <td>2-Hydroxybutyric acid</td>\n",
       "      <td>84.3965</td>\n",
       "      <td>548.5687</td>\n",
       "      <td>287.6209</td>\n",
       "      <td>196.6327</td>\n",
       "      <td>610.0506</td>\n",
       "      <td>881.5024</td>\n",
       "      <td>703.7766</td>\n",
       "      <td>166.0133</td>\n",
       "      <td>17.1374</td>\n",
       "      <td>...</td>\n",
       "      <td>81.2190</td>\n",
       "      <td>473.9587</td>\n",
       "      <td>576.4383</td>\n",
       "      <td>746.4798</td>\n",
       "      <td>413.0391</td>\n",
       "      <td>654.7386</td>\n",
       "      <td>229.2008</td>\n",
       "      <td>49.4307</td>\n",
       "      <td>406.0790</td>\n",
       "      <td>613.5022</td>\n",
       "    </tr>\n",
       "    <tr>\n",
       "      <th>5</th>\n",
       "      <td>2-Methoxyestrone</td>\n",
       "      <td>449.9186</td>\n",
       "      <td>597.0519</td>\n",
       "      <td>614.5517</td>\n",
       "      <td>13.4089</td>\n",
       "      <td>410.0955</td>\n",
       "      <td>370.9341</td>\n",
       "      <td>62.0765</td>\n",
       "      <td>493.6511</td>\n",
       "      <td>77.2316</td>\n",
       "      <td>...</td>\n",
       "      <td>887.4833</td>\n",
       "      <td>21.7080</td>\n",
       "      <td>617.3623</td>\n",
       "      <td>33.9727</td>\n",
       "      <td>992.0038</td>\n",
       "      <td>807.8894</td>\n",
       "      <td>539.3513</td>\n",
       "      <td>325.7954</td>\n",
       "      <td>719.8290</td>\n",
       "      <td>357.6753</td>\n",
       "    </tr>\n",
       "    <tr>\n",
       "      <th>...</th>\n",
       "      <td>...</td>\n",
       "      <td>...</td>\n",
       "      <td>...</td>\n",
       "      <td>...</td>\n",
       "      <td>...</td>\n",
       "      <td>...</td>\n",
       "      <td>...</td>\n",
       "      <td>...</td>\n",
       "      <td>...</td>\n",
       "      <td>...</td>\n",
       "      <td>...</td>\n",
       "      <td>...</td>\n",
       "      <td>...</td>\n",
       "      <td>...</td>\n",
       "      <td>...</td>\n",
       "      <td>...</td>\n",
       "      <td>...</td>\n",
       "      <td>...</td>\n",
       "      <td>...</td>\n",
       "      <td>...</td>\n",
       "      <td>...</td>\n",
       "    </tr>\n",
       "    <tr>\n",
       "      <th>5657</th>\n",
       "      <td>Succinylserine</td>\n",
       "      <td>974.5281</td>\n",
       "      <td>205.3004</td>\n",
       "      <td>968.2135</td>\n",
       "      <td>320.2487</td>\n",
       "      <td>31.4898</td>\n",
       "      <td>686.9594</td>\n",
       "      <td>123.1166</td>\n",
       "      <td>753.6679</td>\n",
       "      <td>888.5543</td>\n",
       "      <td>...</td>\n",
       "      <td>652.3773</td>\n",
       "      <td>721.6010</td>\n",
       "      <td>977.8972</td>\n",
       "      <td>935.4676</td>\n",
       "      <td>128.4339</td>\n",
       "      <td>863.8998</td>\n",
       "      <td>808.6005</td>\n",
       "      <td>106.9796</td>\n",
       "      <td>22.2139</td>\n",
       "      <td>212.7434</td>\n",
       "    </tr>\n",
       "    <tr>\n",
       "      <th>5658</th>\n",
       "      <td>4-Hydroxylidocaine</td>\n",
       "      <td>357.9649</td>\n",
       "      <td>637.6479</td>\n",
       "      <td>998.4878</td>\n",
       "      <td>62.1030</td>\n",
       "      <td>785.6727</td>\n",
       "      <td>422.4691</td>\n",
       "      <td>479.3546</td>\n",
       "      <td>29.3356</td>\n",
       "      <td>620.6457</td>\n",
       "      <td>...</td>\n",
       "      <td>828.2840</td>\n",
       "      <td>224.1049</td>\n",
       "      <td>200.1766</td>\n",
       "      <td>497.1765</td>\n",
       "      <td>86.8982</td>\n",
       "      <td>742.3863</td>\n",
       "      <td>91.6526</td>\n",
       "      <td>929.2157</td>\n",
       "      <td>654.8987</td>\n",
       "      <td>110.4697</td>\n",
       "    </tr>\n",
       "    <tr>\n",
       "      <th>5659</th>\n",
       "      <td>Tryptophan N-glucoside</td>\n",
       "      <td>242.3413</td>\n",
       "      <td>864.5070</td>\n",
       "      <td>974.4031</td>\n",
       "      <td>406.9387</td>\n",
       "      <td>350.9016</td>\n",
       "      <td>272.5244</td>\n",
       "      <td>662.1457</td>\n",
       "      <td>233.6749</td>\n",
       "      <td>853.3353</td>\n",
       "      <td>...</td>\n",
       "      <td>438.1893</td>\n",
       "      <td>790.7892</td>\n",
       "      <td>711.5321</td>\n",
       "      <td>549.6436</td>\n",
       "      <td>332.7752</td>\n",
       "      <td>657.7612</td>\n",
       "      <td>440.8769</td>\n",
       "      <td>774.4058</td>\n",
       "      <td>930.9068</td>\n",
       "      <td>80.6949</td>\n",
       "    </tr>\n",
       "    <tr>\n",
       "      <th>5660</th>\n",
       "      <td>6-Amino-5-formamido-1,3-dimethyluracil</td>\n",
       "      <td>366.2841</td>\n",
       "      <td>16.2556</td>\n",
       "      <td>186.1512</td>\n",
       "      <td>938.3840</td>\n",
       "      <td>644.4475</td>\n",
       "      <td>827.5003</td>\n",
       "      <td>56.3099</td>\n",
       "      <td>156.7200</td>\n",
       "      <td>267.7437</td>\n",
       "      <td>...</td>\n",
       "      <td>856.8287</td>\n",
       "      <td>254.3741</td>\n",
       "      <td>32.6121</td>\n",
       "      <td>360.6982</td>\n",
       "      <td>368.6537</td>\n",
       "      <td>659.7074</td>\n",
       "      <td>97.7146</td>\n",
       "      <td>170.2626</td>\n",
       "      <td>212.4574</td>\n",
       "      <td>504.3694</td>\n",
       "    </tr>\n",
       "    <tr>\n",
       "      <th>5661</th>\n",
       "      <td>(1S,2S)-(+)-Pseudoephedrine</td>\n",
       "      <td>61.4674</td>\n",
       "      <td>715.6097</td>\n",
       "      <td>41.8861</td>\n",
       "      <td>972.5446</td>\n",
       "      <td>925.9564</td>\n",
       "      <td>430.1413</td>\n",
       "      <td>450.0273</td>\n",
       "      <td>626.9491</td>\n",
       "      <td>134.9361</td>\n",
       "      <td>...</td>\n",
       "      <td>602.0068</td>\n",
       "      <td>213.2765</td>\n",
       "      <td>159.7379</td>\n",
       "      <td>146.0870</td>\n",
       "      <td>613.3426</td>\n",
       "      <td>918.6874</td>\n",
       "      <td>559.3009</td>\n",
       "      <td>720.4915</td>\n",
       "      <td>615.9777</td>\n",
       "      <td>380.3067</td>\n",
       "    </tr>\n",
       "  </tbody>\n",
       "</table>\n",
       "<p>5661 rows × 101 columns</p>\n",
       "</div>"
      ],
      "text/plain": [
       "                                  metabolite     SA001     SA002     SA003  \\\n",
       "1                          1-Methylhistidine  792.3147  826.0664  120.9468   \n",
       "2                         1,3-Diaminopropane  630.0177  926.0808  629.3713   \n",
       "3                         2-Ketobutyric acid    6.5942  170.8984  983.4950   \n",
       "4                      2-Hydroxybutyric acid   84.3965  548.5687  287.6209   \n",
       "5                           2-Methoxyestrone  449.9186  597.0519  614.5517   \n",
       "...                                      ...       ...       ...       ...   \n",
       "5657                          Succinylserine  974.5281  205.3004  968.2135   \n",
       "5658                      4-Hydroxylidocaine  357.9649  637.6479  998.4878   \n",
       "5659                  Tryptophan N-glucoside  242.3413  864.5070  974.4031   \n",
       "5660  6-Amino-5-formamido-1,3-dimethyluracil  366.2841   16.2556  186.1512   \n",
       "5661             (1S,2S)-(+)-Pseudoephedrine   61.4674  715.6097   41.8861   \n",
       "\n",
       "         SA004     SA005     SA006     SA007     SA008     SA009  ...  \\\n",
       "1     999.0884  980.6263  460.5441  685.4633   88.6773  599.5874  ...   \n",
       "2     531.3176  588.3823  960.9402  668.0743  211.6372  965.2359  ...   \n",
       "3     968.7197  693.0017  782.7152  617.6278  475.4380  565.4883  ...   \n",
       "4     196.6327  610.0506  881.5024  703.7766  166.0133   17.1374  ...   \n",
       "5      13.4089  410.0955  370.9341   62.0765  493.6511   77.2316  ...   \n",
       "...        ...       ...       ...       ...       ...       ...  ...   \n",
       "5657  320.2487   31.4898  686.9594  123.1166  753.6679  888.5543  ...   \n",
       "5658   62.1030  785.6727  422.4691  479.3546   29.3356  620.6457  ...   \n",
       "5659  406.9387  350.9016  272.5244  662.1457  233.6749  853.3353  ...   \n",
       "5660  938.3840  644.4475  827.5003   56.3099  156.7200  267.7437  ...   \n",
       "5661  972.5446  925.9564  430.1413  450.0273  626.9491  134.9361  ...   \n",
       "\n",
       "         SA091     SA092     SA093     SA094     SA095     SA096     SA097  \\\n",
       "1     191.7147  201.6404  508.7420  306.9755  560.6245  934.2456  321.2244   \n",
       "2     874.0533  695.9193  747.2220  432.2935  970.6788  694.2447   67.7990   \n",
       "3     981.2040  360.9761  782.3894   15.0917  411.9089  500.6740  795.7136   \n",
       "4      81.2190  473.9587  576.4383  746.4798  413.0391  654.7386  229.2008   \n",
       "5     887.4833   21.7080  617.3623   33.9727  992.0038  807.8894  539.3513   \n",
       "...        ...       ...       ...       ...       ...       ...       ...   \n",
       "5657  652.3773  721.6010  977.8972  935.4676  128.4339  863.8998  808.6005   \n",
       "5658  828.2840  224.1049  200.1766  497.1765   86.8982  742.3863   91.6526   \n",
       "5659  438.1893  790.7892  711.5321  549.6436  332.7752  657.7612  440.8769   \n",
       "5660  856.8287  254.3741   32.6121  360.6982  368.6537  659.7074   97.7146   \n",
       "5661  602.0068  213.2765  159.7379  146.0870  613.3426  918.6874  559.3009   \n",
       "\n",
       "         SA098     SA099     SA100  \n",
       "1     759.3123  981.3626  593.3694  \n",
       "2     559.3346  151.4413   48.9508  \n",
       "3     732.8313  542.0177  879.2099  \n",
       "4      49.4307  406.0790  613.5022  \n",
       "5     325.7954  719.8290  357.6753  \n",
       "...        ...       ...       ...  \n",
       "5657  106.9796   22.2139  212.7434  \n",
       "5658  929.2157  654.8987  110.4697  \n",
       "5659  774.4058  930.9068   80.6949  \n",
       "5660  170.2626  212.4574  504.3694  \n",
       "5661  720.4915  615.9777  380.3067  \n",
       "\n",
       "[5661 rows x 101 columns]"
      ]
     },
     "execution_count": 31,
     "metadata": {},
     "output_type": "execute_result"
    }
   ],
   "source": [
    "layerData"
   ]
  },
  {
   "cell_type": "markdown",
   "id": "9ca37708-0d61-4fdc-b267-0c789b133db7",
   "metadata": {
    "tags": []
   },
   "source": [
    "# Bulk RNASeq data"
   ]
  },
  {
   "cell_type": "markdown",
   "id": "f53a141e-46a3-41b2-9c2c-37c0127877c5",
   "metadata": {
    "tags": []
   },
   "source": [
    "## Create synthetic data"
   ]
  },
  {
   "cell_type": "markdown",
   "id": "3aba79cf-3415-4aa3-ad8b-5423524b7a9e",
   "metadata": {
    "tags": []
   },
   "source": [
    "Load features"
   ]
  },
  {
   "cell_type": "code",
   "execution_count": 32,
   "id": "242a25b2-1827-4353-a541-da1fdcaadb5c",
   "metadata": {
    "tags": []
   },
   "outputs": [
    {
     "name": "stdout",
     "output_type": "stream",
     "text": [
      "Number of features: 60649\n"
     ]
    }
   ],
   "source": [
    "features = open(\"omic_features/hg38_ensembl_ids.txt\").read().splitlines()\n",
    "print(f\"Number of features: {len(features)}\")"
   ]
  },
  {
   "cell_type": "code",
   "execution_count": 33,
   "id": "ceaac274-f3a1-4f90-9186-b541cb167d89",
   "metadata": {
    "tags": []
   },
   "outputs": [],
   "source": [
    "duration, data = simulate_data(\"gene\", features, minValue=0, maxValue=1000, integers=True)"
   ]
  },
  {
   "cell_type": "code",
   "execution_count": 34,
   "id": "de383571-2652-4685-b7a8-3c2ad5f58bcf",
   "metadata": {
    "tags": []
   },
   "outputs": [
    {
     "name": "stdout",
     "output_type": "stream",
     "text": [
      "Time to create simulated data: 0.85 s\n"
     ]
    }
   ],
   "source": [
    "print(f\"Time to create simulated data: {duration} s\")"
   ]
  },
  {
   "cell_type": "markdown",
   "id": "b28dc291-9b30-41b4-b8a2-119b39c0b898",
   "metadata": {},
   "source": [
    "Get memory usage of simulated data"
   ]
  },
  {
   "cell_type": "code",
   "execution_count": 35,
   "id": "d67a56ab-e7c3-4f02-ad45-2a80eb708701",
   "metadata": {
    "tags": []
   },
   "outputs": [],
   "source": [
    "memoryUsage = memory_usage_simulated_data(data)"
   ]
  },
  {
   "cell_type": "code",
   "execution_count": 36,
   "id": "dd9e4e55-dd56-483d-877d-6d564e0d099b",
   "metadata": {
    "tags": []
   },
   "outputs": [
    {
     "name": "stdout",
     "output_type": "stream",
     "text": [
      "Memory usage of simulated data: 49.9 MB\n"
     ]
    }
   ],
   "source": [
    "print(f\"Memory usage of simulated data: {memoryUsage}\")"
   ]
  },
  {
   "cell_type": "markdown",
   "id": "47415e16-f205-4d6d-b3fa-42bdc9d805de",
   "metadata": {},
   "source": [
    "## Store synthetic data"
   ]
  },
  {
   "cell_type": "code",
   "execution_count": 37,
   "id": "8202dd36-6cda-4c44-ba21-f2f0a90118db",
   "metadata": {
    "tags": []
   },
   "outputs": [],
   "source": [
    "duration, _ = store_data(data, \"rnaseq\", \"raw\", \"Raw bulk RNASeq data.\")"
   ]
  },
  {
   "cell_type": "code",
   "execution_count": 38,
   "id": "f851d3e5-8318-4f73-abb6-e28ebdfab1a3",
   "metadata": {
    "tags": []
   },
   "outputs": [
    {
     "name": "stdout",
     "output_type": "stream",
     "text": [
      "Time to store simulated data: 1.23 s\n"
     ]
    }
   ],
   "source": [
    "print(f\"Time to store simulated data: {duration} s\")"
   ]
  },
  {
   "cell_type": "markdown",
   "id": "eed8241c-2490-4e0f-895f-3175b4d0107a",
   "metadata": {},
   "source": [
    "## Retrieve stored data"
   ]
  },
  {
   "cell_type": "code",
   "execution_count": 39,
   "id": "a17ac281-c41b-4c5e-bb38-369bf05b9c52",
   "metadata": {
    "tags": []
   },
   "outputs": [],
   "source": [
    "duration, layerData = load_layer(\"rnaseq\")"
   ]
  },
  {
   "cell_type": "code",
   "execution_count": 40,
   "id": "d197da3a-6ecc-4029-88e8-9f8bffa196be",
   "metadata": {
    "tags": []
   },
   "outputs": [
    {
     "name": "stdout",
     "output_type": "stream",
     "text": [
      "Time to load stored layer: 3.27 s\n"
     ]
    }
   ],
   "source": [
    "print(f\"Time to load stored layer: {duration} s\")"
   ]
  },
  {
   "cell_type": "code",
   "execution_count": 41,
   "id": "84e095a3-9e77-469e-b7bd-752bdec6cde5",
   "metadata": {
    "tags": []
   },
   "outputs": [
    {
     "data": {
      "text/html": [
       "<div>\n",
       "<style scoped>\n",
       "    .dataframe tbody tr th:only-of-type {\n",
       "        vertical-align: middle;\n",
       "    }\n",
       "\n",
       "    .dataframe tbody tr th {\n",
       "        vertical-align: top;\n",
       "    }\n",
       "\n",
       "    .dataframe thead th {\n",
       "        text-align: right;\n",
       "    }\n",
       "</style>\n",
       "<table border=\"1\" class=\"dataframe\">\n",
       "  <thead>\n",
       "    <tr style=\"text-align: right;\">\n",
       "      <th></th>\n",
       "      <th>gene</th>\n",
       "      <th>SA001</th>\n",
       "      <th>SA002</th>\n",
       "      <th>SA003</th>\n",
       "      <th>SA004</th>\n",
       "      <th>SA005</th>\n",
       "      <th>SA006</th>\n",
       "      <th>SA007</th>\n",
       "      <th>SA008</th>\n",
       "      <th>SA009</th>\n",
       "      <th>...</th>\n",
       "      <th>SA091</th>\n",
       "      <th>SA092</th>\n",
       "      <th>SA093</th>\n",
       "      <th>SA094</th>\n",
       "      <th>SA095</th>\n",
       "      <th>SA096</th>\n",
       "      <th>SA097</th>\n",
       "      <th>SA098</th>\n",
       "      <th>SA099</th>\n",
       "      <th>SA100</th>\n",
       "    </tr>\n",
       "  </thead>\n",
       "  <tbody>\n",
       "    <tr>\n",
       "      <th>1</th>\n",
       "      <td>ENSG00000223972</td>\n",
       "      <td>392</td>\n",
       "      <td>263</td>\n",
       "      <td>859</td>\n",
       "      <td>549</td>\n",
       "      <td>296</td>\n",
       "      <td>762</td>\n",
       "      <td>741</td>\n",
       "      <td>103</td>\n",
       "      <td>573</td>\n",
       "      <td>...</td>\n",
       "      <td>274</td>\n",
       "      <td>628</td>\n",
       "      <td>68</td>\n",
       "      <td>592</td>\n",
       "      <td>419</td>\n",
       "      <td>932</td>\n",
       "      <td>155</td>\n",
       "      <td>983</td>\n",
       "      <td>133</td>\n",
       "      <td>343</td>\n",
       "    </tr>\n",
       "    <tr>\n",
       "      <th>2</th>\n",
       "      <td>ENSG00000227232</td>\n",
       "      <td>480</td>\n",
       "      <td>550</td>\n",
       "      <td>134</td>\n",
       "      <td>849</td>\n",
       "      <td>225</td>\n",
       "      <td>448</td>\n",
       "      <td>259</td>\n",
       "      <td>671</td>\n",
       "      <td>746</td>\n",
       "      <td>...</td>\n",
       "      <td>873</td>\n",
       "      <td>515</td>\n",
       "      <td>513</td>\n",
       "      <td>451</td>\n",
       "      <td>165</td>\n",
       "      <td>891</td>\n",
       "      <td>580</td>\n",
       "      <td>730</td>\n",
       "      <td>83</td>\n",
       "      <td>383</td>\n",
       "    </tr>\n",
       "    <tr>\n",
       "      <th>3</th>\n",
       "      <td>ENSG00000278267</td>\n",
       "      <td>239</td>\n",
       "      <td>178</td>\n",
       "      <td>279</td>\n",
       "      <td>712</td>\n",
       "      <td>526</td>\n",
       "      <td>325</td>\n",
       "      <td>966</td>\n",
       "      <td>326</td>\n",
       "      <td>87</td>\n",
       "      <td>...</td>\n",
       "      <td>465</td>\n",
       "      <td>679</td>\n",
       "      <td>730</td>\n",
       "      <td>695</td>\n",
       "      <td>182</td>\n",
       "      <td>748</td>\n",
       "      <td>983</td>\n",
       "      <td>396</td>\n",
       "      <td>409</td>\n",
       "      <td>948</td>\n",
       "    </tr>\n",
       "    <tr>\n",
       "      <th>4</th>\n",
       "      <td>ENSG00000243485</td>\n",
       "      <td>727</td>\n",
       "      <td>517</td>\n",
       "      <td>267</td>\n",
       "      <td>877</td>\n",
       "      <td>432</td>\n",
       "      <td>613</td>\n",
       "      <td>743</td>\n",
       "      <td>5</td>\n",
       "      <td>917</td>\n",
       "      <td>...</td>\n",
       "      <td>839</td>\n",
       "      <td>847</td>\n",
       "      <td>527</td>\n",
       "      <td>821</td>\n",
       "      <td>119</td>\n",
       "      <td>999</td>\n",
       "      <td>792</td>\n",
       "      <td>584</td>\n",
       "      <td>314</td>\n",
       "      <td>947</td>\n",
       "    </tr>\n",
       "    <tr>\n",
       "      <th>5</th>\n",
       "      <td>ENSG00000284332</td>\n",
       "      <td>846</td>\n",
       "      <td>586</td>\n",
       "      <td>666</td>\n",
       "      <td>773</td>\n",
       "      <td>123</td>\n",
       "      <td>74</td>\n",
       "      <td>613</td>\n",
       "      <td>944</td>\n",
       "      <td>485</td>\n",
       "      <td>...</td>\n",
       "      <td>527</td>\n",
       "      <td>62</td>\n",
       "      <td>626</td>\n",
       "      <td>240</td>\n",
       "      <td>597</td>\n",
       "      <td>723</td>\n",
       "      <td>375</td>\n",
       "      <td>847</td>\n",
       "      <td>300</td>\n",
       "      <td>154</td>\n",
       "    </tr>\n",
       "    <tr>\n",
       "      <th>...</th>\n",
       "      <td>...</td>\n",
       "      <td>...</td>\n",
       "      <td>...</td>\n",
       "      <td>...</td>\n",
       "      <td>...</td>\n",
       "      <td>...</td>\n",
       "      <td>...</td>\n",
       "      <td>...</td>\n",
       "      <td>...</td>\n",
       "      <td>...</td>\n",
       "      <td>...</td>\n",
       "      <td>...</td>\n",
       "      <td>...</td>\n",
       "      <td>...</td>\n",
       "      <td>...</td>\n",
       "      <td>...</td>\n",
       "      <td>...</td>\n",
       "      <td>...</td>\n",
       "      <td>...</td>\n",
       "      <td>...</td>\n",
       "      <td>...</td>\n",
       "    </tr>\n",
       "    <tr>\n",
       "      <th>60601</th>\n",
       "      <td>ENSG00000198695</td>\n",
       "      <td>822</td>\n",
       "      <td>850</td>\n",
       "      <td>746</td>\n",
       "      <td>602</td>\n",
       "      <td>234</td>\n",
       "      <td>265</td>\n",
       "      <td>840</td>\n",
       "      <td>432</td>\n",
       "      <td>372</td>\n",
       "      <td>...</td>\n",
       "      <td>449</td>\n",
       "      <td>697</td>\n",
       "      <td>412</td>\n",
       "      <td>106</td>\n",
       "      <td>344</td>\n",
       "      <td>176</td>\n",
       "      <td>202</td>\n",
       "      <td>640</td>\n",
       "      <td>826</td>\n",
       "      <td>953</td>\n",
       "    </tr>\n",
       "    <tr>\n",
       "      <th>60602</th>\n",
       "      <td>ENSG00000210194</td>\n",
       "      <td>32</td>\n",
       "      <td>899</td>\n",
       "      <td>10</td>\n",
       "      <td>399</td>\n",
       "      <td>64</td>\n",
       "      <td>339</td>\n",
       "      <td>108</td>\n",
       "      <td>759</td>\n",
       "      <td>801</td>\n",
       "      <td>...</td>\n",
       "      <td>569</td>\n",
       "      <td>17</td>\n",
       "      <td>266</td>\n",
       "      <td>567</td>\n",
       "      <td>833</td>\n",
       "      <td>327</td>\n",
       "      <td>764</td>\n",
       "      <td>579</td>\n",
       "      <td>119</td>\n",
       "      <td>167</td>\n",
       "    </tr>\n",
       "    <tr>\n",
       "      <th>60603</th>\n",
       "      <td>ENSG00000198727</td>\n",
       "      <td>217</td>\n",
       "      <td>168</td>\n",
       "      <td>389</td>\n",
       "      <td>997</td>\n",
       "      <td>137</td>\n",
       "      <td>892</td>\n",
       "      <td>294</td>\n",
       "      <td>775</td>\n",
       "      <td>805</td>\n",
       "      <td>...</td>\n",
       "      <td>391</td>\n",
       "      <td>714</td>\n",
       "      <td>659</td>\n",
       "      <td>548</td>\n",
       "      <td>285</td>\n",
       "      <td>878</td>\n",
       "      <td>585</td>\n",
       "      <td>942</td>\n",
       "      <td>890</td>\n",
       "      <td>750</td>\n",
       "    </tr>\n",
       "    <tr>\n",
       "      <th>60604</th>\n",
       "      <td>ENSG00000210195</td>\n",
       "      <td>417</td>\n",
       "      <td>915</td>\n",
       "      <td>760</td>\n",
       "      <td>573</td>\n",
       "      <td>323</td>\n",
       "      <td>362</td>\n",
       "      <td>621</td>\n",
       "      <td>394</td>\n",
       "      <td>4</td>\n",
       "      <td>...</td>\n",
       "      <td>39</td>\n",
       "      <td>28</td>\n",
       "      <td>323</td>\n",
       "      <td>475</td>\n",
       "      <td>510</td>\n",
       "      <td>101</td>\n",
       "      <td>587</td>\n",
       "      <td>154</td>\n",
       "      <td>291</td>\n",
       "      <td>995</td>\n",
       "    </tr>\n",
       "    <tr>\n",
       "      <th>60605</th>\n",
       "      <td>ENSG00000210196</td>\n",
       "      <td>75</td>\n",
       "      <td>980</td>\n",
       "      <td>148</td>\n",
       "      <td>812</td>\n",
       "      <td>114</td>\n",
       "      <td>127</td>\n",
       "      <td>691</td>\n",
       "      <td>457</td>\n",
       "      <td>567</td>\n",
       "      <td>...</td>\n",
       "      <td>524</td>\n",
       "      <td>747</td>\n",
       "      <td>436</td>\n",
       "      <td>311</td>\n",
       "      <td>296</td>\n",
       "      <td>556</td>\n",
       "      <td>202</td>\n",
       "      <td>357</td>\n",
       "      <td>653</td>\n",
       "      <td>434</td>\n",
       "    </tr>\n",
       "  </tbody>\n",
       "</table>\n",
       "<p>60605 rows × 101 columns</p>\n",
       "</div>"
      ],
      "text/plain": [
       "                  gene  SA001  SA002  SA003  SA004  SA005  SA006  SA007  \\\n",
       "1      ENSG00000223972    392    263    859    549    296    762    741   \n",
       "2      ENSG00000227232    480    550    134    849    225    448    259   \n",
       "3      ENSG00000278267    239    178    279    712    526    325    966   \n",
       "4      ENSG00000243485    727    517    267    877    432    613    743   \n",
       "5      ENSG00000284332    846    586    666    773    123     74    613   \n",
       "...                ...    ...    ...    ...    ...    ...    ...    ...   \n",
       "60601  ENSG00000198695    822    850    746    602    234    265    840   \n",
       "60602  ENSG00000210194     32    899     10    399     64    339    108   \n",
       "60603  ENSG00000198727    217    168    389    997    137    892    294   \n",
       "60604  ENSG00000210195    417    915    760    573    323    362    621   \n",
       "60605  ENSG00000210196     75    980    148    812    114    127    691   \n",
       "\n",
       "       SA008  SA009  ...  SA091  SA092  SA093  SA094  SA095  SA096  SA097  \\\n",
       "1        103    573  ...    274    628     68    592    419    932    155   \n",
       "2        671    746  ...    873    515    513    451    165    891    580   \n",
       "3        326     87  ...    465    679    730    695    182    748    983   \n",
       "4          5    917  ...    839    847    527    821    119    999    792   \n",
       "5        944    485  ...    527     62    626    240    597    723    375   \n",
       "...      ...    ...  ...    ...    ...    ...    ...    ...    ...    ...   \n",
       "60601    432    372  ...    449    697    412    106    344    176    202   \n",
       "60602    759    801  ...    569     17    266    567    833    327    764   \n",
       "60603    775    805  ...    391    714    659    548    285    878    585   \n",
       "60604    394      4  ...     39     28    323    475    510    101    587   \n",
       "60605    457    567  ...    524    747    436    311    296    556    202   \n",
       "\n",
       "       SA098  SA099  SA100  \n",
       "1        983    133    343  \n",
       "2        730     83    383  \n",
       "3        396    409    948  \n",
       "4        584    314    947  \n",
       "5        847    300    154  \n",
       "...      ...    ...    ...  \n",
       "60601    640    826    953  \n",
       "60602    579    119    167  \n",
       "60603    942    890    750  \n",
       "60604    154    291    995  \n",
       "60605    357    653    434  \n",
       "\n",
       "[60605 rows x 101 columns]"
      ]
     },
     "execution_count": 41,
     "metadata": {},
     "output_type": "execute_result"
    }
   ],
   "source": [
    "layerData"
   ]
  },
  {
   "cell_type": "markdown",
   "id": "c27c3c9d-ca15-4be1-97be-056f563b1198",
   "metadata": {
    "tags": []
   },
   "source": [
    "## Retrieve all stored features for sample"
   ]
  },
  {
   "cell_type": "code",
   "execution_count": 42,
   "id": "d37fd67a-b485-41fe-9810-7710e8534064",
   "metadata": {
    "tags": []
   },
   "outputs": [],
   "source": [
    "duration, sample = get_sample(\"rnaseq\", \"SA090\")"
   ]
  },
  {
   "cell_type": "code",
   "execution_count": 43,
   "id": "9167e7d3-b049-4601-b1f5-17c7e72a8173",
   "metadata": {
    "tags": []
   },
   "outputs": [
    {
     "name": "stdout",
     "output_type": "stream",
     "text": [
      "Time to load sample with 60605 features: 0.1 s\n"
     ]
    }
   ],
   "source": [
    "print(f\"Time to load sample with {len(sample)} features: {duration} s\")"
   ]
  },
  {
   "cell_type": "code",
   "execution_count": 44,
   "id": "ad3dec45-7e41-47b2-be6e-065bbc0399ba",
   "metadata": {
    "tags": []
   },
   "outputs": [
    {
     "name": "stdout",
     "output_type": "stream",
     "text": [
      "Memory footprint of data: 473.6 KB\n"
     ]
    }
   ],
   "source": [
    "print(f\"Memory footprint of data: {memory_usage_simulated_data(pd.Series(sample))}\")"
   ]
  },
  {
   "cell_type": "markdown",
   "id": "38e72414-993e-433f-b93e-de6e3601e565",
   "metadata": {},
   "source": [
    "## Add new sample"
   ]
  },
  {
   "cell_type": "code",
   "execution_count": 45,
   "id": "6a5d1c32-2911-4d17-a558-b8346b61113a",
   "metadata": {
    "tags": []
   },
   "outputs": [],
   "source": [
    "duration, _ = add_sample(\"rnaseq\", \"SA101\", sample)"
   ]
  },
  {
   "cell_type": "code",
   "execution_count": 46,
   "id": "adafc9e3-5205-47e5-8f73-81de3524a17c",
   "metadata": {
    "tags": []
   },
   "outputs": [
    {
     "name": "stdout",
     "output_type": "stream",
     "text": [
      "Time to add new sample with 60605 features: 0.52 s\n"
     ]
    }
   ],
   "source": [
    "print(f\"Time to add new sample with {len(sample)} features: {duration} s\")"
   ]
  },
  {
   "cell_type": "markdown",
   "id": "701936b6-09fa-4102-ae76-1a25dc1d895e",
   "metadata": {
    "tags": []
   },
   "source": [
    "# Gut microbiome data"
   ]
  },
  {
   "cell_type": "markdown",
   "id": "fa1b7816-bde7-4d1d-a604-63dc78057652",
   "metadata": {
    "tags": []
   },
   "source": [
    "## Create synthetic data"
   ]
  },
  {
   "cell_type": "markdown",
   "id": "b504a890-d90c-4079-8046-688d53183a9b",
   "metadata": {
    "tags": []
   },
   "source": [
    "Load features"
   ]
  },
  {
   "cell_type": "code",
   "execution_count": 47,
   "id": "fe4c3500-e0aa-490e-b934-43c6fbc37240",
   "metadata": {
    "tags": []
   },
   "outputs": [
    {
     "name": "stdout",
     "output_type": "stream",
     "text": [
      "Number of features: 6914\n"
     ]
    }
   ],
   "source": [
    "features = open(\"omic_features/species.txt\").read().splitlines()\n",
    "print(f\"Number of features: {len(features)}\")"
   ]
  },
  {
   "cell_type": "code",
   "execution_count": 48,
   "id": "9eb438c8-2015-47fa-947a-1e34c7051ccb",
   "metadata": {
    "tags": []
   },
   "outputs": [],
   "source": [
    "duration, data = simulate_data(\"species\", features, minValue=0, maxValue=1000, integers=True)"
   ]
  },
  {
   "cell_type": "code",
   "execution_count": 49,
   "id": "277f6d4f-1855-41cf-8d91-7f825a8c0f41",
   "metadata": {
    "tags": []
   },
   "outputs": [
    {
     "name": "stdout",
     "output_type": "stream",
     "text": [
      "Time to create simulated data: 0.13 s\n"
     ]
    }
   ],
   "source": [
    "print(f\"Time to create simulated data: {duration} s\")"
   ]
  },
  {
   "cell_type": "markdown",
   "id": "7452cc72-7e61-460d-a0ad-b2a80694d38d",
   "metadata": {},
   "source": [
    "Get memory usage of simulated data"
   ]
  },
  {
   "cell_type": "code",
   "execution_count": 50,
   "id": "50d8c72e-eda2-48f0-90f6-37aba791fa52",
   "metadata": {
    "tags": []
   },
   "outputs": [],
   "source": [
    "memoryUsage = memory_usage_simulated_data(data)"
   ]
  },
  {
   "cell_type": "code",
   "execution_count": 51,
   "id": "ea0d765b-ec29-4c00-8b60-e39aa46140e8",
   "metadata": {
    "tags": []
   },
   "outputs": [
    {
     "name": "stdout",
     "output_type": "stream",
     "text": [
      "Memory usage of simulated data: 5.8 MB\n"
     ]
    }
   ],
   "source": [
    "print(f\"Memory usage of simulated data: {memoryUsage}\")"
   ]
  },
  {
   "cell_type": "markdown",
   "id": "09928645-61b7-4b29-b4ff-863d33ac0e8d",
   "metadata": {},
   "source": [
    "## Store synthetic data"
   ]
  },
  {
   "cell_type": "code",
   "execution_count": 52,
   "id": "29778372-071f-4d6a-8ab3-44d6b9dcc7af",
   "metadata": {
    "tags": []
   },
   "outputs": [],
   "source": [
    "duration, _ = store_data(data, \"microbiome\", \"raw\", \"Raw gut microbiome data.\")"
   ]
  },
  {
   "cell_type": "code",
   "execution_count": 53,
   "id": "8b1ae6c2-9768-4520-81ca-22d7e909e092",
   "metadata": {
    "tags": []
   },
   "outputs": [
    {
     "name": "stdout",
     "output_type": "stream",
     "text": [
      "Time to store simulated data: 0.19 s\n"
     ]
    }
   ],
   "source": [
    "print(f\"Time to store simulated data: {duration} s\")"
   ]
  },
  {
   "cell_type": "markdown",
   "id": "b521dc05-4b1e-4f46-a42a-bb4bdab307a7",
   "metadata": {},
   "source": [
    "## Retrieve stored data"
   ]
  },
  {
   "cell_type": "code",
   "execution_count": 54,
   "id": "5cd3c945-2859-4ae0-a290-ffbb7b676b87",
   "metadata": {
    "tags": []
   },
   "outputs": [],
   "source": [
    "duration, layerData = load_layer(\"microbiome\")"
   ]
  },
  {
   "cell_type": "code",
   "execution_count": 55,
   "id": "e32c93bc-f03e-4055-ac48-5eec65251ec9",
   "metadata": {
    "tags": []
   },
   "outputs": [
    {
     "name": "stdout",
     "output_type": "stream",
     "text": [
      "Time to load stored layer: 0.25 s\n"
     ]
    }
   ],
   "source": [
    "print(f\"Time to load stored layer: {duration} s\")"
   ]
  },
  {
   "cell_type": "code",
   "execution_count": 56,
   "id": "12fe3846-a9d5-412d-8d1c-aab37c825180",
   "metadata": {
    "tags": []
   },
   "outputs": [
    {
     "data": {
      "text/html": [
       "<div>\n",
       "<style scoped>\n",
       "    .dataframe tbody tr th:only-of-type {\n",
       "        vertical-align: middle;\n",
       "    }\n",
       "\n",
       "    .dataframe tbody tr th {\n",
       "        vertical-align: top;\n",
       "    }\n",
       "\n",
       "    .dataframe thead th {\n",
       "        text-align: right;\n",
       "    }\n",
       "</style>\n",
       "<table border=\"1\" class=\"dataframe\">\n",
       "  <thead>\n",
       "    <tr style=\"text-align: right;\">\n",
       "      <th></th>\n",
       "      <th>species</th>\n",
       "      <th>SA001</th>\n",
       "      <th>SA002</th>\n",
       "      <th>SA003</th>\n",
       "      <th>SA004</th>\n",
       "      <th>SA005</th>\n",
       "      <th>SA006</th>\n",
       "      <th>SA007</th>\n",
       "      <th>SA008</th>\n",
       "      <th>SA009</th>\n",
       "      <th>...</th>\n",
       "      <th>SA091</th>\n",
       "      <th>SA092</th>\n",
       "      <th>SA093</th>\n",
       "      <th>SA094</th>\n",
       "      <th>SA095</th>\n",
       "      <th>SA096</th>\n",
       "      <th>SA097</th>\n",
       "      <th>SA098</th>\n",
       "      <th>SA099</th>\n",
       "      <th>SA100</th>\n",
       "    </tr>\n",
       "  </thead>\n",
       "  <tbody>\n",
       "    <tr>\n",
       "      <th>1</th>\n",
       "      <td>Bacteroides uniformis</td>\n",
       "      <td>46</td>\n",
       "      <td>677</td>\n",
       "      <td>487</td>\n",
       "      <td>960</td>\n",
       "      <td>137</td>\n",
       "      <td>504</td>\n",
       "      <td>525</td>\n",
       "      <td>918</td>\n",
       "      <td>644</td>\n",
       "      <td>...</td>\n",
       "      <td>197</td>\n",
       "      <td>757</td>\n",
       "      <td>662</td>\n",
       "      <td>786</td>\n",
       "      <td>325</td>\n",
       "      <td>613</td>\n",
       "      <td>222</td>\n",
       "      <td>601</td>\n",
       "      <td>355</td>\n",
       "      <td>935</td>\n",
       "    </tr>\n",
       "    <tr>\n",
       "      <th>2</th>\n",
       "      <td>Bacteroides ovatus</td>\n",
       "      <td>464</td>\n",
       "      <td>455</td>\n",
       "      <td>929</td>\n",
       "      <td>100</td>\n",
       "      <td>363</td>\n",
       "      <td>319</td>\n",
       "      <td>332</td>\n",
       "      <td>356</td>\n",
       "      <td>925</td>\n",
       "      <td>...</td>\n",
       "      <td>243</td>\n",
       "      <td>659</td>\n",
       "      <td>984</td>\n",
       "      <td>959</td>\n",
       "      <td>773</td>\n",
       "      <td>910</td>\n",
       "      <td>727</td>\n",
       "      <td>325</td>\n",
       "      <td>918</td>\n",
       "      <td>615</td>\n",
       "    </tr>\n",
       "    <tr>\n",
       "      <th>3</th>\n",
       "      <td>Bacteroides vulgatus</td>\n",
       "      <td>412</td>\n",
       "      <td>905</td>\n",
       "      <td>213</td>\n",
       "      <td>458</td>\n",
       "      <td>372</td>\n",
       "      <td>119</td>\n",
       "      <td>476</td>\n",
       "      <td>455</td>\n",
       "      <td>335</td>\n",
       "      <td>...</td>\n",
       "      <td>629</td>\n",
       "      <td>340</td>\n",
       "      <td>491</td>\n",
       "      <td>518</td>\n",
       "      <td>310</td>\n",
       "      <td>649</td>\n",
       "      <td>123</td>\n",
       "      <td>115</td>\n",
       "      <td>428</td>\n",
       "      <td>145</td>\n",
       "    </tr>\n",
       "    <tr>\n",
       "      <th>4</th>\n",
       "      <td>Blautia obeum</td>\n",
       "      <td>209</td>\n",
       "      <td>363</td>\n",
       "      <td>903</td>\n",
       "      <td>177</td>\n",
       "      <td>250</td>\n",
       "      <td>332</td>\n",
       "      <td>883</td>\n",
       "      <td>831</td>\n",
       "      <td>187</td>\n",
       "      <td>...</td>\n",
       "      <td>172</td>\n",
       "      <td>277</td>\n",
       "      <td>718</td>\n",
       "      <td>652</td>\n",
       "      <td>611</td>\n",
       "      <td>380</td>\n",
       "      <td>736</td>\n",
       "      <td>738</td>\n",
       "      <td>942</td>\n",
       "      <td>441</td>\n",
       "    </tr>\n",
       "    <tr>\n",
       "      <th>5</th>\n",
       "      <td>[Eubacterium] rectale</td>\n",
       "      <td>246</td>\n",
       "      <td>120</td>\n",
       "      <td>751</td>\n",
       "      <td>878</td>\n",
       "      <td>558</td>\n",
       "      <td>525</td>\n",
       "      <td>84</td>\n",
       "      <td>831</td>\n",
       "      <td>929</td>\n",
       "      <td>...</td>\n",
       "      <td>417</td>\n",
       "      <td>986</td>\n",
       "      <td>521</td>\n",
       "      <td>346</td>\n",
       "      <td>580</td>\n",
       "      <td>682</td>\n",
       "      <td>909</td>\n",
       "      <td>517</td>\n",
       "      <td>387</td>\n",
       "      <td>234</td>\n",
       "    </tr>\n",
       "    <tr>\n",
       "      <th>...</th>\n",
       "      <td>...</td>\n",
       "      <td>...</td>\n",
       "      <td>...</td>\n",
       "      <td>...</td>\n",
       "      <td>...</td>\n",
       "      <td>...</td>\n",
       "      <td>...</td>\n",
       "      <td>...</td>\n",
       "      <td>...</td>\n",
       "      <td>...</td>\n",
       "      <td>...</td>\n",
       "      <td>...</td>\n",
       "      <td>...</td>\n",
       "      <td>...</td>\n",
       "      <td>...</td>\n",
       "      <td>...</td>\n",
       "      <td>...</td>\n",
       "      <td>...</td>\n",
       "      <td>...</td>\n",
       "      <td>...</td>\n",
       "      <td>...</td>\n",
       "    </tr>\n",
       "    <tr>\n",
       "      <th>6910</th>\n",
       "      <td>Rathayibacter festucae</td>\n",
       "      <td>549</td>\n",
       "      <td>517</td>\n",
       "      <td>782</td>\n",
       "      <td>363</td>\n",
       "      <td>668</td>\n",
       "      <td>540</td>\n",
       "      <td>531</td>\n",
       "      <td>105</td>\n",
       "      <td>229</td>\n",
       "      <td>...</td>\n",
       "      <td>26</td>\n",
       "      <td>119</td>\n",
       "      <td>152</td>\n",
       "      <td>6</td>\n",
       "      <td>944</td>\n",
       "      <td>745</td>\n",
       "      <td>480</td>\n",
       "      <td>911</td>\n",
       "      <td>720</td>\n",
       "      <td>231</td>\n",
       "    </tr>\n",
       "    <tr>\n",
       "      <th>6911</th>\n",
       "      <td>Thermosipho sp. DSM 6568</td>\n",
       "      <td>981</td>\n",
       "      <td>823</td>\n",
       "      <td>23</td>\n",
       "      <td>431</td>\n",
       "      <td>454</td>\n",
       "      <td>822</td>\n",
       "      <td>898</td>\n",
       "      <td>661</td>\n",
       "      <td>511</td>\n",
       "      <td>...</td>\n",
       "      <td>469</td>\n",
       "      <td>242</td>\n",
       "      <td>445</td>\n",
       "      <td>606</td>\n",
       "      <td>585</td>\n",
       "      <td>71</td>\n",
       "      <td>221</td>\n",
       "      <td>972</td>\n",
       "      <td>775</td>\n",
       "      <td>926</td>\n",
       "    </tr>\n",
       "    <tr>\n",
       "      <th>6912</th>\n",
       "      <td>Demequina globuliformis</td>\n",
       "      <td>456</td>\n",
       "      <td>327</td>\n",
       "      <td>585</td>\n",
       "      <td>934</td>\n",
       "      <td>697</td>\n",
       "      <td>817</td>\n",
       "      <td>955</td>\n",
       "      <td>903</td>\n",
       "      <td>3</td>\n",
       "      <td>...</td>\n",
       "      <td>132</td>\n",
       "      <td>103</td>\n",
       "      <td>488</td>\n",
       "      <td>348</td>\n",
       "      <td>780</td>\n",
       "      <td>116</td>\n",
       "      <td>907</td>\n",
       "      <td>932</td>\n",
       "      <td>116</td>\n",
       "      <td>861</td>\n",
       "    </tr>\n",
       "    <tr>\n",
       "      <th>6913</th>\n",
       "      <td>Streptomyces abyssalis</td>\n",
       "      <td>533</td>\n",
       "      <td>273</td>\n",
       "      <td>163</td>\n",
       "      <td>681</td>\n",
       "      <td>678</td>\n",
       "      <td>348</td>\n",
       "      <td>86</td>\n",
       "      <td>417</td>\n",
       "      <td>626</td>\n",
       "      <td>...</td>\n",
       "      <td>55</td>\n",
       "      <td>830</td>\n",
       "      <td>207</td>\n",
       "      <td>926</td>\n",
       "      <td>217</td>\n",
       "      <td>335</td>\n",
       "      <td>410</td>\n",
       "      <td>108</td>\n",
       "      <td>737</td>\n",
       "      <td>646</td>\n",
       "    </tr>\n",
       "    <tr>\n",
       "      <th>6914</th>\n",
       "      <td>Paenibacillus sp. HBUM179190</td>\n",
       "      <td>290</td>\n",
       "      <td>115</td>\n",
       "      <td>877</td>\n",
       "      <td>95</td>\n",
       "      <td>35</td>\n",
       "      <td>161</td>\n",
       "      <td>448</td>\n",
       "      <td>600</td>\n",
       "      <td>912</td>\n",
       "      <td>...</td>\n",
       "      <td>628</td>\n",
       "      <td>877</td>\n",
       "      <td>211</td>\n",
       "      <td>95</td>\n",
       "      <td>181</td>\n",
       "      <td>322</td>\n",
       "      <td>159</td>\n",
       "      <td>48</td>\n",
       "      <td>761</td>\n",
       "      <td>191</td>\n",
       "    </tr>\n",
       "  </tbody>\n",
       "</table>\n",
       "<p>6914 rows × 101 columns</p>\n",
       "</div>"
      ],
      "text/plain": [
       "                           species  SA001  SA002  SA003  SA004  SA005  SA006  \\\n",
       "1            Bacteroides uniformis     46    677    487    960    137    504   \n",
       "2               Bacteroides ovatus    464    455    929    100    363    319   \n",
       "3             Bacteroides vulgatus    412    905    213    458    372    119   \n",
       "4                    Blautia obeum    209    363    903    177    250    332   \n",
       "5            [Eubacterium] rectale    246    120    751    878    558    525   \n",
       "...                            ...    ...    ...    ...    ...    ...    ...   \n",
       "6910        Rathayibacter festucae    549    517    782    363    668    540   \n",
       "6911      Thermosipho sp. DSM 6568    981    823     23    431    454    822   \n",
       "6912       Demequina globuliformis    456    327    585    934    697    817   \n",
       "6913        Streptomyces abyssalis    533    273    163    681    678    348   \n",
       "6914  Paenibacillus sp. HBUM179190    290    115    877     95     35    161   \n",
       "\n",
       "      SA007  SA008  SA009  ...  SA091  SA092  SA093  SA094  SA095  SA096  \\\n",
       "1       525    918    644  ...    197    757    662    786    325    613   \n",
       "2       332    356    925  ...    243    659    984    959    773    910   \n",
       "3       476    455    335  ...    629    340    491    518    310    649   \n",
       "4       883    831    187  ...    172    277    718    652    611    380   \n",
       "5        84    831    929  ...    417    986    521    346    580    682   \n",
       "...     ...    ...    ...  ...    ...    ...    ...    ...    ...    ...   \n",
       "6910    531    105    229  ...     26    119    152      6    944    745   \n",
       "6911    898    661    511  ...    469    242    445    606    585     71   \n",
       "6912    955    903      3  ...    132    103    488    348    780    116   \n",
       "6913     86    417    626  ...     55    830    207    926    217    335   \n",
       "6914    448    600    912  ...    628    877    211     95    181    322   \n",
       "\n",
       "      SA097  SA098  SA099  SA100  \n",
       "1       222    601    355    935  \n",
       "2       727    325    918    615  \n",
       "3       123    115    428    145  \n",
       "4       736    738    942    441  \n",
       "5       909    517    387    234  \n",
       "...     ...    ...    ...    ...  \n",
       "6910    480    911    720    231  \n",
       "6911    221    972    775    926  \n",
       "6912    907    932    116    861  \n",
       "6913    410    108    737    646  \n",
       "6914    159     48    761    191  \n",
       "\n",
       "[6914 rows x 101 columns]"
      ]
     },
     "execution_count": 56,
     "metadata": {},
     "output_type": "execute_result"
    }
   ],
   "source": [
    "layerData"
   ]
  },
  {
   "cell_type": "markdown",
   "id": "cf4bbfb8-00d6-4e26-a656-2ebf2bcaaf11",
   "metadata": {
    "tags": []
   },
   "source": [
    "# Genomic data (VCF)"
   ]
  },
  {
   "cell_type": "markdown",
   "id": "fb4de40d-7e22-4420-bd91-74d013931394",
   "metadata": {},
   "source": [
    "## Download data"
   ]
  },
  {
   "cell_type": "markdown",
   "id": "27a0ac6f-dae8-4b2c-8c82-9d4811f59e0a",
   "metadata": {},
   "source": [
    "The synthetic VCF file is hosted on Zenodo where is can be downloaded.\n",
    "\n",
    "[![DOI](https://zenodo.org/badge/DOI/10.5281/zenodo.12790872.svg)](https://doi.org/10.5281/zenodo.12790872)"
   ]
  },
  {
   "cell_type": "markdown",
   "id": "e4989056-2da4-408a-aa21-5c07d00bfc58",
   "metadata": {},
   "source": [
    "## Store synthetic data"
   ]
  },
  {
   "cell_type": "code",
   "execution_count": 57,
   "id": "4ff24db6-1087-4b46-8e71-ef4f98eca1de",
   "metadata": {
    "tags": []
   },
   "outputs": [],
   "source": [
    "@timeit\n",
    "def store_vcf(filename):\n",
    "    omi.layers.from_csv(layer='vcf', filename=filename, sep='\\t', chunksize=100000)\n",
    "    return None\n",
    "\n",
    "duration, _ = store_vcf(\"simulated.vcf.gz\")"
   ]
  },
  {
   "cell_type": "code",
   "execution_count": 58,
   "id": "456c7fb5-6a83-4f0e-bf01-86383dec6b80",
   "metadata": {
    "tags": []
   },
   "outputs": [
    {
     "name": "stdout",
     "output_type": "stream",
     "text": [
      "Time to store simulated data: 1109.62 s\n"
     ]
    }
   ],
   "source": [
    "print(f\"Time to store simulated data: {duration} s\")"
   ]
  },
  {
   "cell_type": "markdown",
   "id": "5d204d2b-efb1-4b45-a043-e0c77513c8ae",
   "metadata": {},
   "source": [
    "Add tag and description to layer"
   ]
  },
  {
   "cell_type": "code",
   "execution_count": 59,
   "id": "01be0b1a-d0c3-4fb7-bf57-df83298c9281",
   "metadata": {
    "tags": []
   },
   "outputs": [],
   "source": [
    "omi.layers['vcf'].set_tag(\"raw\")\n",
    "omi.layers['vcf'].set_info(\"Cohort imputed VCF.\")"
   ]
  },
  {
   "cell_type": "markdown",
   "id": "f0eec250-168c-4677-adfb-ce43fda72199",
   "metadata": {},
   "source": [
    "## Retrieve all stored features for sample"
   ]
  },
  {
   "cell_type": "code",
   "execution_count": 62,
   "id": "5e610884-ec29-43f9-80ab-3b0ad1c1198d",
   "metadata": {},
   "outputs": [],
   "source": [
    "duration, sample = get_sample(\"vcf\", \"SA090\")"
   ]
  },
  {
   "cell_type": "code",
   "execution_count": 63,
   "id": "1650f9db-6c05-49df-9445-07850ebdd24f",
   "metadata": {},
   "outputs": [
    {
     "name": "stdout",
     "output_type": "stream",
     "text": [
      "Time to load sample with 9640953 features: 70.88 s\n"
     ]
    }
   ],
   "source": [
    "print(f\"Time to load sample with {len(sample)} features: {duration} s\")"
   ]
  },
  {
   "cell_type": "code",
   "execution_count": 64,
   "id": "ddf98a61-9c95-47f6-944d-8ed973c28b7f",
   "metadata": {},
   "outputs": [
    {
     "name": "stdout",
     "output_type": "stream",
     "text": [
      "Memory footprint of data: 803.0 MB\n"
     ]
    }
   ],
   "source": [
    "print(f\"Memory footprint of data: {memory_usage_simulated_data(pd.Series(sample))}\")"
   ]
  },
  {
   "cell_type": "markdown",
   "id": "2d7c1f7b-910e-4b3f-86c4-7f8f1af8d04d",
   "metadata": {},
   "source": [
    "## Add new sample"
   ]
  },
  {
   "cell_type": "code",
   "execution_count": 65,
   "id": "33c3835e-f2b4-403f-8dec-996c7247d170",
   "metadata": {
    "tags": []
   },
   "outputs": [],
   "source": [
    "duration, _ = add_sample(\"vcf\", \"SA101\", sample)"
   ]
  },
  {
   "cell_type": "code",
   "execution_count": 66,
   "id": "eaeca5be-7fd4-49dc-9fe8-30a1ec6c8473",
   "metadata": {},
   "outputs": [
    {
     "name": "stdout",
     "output_type": "stream",
     "text": [
      "Time to add new sample with 9640953 features: 316.49 s\n"
     ]
    }
   ],
   "source": [
    "print(f\"Time to add new sample with {len(sample)} features: {duration} s\")"
   ]
  },
  {
   "cell_type": "markdown",
   "id": "bb341c0f-dd69-4a79-b5fe-73354ffba237",
   "metadata": {
    "tags": []
   },
   "source": [
    "## Retrieve stored data"
   ]
  },
  {
   "cell_type": "markdown",
   "id": "dddf999f-cab6-4568-9ba3-dc2097a8de58",
   "metadata": {},
   "source": [
    "VCF includes character \"#\" infront of the 'CHROM\" column. Rename column to remove character."
   ]
  },
  {
   "cell_type": "code",
   "execution_count": 69,
   "id": "061059cc-6f49-440b-a2a6-ba55be0e4f0e",
   "metadata": {
    "tags": []
   },
   "outputs": [],
   "source": [
    "omi.layers['vcf'].rename(\"#CHROM\", 'CHROM')"
   ]
  },
  {
   "cell_type": "code",
   "execution_count": 70,
   "id": "ed6aa79a-4e4e-41d0-ace3-32ba03ceaf8b",
   "metadata": {
    "tags": []
   },
   "outputs": [],
   "source": [
    "@timeit\n",
    "def parse_vcf(chromo, pos, columns):\n",
    "    if chromo is not None:\n",
    "        result = omi.layers['vcf'].query(f\"CHROM == '{chromo}' and POS == '{pos}'\")[columns]\n",
    "    else:\n",
    "        result = omi.layers['vcf'].select(cols=columns, where='POS', values=pos)\n",
    "    return result\n",
    "\n",
    "@timeit\n",
    "def parse_range_vcf(chromo, start, end, columns):\n",
    "    result = omi.layers['vcf'].query(f\"CHROM == '{chromo}' and POS BETWEEN {start} AND {end}\")[columns]\n",
    "    return result\n",
    "    "
   ]
  },
  {
   "cell_type": "code",
   "execution_count": 71,
   "id": "c6f1f90b-1b6e-484c-a933-bf48cfda1aa2",
   "metadata": {
    "tags": []
   },
   "outputs": [
    {
     "data": {
      "text/html": [
       "<div>\n",
       "<style scoped>\n",
       "    .dataframe tbody tr th:only-of-type {\n",
       "        vertical-align: middle;\n",
       "    }\n",
       "\n",
       "    .dataframe tbody tr th {\n",
       "        vertical-align: top;\n",
       "    }\n",
       "\n",
       "    .dataframe thead th {\n",
       "        text-align: right;\n",
       "    }\n",
       "</style>\n",
       "<table border=\"1\" class=\"dataframe\">\n",
       "  <thead>\n",
       "    <tr style=\"text-align: right;\">\n",
       "      <th></th>\n",
       "      <th>ID</th>\n",
       "      <th>SA010</th>\n",
       "      <th>SA090</th>\n",
       "    </tr>\n",
       "    <tr>\n",
       "      <th>rowid</th>\n",
       "      <th></th>\n",
       "      <th></th>\n",
       "      <th></th>\n",
       "    </tr>\n",
       "  </thead>\n",
       "  <tbody>\n",
       "    <tr>\n",
       "      <th>1654041</th>\n",
       "      <td>3:100000:G:T</td>\n",
       "      <td>1|0:0.184:0.051,0.062:0.353,0.285,0.362</td>\n",
       "      <td>0|1:0.363:0.761,0.894:0.995,0.002,0.003</td>\n",
       "    </tr>\n",
       "  </tbody>\n",
       "</table>\n",
       "</div>"
      ],
      "text/plain": [
       "                   ID                                    SA010  \\\n",
       "rowid                                                            \n",
       "1654041  3:100000:G:T  1|0:0.184:0.051,0.062:0.353,0.285,0.362   \n",
       "\n",
       "                                           SA090  \n",
       "rowid                                             \n",
       "1654041  0|1:0.363:0.761,0.894:0.995,0.002,0.003  "
      ]
     },
     "execution_count": 71,
     "metadata": {},
     "output_type": "execute_result"
    }
   ],
   "source": [
    "duration, result = parse_vcf('chr3', 100000, ['ID', 'SA010', 'SA090'])\n",
    "result     "
   ]
  },
  {
   "cell_type": "code",
   "execution_count": 72,
   "id": "d01af005-8b3a-4a01-aba0-95fd6cb0caf0",
   "metadata": {
    "tags": []
   },
   "outputs": [
    {
     "name": "stdout",
     "output_type": "stream",
     "text": [
      "Time to parse vcf: 33.29 s\n"
     ]
    }
   ],
   "source": [
    "print(f\"Time to parse vcf: {duration} s\")  "
   ]
  },
  {
   "cell_type": "code",
   "execution_count": 73,
   "id": "09a05f42-6e3a-4a70-bdf6-53addd9fa0ef",
   "metadata": {
    "tags": []
   },
   "outputs": [
    {
     "data": {
      "text/html": [
       "<div>\n",
       "<style scoped>\n",
       "    .dataframe tbody tr th:only-of-type {\n",
       "        vertical-align: middle;\n",
       "    }\n",
       "\n",
       "    .dataframe tbody tr th {\n",
       "        vertical-align: top;\n",
       "    }\n",
       "\n",
       "    .dataframe thead th {\n",
       "        text-align: right;\n",
       "    }\n",
       "</style>\n",
       "<table border=\"1\" class=\"dataframe\">\n",
       "  <thead>\n",
       "    <tr style=\"text-align: right;\">\n",
       "      <th></th>\n",
       "      <th>ID</th>\n",
       "      <th>SA010</th>\n",
       "      <th>SA090</th>\n",
       "    </tr>\n",
       "    <tr>\n",
       "      <th>rowid</th>\n",
       "      <th></th>\n",
       "      <th></th>\n",
       "      <th></th>\n",
       "    </tr>\n",
       "  </thead>\n",
       "  <tbody>\n",
       "    <tr>\n",
       "      <th>9588774</th>\n",
       "      <td>22:100000:T:A</td>\n",
       "      <td>1|1:0.542:0.438,0.166:0.957,0.016,0.027</td>\n",
       "      <td>1|0:0.888:0.686,0.946:0.231,0.194,0.575</td>\n",
       "    </tr>\n",
       "  </tbody>\n",
       "</table>\n",
       "</div>"
      ],
      "text/plain": [
       "                    ID                                    SA010  \\\n",
       "rowid                                                             \n",
       "9588774  22:100000:T:A  1|1:0.542:0.438,0.166:0.957,0.016,0.027   \n",
       "\n",
       "                                           SA090  \n",
       "rowid                                             \n",
       "9588774  1|0:0.888:0.686,0.946:0.231,0.194,0.575  "
      ]
     },
     "execution_count": 73,
     "metadata": {},
     "output_type": "execute_result"
    }
   ],
   "source": [
    "duration, result = parse_vcf('chr22', 100000, ['ID', 'SA010', 'SA090'])\n",
    "result"
   ]
  },
  {
   "cell_type": "code",
   "execution_count": 74,
   "id": "34e8b93e-e629-4b97-8ac4-5cf094849db0",
   "metadata": {
    "tags": []
   },
   "outputs": [
    {
     "name": "stdout",
     "output_type": "stream",
     "text": [
      "Time to parse vcf: 33.21 s\n"
     ]
    }
   ],
   "source": [
    "print(f\"Time to parse vcf: {duration} s\")"
   ]
  },
  {
   "cell_type": "code",
   "execution_count": 75,
   "id": "e2e9922f-85df-4249-8720-fd64e2317233",
   "metadata": {
    "tags": []
   },
   "outputs": [
    {
     "data": {
      "text/html": [
       "<div>\n",
       "<style scoped>\n",
       "    .dataframe tbody tr th:only-of-type {\n",
       "        vertical-align: middle;\n",
       "    }\n",
       "\n",
       "    .dataframe tbody tr th {\n",
       "        vertical-align: top;\n",
       "    }\n",
       "\n",
       "    .dataframe thead th {\n",
       "        text-align: right;\n",
       "    }\n",
       "</style>\n",
       "<table border=\"1\" class=\"dataframe\">\n",
       "  <thead>\n",
       "    <tr style=\"text-align: right;\">\n",
       "      <th></th>\n",
       "      <th>POS</th>\n",
       "      <th>ID</th>\n",
       "      <th>SA010</th>\n",
       "      <th>SA090</th>\n",
       "    </tr>\n",
       "    <tr>\n",
       "      <th>rowid</th>\n",
       "      <th></th>\n",
       "      <th></th>\n",
       "      <th></th>\n",
       "      <th></th>\n",
       "    </tr>\n",
       "  </thead>\n",
       "  <tbody>\n",
       "    <tr>\n",
       "      <th>90001</th>\n",
       "      <td>100000</td>\n",
       "      <td>1:100000:G:A</td>\n",
       "      <td>0|1:0.641:0.88,0.203:0.934,0.052,0.014</td>\n",
       "      <td>0|1:0.322:0.518,0.689:0.519,0.382,0.099</td>\n",
       "    </tr>\n",
       "    <tr>\n",
       "      <th>832933</th>\n",
       "      <td>100000</td>\n",
       "      <td>2:100000:C:T</td>\n",
       "      <td>1|0:0.144:0.462,0.846:0.759,0.197,0.044</td>\n",
       "      <td>1|0:0.72:0.378,0.539:0.059,0.664,0.277</td>\n",
       "    </tr>\n",
       "    <tr>\n",
       "      <th>1654041</th>\n",
       "      <td>100000</td>\n",
       "      <td>3:100000:G:T</td>\n",
       "      <td>1|0:0.184:0.051,0.062:0.353,0.285,0.362</td>\n",
       "      <td>0|1:0.363:0.761,0.894:0.995,0.002,0.003</td>\n",
       "    </tr>\n",
       "    <tr>\n",
       "      <th>2355177</th>\n",
       "      <td>100000</td>\n",
       "      <td>4:100000:C:G</td>\n",
       "      <td>1|0:0.363:0.021,0.732:0.172,0.233,0.595</td>\n",
       "      <td>1|0:0.119:0.441,0.84:0.413,0.083,0.504</td>\n",
       "    </tr>\n",
       "    <tr>\n",
       "      <th>3066330</th>\n",
       "      <td>100000</td>\n",
       "      <td>5:100000:C:G</td>\n",
       "      <td>0|0:0.423:0.948,0.166:0.015,0.454,0.531</td>\n",
       "      <td>0|0:0.62:0.254,0.99:0.903,0.049,0.048</td>\n",
       "    </tr>\n",
       "    <tr>\n",
       "      <th>3702776</th>\n",
       "      <td>100000</td>\n",
       "      <td>6:100000:C:A</td>\n",
       "      <td>1|1:0.17:0.174,0.625:0.935,0.006,0.059</td>\n",
       "      <td>1|0:0.07:0.751,0.039:0.772,0.095,0.133</td>\n",
       "    </tr>\n",
       "    <tr>\n",
       "      <th>4349835</th>\n",
       "      <td>100000</td>\n",
       "      <td>7:100000:A:C</td>\n",
       "      <td>1|1:0.498:0.045,0.372:0.818,0.081,0.101</td>\n",
       "      <td>0|1:0.078:0.716,0.819:0.151,0.258,0.591</td>\n",
       "    </tr>\n",
       "    <tr>\n",
       "      <th>4911809</th>\n",
       "      <td>100000</td>\n",
       "      <td>8:100000:T:C</td>\n",
       "      <td>0|1:0.757:0.785,0.161:0.778,0.207,0.015</td>\n",
       "      <td>1|0:0.185:0.632,0.472:0.83,0.133,0.037</td>\n",
       "    </tr>\n",
       "    <tr>\n",
       "      <th>5459235</th>\n",
       "      <td>100000</td>\n",
       "      <td>9:100000:A:C</td>\n",
       "      <td>0|1:0.774:0.915,0.858:0.975,0.003,0.022</td>\n",
       "      <td>1|0:0.732:0.647,0.803:0.607,0.005,0.388</td>\n",
       "    </tr>\n",
       "    <tr>\n",
       "      <th>5876402</th>\n",
       "      <td>100000</td>\n",
       "      <td>10:100000:T:A</td>\n",
       "      <td>1|1:0.235:0.982,0.52:0.729,0.11,0.161</td>\n",
       "      <td>0|1:0.041:0.004,0.031:0.805,0.015,0.18</td>\n",
       "    </tr>\n",
       "    <tr>\n",
       "      <th>6370709</th>\n",
       "      <td>100000</td>\n",
       "      <td>11:100000:A:T</td>\n",
       "      <td>0|1:0.494:0.63,0.363:0.393,0.168,0.439</td>\n",
       "      <td>1|1:0.296:0.89,0.411:0.717,0.206,0.077</td>\n",
       "    </tr>\n",
       "    <tr>\n",
       "      <th>6858101</th>\n",
       "      <td>100000</td>\n",
       "      <td>12:100000:T:C</td>\n",
       "      <td>0|0:0.124:0.582,0.742:0.968,0.017,0.015</td>\n",
       "      <td>1|1:0.824:0.99,0.816:0.871,0.084,0.045</td>\n",
       "    </tr>\n",
       "    <tr>\n",
       "      <th>7315205</th>\n",
       "      <td>100000</td>\n",
       "      <td>13:100000:T:A</td>\n",
       "      <td>0|0:0.871:0.845,0.932:0.053,0.696,0.251</td>\n",
       "      <td>0|1:0.41:0.219,0.662:0.141,0.592,0.267</td>\n",
       "    </tr>\n",
       "    <tr>\n",
       "      <th>7675108</th>\n",
       "      <td>100000</td>\n",
       "      <td>14:100000:G:A</td>\n",
       "      <td>0|0:0.765:0.804,0.514:0.484,0.258,0.258</td>\n",
       "      <td>0|1:0.11:0.814,0.262:0.9,0.079,0.021</td>\n",
       "    </tr>\n",
       "    <tr>\n",
       "      <th>7987318</th>\n",
       "      <td>100000</td>\n",
       "      <td>15:100000:T:G</td>\n",
       "      <td>1|1:0.248:0.269,0.53:0.494,0.288,0.218</td>\n",
       "      <td>1|0:0.193:0.446,0.133:0.18,0.406,0.414</td>\n",
       "    </tr>\n",
       "    <tr>\n",
       "      <th>8253820</th>\n",
       "      <td>100000</td>\n",
       "      <td>16:100000:C:T</td>\n",
       "      <td>1|1:0.094:0.184,0.641:0.56,0.178,0.262</td>\n",
       "      <td>1|1:0.155:0.063,0.759:0.983,0.002,0.015</td>\n",
       "    </tr>\n",
       "    <tr>\n",
       "      <th>8545285</th>\n",
       "      <td>100000</td>\n",
       "      <td>17:100000:T:G</td>\n",
       "      <td>1|1:0.789:0.466,0.504:0.858,0.058,0.084</td>\n",
       "      <td>1|0:0.84:0.263,0.996:0.428,0.147,0.425</td>\n",
       "    </tr>\n",
       "    <tr>\n",
       "      <th>8788353</th>\n",
       "      <td>100000</td>\n",
       "      <td>18:100000:C:T</td>\n",
       "      <td>0|0:0.488:0.486,0.865:0.355,0.36,0.285</td>\n",
       "      <td>0|0:0.85:0.235,0.548:0.419,0.211,0.37</td>\n",
       "    </tr>\n",
       "    <tr>\n",
       "      <th>9059249</th>\n",
       "      <td>100000</td>\n",
       "      <td>19:100000:G:T</td>\n",
       "      <td>1|1:0.092:0.59,0.258:0.662,0.29,0.048</td>\n",
       "      <td>1|0:0.086:0.381,0.389:0.765,0.013,0.222</td>\n",
       "    </tr>\n",
       "    <tr>\n",
       "      <th>9249466</th>\n",
       "      <td>100000</td>\n",
       "      <td>20:100000:A:G</td>\n",
       "      <td>1|0:0.035:0.564,0.668:0.925,0.065,0.01</td>\n",
       "      <td>0|1:0.071:0.306,0.734:0.366,0.632,0.002</td>\n",
       "    </tr>\n",
       "    <tr>\n",
       "      <th>9461244</th>\n",
       "      <td>100000</td>\n",
       "      <td>21:100000:A:C</td>\n",
       "      <td>0|0:0.835:0.05,0.892:0.732,0.111,0.157</td>\n",
       "      <td>0|0:0.886:0.915,0.837:0.744,0.046,0.21</td>\n",
       "    </tr>\n",
       "    <tr>\n",
       "      <th>9588774</th>\n",
       "      <td>100000</td>\n",
       "      <td>22:100000:T:A</td>\n",
       "      <td>1|1:0.542:0.438,0.166:0.957,0.016,0.027</td>\n",
       "      <td>1|0:0.888:0.686,0.946:0.231,0.194,0.575</td>\n",
       "    </tr>\n",
       "  </tbody>\n",
       "</table>\n",
       "</div>"
      ],
      "text/plain": [
       "            POS             ID                                    SA010  \\\n",
       "rowid                                                                     \n",
       "90001    100000   1:100000:G:A   0|1:0.641:0.88,0.203:0.934,0.052,0.014   \n",
       "832933   100000   2:100000:C:T  1|0:0.144:0.462,0.846:0.759,0.197,0.044   \n",
       "1654041  100000   3:100000:G:T  1|0:0.184:0.051,0.062:0.353,0.285,0.362   \n",
       "2355177  100000   4:100000:C:G  1|0:0.363:0.021,0.732:0.172,0.233,0.595   \n",
       "3066330  100000   5:100000:C:G  0|0:0.423:0.948,0.166:0.015,0.454,0.531   \n",
       "3702776  100000   6:100000:C:A   1|1:0.17:0.174,0.625:0.935,0.006,0.059   \n",
       "4349835  100000   7:100000:A:C  1|1:0.498:0.045,0.372:0.818,0.081,0.101   \n",
       "4911809  100000   8:100000:T:C  0|1:0.757:0.785,0.161:0.778,0.207,0.015   \n",
       "5459235  100000   9:100000:A:C  0|1:0.774:0.915,0.858:0.975,0.003,0.022   \n",
       "5876402  100000  10:100000:T:A    1|1:0.235:0.982,0.52:0.729,0.11,0.161   \n",
       "6370709  100000  11:100000:A:T   0|1:0.494:0.63,0.363:0.393,0.168,0.439   \n",
       "6858101  100000  12:100000:T:C  0|0:0.124:0.582,0.742:0.968,0.017,0.015   \n",
       "7315205  100000  13:100000:T:A  0|0:0.871:0.845,0.932:0.053,0.696,0.251   \n",
       "7675108  100000  14:100000:G:A  0|0:0.765:0.804,0.514:0.484,0.258,0.258   \n",
       "7987318  100000  15:100000:T:G   1|1:0.248:0.269,0.53:0.494,0.288,0.218   \n",
       "8253820  100000  16:100000:C:T   1|1:0.094:0.184,0.641:0.56,0.178,0.262   \n",
       "8545285  100000  17:100000:T:G  1|1:0.789:0.466,0.504:0.858,0.058,0.084   \n",
       "8788353  100000  18:100000:C:T   0|0:0.488:0.486,0.865:0.355,0.36,0.285   \n",
       "9059249  100000  19:100000:G:T    1|1:0.092:0.59,0.258:0.662,0.29,0.048   \n",
       "9249466  100000  20:100000:A:G   1|0:0.035:0.564,0.668:0.925,0.065,0.01   \n",
       "9461244  100000  21:100000:A:C   0|0:0.835:0.05,0.892:0.732,0.111,0.157   \n",
       "9588774  100000  22:100000:T:A  1|1:0.542:0.438,0.166:0.957,0.016,0.027   \n",
       "\n",
       "                                           SA090  \n",
       "rowid                                             \n",
       "90001    0|1:0.322:0.518,0.689:0.519,0.382,0.099  \n",
       "832933    1|0:0.72:0.378,0.539:0.059,0.664,0.277  \n",
       "1654041  0|1:0.363:0.761,0.894:0.995,0.002,0.003  \n",
       "2355177   1|0:0.119:0.441,0.84:0.413,0.083,0.504  \n",
       "3066330    0|0:0.62:0.254,0.99:0.903,0.049,0.048  \n",
       "3702776   1|0:0.07:0.751,0.039:0.772,0.095,0.133  \n",
       "4349835  0|1:0.078:0.716,0.819:0.151,0.258,0.591  \n",
       "4911809   1|0:0.185:0.632,0.472:0.83,0.133,0.037  \n",
       "5459235  1|0:0.732:0.647,0.803:0.607,0.005,0.388  \n",
       "5876402   0|1:0.041:0.004,0.031:0.805,0.015,0.18  \n",
       "6370709   1|1:0.296:0.89,0.411:0.717,0.206,0.077  \n",
       "6858101   1|1:0.824:0.99,0.816:0.871,0.084,0.045  \n",
       "7315205   0|1:0.41:0.219,0.662:0.141,0.592,0.267  \n",
       "7675108     0|1:0.11:0.814,0.262:0.9,0.079,0.021  \n",
       "7987318   1|0:0.193:0.446,0.133:0.18,0.406,0.414  \n",
       "8253820  1|1:0.155:0.063,0.759:0.983,0.002,0.015  \n",
       "8545285   1|0:0.84:0.263,0.996:0.428,0.147,0.425  \n",
       "8788353    0|0:0.85:0.235,0.548:0.419,0.211,0.37  \n",
       "9059249  1|0:0.086:0.381,0.389:0.765,0.013,0.222  \n",
       "9249466  0|1:0.071:0.306,0.734:0.366,0.632,0.002  \n",
       "9461244   0|0:0.886:0.915,0.837:0.744,0.046,0.21  \n",
       "9588774  1|0:0.888:0.686,0.946:0.231,0.194,0.575  "
      ]
     },
     "execution_count": 75,
     "metadata": {},
     "output_type": "execute_result"
    }
   ],
   "source": [
    "duration, result = parse_vcf(chromo=None, pos=100000, columns=['ID', 'SA010', 'SA090'])\n",
    "result"
   ]
  },
  {
   "cell_type": "code",
   "execution_count": 76,
   "id": "80c34712-1b04-434c-a2fe-a396c714ac78",
   "metadata": {
    "tags": []
   },
   "outputs": [
    {
     "name": "stdout",
     "output_type": "stream",
     "text": [
      "Time to parse vcf: 33.19 s\n"
     ]
    }
   ],
   "source": [
    "print(f\"Time to parse vcf: {duration} s\")"
   ]
  },
  {
   "cell_type": "code",
   "execution_count": 77,
   "id": "e2d21279-30e8-4df9-9079-3832f29faaa7",
   "metadata": {
    "tags": []
   },
   "outputs": [
    {
     "data": {
      "text/html": [
       "<div>\n",
       "<style scoped>\n",
       "    .dataframe tbody tr th:only-of-type {\n",
       "        vertical-align: middle;\n",
       "    }\n",
       "\n",
       "    .dataframe tbody tr th {\n",
       "        vertical-align: top;\n",
       "    }\n",
       "\n",
       "    .dataframe thead th {\n",
       "        text-align: right;\n",
       "    }\n",
       "</style>\n",
       "<table border=\"1\" class=\"dataframe\">\n",
       "  <thead>\n",
       "    <tr style=\"text-align: right;\">\n",
       "      <th></th>\n",
       "      <th>ID</th>\n",
       "      <th>SA010</th>\n",
       "      <th>SA090</th>\n",
       "    </tr>\n",
       "    <tr>\n",
       "      <th>rowid</th>\n",
       "      <th></th>\n",
       "      <th></th>\n",
       "      <th></th>\n",
       "    </tr>\n",
       "  </thead>\n",
       "  <tbody>\n",
       "    <tr>\n",
       "      <th>7937318</th>\n",
       "      <td>15:50000:A:G</td>\n",
       "      <td>1|1:0.502:0.24,0.938:0.434,0.19,0.376</td>\n",
       "      <td>1|0:0.975:0.318,0.538:0.176,0.674,0.15</td>\n",
       "    </tr>\n",
       "    <tr>\n",
       "      <th>7937319</th>\n",
       "      <td>15:50001:C:T</td>\n",
       "      <td>1|1:0.214:0.732,0.514:0.236,0.158,0.606</td>\n",
       "      <td>0|0:0.732:0.979,0.842:0.1,0.066,0.834</td>\n",
       "    </tr>\n",
       "    <tr>\n",
       "      <th>7937320</th>\n",
       "      <td>15:50002:A:G</td>\n",
       "      <td>1|1:0.396:0.537,0.581:0.534,0.277,0.189</td>\n",
       "      <td>0|0:0.446:0.276,0.065:0.747,0.047,0.206</td>\n",
       "    </tr>\n",
       "    <tr>\n",
       "      <th>7937321</th>\n",
       "      <td>15:50003:A:G</td>\n",
       "      <td>0|0:0.677:0.191,0.832:0.589,0.254,0.157</td>\n",
       "      <td>0|1:0.336:0.97,0.848:0.737,0.194,0.069</td>\n",
       "    </tr>\n",
       "    <tr>\n",
       "      <th>7937322</th>\n",
       "      <td>15:50004:A:G</td>\n",
       "      <td>1|0:0.947:0.946,0.091:0.468,0.477,0.055</td>\n",
       "      <td>0|1:0.252:0.284,0.098:0.888,0.037,0.075</td>\n",
       "    </tr>\n",
       "    <tr>\n",
       "      <th>7937323</th>\n",
       "      <td>15:50005:T:G</td>\n",
       "      <td>1|0:0.055:0.06,0.958:0.846,0.102,0.052</td>\n",
       "      <td>1|0:0.344:0.956,0.419:0.204,0.495,0.301</td>\n",
       "    </tr>\n",
       "    <tr>\n",
       "      <th>7937324</th>\n",
       "      <td>15:50006:C:A</td>\n",
       "      <td>0|0:0.108:0.658,0.017:0.771,0.056,0.173</td>\n",
       "      <td>0|1:0.85:0.109,0.291:0.932,0.028,0.04</td>\n",
       "    </tr>\n",
       "    <tr>\n",
       "      <th>7937325</th>\n",
       "      <td>15:50007:T:C</td>\n",
       "      <td>1|1:0.53:0.347,0.236:0.381,0.571,0.048</td>\n",
       "      <td>1|1:0.764:0.96,0.585:0.152,0.184,0.664</td>\n",
       "    </tr>\n",
       "    <tr>\n",
       "      <th>7937326</th>\n",
       "      <td>15:50008:T:A</td>\n",
       "      <td>1|1:0.542:0.539,0.925:0.344,0.492,0.164</td>\n",
       "      <td>1|1:0.799:0.346,0.185:0.125,0.456,0.419</td>\n",
       "    </tr>\n",
       "    <tr>\n",
       "      <th>7937327</th>\n",
       "      <td>15:50009:C:T</td>\n",
       "      <td>0|1:0.699:0.793,0.185:0.085,0.404,0.511</td>\n",
       "      <td>0|1:0.741:0.316,0.701:0.717,0.029,0.254</td>\n",
       "    </tr>\n",
       "    <tr>\n",
       "      <th>7937328</th>\n",
       "      <td>15:50010:G:T</td>\n",
       "      <td>0|0:0.872:0.603,0.466:0.177,0.701,0.122</td>\n",
       "      <td>0|0:0.866:0.536,0.804:0.065,0.03,0.905</td>\n",
       "    </tr>\n",
       "  </tbody>\n",
       "</table>\n",
       "</div>"
      ],
      "text/plain": [
       "                   ID                                    SA010  \\\n",
       "rowid                                                            \n",
       "7937318  15:50000:A:G    1|1:0.502:0.24,0.938:0.434,0.19,0.376   \n",
       "7937319  15:50001:C:T  1|1:0.214:0.732,0.514:0.236,0.158,0.606   \n",
       "7937320  15:50002:A:G  1|1:0.396:0.537,0.581:0.534,0.277,0.189   \n",
       "7937321  15:50003:A:G  0|0:0.677:0.191,0.832:0.589,0.254,0.157   \n",
       "7937322  15:50004:A:G  1|0:0.947:0.946,0.091:0.468,0.477,0.055   \n",
       "7937323  15:50005:T:G   1|0:0.055:0.06,0.958:0.846,0.102,0.052   \n",
       "7937324  15:50006:C:A  0|0:0.108:0.658,0.017:0.771,0.056,0.173   \n",
       "7937325  15:50007:T:C   1|1:0.53:0.347,0.236:0.381,0.571,0.048   \n",
       "7937326  15:50008:T:A  1|1:0.542:0.539,0.925:0.344,0.492,0.164   \n",
       "7937327  15:50009:C:T  0|1:0.699:0.793,0.185:0.085,0.404,0.511   \n",
       "7937328  15:50010:G:T  0|0:0.872:0.603,0.466:0.177,0.701,0.122   \n",
       "\n",
       "                                           SA090  \n",
       "rowid                                             \n",
       "7937318   1|0:0.975:0.318,0.538:0.176,0.674,0.15  \n",
       "7937319    0|0:0.732:0.979,0.842:0.1,0.066,0.834  \n",
       "7937320  0|0:0.446:0.276,0.065:0.747,0.047,0.206  \n",
       "7937321   0|1:0.336:0.97,0.848:0.737,0.194,0.069  \n",
       "7937322  0|1:0.252:0.284,0.098:0.888,0.037,0.075  \n",
       "7937323  1|0:0.344:0.956,0.419:0.204,0.495,0.301  \n",
       "7937324    0|1:0.85:0.109,0.291:0.932,0.028,0.04  \n",
       "7937325   1|1:0.764:0.96,0.585:0.152,0.184,0.664  \n",
       "7937326  1|1:0.799:0.346,0.185:0.125,0.456,0.419  \n",
       "7937327  0|1:0.741:0.316,0.701:0.717,0.029,0.254  \n",
       "7937328   0|0:0.866:0.536,0.804:0.065,0.03,0.905  "
      ]
     },
     "execution_count": 77,
     "metadata": {},
     "output_type": "execute_result"
    }
   ],
   "source": [
    "duration, result = parse_range_vcf('chr15', 50000, 50010, ['ID', 'SA010', 'SA090'])\n",
    "result"
   ]
  },
  {
   "cell_type": "code",
   "execution_count": 78,
   "id": "aa571b93-b354-4947-aba6-757128818933",
   "metadata": {
    "tags": []
   },
   "outputs": [
    {
     "name": "stdout",
     "output_type": "stream",
     "text": [
      "Time to parse vcf: 32.61 s\n"
     ]
    }
   ],
   "source": [
    "print(f\"Time to parse vcf: {duration} s\")"
   ]
  },
  {
   "cell_type": "markdown",
   "id": "624e767b-e653-4070-8471-6316e24dc182",
   "metadata": {},
   "source": [
    "## Retrieve stored data in parallel"
   ]
  },
  {
   "cell_type": "code",
   "execution_count": 5,
   "id": "af0227d5-8d0f-406a-9578-ec9f1a707315",
   "metadata": {
    "tags": []
   },
   "outputs": [],
   "source": [
    "def getSamples(chromo, pos):\n",
    "    result = omi.layers['vcf'].query(f\"CHROM == '{chromo}' and POS == {pos}\")[['SA096', 'SA098', 'SA099']]\n",
    "    return (chromo, pos, result.values)\n",
    "\n",
    "@timeit\n",
    "def queryInParallel(queries):\n",
    "    with multiprocessing.Pool(processes=8) as pool:\n",
    "        results = pool.starmap(getSamples, queries)\n",
    "    return results\n",
    "\n",
    "queries = []\n",
    "for i in [1,10,20]:\n",
    "    for j in range(1, 100):\n",
    "        queries.append((f\"chr{i}\", 100000+j))\n",
    "        \n",
    "duration, results = queryInParallel(queries)"
   ]
  },
  {
   "cell_type": "code",
   "execution_count": 6,
   "id": "c2f4607d-18a8-4c30-b292-a358e4696290",
   "metadata": {
    "tags": []
   },
   "outputs": [
    {
     "data": {
      "text/plain": [
       "[('chr1',\n",
       "  100001,\n",
       "  array([['0|0:0.508:0.702,0.432:0.962,0.013,0.025',\n",
       "          '1|1:0.913:0.092,0.546:0.795,0.028,0.177',\n",
       "          '1|0:0.721:0.193,0.479:0.051,0.172,0.777']], dtype=object)),\n",
       " ('chr1',\n",
       "  100002,\n",
       "  array([['1|0:0.25:0.389,0.383:0.668,0.059,0.273',\n",
       "          '0|1:0.681:0.042,0.261:0.72,0.034,0.246',\n",
       "          '0|0:0.455:0.177,0.445:0.776,0.003,0.221']], dtype=object)),\n",
       " ('chr1',\n",
       "  100003,\n",
       "  array([['0|1:0.981:0.986,0.122:0.157,0.182,0.661',\n",
       "          '1|0:0.513:0.84,0.457:0.292,0.133,0.575',\n",
       "          '1|1:0.766:0.471,0.88:0.145,0.423,0.432']], dtype=object)),\n",
       " ('chr1',\n",
       "  100004,\n",
       "  array([['0|1:0.676:0.346,0.759:0.183,0.637,0.18',\n",
       "          '1|0:0.061:0.735,0.559:0.236,0.309,0.455',\n",
       "          '1|1:0.895:0.97,0.068:0.275,0.665,0.06']], dtype=object)),\n",
       " ('chr1',\n",
       "  100005,\n",
       "  array([['1|1:0.364:0.393,0.319:0.193,0.313,0.494',\n",
       "          '0|1:0.569:0.968,0.188:0.516,0.027,0.457',\n",
       "          '0|1:0.896:0.018,0.915:0.057,0.866,0.077']], dtype=object))]"
      ]
     },
     "execution_count": 6,
     "metadata": {},
     "output_type": "execute_result"
    }
   ],
   "source": [
    "results[:5]"
   ]
  },
  {
   "cell_type": "code",
   "execution_count": 7,
   "id": "c4cc2826-4ec6-4d78-96cb-43d3d65001e4",
   "metadata": {
    "tags": []
   },
   "outputs": [
    {
     "name": "stdout",
     "output_type": "stream",
     "text": [
      "Time to parse vcf in parallel: 1800.07 s\n"
     ]
    }
   ],
   "source": [
    "print(f\"Time to parse vcf in parallel: {duration} s\")"
   ]
  },
  {
   "cell_type": "markdown",
   "id": "3113789b-8b8a-4b5d-9745-35d64d9c00d3",
   "metadata": {},
   "source": [
    "# View stored omic layers"
   ]
  },
  {
   "cell_type": "code",
   "execution_count": 70,
   "id": "fba33265-34da-4484-a656-d950118f2449",
   "metadata": {
    "tags": []
   },
   "outputs": [
    {
     "data": {
      "text/plain": [
       "       name tag       shape                        info\n",
       "     cohort raw       100x4            Cohort features.\n",
       "blood_metas raw   37228x101 Raw blood metabolomic data.\n",
       "urine_metas raw    5661x101 Raw urine metabolomic data.\n",
       "     rnaseq raw   60605x101       Raw bulk RNASeq data.\n",
       " microbiome raw    6914x101    Raw gut microbiome data.\n",
       "        vcf raw 9640953x110         Cohort imputed VCF."
      ]
     },
     "execution_count": 70,
     "metadata": {},
     "output_type": "execute_result"
    }
   ],
   "source": [
    "omi.layers"
   ]
  }
 ],
 "metadata": {
  "kernelspec": {
   "display_name": "Python 3 (ipykernel)",
   "language": "python",
   "name": "python3"
  },
  "language_info": {
   "codemirror_mode": {
    "name": "ipython",
    "version": 3
   },
   "file_extension": ".py",
   "mimetype": "text/x-python",
   "name": "python",
   "nbconvert_exporter": "python",
   "pygments_lexer": "ipython3",
   "version": "3.12.6"
  }
 },
 "nbformat": 4,
 "nbformat_minor": 5
}
