{
 "cells": [
  {
   "cell_type": "code",
   "execution_count": 1,
   "id": "bc4dc317-9ba1-43dd-9efa-f64fbab61ede",
   "metadata": {
    "tags": []
   },
   "outputs": [],
   "source": [
    "import pandas as pd\n",
    "import multiprocessing\n",
    "import numpy as np\n",
    "import time\n",
    "from omilayers import Omilayers\n",
    "import io"
   ]
  },
  {
   "cell_type": "markdown",
   "id": "828bb6a7-89d8-40fd-b191-ddbf166d36eb",
   "metadata": {
    "tags": []
   },
   "source": [
    "# Connect to database"
   ]
  },
  {
   "cell_type": "code",
   "execution_count": 2,
   "id": "71148b6c-f982-44a2-9ad2-f1638de377f5",
   "metadata": {
    "tags": []
   },
   "outputs": [],
   "source": [
    "omi = Omilayers(\"project.duckdb\", engine=\"duckdb\")"
   ]
  },
  {
   "cell_type": "markdown",
   "id": "bfe02075-8eff-468f-bd08-284f1eb9493e",
   "metadata": {
    "tags": []
   },
   "source": [
    "# Helper functions"
   ]
  },
  {
   "cell_type": "code",
   "execution_count": 3,
   "id": "88c9d287-5603-46ba-9756-491be1616f0c",
   "metadata": {
    "tags": []
   },
   "outputs": [],
   "source": [
    "Nsamples = 100\n",
    "sampleIDs = [\"SA\"+f\"{i}\".zfill(3) for i in range(1, Nsamples+1)]\n",
    "\n",
    "def timeit(func):\n",
    "    \"\"\"\n",
    "    Decorator that times the execution of a function.\n",
    "    \"\"\"\n",
    "    def wrapper(*args, **kwargs):\n",
    "        start_time = time.time()\n",
    "        result = func(*args, **kwargs)\n",
    "        end_time = time.time()\n",
    "        duration = np.round(end_time - start_time, 2)\n",
    "        return (duration, result)\n",
    "    \n",
    "    return wrapper\n",
    "\n",
    "@timeit\n",
    "def simulate_data(featuresName, features, minValue, maxValue, integers=False):\n",
    "    \"\"\"\n",
    "    Function for simulating data.\n",
    "    \"\"\"\n",
    "    JSON = {}\n",
    "    for feature in features:\n",
    "        if not integers:\n",
    "            JSON[feature] = np.round(np.random.uniform(minValue, maxValue, Nsamples), 4)\n",
    "        else:\n",
    "            JSON[feature] = np.random.randint(minValue, maxValue, Nsamples)\n",
    "    data = pd.DataFrame(JSON, index=sampleIDs)\n",
    "    data = data.T\n",
    "    data = data.reset_index()\n",
    "    data = data.rename(columns={\"index\":featuresName})\n",
    "    \n",
    "    return data\n",
    "\n",
    "def memory_usage_simulated_data(data):\n",
    "    \"\"\"\n",
    "    Function for estimating the memory usage of a pandas.DataFrame.\n",
    "    \"\"\"\n",
    "    output = io.StringIO()\n",
    "    data.info(memory_usage='deep', buf=output)\n",
    "    output = output.getvalue().split(\"\\n\")\n",
    "    memoryUsage = output[-2].split(\":\")[-1].strip()\n",
    "    \n",
    "    return memoryUsage\n",
    "\n",
    "@timeit\n",
    "def store_data(dataToStore, layerName, tagName, description):\n",
    "    \"\"\"\n",
    "    Function for storing omic layer data.\n",
    "    \"\"\"\n",
    "    omi.layers[layerName] = dataToStore\n",
    "    omi.layers[layerName].set_tag(tagName)\n",
    "    omi.layers[layerName].set_info(description)\n",
    "    \n",
    "    return None\n",
    "\n",
    "@timeit\n",
    "def load_layer(layerName):\n",
    "    \"\"\"\n",
    "    Function for loading stored omic layer data.\n",
    "    \"\"\"\n",
    "    layerData = omi.layers[layerName].to_df()\n",
    "    \n",
    "    return layerData\n",
    "\n",
    "@timeit\n",
    "def get_sample(layer, sample):\n",
    "    result = omi.layers[layer][sample]\n",
    "    \n",
    "    return result\n",
    "\n",
    "@timeit\n",
    "def add_sample(layer, sampleName, data):\n",
    "    omi.layers[layer][sampleName] = data\n",
    "    \n",
    "    return None\n",
    "\n"
   ]
  },
  {
   "cell_type": "markdown",
   "id": "102e139c-d134-4d7f-b788-cb62899428d0",
   "metadata": {
    "tags": []
   },
   "source": [
    "# Cohort features"
   ]
  },
  {
   "cell_type": "markdown",
   "id": "5917af56-8de1-486a-a87c-0091e600f8a1",
   "metadata": {
    "tags": []
   },
   "source": [
    "## Create synthetic data"
   ]
  },
  {
   "cell_type": "code",
   "execution_count": 4,
   "id": "844f55a2-fddc-4599-9ec0-a5d0d688b889",
   "metadata": {
    "tags": []
   },
   "outputs": [],
   "source": [
    "data = pd.DataFrame({\n",
    "    \"sample_id\": sampleIDs,\n",
    "    \"gender\": np.random.choice([\"female\", \"male\"], Nsamples),\n",
    "    \"age\": np.random.randint(20, 50, Nsamples),\n",
    "    \"bmi\": np.round(np.random.uniform(20, 40, Nsamples), 2)\n",
    "})"
   ]
  },
  {
   "cell_type": "markdown",
   "id": "04e2bac2-afef-4704-b18b-f933d45095c3",
   "metadata": {},
   "source": [
    "Get memory usage of simulated data"
   ]
  },
  {
   "cell_type": "code",
   "execution_count": 5,
   "id": "e50905cd-4c30-49ad-8887-04fb78904ba0",
   "metadata": {
    "tags": []
   },
   "outputs": [],
   "source": [
    "memoryUsage = memory_usage_simulated_data(data)"
   ]
  },
  {
   "cell_type": "code",
   "execution_count": 6,
   "id": "5f7b026b-555d-4583-94aa-07a7d5b5714c",
   "metadata": {
    "tags": []
   },
   "outputs": [
    {
     "name": "stdout",
     "output_type": "stream",
     "text": [
      "Memory usage of simulated data: 12.2 KB\n"
     ]
    }
   ],
   "source": [
    "print(f\"Memory usage of simulated data: {memoryUsage}\")"
   ]
  },
  {
   "cell_type": "markdown",
   "id": "e5f4a6b5-2507-4a0f-90ee-4a972339b05a",
   "metadata": {},
   "source": [
    "## Store synthetic data"
   ]
  },
  {
   "cell_type": "code",
   "execution_count": 7,
   "id": "050cf37d-f00a-4996-9bbb-b0b3b68099a4",
   "metadata": {
    "tags": []
   },
   "outputs": [],
   "source": [
    "duration, _ = store_data(data, \"cohort\", \"raw\", \"Cohort features.\")"
   ]
  },
  {
   "cell_type": "code",
   "execution_count": 8,
   "id": "4bd291f5-317e-4ebf-b400-dff3b445db87",
   "metadata": {
    "tags": []
   },
   "outputs": [
    {
     "name": "stdout",
     "output_type": "stream",
     "text": [
      "Time to store simulated data: 0.07 s\n"
     ]
    }
   ],
   "source": [
    "print(f\"Time to store simulated data: {duration} s\")"
   ]
  },
  {
   "cell_type": "markdown",
   "id": "6ec5bf6e-c068-44b7-9b92-ed571fb86424",
   "metadata": {},
   "source": [
    "## Retrieve stored data"
   ]
  },
  {
   "cell_type": "code",
   "execution_count": 9,
   "id": "6e9cf4f5-6ff7-468c-9d43-75b71b8bdd0b",
   "metadata": {
    "tags": []
   },
   "outputs": [],
   "source": [
    "duration, layerData = load_layer(\"cohort\")"
   ]
  },
  {
   "cell_type": "code",
   "execution_count": 10,
   "id": "ce00b107-192b-4ed4-bdbd-e108cf9a0dfb",
   "metadata": {
    "tags": []
   },
   "outputs": [
    {
     "name": "stdout",
     "output_type": "stream",
     "text": [
      "Time to load stored layer: 0.02 s\n"
     ]
    }
   ],
   "source": [
    "print(f\"Time to load stored layer: {duration} s\")"
   ]
  },
  {
   "cell_type": "code",
   "execution_count": 11,
   "id": "59285dee-1f5b-4215-a0f6-79ca7a97f2a4",
   "metadata": {
    "tags": []
   },
   "outputs": [
    {
     "data": {
      "text/html": [
       "<div>\n",
       "<style scoped>\n",
       "    .dataframe tbody tr th:only-of-type {\n",
       "        vertical-align: middle;\n",
       "    }\n",
       "\n",
       "    .dataframe tbody tr th {\n",
       "        vertical-align: top;\n",
       "    }\n",
       "\n",
       "    .dataframe thead th {\n",
       "        text-align: right;\n",
       "    }\n",
       "</style>\n",
       "<table border=\"1\" class=\"dataframe\">\n",
       "  <thead>\n",
       "    <tr style=\"text-align: right;\">\n",
       "      <th></th>\n",
       "      <th>sample_id</th>\n",
       "      <th>gender</th>\n",
       "      <th>age</th>\n",
       "      <th>bmi</th>\n",
       "    </tr>\n",
       "  </thead>\n",
       "  <tbody>\n",
       "    <tr>\n",
       "      <th>0</th>\n",
       "      <td>SA001</td>\n",
       "      <td>female</td>\n",
       "      <td>26</td>\n",
       "      <td>22.37</td>\n",
       "    </tr>\n",
       "    <tr>\n",
       "      <th>1</th>\n",
       "      <td>SA002</td>\n",
       "      <td>male</td>\n",
       "      <td>33</td>\n",
       "      <td>25.09</td>\n",
       "    </tr>\n",
       "    <tr>\n",
       "      <th>2</th>\n",
       "      <td>SA003</td>\n",
       "      <td>female</td>\n",
       "      <td>37</td>\n",
       "      <td>22.41</td>\n",
       "    </tr>\n",
       "    <tr>\n",
       "      <th>3</th>\n",
       "      <td>SA004</td>\n",
       "      <td>female</td>\n",
       "      <td>33</td>\n",
       "      <td>29.19</td>\n",
       "    </tr>\n",
       "    <tr>\n",
       "      <th>4</th>\n",
       "      <td>SA005</td>\n",
       "      <td>male</td>\n",
       "      <td>22</td>\n",
       "      <td>29.68</td>\n",
       "    </tr>\n",
       "    <tr>\n",
       "      <th>...</th>\n",
       "      <td>...</td>\n",
       "      <td>...</td>\n",
       "      <td>...</td>\n",
       "      <td>...</td>\n",
       "    </tr>\n",
       "    <tr>\n",
       "      <th>95</th>\n",
       "      <td>SA096</td>\n",
       "      <td>female</td>\n",
       "      <td>28</td>\n",
       "      <td>29.65</td>\n",
       "    </tr>\n",
       "    <tr>\n",
       "      <th>96</th>\n",
       "      <td>SA097</td>\n",
       "      <td>female</td>\n",
       "      <td>27</td>\n",
       "      <td>37.64</td>\n",
       "    </tr>\n",
       "    <tr>\n",
       "      <th>97</th>\n",
       "      <td>SA098</td>\n",
       "      <td>male</td>\n",
       "      <td>23</td>\n",
       "      <td>36.92</td>\n",
       "    </tr>\n",
       "    <tr>\n",
       "      <th>98</th>\n",
       "      <td>SA099</td>\n",
       "      <td>male</td>\n",
       "      <td>42</td>\n",
       "      <td>26.65</td>\n",
       "    </tr>\n",
       "    <tr>\n",
       "      <th>99</th>\n",
       "      <td>SA100</td>\n",
       "      <td>female</td>\n",
       "      <td>45</td>\n",
       "      <td>28.18</td>\n",
       "    </tr>\n",
       "  </tbody>\n",
       "</table>\n",
       "<p>100 rows × 4 columns</p>\n",
       "</div>"
      ],
      "text/plain": [
       "   sample_id  gender  age    bmi\n",
       "0      SA001  female   26  22.37\n",
       "1      SA002    male   33  25.09\n",
       "2      SA003  female   37  22.41\n",
       "3      SA004  female   33  29.19\n",
       "4      SA005    male   22  29.68\n",
       "..       ...     ...  ...    ...\n",
       "95     SA096  female   28  29.65\n",
       "96     SA097  female   27  37.64\n",
       "97     SA098    male   23  36.92\n",
       "98     SA099    male   42  26.65\n",
       "99     SA100  female   45  28.18\n",
       "\n",
       "[100 rows x 4 columns]"
      ]
     },
     "execution_count": 11,
     "metadata": {},
     "output_type": "execute_result"
    }
   ],
   "source": [
    "layerData"
   ]
  },
  {
   "cell_type": "markdown",
   "id": "81672de9-a3af-4393-8d9e-b6354b4f2e34",
   "metadata": {
    "tags": []
   },
   "source": [
    "# Blood metabolomic data"
   ]
  },
  {
   "cell_type": "markdown",
   "id": "34803b41-afd4-4f71-89bf-e17506c39782",
   "metadata": {},
   "source": [
    "## Create synthetic data"
   ]
  },
  {
   "cell_type": "markdown",
   "id": "09b50482-ab9a-4f08-ae2c-5899ff918b8c",
   "metadata": {
    "tags": []
   },
   "source": [
    "Load features"
   ]
  },
  {
   "cell_type": "code",
   "execution_count": 12,
   "id": "09cbf3db-2e5b-49ae-b5a1-cfa5956ebf63",
   "metadata": {
    "tags": []
   },
   "outputs": [
    {
     "name": "stdout",
     "output_type": "stream",
     "text": [
      "Number of features: 37228\n"
     ]
    }
   ],
   "source": [
    "features = pd.read_csv(\"omic_features/blood_metabolites-2024-06-25.csv\")['NAME']\n",
    "print(f\"Number of features: {len(features)}\")"
   ]
  },
  {
   "cell_type": "code",
   "execution_count": 13,
   "id": "d069b9fa-6136-48d0-901a-b1dbb86bc337",
   "metadata": {
    "tags": []
   },
   "outputs": [],
   "source": [
    "duration, data = simulate_data(\"metabolite\", features, minValue=0, maxValue=1000, integers=False)"
   ]
  },
  {
   "cell_type": "code",
   "execution_count": 14,
   "id": "827ffd8f-7b0e-464e-9826-57ae8fb9a9e6",
   "metadata": {
    "tags": []
   },
   "outputs": [
    {
     "name": "stdout",
     "output_type": "stream",
     "text": [
      "Time to create simulated data: 0.49 s\n"
     ]
    }
   ],
   "source": [
    "print(f\"Time to create simulated data: {duration} s\")"
   ]
  },
  {
   "cell_type": "markdown",
   "id": "292a856e-76d3-4c67-abf1-99b50df6ff0c",
   "metadata": {},
   "source": [
    "Get memory usage of simulated data"
   ]
  },
  {
   "cell_type": "code",
   "execution_count": 15,
   "id": "da12d1da-4bea-495d-8391-b4b1128a4b34",
   "metadata": {
    "tags": []
   },
   "outputs": [],
   "source": [
    "memoryUsage = memory_usage_simulated_data(data)"
   ]
  },
  {
   "cell_type": "code",
   "execution_count": 16,
   "id": "ada75e29-0e33-4a36-98e5-3c313e0f6892",
   "metadata": {
    "tags": []
   },
   "outputs": [
    {
     "name": "stdout",
     "output_type": "stream",
     "text": [
      "Memory usage of simulated data: 31.3 MB\n"
     ]
    }
   ],
   "source": [
    "print(f\"Memory usage of simulated data: {memoryUsage}\")"
   ]
  },
  {
   "cell_type": "markdown",
   "id": "ea02625c-c8c9-40d0-b0a0-48b781386e3e",
   "metadata": {},
   "source": [
    "## Store synthetic data"
   ]
  },
  {
   "cell_type": "code",
   "execution_count": 17,
   "id": "be2cf372-3dbd-43c4-82c1-64f18ebb1e9f",
   "metadata": {
    "tags": []
   },
   "outputs": [],
   "source": [
    "duration, _ = store_data(data, \"blood_metas\", \"raw\", \"Raw blood metabolomic data.\")"
   ]
  },
  {
   "cell_type": "code",
   "execution_count": 18,
   "id": "e8a37103-38f5-417d-af8d-b30e796a080a",
   "metadata": {
    "tags": []
   },
   "outputs": [
    {
     "name": "stdout",
     "output_type": "stream",
     "text": [
      "Time to store simulated data: 0.4 s\n"
     ]
    }
   ],
   "source": [
    "print(f\"Time to store simulated data: {duration} s\")"
   ]
  },
  {
   "cell_type": "markdown",
   "id": "6842ade5-0cb7-4447-93dd-521e8ee3f5cd",
   "metadata": {},
   "source": [
    "## Retrieve stored data"
   ]
  },
  {
   "cell_type": "code",
   "execution_count": 19,
   "id": "4b18816b-2339-4975-92fa-15e52b924ba0",
   "metadata": {
    "tags": []
   },
   "outputs": [],
   "source": [
    "duration, layerData = load_layer(\"blood_metas\")"
   ]
  },
  {
   "cell_type": "code",
   "execution_count": 20,
   "id": "ec2e6afd-dd2f-4a1b-a770-d002fa85b1b7",
   "metadata": {
    "tags": []
   },
   "outputs": [
    {
     "name": "stdout",
     "output_type": "stream",
     "text": [
      "Time to load stored layer: 0.11 s\n"
     ]
    }
   ],
   "source": [
    "print(f\"Time to load stored layer: {duration} s\")"
   ]
  },
  {
   "cell_type": "code",
   "execution_count": 21,
   "id": "9b8d77fc-9fc0-40ed-bc89-6ba54df702df",
   "metadata": {
    "tags": []
   },
   "outputs": [
    {
     "data": {
      "text/html": [
       "<div>\n",
       "<style scoped>\n",
       "    .dataframe tbody tr th:only-of-type {\n",
       "        vertical-align: middle;\n",
       "    }\n",
       "\n",
       "    .dataframe tbody tr th {\n",
       "        vertical-align: top;\n",
       "    }\n",
       "\n",
       "    .dataframe thead th {\n",
       "        text-align: right;\n",
       "    }\n",
       "</style>\n",
       "<table border=\"1\" class=\"dataframe\">\n",
       "  <thead>\n",
       "    <tr style=\"text-align: right;\">\n",
       "      <th></th>\n",
       "      <th>metabolite</th>\n",
       "      <th>SA001</th>\n",
       "      <th>SA002</th>\n",
       "      <th>SA003</th>\n",
       "      <th>SA004</th>\n",
       "      <th>SA005</th>\n",
       "      <th>SA006</th>\n",
       "      <th>SA007</th>\n",
       "      <th>SA008</th>\n",
       "      <th>SA009</th>\n",
       "      <th>...</th>\n",
       "      <th>SA091</th>\n",
       "      <th>SA092</th>\n",
       "      <th>SA093</th>\n",
       "      <th>SA094</th>\n",
       "      <th>SA095</th>\n",
       "      <th>SA096</th>\n",
       "      <th>SA097</th>\n",
       "      <th>SA098</th>\n",
       "      <th>SA099</th>\n",
       "      <th>SA100</th>\n",
       "    </tr>\n",
       "  </thead>\n",
       "  <tbody>\n",
       "    <tr>\n",
       "      <th>0</th>\n",
       "      <td>1-Methylhistidine</td>\n",
       "      <td>160.5345</td>\n",
       "      <td>613.0872</td>\n",
       "      <td>127.6444</td>\n",
       "      <td>261.1609</td>\n",
       "      <td>621.7449</td>\n",
       "      <td>163.1826</td>\n",
       "      <td>277.1065</td>\n",
       "      <td>244.2859</td>\n",
       "      <td>922.7444</td>\n",
       "      <td>...</td>\n",
       "      <td>740.8128</td>\n",
       "      <td>732.1407</td>\n",
       "      <td>855.9692</td>\n",
       "      <td>858.5214</td>\n",
       "      <td>394.7873</td>\n",
       "      <td>273.1119</td>\n",
       "      <td>918.8326</td>\n",
       "      <td>155.8283</td>\n",
       "      <td>253.7521</td>\n",
       "      <td>987.6875</td>\n",
       "    </tr>\n",
       "    <tr>\n",
       "      <th>1</th>\n",
       "      <td>1,3-Diaminopropane</td>\n",
       "      <td>315.3933</td>\n",
       "      <td>301.8827</td>\n",
       "      <td>843.2439</td>\n",
       "      <td>517.3792</td>\n",
       "      <td>509.7382</td>\n",
       "      <td>940.6679</td>\n",
       "      <td>443.3848</td>\n",
       "      <td>506.7704</td>\n",
       "      <td>54.3492</td>\n",
       "      <td>...</td>\n",
       "      <td>134.0646</td>\n",
       "      <td>451.9462</td>\n",
       "      <td>432.7803</td>\n",
       "      <td>311.5084</td>\n",
       "      <td>584.2263</td>\n",
       "      <td>912.7995</td>\n",
       "      <td>333.6045</td>\n",
       "      <td>808.4649</td>\n",
       "      <td>406.1256</td>\n",
       "      <td>635.3067</td>\n",
       "    </tr>\n",
       "    <tr>\n",
       "      <th>2</th>\n",
       "      <td>2-Ketobutyric acid</td>\n",
       "      <td>739.3905</td>\n",
       "      <td>913.4635</td>\n",
       "      <td>891.7950</td>\n",
       "      <td>568.7992</td>\n",
       "      <td>980.7496</td>\n",
       "      <td>358.0732</td>\n",
       "      <td>209.7491</td>\n",
       "      <td>298.1375</td>\n",
       "      <td>64.5342</td>\n",
       "      <td>...</td>\n",
       "      <td>336.5384</td>\n",
       "      <td>271.8927</td>\n",
       "      <td>179.8703</td>\n",
       "      <td>204.6860</td>\n",
       "      <td>402.5722</td>\n",
       "      <td>810.4362</td>\n",
       "      <td>634.1774</td>\n",
       "      <td>797.1647</td>\n",
       "      <td>970.7482</td>\n",
       "      <td>144.5507</td>\n",
       "    </tr>\n",
       "    <tr>\n",
       "      <th>3</th>\n",
       "      <td>2-Hydroxybutyric acid</td>\n",
       "      <td>948.0209</td>\n",
       "      <td>8.5789</td>\n",
       "      <td>296.1401</td>\n",
       "      <td>404.8405</td>\n",
       "      <td>14.6976</td>\n",
       "      <td>892.1954</td>\n",
       "      <td>237.7730</td>\n",
       "      <td>874.0592</td>\n",
       "      <td>211.6430</td>\n",
       "      <td>...</td>\n",
       "      <td>749.8965</td>\n",
       "      <td>184.0260</td>\n",
       "      <td>665.3067</td>\n",
       "      <td>125.3999</td>\n",
       "      <td>14.2509</td>\n",
       "      <td>670.3545</td>\n",
       "      <td>134.9766</td>\n",
       "      <td>121.5945</td>\n",
       "      <td>682.5727</td>\n",
       "      <td>344.5291</td>\n",
       "    </tr>\n",
       "    <tr>\n",
       "      <th>4</th>\n",
       "      <td>2-Methoxyestrone</td>\n",
       "      <td>619.4599</td>\n",
       "      <td>593.1441</td>\n",
       "      <td>631.9754</td>\n",
       "      <td>328.8788</td>\n",
       "      <td>711.9863</td>\n",
       "      <td>187.6999</td>\n",
       "      <td>899.7451</td>\n",
       "      <td>888.5594</td>\n",
       "      <td>125.1285</td>\n",
       "      <td>...</td>\n",
       "      <td>855.0462</td>\n",
       "      <td>803.3730</td>\n",
       "      <td>293.6359</td>\n",
       "      <td>380.2945</td>\n",
       "      <td>329.6876</td>\n",
       "      <td>495.5465</td>\n",
       "      <td>335.5249</td>\n",
       "      <td>114.6146</td>\n",
       "      <td>885.8145</td>\n",
       "      <td>791.4863</td>\n",
       "    </tr>\n",
       "    <tr>\n",
       "      <th>...</th>\n",
       "      <td>...</td>\n",
       "      <td>...</td>\n",
       "      <td>...</td>\n",
       "      <td>...</td>\n",
       "      <td>...</td>\n",
       "      <td>...</td>\n",
       "      <td>...</td>\n",
       "      <td>...</td>\n",
       "      <td>...</td>\n",
       "      <td>...</td>\n",
       "      <td>...</td>\n",
       "      <td>...</td>\n",
       "      <td>...</td>\n",
       "      <td>...</td>\n",
       "      <td>...</td>\n",
       "      <td>...</td>\n",
       "      <td>...</td>\n",
       "      <td>...</td>\n",
       "      <td>...</td>\n",
       "      <td>...</td>\n",
       "      <td>...</td>\n",
       "    </tr>\n",
       "    <tr>\n",
       "      <th>37223</th>\n",
       "      <td>Succinylserine</td>\n",
       "      <td>669.4016</td>\n",
       "      <td>990.2062</td>\n",
       "      <td>599.3050</td>\n",
       "      <td>537.0790</td>\n",
       "      <td>874.1201</td>\n",
       "      <td>930.3231</td>\n",
       "      <td>589.1364</td>\n",
       "      <td>395.5103</td>\n",
       "      <td>507.1417</td>\n",
       "      <td>...</td>\n",
       "      <td>38.2632</td>\n",
       "      <td>978.0679</td>\n",
       "      <td>81.1957</td>\n",
       "      <td>542.2210</td>\n",
       "      <td>521.2700</td>\n",
       "      <td>576.0537</td>\n",
       "      <td>949.5406</td>\n",
       "      <td>985.1538</td>\n",
       "      <td>927.6703</td>\n",
       "      <td>933.4608</td>\n",
       "    </tr>\n",
       "    <tr>\n",
       "      <th>37224</th>\n",
       "      <td>4-Hydroxylidocaine</td>\n",
       "      <td>764.5399</td>\n",
       "      <td>455.3041</td>\n",
       "      <td>147.6259</td>\n",
       "      <td>974.3035</td>\n",
       "      <td>210.6123</td>\n",
       "      <td>249.4724</td>\n",
       "      <td>819.1735</td>\n",
       "      <td>679.4274</td>\n",
       "      <td>880.6852</td>\n",
       "      <td>...</td>\n",
       "      <td>214.3124</td>\n",
       "      <td>833.3597</td>\n",
       "      <td>45.0000</td>\n",
       "      <td>45.1954</td>\n",
       "      <td>531.3629</td>\n",
       "      <td>370.4195</td>\n",
       "      <td>117.6715</td>\n",
       "      <td>688.8661</td>\n",
       "      <td>805.6011</td>\n",
       "      <td>153.1466</td>\n",
       "    </tr>\n",
       "    <tr>\n",
       "      <th>37225</th>\n",
       "      <td>Tryptophan N-glucoside</td>\n",
       "      <td>820.1227</td>\n",
       "      <td>558.2926</td>\n",
       "      <td>539.3568</td>\n",
       "      <td>636.5652</td>\n",
       "      <td>33.2268</td>\n",
       "      <td>948.3939</td>\n",
       "      <td>874.4618</td>\n",
       "      <td>597.4105</td>\n",
       "      <td>533.9874</td>\n",
       "      <td>...</td>\n",
       "      <td>672.8176</td>\n",
       "      <td>578.2594</td>\n",
       "      <td>663.4910</td>\n",
       "      <td>299.0170</td>\n",
       "      <td>447.4534</td>\n",
       "      <td>240.2909</td>\n",
       "      <td>421.9770</td>\n",
       "      <td>302.3849</td>\n",
       "      <td>781.0342</td>\n",
       "      <td>473.3501</td>\n",
       "    </tr>\n",
       "    <tr>\n",
       "      <th>37226</th>\n",
       "      <td>6-Amino-5-formamido-1,3-dimethyluracil</td>\n",
       "      <td>40.7246</td>\n",
       "      <td>692.4722</td>\n",
       "      <td>682.1125</td>\n",
       "      <td>604.7818</td>\n",
       "      <td>847.6135</td>\n",
       "      <td>153.5956</td>\n",
       "      <td>356.7477</td>\n",
       "      <td>679.9632</td>\n",
       "      <td>990.8804</td>\n",
       "      <td>...</td>\n",
       "      <td>59.9737</td>\n",
       "      <td>27.3775</td>\n",
       "      <td>482.4652</td>\n",
       "      <td>899.7126</td>\n",
       "      <td>745.7765</td>\n",
       "      <td>37.4367</td>\n",
       "      <td>276.2628</td>\n",
       "      <td>625.4594</td>\n",
       "      <td>961.8168</td>\n",
       "      <td>44.9775</td>\n",
       "    </tr>\n",
       "    <tr>\n",
       "      <th>37227</th>\n",
       "      <td>(1S,2S)-(+)-Pseudoephedrine</td>\n",
       "      <td>888.4721</td>\n",
       "      <td>295.3105</td>\n",
       "      <td>709.9216</td>\n",
       "      <td>357.0431</td>\n",
       "      <td>56.3557</td>\n",
       "      <td>301.5362</td>\n",
       "      <td>507.2623</td>\n",
       "      <td>971.3752</td>\n",
       "      <td>291.8887</td>\n",
       "      <td>...</td>\n",
       "      <td>792.5059</td>\n",
       "      <td>46.8639</td>\n",
       "      <td>640.0204</td>\n",
       "      <td>539.8690</td>\n",
       "      <td>958.2412</td>\n",
       "      <td>86.9562</td>\n",
       "      <td>118.3990</td>\n",
       "      <td>338.4318</td>\n",
       "      <td>611.5884</td>\n",
       "      <td>690.0193</td>\n",
       "    </tr>\n",
       "  </tbody>\n",
       "</table>\n",
       "<p>37228 rows × 101 columns</p>\n",
       "</div>"
      ],
      "text/plain": [
       "                                   metabolite     SA001     SA002     SA003  \\\n",
       "0                           1-Methylhistidine  160.5345  613.0872  127.6444   \n",
       "1                          1,3-Diaminopropane  315.3933  301.8827  843.2439   \n",
       "2                          2-Ketobutyric acid  739.3905  913.4635  891.7950   \n",
       "3                       2-Hydroxybutyric acid  948.0209    8.5789  296.1401   \n",
       "4                            2-Methoxyestrone  619.4599  593.1441  631.9754   \n",
       "...                                       ...       ...       ...       ...   \n",
       "37223                          Succinylserine  669.4016  990.2062  599.3050   \n",
       "37224                      4-Hydroxylidocaine  764.5399  455.3041  147.6259   \n",
       "37225                  Tryptophan N-glucoside  820.1227  558.2926  539.3568   \n",
       "37226  6-Amino-5-formamido-1,3-dimethyluracil   40.7246  692.4722  682.1125   \n",
       "37227             (1S,2S)-(+)-Pseudoephedrine  888.4721  295.3105  709.9216   \n",
       "\n",
       "          SA004     SA005     SA006     SA007     SA008     SA009  ...  \\\n",
       "0      261.1609  621.7449  163.1826  277.1065  244.2859  922.7444  ...   \n",
       "1      517.3792  509.7382  940.6679  443.3848  506.7704   54.3492  ...   \n",
       "2      568.7992  980.7496  358.0732  209.7491  298.1375   64.5342  ...   \n",
       "3      404.8405   14.6976  892.1954  237.7730  874.0592  211.6430  ...   \n",
       "4      328.8788  711.9863  187.6999  899.7451  888.5594  125.1285  ...   \n",
       "...         ...       ...       ...       ...       ...       ...  ...   \n",
       "37223  537.0790  874.1201  930.3231  589.1364  395.5103  507.1417  ...   \n",
       "37224  974.3035  210.6123  249.4724  819.1735  679.4274  880.6852  ...   \n",
       "37225  636.5652   33.2268  948.3939  874.4618  597.4105  533.9874  ...   \n",
       "37226  604.7818  847.6135  153.5956  356.7477  679.9632  990.8804  ...   \n",
       "37227  357.0431   56.3557  301.5362  507.2623  971.3752  291.8887  ...   \n",
       "\n",
       "          SA091     SA092     SA093     SA094     SA095     SA096     SA097  \\\n",
       "0      740.8128  732.1407  855.9692  858.5214  394.7873  273.1119  918.8326   \n",
       "1      134.0646  451.9462  432.7803  311.5084  584.2263  912.7995  333.6045   \n",
       "2      336.5384  271.8927  179.8703  204.6860  402.5722  810.4362  634.1774   \n",
       "3      749.8965  184.0260  665.3067  125.3999   14.2509  670.3545  134.9766   \n",
       "4      855.0462  803.3730  293.6359  380.2945  329.6876  495.5465  335.5249   \n",
       "...         ...       ...       ...       ...       ...       ...       ...   \n",
       "37223   38.2632  978.0679   81.1957  542.2210  521.2700  576.0537  949.5406   \n",
       "37224  214.3124  833.3597   45.0000   45.1954  531.3629  370.4195  117.6715   \n",
       "37225  672.8176  578.2594  663.4910  299.0170  447.4534  240.2909  421.9770   \n",
       "37226   59.9737   27.3775  482.4652  899.7126  745.7765   37.4367  276.2628   \n",
       "37227  792.5059   46.8639  640.0204  539.8690  958.2412   86.9562  118.3990   \n",
       "\n",
       "          SA098     SA099     SA100  \n",
       "0      155.8283  253.7521  987.6875  \n",
       "1      808.4649  406.1256  635.3067  \n",
       "2      797.1647  970.7482  144.5507  \n",
       "3      121.5945  682.5727  344.5291  \n",
       "4      114.6146  885.8145  791.4863  \n",
       "...         ...       ...       ...  \n",
       "37223  985.1538  927.6703  933.4608  \n",
       "37224  688.8661  805.6011  153.1466  \n",
       "37225  302.3849  781.0342  473.3501  \n",
       "37226  625.4594  961.8168   44.9775  \n",
       "37227  338.4318  611.5884  690.0193  \n",
       "\n",
       "[37228 rows x 101 columns]"
      ]
     },
     "execution_count": 21,
     "metadata": {},
     "output_type": "execute_result"
    }
   ],
   "source": [
    "layerData"
   ]
  },
  {
   "cell_type": "markdown",
   "id": "12b00dc2-6d02-408f-8629-194b94174649",
   "metadata": {
    "tags": []
   },
   "source": [
    "# Urine metabolomic data"
   ]
  },
  {
   "cell_type": "markdown",
   "id": "b2c7edb7-052a-43d3-b133-c3dbff8705c7",
   "metadata": {
    "tags": []
   },
   "source": [
    "## Create synthetic data"
   ]
  },
  {
   "cell_type": "markdown",
   "id": "5d37bb60-c7fb-49a6-a6d4-3b4195e87e13",
   "metadata": {
    "tags": []
   },
   "source": [
    "Load features"
   ]
  },
  {
   "cell_type": "code",
   "execution_count": 22,
   "id": "3f9487dd-e6fc-4cd7-b264-08193173ce99",
   "metadata": {
    "tags": []
   },
   "outputs": [
    {
     "name": "stdout",
     "output_type": "stream",
     "text": [
      "Number of features: 5661\n"
     ]
    }
   ],
   "source": [
    "features = pd.read_csv(\"omic_features/urine_metabolites-2024-06-25.csv\")['NAME']\n",
    "print(f\"Number of features: {len(features)}\")"
   ]
  },
  {
   "cell_type": "code",
   "execution_count": 23,
   "id": "e281acfa-edcd-460f-8131-0cd3baa8c9d1",
   "metadata": {
    "tags": []
   },
   "outputs": [],
   "source": [
    "duration, data = simulate_data(\"metabolite\", features, minValue=0, maxValue=1000, integers=False)"
   ]
  },
  {
   "cell_type": "code",
   "execution_count": 24,
   "id": "768bce6c-836d-4480-a62b-a2aaadf914b3",
   "metadata": {
    "tags": []
   },
   "outputs": [
    {
     "name": "stdout",
     "output_type": "stream",
     "text": [
      "Time to create simulated data: 0.1 s\n"
     ]
    }
   ],
   "source": [
    "print(f\"Time to create simulated data: {duration} s\")"
   ]
  },
  {
   "cell_type": "markdown",
   "id": "c93c9f6e-af34-4ab3-a431-c544182829cc",
   "metadata": {},
   "source": [
    "Get memory usage of simulated data"
   ]
  },
  {
   "cell_type": "code",
   "execution_count": 25,
   "id": "594f947a-a020-4cc3-b4b0-73c193516ac1",
   "metadata": {
    "tags": []
   },
   "outputs": [],
   "source": [
    "memoryUsage = memory_usage_simulated_data(data)"
   ]
  },
  {
   "cell_type": "code",
   "execution_count": 26,
   "id": "2e626fc6-f314-4d97-9b89-4382af0af336",
   "metadata": {
    "tags": []
   },
   "outputs": [
    {
     "name": "stdout",
     "output_type": "stream",
     "text": [
      "Memory usage of simulated data: 4.7 MB\n"
     ]
    }
   ],
   "source": [
    "print(f\"Memory usage of simulated data: {memoryUsage}\")"
   ]
  },
  {
   "cell_type": "markdown",
   "id": "bd4dc072-a0c9-49b5-afaa-bc3825bda99f",
   "metadata": {},
   "source": [
    "## Store synthetic data"
   ]
  },
  {
   "cell_type": "code",
   "execution_count": 27,
   "id": "b4e91ec4-8d68-4468-9746-83e6842b876b",
   "metadata": {
    "tags": []
   },
   "outputs": [],
   "source": [
    "duration, _ = store_data(data, \"urine_metas\", \"raw\", \"Raw urine metabolomic data.\")"
   ]
  },
  {
   "cell_type": "code",
   "execution_count": 28,
   "id": "f8061ebd-3fc4-4205-8cb1-3bf77e6eed28",
   "metadata": {
    "tags": []
   },
   "outputs": [
    {
     "name": "stdout",
     "output_type": "stream",
     "text": [
      "Time to store simulated data: 0.27 s\n"
     ]
    }
   ],
   "source": [
    "print(f\"Time to store simulated data: {duration} s\")"
   ]
  },
  {
   "cell_type": "markdown",
   "id": "f6c9fcaa-b8c9-4a55-bb39-ea8ba2def9e1",
   "metadata": {},
   "source": [
    "## Retrieve stored data"
   ]
  },
  {
   "cell_type": "code",
   "execution_count": 29,
   "id": "d12e072b-19c8-4e69-a55d-6052137cf20d",
   "metadata": {
    "tags": []
   },
   "outputs": [],
   "source": [
    "duration, layerData = load_layer(\"urine_metas\")"
   ]
  },
  {
   "cell_type": "code",
   "execution_count": 30,
   "id": "212c9999-ad2b-416e-8093-03331074b39b",
   "metadata": {
    "tags": []
   },
   "outputs": [
    {
     "name": "stdout",
     "output_type": "stream",
     "text": [
      "Time to load stored layer: 0.06 s\n"
     ]
    }
   ],
   "source": [
    "print(f\"Time to load stored layer: {duration} s\")"
   ]
  },
  {
   "cell_type": "code",
   "execution_count": 31,
   "id": "1bb10295-6d91-47fd-bb73-074e676e8008",
   "metadata": {
    "tags": []
   },
   "outputs": [
    {
     "data": {
      "text/html": [
       "<div>\n",
       "<style scoped>\n",
       "    .dataframe tbody tr th:only-of-type {\n",
       "        vertical-align: middle;\n",
       "    }\n",
       "\n",
       "    .dataframe tbody tr th {\n",
       "        vertical-align: top;\n",
       "    }\n",
       "\n",
       "    .dataframe thead th {\n",
       "        text-align: right;\n",
       "    }\n",
       "</style>\n",
       "<table border=\"1\" class=\"dataframe\">\n",
       "  <thead>\n",
       "    <tr style=\"text-align: right;\">\n",
       "      <th></th>\n",
       "      <th>metabolite</th>\n",
       "      <th>SA001</th>\n",
       "      <th>SA002</th>\n",
       "      <th>SA003</th>\n",
       "      <th>SA004</th>\n",
       "      <th>SA005</th>\n",
       "      <th>SA006</th>\n",
       "      <th>SA007</th>\n",
       "      <th>SA008</th>\n",
       "      <th>SA009</th>\n",
       "      <th>...</th>\n",
       "      <th>SA091</th>\n",
       "      <th>SA092</th>\n",
       "      <th>SA093</th>\n",
       "      <th>SA094</th>\n",
       "      <th>SA095</th>\n",
       "      <th>SA096</th>\n",
       "      <th>SA097</th>\n",
       "      <th>SA098</th>\n",
       "      <th>SA099</th>\n",
       "      <th>SA100</th>\n",
       "    </tr>\n",
       "  </thead>\n",
       "  <tbody>\n",
       "    <tr>\n",
       "      <th>0</th>\n",
       "      <td>1-Methylhistidine</td>\n",
       "      <td>599.5326</td>\n",
       "      <td>130.8074</td>\n",
       "      <td>5.6231</td>\n",
       "      <td>112.1568</td>\n",
       "      <td>342.8687</td>\n",
       "      <td>825.3048</td>\n",
       "      <td>313.3522</td>\n",
       "      <td>434.3370</td>\n",
       "      <td>182.1469</td>\n",
       "      <td>...</td>\n",
       "      <td>842.5498</td>\n",
       "      <td>579.9794</td>\n",
       "      <td>446.1824</td>\n",
       "      <td>702.9679</td>\n",
       "      <td>351.9723</td>\n",
       "      <td>887.4945</td>\n",
       "      <td>389.0576</td>\n",
       "      <td>987.1664</td>\n",
       "      <td>76.3255</td>\n",
       "      <td>920.9628</td>\n",
       "    </tr>\n",
       "    <tr>\n",
       "      <th>1</th>\n",
       "      <td>1,3-Diaminopropane</td>\n",
       "      <td>864.8976</td>\n",
       "      <td>45.2125</td>\n",
       "      <td>415.1271</td>\n",
       "      <td>518.9421</td>\n",
       "      <td>115.4816</td>\n",
       "      <td>548.1262</td>\n",
       "      <td>416.3232</td>\n",
       "      <td>647.2947</td>\n",
       "      <td>196.4134</td>\n",
       "      <td>...</td>\n",
       "      <td>102.7487</td>\n",
       "      <td>980.1498</td>\n",
       "      <td>435.4666</td>\n",
       "      <td>180.7155</td>\n",
       "      <td>727.0736</td>\n",
       "      <td>539.1433</td>\n",
       "      <td>196.8919</td>\n",
       "      <td>27.8801</td>\n",
       "      <td>839.1451</td>\n",
       "      <td>310.0854</td>\n",
       "    </tr>\n",
       "    <tr>\n",
       "      <th>2</th>\n",
       "      <td>2-Ketobutyric acid</td>\n",
       "      <td>137.2715</td>\n",
       "      <td>434.5991</td>\n",
       "      <td>279.7073</td>\n",
       "      <td>756.8208</td>\n",
       "      <td>267.1745</td>\n",
       "      <td>733.7809</td>\n",
       "      <td>599.9630</td>\n",
       "      <td>1.0733</td>\n",
       "      <td>629.0622</td>\n",
       "      <td>...</td>\n",
       "      <td>205.2774</td>\n",
       "      <td>49.5604</td>\n",
       "      <td>306.0978</td>\n",
       "      <td>734.6848</td>\n",
       "      <td>298.8214</td>\n",
       "      <td>570.9356</td>\n",
       "      <td>669.0936</td>\n",
       "      <td>950.1628</td>\n",
       "      <td>354.7930</td>\n",
       "      <td>641.6338</td>\n",
       "    </tr>\n",
       "    <tr>\n",
       "      <th>3</th>\n",
       "      <td>2-Hydroxybutyric acid</td>\n",
       "      <td>530.7086</td>\n",
       "      <td>593.2817</td>\n",
       "      <td>220.4830</td>\n",
       "      <td>599.8230</td>\n",
       "      <td>280.7625</td>\n",
       "      <td>59.0322</td>\n",
       "      <td>33.4500</td>\n",
       "      <td>401.8823</td>\n",
       "      <td>321.2285</td>\n",
       "      <td>...</td>\n",
       "      <td>76.5761</td>\n",
       "      <td>185.1008</td>\n",
       "      <td>147.1899</td>\n",
       "      <td>67.2840</td>\n",
       "      <td>142.3333</td>\n",
       "      <td>592.0218</td>\n",
       "      <td>675.3555</td>\n",
       "      <td>759.8203</td>\n",
       "      <td>647.9762</td>\n",
       "      <td>306.1477</td>\n",
       "    </tr>\n",
       "    <tr>\n",
       "      <th>4</th>\n",
       "      <td>2-Methoxyestrone</td>\n",
       "      <td>400.3906</td>\n",
       "      <td>414.7068</td>\n",
       "      <td>524.1155</td>\n",
       "      <td>904.2617</td>\n",
       "      <td>280.1326</td>\n",
       "      <td>32.9417</td>\n",
       "      <td>319.0162</td>\n",
       "      <td>580.6262</td>\n",
       "      <td>396.3317</td>\n",
       "      <td>...</td>\n",
       "      <td>4.5932</td>\n",
       "      <td>256.3173</td>\n",
       "      <td>990.8723</td>\n",
       "      <td>93.3672</td>\n",
       "      <td>241.3523</td>\n",
       "      <td>436.7753</td>\n",
       "      <td>225.4027</td>\n",
       "      <td>622.8292</td>\n",
       "      <td>374.4432</td>\n",
       "      <td>544.2500</td>\n",
       "    </tr>\n",
       "    <tr>\n",
       "      <th>...</th>\n",
       "      <td>...</td>\n",
       "      <td>...</td>\n",
       "      <td>...</td>\n",
       "      <td>...</td>\n",
       "      <td>...</td>\n",
       "      <td>...</td>\n",
       "      <td>...</td>\n",
       "      <td>...</td>\n",
       "      <td>...</td>\n",
       "      <td>...</td>\n",
       "      <td>...</td>\n",
       "      <td>...</td>\n",
       "      <td>...</td>\n",
       "      <td>...</td>\n",
       "      <td>...</td>\n",
       "      <td>...</td>\n",
       "      <td>...</td>\n",
       "      <td>...</td>\n",
       "      <td>...</td>\n",
       "      <td>...</td>\n",
       "      <td>...</td>\n",
       "    </tr>\n",
       "    <tr>\n",
       "      <th>5656</th>\n",
       "      <td>Succinylserine</td>\n",
       "      <td>761.5220</td>\n",
       "      <td>503.0347</td>\n",
       "      <td>506.3095</td>\n",
       "      <td>11.2133</td>\n",
       "      <td>547.3082</td>\n",
       "      <td>93.5416</td>\n",
       "      <td>929.4531</td>\n",
       "      <td>682.6190</td>\n",
       "      <td>38.7209</td>\n",
       "      <td>...</td>\n",
       "      <td>886.8764</td>\n",
       "      <td>435.0977</td>\n",
       "      <td>276.9569</td>\n",
       "      <td>40.2080</td>\n",
       "      <td>359.3003</td>\n",
       "      <td>180.9991</td>\n",
       "      <td>860.2736</td>\n",
       "      <td>420.7622</td>\n",
       "      <td>84.7589</td>\n",
       "      <td>967.8542</td>\n",
       "    </tr>\n",
       "    <tr>\n",
       "      <th>5657</th>\n",
       "      <td>4-Hydroxylidocaine</td>\n",
       "      <td>434.1394</td>\n",
       "      <td>38.8280</td>\n",
       "      <td>423.8500</td>\n",
       "      <td>324.7733</td>\n",
       "      <td>640.4306</td>\n",
       "      <td>170.4279</td>\n",
       "      <td>225.4530</td>\n",
       "      <td>935.5911</td>\n",
       "      <td>995.6767</td>\n",
       "      <td>...</td>\n",
       "      <td>682.8840</td>\n",
       "      <td>147.4198</td>\n",
       "      <td>376.4324</td>\n",
       "      <td>320.7335</td>\n",
       "      <td>658.2887</td>\n",
       "      <td>507.5782</td>\n",
       "      <td>195.1674</td>\n",
       "      <td>165.1324</td>\n",
       "      <td>353.5497</td>\n",
       "      <td>308.9591</td>\n",
       "    </tr>\n",
       "    <tr>\n",
       "      <th>5658</th>\n",
       "      <td>Tryptophan N-glucoside</td>\n",
       "      <td>882.6050</td>\n",
       "      <td>25.2865</td>\n",
       "      <td>339.2979</td>\n",
       "      <td>328.8618</td>\n",
       "      <td>547.7629</td>\n",
       "      <td>394.7974</td>\n",
       "      <td>27.5363</td>\n",
       "      <td>57.3540</td>\n",
       "      <td>461.4065</td>\n",
       "      <td>...</td>\n",
       "      <td>770.3846</td>\n",
       "      <td>765.3990</td>\n",
       "      <td>922.4892</td>\n",
       "      <td>265.3067</td>\n",
       "      <td>97.8000</td>\n",
       "      <td>837.7626</td>\n",
       "      <td>563.9811</td>\n",
       "      <td>738.4937</td>\n",
       "      <td>137.3807</td>\n",
       "      <td>892.9729</td>\n",
       "    </tr>\n",
       "    <tr>\n",
       "      <th>5659</th>\n",
       "      <td>6-Amino-5-formamido-1,3-dimethyluracil</td>\n",
       "      <td>441.6934</td>\n",
       "      <td>485.2161</td>\n",
       "      <td>78.5605</td>\n",
       "      <td>370.8682</td>\n",
       "      <td>342.3166</td>\n",
       "      <td>778.4752</td>\n",
       "      <td>56.2918</td>\n",
       "      <td>695.7316</td>\n",
       "      <td>262.4303</td>\n",
       "      <td>...</td>\n",
       "      <td>670.5072</td>\n",
       "      <td>845.0429</td>\n",
       "      <td>672.2825</td>\n",
       "      <td>681.5266</td>\n",
       "      <td>602.5948</td>\n",
       "      <td>980.9233</td>\n",
       "      <td>31.5021</td>\n",
       "      <td>250.5693</td>\n",
       "      <td>687.8369</td>\n",
       "      <td>463.4555</td>\n",
       "    </tr>\n",
       "    <tr>\n",
       "      <th>5660</th>\n",
       "      <td>(1S,2S)-(+)-Pseudoephedrine</td>\n",
       "      <td>860.4331</td>\n",
       "      <td>525.5729</td>\n",
       "      <td>10.8529</td>\n",
       "      <td>758.9059</td>\n",
       "      <td>806.7503</td>\n",
       "      <td>234.7846</td>\n",
       "      <td>791.4887</td>\n",
       "      <td>285.8794</td>\n",
       "      <td>989.3347</td>\n",
       "      <td>...</td>\n",
       "      <td>619.6257</td>\n",
       "      <td>201.8304</td>\n",
       "      <td>893.1513</td>\n",
       "      <td>520.3824</td>\n",
       "      <td>382.4936</td>\n",
       "      <td>633.9066</td>\n",
       "      <td>10.5590</td>\n",
       "      <td>498.5120</td>\n",
       "      <td>172.4322</td>\n",
       "      <td>834.9878</td>\n",
       "    </tr>\n",
       "  </tbody>\n",
       "</table>\n",
       "<p>5661 rows × 101 columns</p>\n",
       "</div>"
      ],
      "text/plain": [
       "                                  metabolite     SA001     SA002     SA003  \\\n",
       "0                          1-Methylhistidine  599.5326  130.8074    5.6231   \n",
       "1                         1,3-Diaminopropane  864.8976   45.2125  415.1271   \n",
       "2                         2-Ketobutyric acid  137.2715  434.5991  279.7073   \n",
       "3                      2-Hydroxybutyric acid  530.7086  593.2817  220.4830   \n",
       "4                           2-Methoxyestrone  400.3906  414.7068  524.1155   \n",
       "...                                      ...       ...       ...       ...   \n",
       "5656                          Succinylserine  761.5220  503.0347  506.3095   \n",
       "5657                      4-Hydroxylidocaine  434.1394   38.8280  423.8500   \n",
       "5658                  Tryptophan N-glucoside  882.6050   25.2865  339.2979   \n",
       "5659  6-Amino-5-formamido-1,3-dimethyluracil  441.6934  485.2161   78.5605   \n",
       "5660             (1S,2S)-(+)-Pseudoephedrine  860.4331  525.5729   10.8529   \n",
       "\n",
       "         SA004     SA005     SA006     SA007     SA008     SA009  ...  \\\n",
       "0     112.1568  342.8687  825.3048  313.3522  434.3370  182.1469  ...   \n",
       "1     518.9421  115.4816  548.1262  416.3232  647.2947  196.4134  ...   \n",
       "2     756.8208  267.1745  733.7809  599.9630    1.0733  629.0622  ...   \n",
       "3     599.8230  280.7625   59.0322   33.4500  401.8823  321.2285  ...   \n",
       "4     904.2617  280.1326   32.9417  319.0162  580.6262  396.3317  ...   \n",
       "...        ...       ...       ...       ...       ...       ...  ...   \n",
       "5656   11.2133  547.3082   93.5416  929.4531  682.6190   38.7209  ...   \n",
       "5657  324.7733  640.4306  170.4279  225.4530  935.5911  995.6767  ...   \n",
       "5658  328.8618  547.7629  394.7974   27.5363   57.3540  461.4065  ...   \n",
       "5659  370.8682  342.3166  778.4752   56.2918  695.7316  262.4303  ...   \n",
       "5660  758.9059  806.7503  234.7846  791.4887  285.8794  989.3347  ...   \n",
       "\n",
       "         SA091     SA092     SA093     SA094     SA095     SA096     SA097  \\\n",
       "0     842.5498  579.9794  446.1824  702.9679  351.9723  887.4945  389.0576   \n",
       "1     102.7487  980.1498  435.4666  180.7155  727.0736  539.1433  196.8919   \n",
       "2     205.2774   49.5604  306.0978  734.6848  298.8214  570.9356  669.0936   \n",
       "3      76.5761  185.1008  147.1899   67.2840  142.3333  592.0218  675.3555   \n",
       "4       4.5932  256.3173  990.8723   93.3672  241.3523  436.7753  225.4027   \n",
       "...        ...       ...       ...       ...       ...       ...       ...   \n",
       "5656  886.8764  435.0977  276.9569   40.2080  359.3003  180.9991  860.2736   \n",
       "5657  682.8840  147.4198  376.4324  320.7335  658.2887  507.5782  195.1674   \n",
       "5658  770.3846  765.3990  922.4892  265.3067   97.8000  837.7626  563.9811   \n",
       "5659  670.5072  845.0429  672.2825  681.5266  602.5948  980.9233   31.5021   \n",
       "5660  619.6257  201.8304  893.1513  520.3824  382.4936  633.9066   10.5590   \n",
       "\n",
       "         SA098     SA099     SA100  \n",
       "0     987.1664   76.3255  920.9628  \n",
       "1      27.8801  839.1451  310.0854  \n",
       "2     950.1628  354.7930  641.6338  \n",
       "3     759.8203  647.9762  306.1477  \n",
       "4     622.8292  374.4432  544.2500  \n",
       "...        ...       ...       ...  \n",
       "5656  420.7622   84.7589  967.8542  \n",
       "5657  165.1324  353.5497  308.9591  \n",
       "5658  738.4937  137.3807  892.9729  \n",
       "5659  250.5693  687.8369  463.4555  \n",
       "5660  498.5120  172.4322  834.9878  \n",
       "\n",
       "[5661 rows x 101 columns]"
      ]
     },
     "execution_count": 31,
     "metadata": {},
     "output_type": "execute_result"
    }
   ],
   "source": [
    "layerData"
   ]
  },
  {
   "cell_type": "markdown",
   "id": "9ca37708-0d61-4fdc-b267-0c789b133db7",
   "metadata": {
    "tags": []
   },
   "source": [
    "# Bulk RNASeq data"
   ]
  },
  {
   "cell_type": "markdown",
   "id": "f53a141e-46a3-41b2-9c2c-37c0127877c5",
   "metadata": {
    "tags": []
   },
   "source": [
    "## Create synthetic data"
   ]
  },
  {
   "cell_type": "markdown",
   "id": "3aba79cf-3415-4aa3-ad8b-5423524b7a9e",
   "metadata": {
    "tags": []
   },
   "source": [
    "Load features"
   ]
  },
  {
   "cell_type": "code",
   "execution_count": 32,
   "id": "242a25b2-1827-4353-a541-da1fdcaadb5c",
   "metadata": {
    "tags": []
   },
   "outputs": [
    {
     "name": "stdout",
     "output_type": "stream",
     "text": [
      "Number of features: 60649\n"
     ]
    }
   ],
   "source": [
    "features = open(\"omic_features/hg38_ensembl_ids.txt\").read().splitlines()\n",
    "print(f\"Number of features: {len(features)}\")"
   ]
  },
  {
   "cell_type": "code",
   "execution_count": 33,
   "id": "ceaac274-f3a1-4f90-9186-b541cb167d89",
   "metadata": {
    "tags": []
   },
   "outputs": [],
   "source": [
    "duration, data = simulate_data(\"gene\", features, minValue=0, maxValue=1000, integers=True)"
   ]
  },
  {
   "cell_type": "code",
   "execution_count": 34,
   "id": "de383571-2652-4685-b7a8-3c2ad5f58bcf",
   "metadata": {
    "tags": []
   },
   "outputs": [
    {
     "name": "stdout",
     "output_type": "stream",
     "text": [
      "Time to create simulated data: 0.88 s\n"
     ]
    }
   ],
   "source": [
    "print(f\"Time to create simulated data: {duration} s\")"
   ]
  },
  {
   "cell_type": "markdown",
   "id": "b28dc291-9b30-41b4-b8a2-119b39c0b898",
   "metadata": {},
   "source": [
    "Get memory usage of simulated data"
   ]
  },
  {
   "cell_type": "code",
   "execution_count": 35,
   "id": "d67a56ab-e7c3-4f02-ad45-2a80eb708701",
   "metadata": {
    "tags": []
   },
   "outputs": [],
   "source": [
    "memoryUsage = memory_usage_simulated_data(data)"
   ]
  },
  {
   "cell_type": "code",
   "execution_count": 36,
   "id": "dd9e4e55-dd56-483d-877d-6d564e0d099b",
   "metadata": {
    "tags": []
   },
   "outputs": [
    {
     "name": "stdout",
     "output_type": "stream",
     "text": [
      "Memory usage of simulated data: 49.9 MB\n"
     ]
    }
   ],
   "source": [
    "print(f\"Memory usage of simulated data: {memoryUsage}\")"
   ]
  },
  {
   "cell_type": "markdown",
   "id": "47415e16-f205-4d6d-b3fa-42bdc9d805de",
   "metadata": {},
   "source": [
    "## Store synthetic data"
   ]
  },
  {
   "cell_type": "code",
   "execution_count": 37,
   "id": "8202dd36-6cda-4c44-ba21-f2f0a90118db",
   "metadata": {
    "tags": []
   },
   "outputs": [],
   "source": [
    "duration, _ = store_data(data, \"rnaseq\", \"raw\", \"Raw bulk RNASeq data.\")"
   ]
  },
  {
   "cell_type": "code",
   "execution_count": 38,
   "id": "f851d3e5-8318-4f73-abb6-e28ebdfab1a3",
   "metadata": {
    "tags": []
   },
   "outputs": [
    {
     "name": "stdout",
     "output_type": "stream",
     "text": [
      "Time to store simulated data: 0.42 s\n"
     ]
    }
   ],
   "source": [
    "print(f\"Time to store simulated data: {duration} s\")"
   ]
  },
  {
   "cell_type": "markdown",
   "id": "eed8241c-2490-4e0f-895f-3175b4d0107a",
   "metadata": {},
   "source": [
    "## Retrieve stored data"
   ]
  },
  {
   "cell_type": "code",
   "execution_count": 39,
   "id": "a17ac281-c41b-4c5e-bb38-369bf05b9c52",
   "metadata": {
    "tags": []
   },
   "outputs": [],
   "source": [
    "duration, layerData = load_layer(\"rnaseq\")"
   ]
  },
  {
   "cell_type": "code",
   "execution_count": 40,
   "id": "d197da3a-6ecc-4029-88e8-9f8bffa196be",
   "metadata": {
    "tags": []
   },
   "outputs": [
    {
     "name": "stdout",
     "output_type": "stream",
     "text": [
      "Time to load stored layer: 0.15 s\n"
     ]
    }
   ],
   "source": [
    "print(f\"Time to load stored layer: {duration} s\")"
   ]
  },
  {
   "cell_type": "code",
   "execution_count": 41,
   "id": "84e095a3-9e77-469e-b7bd-752bdec6cde5",
   "metadata": {
    "tags": []
   },
   "outputs": [
    {
     "data": {
      "text/html": [
       "<div>\n",
       "<style scoped>\n",
       "    .dataframe tbody tr th:only-of-type {\n",
       "        vertical-align: middle;\n",
       "    }\n",
       "\n",
       "    .dataframe tbody tr th {\n",
       "        vertical-align: top;\n",
       "    }\n",
       "\n",
       "    .dataframe thead th {\n",
       "        text-align: right;\n",
       "    }\n",
       "</style>\n",
       "<table border=\"1\" class=\"dataframe\">\n",
       "  <thead>\n",
       "    <tr style=\"text-align: right;\">\n",
       "      <th></th>\n",
       "      <th>gene</th>\n",
       "      <th>SA001</th>\n",
       "      <th>SA002</th>\n",
       "      <th>SA003</th>\n",
       "      <th>SA004</th>\n",
       "      <th>SA005</th>\n",
       "      <th>SA006</th>\n",
       "      <th>SA007</th>\n",
       "      <th>SA008</th>\n",
       "      <th>SA009</th>\n",
       "      <th>...</th>\n",
       "      <th>SA091</th>\n",
       "      <th>SA092</th>\n",
       "      <th>SA093</th>\n",
       "      <th>SA094</th>\n",
       "      <th>SA095</th>\n",
       "      <th>SA096</th>\n",
       "      <th>SA097</th>\n",
       "      <th>SA098</th>\n",
       "      <th>SA099</th>\n",
       "      <th>SA100</th>\n",
       "    </tr>\n",
       "  </thead>\n",
       "  <tbody>\n",
       "    <tr>\n",
       "      <th>0</th>\n",
       "      <td>ENSG00000223972</td>\n",
       "      <td>698</td>\n",
       "      <td>944</td>\n",
       "      <td>287</td>\n",
       "      <td>810</td>\n",
       "      <td>161</td>\n",
       "      <td>665</td>\n",
       "      <td>806</td>\n",
       "      <td>739</td>\n",
       "      <td>322</td>\n",
       "      <td>...</td>\n",
       "      <td>884</td>\n",
       "      <td>704</td>\n",
       "      <td>889</td>\n",
       "      <td>389</td>\n",
       "      <td>740</td>\n",
       "      <td>654</td>\n",
       "      <td>949</td>\n",
       "      <td>982</td>\n",
       "      <td>542</td>\n",
       "      <td>661</td>\n",
       "    </tr>\n",
       "    <tr>\n",
       "      <th>1</th>\n",
       "      <td>ENSG00000227232</td>\n",
       "      <td>410</td>\n",
       "      <td>745</td>\n",
       "      <td>235</td>\n",
       "      <td>34</td>\n",
       "      <td>808</td>\n",
       "      <td>923</td>\n",
       "      <td>806</td>\n",
       "      <td>655</td>\n",
       "      <td>898</td>\n",
       "      <td>...</td>\n",
       "      <td>294</td>\n",
       "      <td>902</td>\n",
       "      <td>446</td>\n",
       "      <td>593</td>\n",
       "      <td>230</td>\n",
       "      <td>937</td>\n",
       "      <td>709</td>\n",
       "      <td>439</td>\n",
       "      <td>936</td>\n",
       "      <td>791</td>\n",
       "    </tr>\n",
       "    <tr>\n",
       "      <th>2</th>\n",
       "      <td>ENSG00000278267</td>\n",
       "      <td>324</td>\n",
       "      <td>645</td>\n",
       "      <td>403</td>\n",
       "      <td>207</td>\n",
       "      <td>231</td>\n",
       "      <td>457</td>\n",
       "      <td>433</td>\n",
       "      <td>694</td>\n",
       "      <td>721</td>\n",
       "      <td>...</td>\n",
       "      <td>242</td>\n",
       "      <td>315</td>\n",
       "      <td>770</td>\n",
       "      <td>890</td>\n",
       "      <td>45</td>\n",
       "      <td>959</td>\n",
       "      <td>665</td>\n",
       "      <td>660</td>\n",
       "      <td>23</td>\n",
       "      <td>397</td>\n",
       "    </tr>\n",
       "    <tr>\n",
       "      <th>3</th>\n",
       "      <td>ENSG00000243485</td>\n",
       "      <td>858</td>\n",
       "      <td>323</td>\n",
       "      <td>446</td>\n",
       "      <td>933</td>\n",
       "      <td>665</td>\n",
       "      <td>967</td>\n",
       "      <td>428</td>\n",
       "      <td>455</td>\n",
       "      <td>752</td>\n",
       "      <td>...</td>\n",
       "      <td>707</td>\n",
       "      <td>166</td>\n",
       "      <td>42</td>\n",
       "      <td>987</td>\n",
       "      <td>70</td>\n",
       "      <td>538</td>\n",
       "      <td>683</td>\n",
       "      <td>750</td>\n",
       "      <td>736</td>\n",
       "      <td>866</td>\n",
       "    </tr>\n",
       "    <tr>\n",
       "      <th>4</th>\n",
       "      <td>ENSG00000284332</td>\n",
       "      <td>32</td>\n",
       "      <td>867</td>\n",
       "      <td>836</td>\n",
       "      <td>595</td>\n",
       "      <td>153</td>\n",
       "      <td>71</td>\n",
       "      <td>441</td>\n",
       "      <td>845</td>\n",
       "      <td>210</td>\n",
       "      <td>...</td>\n",
       "      <td>58</td>\n",
       "      <td>886</td>\n",
       "      <td>414</td>\n",
       "      <td>734</td>\n",
       "      <td>667</td>\n",
       "      <td>964</td>\n",
       "      <td>609</td>\n",
       "      <td>850</td>\n",
       "      <td>856</td>\n",
       "      <td>431</td>\n",
       "    </tr>\n",
       "    <tr>\n",
       "      <th>...</th>\n",
       "      <td>...</td>\n",
       "      <td>...</td>\n",
       "      <td>...</td>\n",
       "      <td>...</td>\n",
       "      <td>...</td>\n",
       "      <td>...</td>\n",
       "      <td>...</td>\n",
       "      <td>...</td>\n",
       "      <td>...</td>\n",
       "      <td>...</td>\n",
       "      <td>...</td>\n",
       "      <td>...</td>\n",
       "      <td>...</td>\n",
       "      <td>...</td>\n",
       "      <td>...</td>\n",
       "      <td>...</td>\n",
       "      <td>...</td>\n",
       "      <td>...</td>\n",
       "      <td>...</td>\n",
       "      <td>...</td>\n",
       "      <td>...</td>\n",
       "    </tr>\n",
       "    <tr>\n",
       "      <th>60600</th>\n",
       "      <td>ENSG00000198695</td>\n",
       "      <td>475</td>\n",
       "      <td>64</td>\n",
       "      <td>149</td>\n",
       "      <td>615</td>\n",
       "      <td>335</td>\n",
       "      <td>635</td>\n",
       "      <td>32</td>\n",
       "      <td>920</td>\n",
       "      <td>397</td>\n",
       "      <td>...</td>\n",
       "      <td>43</td>\n",
       "      <td>254</td>\n",
       "      <td>94</td>\n",
       "      <td>244</td>\n",
       "      <td>702</td>\n",
       "      <td>417</td>\n",
       "      <td>721</td>\n",
       "      <td>941</td>\n",
       "      <td>78</td>\n",
       "      <td>548</td>\n",
       "    </tr>\n",
       "    <tr>\n",
       "      <th>60601</th>\n",
       "      <td>ENSG00000210194</td>\n",
       "      <td>673</td>\n",
       "      <td>438</td>\n",
       "      <td>743</td>\n",
       "      <td>489</td>\n",
       "      <td>565</td>\n",
       "      <td>625</td>\n",
       "      <td>461</td>\n",
       "      <td>821</td>\n",
       "      <td>82</td>\n",
       "      <td>...</td>\n",
       "      <td>513</td>\n",
       "      <td>453</td>\n",
       "      <td>118</td>\n",
       "      <td>30</td>\n",
       "      <td>136</td>\n",
       "      <td>579</td>\n",
       "      <td>349</td>\n",
       "      <td>834</td>\n",
       "      <td>797</td>\n",
       "      <td>542</td>\n",
       "    </tr>\n",
       "    <tr>\n",
       "      <th>60602</th>\n",
       "      <td>ENSG00000198727</td>\n",
       "      <td>567</td>\n",
       "      <td>632</td>\n",
       "      <td>940</td>\n",
       "      <td>112</td>\n",
       "      <td>900</td>\n",
       "      <td>304</td>\n",
       "      <td>443</td>\n",
       "      <td>525</td>\n",
       "      <td>351</td>\n",
       "      <td>...</td>\n",
       "      <td>71</td>\n",
       "      <td>547</td>\n",
       "      <td>104</td>\n",
       "      <td>597</td>\n",
       "      <td>658</td>\n",
       "      <td>428</td>\n",
       "      <td>322</td>\n",
       "      <td>786</td>\n",
       "      <td>563</td>\n",
       "      <td>628</td>\n",
       "    </tr>\n",
       "    <tr>\n",
       "      <th>60603</th>\n",
       "      <td>ENSG00000210195</td>\n",
       "      <td>434</td>\n",
       "      <td>985</td>\n",
       "      <td>226</td>\n",
       "      <td>221</td>\n",
       "      <td>16</td>\n",
       "      <td>22</td>\n",
       "      <td>461</td>\n",
       "      <td>341</td>\n",
       "      <td>446</td>\n",
       "      <td>...</td>\n",
       "      <td>559</td>\n",
       "      <td>676</td>\n",
       "      <td>598</td>\n",
       "      <td>420</td>\n",
       "      <td>673</td>\n",
       "      <td>703</td>\n",
       "      <td>670</td>\n",
       "      <td>585</td>\n",
       "      <td>482</td>\n",
       "      <td>30</td>\n",
       "    </tr>\n",
       "    <tr>\n",
       "      <th>60604</th>\n",
       "      <td>ENSG00000210196</td>\n",
       "      <td>108</td>\n",
       "      <td>349</td>\n",
       "      <td>176</td>\n",
       "      <td>498</td>\n",
       "      <td>719</td>\n",
       "      <td>15</td>\n",
       "      <td>910</td>\n",
       "      <td>885</td>\n",
       "      <td>890</td>\n",
       "      <td>...</td>\n",
       "      <td>507</td>\n",
       "      <td>570</td>\n",
       "      <td>457</td>\n",
       "      <td>903</td>\n",
       "      <td>944</td>\n",
       "      <td>520</td>\n",
       "      <td>239</td>\n",
       "      <td>382</td>\n",
       "      <td>543</td>\n",
       "      <td>349</td>\n",
       "    </tr>\n",
       "  </tbody>\n",
       "</table>\n",
       "<p>60605 rows × 101 columns</p>\n",
       "</div>"
      ],
      "text/plain": [
       "                  gene  SA001  SA002  SA003  SA004  SA005  SA006  SA007  \\\n",
       "0      ENSG00000223972    698    944    287    810    161    665    806   \n",
       "1      ENSG00000227232    410    745    235     34    808    923    806   \n",
       "2      ENSG00000278267    324    645    403    207    231    457    433   \n",
       "3      ENSG00000243485    858    323    446    933    665    967    428   \n",
       "4      ENSG00000284332     32    867    836    595    153     71    441   \n",
       "...                ...    ...    ...    ...    ...    ...    ...    ...   \n",
       "60600  ENSG00000198695    475     64    149    615    335    635     32   \n",
       "60601  ENSG00000210194    673    438    743    489    565    625    461   \n",
       "60602  ENSG00000198727    567    632    940    112    900    304    443   \n",
       "60603  ENSG00000210195    434    985    226    221     16     22    461   \n",
       "60604  ENSG00000210196    108    349    176    498    719     15    910   \n",
       "\n",
       "       SA008  SA009  ...  SA091  SA092  SA093  SA094  SA095  SA096  SA097  \\\n",
       "0        739    322  ...    884    704    889    389    740    654    949   \n",
       "1        655    898  ...    294    902    446    593    230    937    709   \n",
       "2        694    721  ...    242    315    770    890     45    959    665   \n",
       "3        455    752  ...    707    166     42    987     70    538    683   \n",
       "4        845    210  ...     58    886    414    734    667    964    609   \n",
       "...      ...    ...  ...    ...    ...    ...    ...    ...    ...    ...   \n",
       "60600    920    397  ...     43    254     94    244    702    417    721   \n",
       "60601    821     82  ...    513    453    118     30    136    579    349   \n",
       "60602    525    351  ...     71    547    104    597    658    428    322   \n",
       "60603    341    446  ...    559    676    598    420    673    703    670   \n",
       "60604    885    890  ...    507    570    457    903    944    520    239   \n",
       "\n",
       "       SA098  SA099  SA100  \n",
       "0        982    542    661  \n",
       "1        439    936    791  \n",
       "2        660     23    397  \n",
       "3        750    736    866  \n",
       "4        850    856    431  \n",
       "...      ...    ...    ...  \n",
       "60600    941     78    548  \n",
       "60601    834    797    542  \n",
       "60602    786    563    628  \n",
       "60603    585    482     30  \n",
       "60604    382    543    349  \n",
       "\n",
       "[60605 rows x 101 columns]"
      ]
     },
     "execution_count": 41,
     "metadata": {},
     "output_type": "execute_result"
    }
   ],
   "source": [
    "layerData"
   ]
  },
  {
   "cell_type": "markdown",
   "id": "c27c3c9d-ca15-4be1-97be-056f563b1198",
   "metadata": {
    "tags": []
   },
   "source": [
    "## Retrieve all stored features for sample"
   ]
  },
  {
   "cell_type": "code",
   "execution_count": 42,
   "id": "d37fd67a-b485-41fe-9810-7710e8534064",
   "metadata": {
    "tags": []
   },
   "outputs": [],
   "source": [
    "duration, sample = get_sample(\"rnaseq\", \"SA090\")"
   ]
  },
  {
   "cell_type": "code",
   "execution_count": 43,
   "id": "9167e7d3-b049-4601-b1f5-17c7e72a8173",
   "metadata": {
    "tags": []
   },
   "outputs": [
    {
     "name": "stdout",
     "output_type": "stream",
     "text": [
      "Time to load sample with 60605 features: 0.05 s\n"
     ]
    }
   ],
   "source": [
    "print(f\"Time to load sample with {len(sample)} features: {duration} s\")"
   ]
  },
  {
   "cell_type": "code",
   "execution_count": 44,
   "id": "ad3dec45-7e41-47b2-be6e-065bbc0399ba",
   "metadata": {
    "tags": []
   },
   "outputs": [
    {
     "name": "stdout",
     "output_type": "stream",
     "text": [
      "Memory footprint of data: 473.6 KB\n"
     ]
    }
   ],
   "source": [
    "print(f\"Memory footprint of data: {memory_usage_simulated_data(pd.Series(sample))}\")"
   ]
  },
  {
   "cell_type": "markdown",
   "id": "38e72414-993e-433f-b93e-de6e3601e565",
   "metadata": {},
   "source": [
    "## Add new sample"
   ]
  },
  {
   "cell_type": "code",
   "execution_count": 45,
   "id": "6a5d1c32-2911-4d17-a558-b8346b61113a",
   "metadata": {
    "tags": []
   },
   "outputs": [],
   "source": [
    "duration, _ = add_sample(\"rnaseq\", \"SA101\", sample)"
   ]
  },
  {
   "cell_type": "code",
   "execution_count": 46,
   "id": "adafc9e3-5205-47e5-8f73-81de3524a17c",
   "metadata": {
    "tags": []
   },
   "outputs": [
    {
     "name": "stdout",
     "output_type": "stream",
     "text": [
      "Time to add new sample with 60605 features: 0.14 s\n"
     ]
    }
   ],
   "source": [
    "print(f\"Time to add new sample with {len(sample)} features: {duration} s\")"
   ]
  },
  {
   "cell_type": "markdown",
   "id": "701936b6-09fa-4102-ae76-1a25dc1d895e",
   "metadata": {
    "tags": []
   },
   "source": [
    "# Gut microbiome data"
   ]
  },
  {
   "cell_type": "markdown",
   "id": "fa1b7816-bde7-4d1d-a604-63dc78057652",
   "metadata": {
    "tags": []
   },
   "source": [
    "## Create synthetic data"
   ]
  },
  {
   "cell_type": "markdown",
   "id": "b504a890-d90c-4079-8046-688d53183a9b",
   "metadata": {
    "tags": []
   },
   "source": [
    "Load features"
   ]
  },
  {
   "cell_type": "code",
   "execution_count": 47,
   "id": "fe4c3500-e0aa-490e-b934-43c6fbc37240",
   "metadata": {
    "tags": []
   },
   "outputs": [
    {
     "name": "stdout",
     "output_type": "stream",
     "text": [
      "Number of features: 6914\n"
     ]
    }
   ],
   "source": [
    "features = open(\"omic_features/species.txt\").read().splitlines()\n",
    "print(f\"Number of features: {len(features)}\")"
   ]
  },
  {
   "cell_type": "code",
   "execution_count": 48,
   "id": "9eb438c8-2015-47fa-947a-1e34c7051ccb",
   "metadata": {
    "tags": []
   },
   "outputs": [],
   "source": [
    "duration, data = simulate_data(\"species\", features, minValue=0, maxValue=1000, integers=True)"
   ]
  },
  {
   "cell_type": "code",
   "execution_count": 49,
   "id": "277f6d4f-1855-41cf-8d91-7f825a8c0f41",
   "metadata": {
    "tags": []
   },
   "outputs": [
    {
     "name": "stdout",
     "output_type": "stream",
     "text": [
      "Time to create simulated data: 0.13 s\n"
     ]
    }
   ],
   "source": [
    "print(f\"Time to create simulated data: {duration} s\")"
   ]
  },
  {
   "cell_type": "markdown",
   "id": "7452cc72-7e61-460d-a0ad-b2a80694d38d",
   "metadata": {},
   "source": [
    "Get memory usage of simulated data"
   ]
  },
  {
   "cell_type": "code",
   "execution_count": 50,
   "id": "50d8c72e-eda2-48f0-90f6-37aba791fa52",
   "metadata": {
    "tags": []
   },
   "outputs": [],
   "source": [
    "memoryUsage = memory_usage_simulated_data(data)"
   ]
  },
  {
   "cell_type": "code",
   "execution_count": 51,
   "id": "ea0d765b-ec29-4c00-8b60-e39aa46140e8",
   "metadata": {
    "tags": []
   },
   "outputs": [
    {
     "name": "stdout",
     "output_type": "stream",
     "text": [
      "Memory usage of simulated data: 5.8 MB\n"
     ]
    }
   ],
   "source": [
    "print(f\"Memory usage of simulated data: {memoryUsage}\")"
   ]
  },
  {
   "cell_type": "markdown",
   "id": "09928645-61b7-4b29-b4ff-863d33ac0e8d",
   "metadata": {},
   "source": [
    "## Store synthetic data"
   ]
  },
  {
   "cell_type": "code",
   "execution_count": 52,
   "id": "29778372-071f-4d6a-8ab3-44d6b9dcc7af",
   "metadata": {
    "tags": []
   },
   "outputs": [],
   "source": [
    "duration, _ = store_data(data, \"microbiome\", \"raw\", \"Raw gut microbiome data.\")"
   ]
  },
  {
   "cell_type": "code",
   "execution_count": 53,
   "id": "8b1ae6c2-9768-4520-81ca-22d7e909e092",
   "metadata": {
    "tags": []
   },
   "outputs": [
    {
     "name": "stdout",
     "output_type": "stream",
     "text": [
      "Time to store simulated data: 0.34 s\n"
     ]
    }
   ],
   "source": [
    "print(f\"Time to store simulated data: {duration} s\")"
   ]
  },
  {
   "cell_type": "markdown",
   "id": "b521dc05-4b1e-4f46-a42a-bb4bdab307a7",
   "metadata": {},
   "source": [
    "## Retrieve stored data"
   ]
  },
  {
   "cell_type": "code",
   "execution_count": 54,
   "id": "5cd3c945-2859-4ae0-a290-ffbb7b676b87",
   "metadata": {
    "tags": []
   },
   "outputs": [],
   "source": [
    "duration, layerData = load_layer(\"microbiome\")"
   ]
  },
  {
   "cell_type": "code",
   "execution_count": 55,
   "id": "e32c93bc-f03e-4055-ac48-5eec65251ec9",
   "metadata": {
    "tags": []
   },
   "outputs": [
    {
     "name": "stdout",
     "output_type": "stream",
     "text": [
      "Time to load stored layer: 0.07 s\n"
     ]
    }
   ],
   "source": [
    "print(f\"Time to load stored layer: {duration} s\")"
   ]
  },
  {
   "cell_type": "code",
   "execution_count": 56,
   "id": "12fe3846-a9d5-412d-8d1c-aab37c825180",
   "metadata": {
    "tags": []
   },
   "outputs": [
    {
     "data": {
      "text/html": [
       "<div>\n",
       "<style scoped>\n",
       "    .dataframe tbody tr th:only-of-type {\n",
       "        vertical-align: middle;\n",
       "    }\n",
       "\n",
       "    .dataframe tbody tr th {\n",
       "        vertical-align: top;\n",
       "    }\n",
       "\n",
       "    .dataframe thead th {\n",
       "        text-align: right;\n",
       "    }\n",
       "</style>\n",
       "<table border=\"1\" class=\"dataframe\">\n",
       "  <thead>\n",
       "    <tr style=\"text-align: right;\">\n",
       "      <th></th>\n",
       "      <th>species</th>\n",
       "      <th>SA001</th>\n",
       "      <th>SA002</th>\n",
       "      <th>SA003</th>\n",
       "      <th>SA004</th>\n",
       "      <th>SA005</th>\n",
       "      <th>SA006</th>\n",
       "      <th>SA007</th>\n",
       "      <th>SA008</th>\n",
       "      <th>SA009</th>\n",
       "      <th>...</th>\n",
       "      <th>SA091</th>\n",
       "      <th>SA092</th>\n",
       "      <th>SA093</th>\n",
       "      <th>SA094</th>\n",
       "      <th>SA095</th>\n",
       "      <th>SA096</th>\n",
       "      <th>SA097</th>\n",
       "      <th>SA098</th>\n",
       "      <th>SA099</th>\n",
       "      <th>SA100</th>\n",
       "    </tr>\n",
       "  </thead>\n",
       "  <tbody>\n",
       "    <tr>\n",
       "      <th>0</th>\n",
       "      <td>Bacteroides uniformis</td>\n",
       "      <td>511</td>\n",
       "      <td>348</td>\n",
       "      <td>820</td>\n",
       "      <td>450</td>\n",
       "      <td>841</td>\n",
       "      <td>77</td>\n",
       "      <td>418</td>\n",
       "      <td>683</td>\n",
       "      <td>342</td>\n",
       "      <td>...</td>\n",
       "      <td>755</td>\n",
       "      <td>784</td>\n",
       "      <td>45</td>\n",
       "      <td>979</td>\n",
       "      <td>522</td>\n",
       "      <td>531</td>\n",
       "      <td>999</td>\n",
       "      <td>59</td>\n",
       "      <td>253</td>\n",
       "      <td>146</td>\n",
       "    </tr>\n",
       "    <tr>\n",
       "      <th>1</th>\n",
       "      <td>Bacteroides ovatus</td>\n",
       "      <td>644</td>\n",
       "      <td>431</td>\n",
       "      <td>772</td>\n",
       "      <td>913</td>\n",
       "      <td>790</td>\n",
       "      <td>290</td>\n",
       "      <td>366</td>\n",
       "      <td>239</td>\n",
       "      <td>251</td>\n",
       "      <td>...</td>\n",
       "      <td>15</td>\n",
       "      <td>270</td>\n",
       "      <td>279</td>\n",
       "      <td>903</td>\n",
       "      <td>963</td>\n",
       "      <td>958</td>\n",
       "      <td>489</td>\n",
       "      <td>429</td>\n",
       "      <td>541</td>\n",
       "      <td>794</td>\n",
       "    </tr>\n",
       "    <tr>\n",
       "      <th>2</th>\n",
       "      <td>Bacteroides vulgatus</td>\n",
       "      <td>411</td>\n",
       "      <td>267</td>\n",
       "      <td>241</td>\n",
       "      <td>212</td>\n",
       "      <td>574</td>\n",
       "      <td>919</td>\n",
       "      <td>685</td>\n",
       "      <td>59</td>\n",
       "      <td>539</td>\n",
       "      <td>...</td>\n",
       "      <td>882</td>\n",
       "      <td>739</td>\n",
       "      <td>998</td>\n",
       "      <td>418</td>\n",
       "      <td>94</td>\n",
       "      <td>493</td>\n",
       "      <td>528</td>\n",
       "      <td>27</td>\n",
       "      <td>134</td>\n",
       "      <td>784</td>\n",
       "    </tr>\n",
       "    <tr>\n",
       "      <th>3</th>\n",
       "      <td>Blautia obeum</td>\n",
       "      <td>433</td>\n",
       "      <td>564</td>\n",
       "      <td>113</td>\n",
       "      <td>503</td>\n",
       "      <td>675</td>\n",
       "      <td>528</td>\n",
       "      <td>722</td>\n",
       "      <td>934</td>\n",
       "      <td>249</td>\n",
       "      <td>...</td>\n",
       "      <td>548</td>\n",
       "      <td>363</td>\n",
       "      <td>902</td>\n",
       "      <td>807</td>\n",
       "      <td>146</td>\n",
       "      <td>633</td>\n",
       "      <td>744</td>\n",
       "      <td>334</td>\n",
       "      <td>607</td>\n",
       "      <td>349</td>\n",
       "    </tr>\n",
       "    <tr>\n",
       "      <th>4</th>\n",
       "      <td>[Eubacterium] rectale</td>\n",
       "      <td>647</td>\n",
       "      <td>167</td>\n",
       "      <td>946</td>\n",
       "      <td>617</td>\n",
       "      <td>638</td>\n",
       "      <td>652</td>\n",
       "      <td>971</td>\n",
       "      <td>297</td>\n",
       "      <td>197</td>\n",
       "      <td>...</td>\n",
       "      <td>130</td>\n",
       "      <td>207</td>\n",
       "      <td>417</td>\n",
       "      <td>469</td>\n",
       "      <td>661</td>\n",
       "      <td>225</td>\n",
       "      <td>389</td>\n",
       "      <td>730</td>\n",
       "      <td>268</td>\n",
       "      <td>122</td>\n",
       "    </tr>\n",
       "    <tr>\n",
       "      <th>...</th>\n",
       "      <td>...</td>\n",
       "      <td>...</td>\n",
       "      <td>...</td>\n",
       "      <td>...</td>\n",
       "      <td>...</td>\n",
       "      <td>...</td>\n",
       "      <td>...</td>\n",
       "      <td>...</td>\n",
       "      <td>...</td>\n",
       "      <td>...</td>\n",
       "      <td>...</td>\n",
       "      <td>...</td>\n",
       "      <td>...</td>\n",
       "      <td>...</td>\n",
       "      <td>...</td>\n",
       "      <td>...</td>\n",
       "      <td>...</td>\n",
       "      <td>...</td>\n",
       "      <td>...</td>\n",
       "      <td>...</td>\n",
       "      <td>...</td>\n",
       "    </tr>\n",
       "    <tr>\n",
       "      <th>6909</th>\n",
       "      <td>Rathayibacter festucae</td>\n",
       "      <td>638</td>\n",
       "      <td>269</td>\n",
       "      <td>527</td>\n",
       "      <td>126</td>\n",
       "      <td>671</td>\n",
       "      <td>94</td>\n",
       "      <td>30</td>\n",
       "      <td>383</td>\n",
       "      <td>22</td>\n",
       "      <td>...</td>\n",
       "      <td>422</td>\n",
       "      <td>358</td>\n",
       "      <td>582</td>\n",
       "      <td>128</td>\n",
       "      <td>992</td>\n",
       "      <td>69</td>\n",
       "      <td>410</td>\n",
       "      <td>838</td>\n",
       "      <td>350</td>\n",
       "      <td>826</td>\n",
       "    </tr>\n",
       "    <tr>\n",
       "      <th>6910</th>\n",
       "      <td>Thermosipho sp. DSM 6568</td>\n",
       "      <td>642</td>\n",
       "      <td>821</td>\n",
       "      <td>623</td>\n",
       "      <td>23</td>\n",
       "      <td>578</td>\n",
       "      <td>542</td>\n",
       "      <td>131</td>\n",
       "      <td>999</td>\n",
       "      <td>410</td>\n",
       "      <td>...</td>\n",
       "      <td>198</td>\n",
       "      <td>20</td>\n",
       "      <td>442</td>\n",
       "      <td>797</td>\n",
       "      <td>371</td>\n",
       "      <td>85</td>\n",
       "      <td>456</td>\n",
       "      <td>566</td>\n",
       "      <td>179</td>\n",
       "      <td>158</td>\n",
       "    </tr>\n",
       "    <tr>\n",
       "      <th>6911</th>\n",
       "      <td>Demequina globuliformis</td>\n",
       "      <td>50</td>\n",
       "      <td>212</td>\n",
       "      <td>712</td>\n",
       "      <td>532</td>\n",
       "      <td>721</td>\n",
       "      <td>63</td>\n",
       "      <td>141</td>\n",
       "      <td>430</td>\n",
       "      <td>642</td>\n",
       "      <td>...</td>\n",
       "      <td>442</td>\n",
       "      <td>64</td>\n",
       "      <td>41</td>\n",
       "      <td>960</td>\n",
       "      <td>954</td>\n",
       "      <td>676</td>\n",
       "      <td>791</td>\n",
       "      <td>994</td>\n",
       "      <td>162</td>\n",
       "      <td>63</td>\n",
       "    </tr>\n",
       "    <tr>\n",
       "      <th>6912</th>\n",
       "      <td>Streptomyces abyssalis</td>\n",
       "      <td>182</td>\n",
       "      <td>490</td>\n",
       "      <td>323</td>\n",
       "      <td>93</td>\n",
       "      <td>919</td>\n",
       "      <td>12</td>\n",
       "      <td>813</td>\n",
       "      <td>746</td>\n",
       "      <td>283</td>\n",
       "      <td>...</td>\n",
       "      <td>844</td>\n",
       "      <td>832</td>\n",
       "      <td>423</td>\n",
       "      <td>274</td>\n",
       "      <td>774</td>\n",
       "      <td>488</td>\n",
       "      <td>706</td>\n",
       "      <td>606</td>\n",
       "      <td>417</td>\n",
       "      <td>877</td>\n",
       "    </tr>\n",
       "    <tr>\n",
       "      <th>6913</th>\n",
       "      <td>Paenibacillus sp. HBUM179190</td>\n",
       "      <td>564</td>\n",
       "      <td>373</td>\n",
       "      <td>972</td>\n",
       "      <td>54</td>\n",
       "      <td>591</td>\n",
       "      <td>876</td>\n",
       "      <td>38</td>\n",
       "      <td>952</td>\n",
       "      <td>236</td>\n",
       "      <td>...</td>\n",
       "      <td>551</td>\n",
       "      <td>586</td>\n",
       "      <td>601</td>\n",
       "      <td>946</td>\n",
       "      <td>794</td>\n",
       "      <td>468</td>\n",
       "      <td>518</td>\n",
       "      <td>987</td>\n",
       "      <td>335</td>\n",
       "      <td>72</td>\n",
       "    </tr>\n",
       "  </tbody>\n",
       "</table>\n",
       "<p>6914 rows × 101 columns</p>\n",
       "</div>"
      ],
      "text/plain": [
       "                           species  SA001  SA002  SA003  SA004  SA005  SA006  \\\n",
       "0            Bacteroides uniformis    511    348    820    450    841     77   \n",
       "1               Bacteroides ovatus    644    431    772    913    790    290   \n",
       "2             Bacteroides vulgatus    411    267    241    212    574    919   \n",
       "3                    Blautia obeum    433    564    113    503    675    528   \n",
       "4            [Eubacterium] rectale    647    167    946    617    638    652   \n",
       "...                            ...    ...    ...    ...    ...    ...    ...   \n",
       "6909        Rathayibacter festucae    638    269    527    126    671     94   \n",
       "6910      Thermosipho sp. DSM 6568    642    821    623     23    578    542   \n",
       "6911       Demequina globuliformis     50    212    712    532    721     63   \n",
       "6912        Streptomyces abyssalis    182    490    323     93    919     12   \n",
       "6913  Paenibacillus sp. HBUM179190    564    373    972     54    591    876   \n",
       "\n",
       "      SA007  SA008  SA009  ...  SA091  SA092  SA093  SA094  SA095  SA096  \\\n",
       "0       418    683    342  ...    755    784     45    979    522    531   \n",
       "1       366    239    251  ...     15    270    279    903    963    958   \n",
       "2       685     59    539  ...    882    739    998    418     94    493   \n",
       "3       722    934    249  ...    548    363    902    807    146    633   \n",
       "4       971    297    197  ...    130    207    417    469    661    225   \n",
       "...     ...    ...    ...  ...    ...    ...    ...    ...    ...    ...   \n",
       "6909     30    383     22  ...    422    358    582    128    992     69   \n",
       "6910    131    999    410  ...    198     20    442    797    371     85   \n",
       "6911    141    430    642  ...    442     64     41    960    954    676   \n",
       "6912    813    746    283  ...    844    832    423    274    774    488   \n",
       "6913     38    952    236  ...    551    586    601    946    794    468   \n",
       "\n",
       "      SA097  SA098  SA099  SA100  \n",
       "0       999     59    253    146  \n",
       "1       489    429    541    794  \n",
       "2       528     27    134    784  \n",
       "3       744    334    607    349  \n",
       "4       389    730    268    122  \n",
       "...     ...    ...    ...    ...  \n",
       "6909    410    838    350    826  \n",
       "6910    456    566    179    158  \n",
       "6911    791    994    162     63  \n",
       "6912    706    606    417    877  \n",
       "6913    518    987    335     72  \n",
       "\n",
       "[6914 rows x 101 columns]"
      ]
     },
     "execution_count": 56,
     "metadata": {},
     "output_type": "execute_result"
    }
   ],
   "source": [
    "layerData"
   ]
  },
  {
   "cell_type": "markdown",
   "id": "cf4bbfb8-00d6-4e26-a656-2ebf2bcaaf11",
   "metadata": {
    "tags": []
   },
   "source": [
    "# Genomic data (VCF)"
   ]
  },
  {
   "cell_type": "markdown",
   "id": "fb4de40d-7e22-4420-bd91-74d013931394",
   "metadata": {},
   "source": [
    "## Download data"
   ]
  },
  {
   "cell_type": "markdown",
   "id": "27a0ac6f-dae8-4b2c-8c82-9d4811f59e0a",
   "metadata": {},
   "source": [
    "The synthetic VCF file is hosted on Zenodo where is can be downloaded.\n",
    "\n",
    "[![DOI](https://zenodo.org/badge/DOI/10.5281/zenodo.12790872.svg)](https://doi.org/10.5281/zenodo.12790872)"
   ]
  },
  {
   "cell_type": "markdown",
   "id": "e4989056-2da4-408a-aa21-5c07d00bfc58",
   "metadata": {},
   "source": [
    "## Store synthetic data"
   ]
  },
  {
   "cell_type": "code",
   "execution_count": 57,
   "id": "4ff24db6-1087-4b46-8e71-ef4f98eca1de",
   "metadata": {
    "tags": []
   },
   "outputs": [],
   "source": [
    "@timeit\n",
    "def store_vcf(filename):\n",
    "    omi.layers.from_csv(layer='vcf', filename=filename, sep='\\t', chunksize=100000)\n",
    "    return None\n",
    "\n",
    "duration, _ = store_vcf(\"simulated.vcf.gz\")"
   ]
  },
  {
   "cell_type": "code",
   "execution_count": 58,
   "id": "456c7fb5-6a83-4f0e-bf01-86383dec6b80",
   "metadata": {
    "tags": []
   },
   "outputs": [
    {
     "name": "stdout",
     "output_type": "stream",
     "text": [
      "Time to store simulated data: 1928.88 s\n"
     ]
    }
   ],
   "source": [
    "print(f\"Time to store simulated data: {duration} s\")"
   ]
  },
  {
   "cell_type": "markdown",
   "id": "5d204d2b-efb1-4b45-a043-e0c77513c8ae",
   "metadata": {},
   "source": [
    "Add tag and description to layer"
   ]
  },
  {
   "cell_type": "code",
   "execution_count": 59,
   "id": "01be0b1a-d0c3-4fb7-bf57-df83298c9281",
   "metadata": {
    "tags": []
   },
   "outputs": [],
   "source": [
    "omi.layers['vcf'].set_tag(\"raw\")\n",
    "omi.layers['vcf'].set_info(\"Cohort imputed VCF.\")"
   ]
  },
  {
   "cell_type": "markdown",
   "id": "492e2f10-ff8e-4bdd-a055-87ba0630f76c",
   "metadata": {},
   "source": [
    "## Retrieve all stored features for sample"
   ]
  },
  {
   "cell_type": "code",
   "execution_count": 60,
   "id": "75ace1c1-a8dc-4082-b428-6634002cfcd8",
   "metadata": {
    "tags": []
   },
   "outputs": [],
   "source": [
    "duration, sample = get_sample(\"vcf\", \"SA090\")"
   ]
  },
  {
   "cell_type": "code",
   "execution_count": 61,
   "id": "ae9b3075-6d2d-4449-bcf3-635e018d4f99",
   "metadata": {
    "tags": []
   },
   "outputs": [
    {
     "name": "stdout",
     "output_type": "stream",
     "text": [
      "Time to load sample with 9640953 features: 1.86 s\n"
     ]
    }
   ],
   "source": [
    "print(f\"Time to load sample with {len(sample)} features: {duration} s\")"
   ]
  },
  {
   "cell_type": "code",
   "execution_count": 62,
   "id": "27b27787-6646-4c97-a86c-7e6bd544c1ac",
   "metadata": {
    "tags": []
   },
   "outputs": [
    {
     "name": "stdout",
     "output_type": "stream",
     "text": [
      "Memory footprint of data: 803.0 MB\n"
     ]
    }
   ],
   "source": [
    "print(f\"Memory footprint of data: {memory_usage_simulated_data(pd.Series(sample))}\")"
   ]
  },
  {
   "cell_type": "markdown",
   "id": "2d7c1f7b-910e-4b3f-86c4-7f8f1af8d04d",
   "metadata": {},
   "source": [
    "## Add new sample"
   ]
  },
  {
   "cell_type": "code",
   "execution_count": 63,
   "id": "33c3835e-f2b4-403f-8dec-996c7247d170",
   "metadata": {
    "tags": []
   },
   "outputs": [],
   "source": [
    "duration, _ = add_sample(\"vcf\", \"SA101\", sample)"
   ]
  },
  {
   "cell_type": "code",
   "execution_count": 64,
   "id": "dcc197ee-7daf-410c-8617-f43175224475",
   "metadata": {},
   "outputs": [
    {
     "name": "stdout",
     "output_type": "stream",
     "text": [
      "Time to add sample with 9640953 features: 9.87 s\n"
     ]
    }
   ],
   "source": [
    "print(f\"Time to add sample with {len(sample)} features: {duration} s\")"
   ]
  },
  {
   "cell_type": "markdown",
   "id": "bb341c0f-dd69-4a79-b5fe-73354ffba237",
   "metadata": {
    "tags": []
   },
   "source": [
    "## Retrieve stored data"
   ]
  },
  {
   "cell_type": "markdown",
   "id": "dddf999f-cab6-4568-9ba3-dc2097a8de58",
   "metadata": {},
   "source": [
    "VCF includes character \"#\" infront of the 'CHROM\" column. Rename column to remove character."
   ]
  },
  {
   "cell_type": "code",
   "execution_count": 65,
   "id": "061059cc-6f49-440b-a2a6-ba55be0e4f0e",
   "metadata": {
    "tags": []
   },
   "outputs": [],
   "source": [
    "omi.layers['vcf'].rename(\"'#CHROM'\", 'CHROM')"
   ]
  },
  {
   "cell_type": "code",
   "execution_count": 66,
   "id": "ed6aa79a-4e4e-41d0-ace3-32ba03ceaf8b",
   "metadata": {
    "tags": []
   },
   "outputs": [],
   "source": [
    "@timeit\n",
    "def parse_vcf(chromo, pos, columns):\n",
    "    if chromo is not None:\n",
    "        result = omi.layers['vcf'].query(f\"CHROM == '{chromo}' and POS == '{pos}'\")[columns]\n",
    "    else:\n",
    "        result = omi.layers['vcf'].select(cols=columns, where='POS', values=pos)\n",
    "    return result\n",
    "\n",
    "@timeit\n",
    "def parse_range_vcf(chromo, start, end, columns):\n",
    "    result = omi.layers['vcf'].query(f\"CHROM == '{chromo}' and POS BETWEEN {start} AND {end}\")[columns]\n",
    "    return result\n",
    "    "
   ]
  },
  {
   "cell_type": "code",
   "execution_count": 67,
   "id": "c6f1f90b-1b6e-484c-a933-bf48cfda1aa2",
   "metadata": {
    "tags": []
   },
   "outputs": [
    {
     "data": {
      "text/html": [
       "<div>\n",
       "<style scoped>\n",
       "    .dataframe tbody tr th:only-of-type {\n",
       "        vertical-align: middle;\n",
       "    }\n",
       "\n",
       "    .dataframe tbody tr th {\n",
       "        vertical-align: top;\n",
       "    }\n",
       "\n",
       "    .dataframe thead th {\n",
       "        text-align: right;\n",
       "    }\n",
       "</style>\n",
       "<table border=\"1\" class=\"dataframe\">\n",
       "  <thead>\n",
       "    <tr style=\"text-align: right;\">\n",
       "      <th></th>\n",
       "      <th>ID</th>\n",
       "      <th>SA010</th>\n",
       "      <th>SA090</th>\n",
       "    </tr>\n",
       "    <tr>\n",
       "      <th>rowid</th>\n",
       "      <th></th>\n",
       "      <th></th>\n",
       "      <th></th>\n",
       "    </tr>\n",
       "  </thead>\n",
       "  <tbody>\n",
       "    <tr>\n",
       "      <th>1654040</th>\n",
       "      <td>3:100000:G:T</td>\n",
       "      <td>1|0:0.184:0.051,0.062:0.353,0.285,0.362</td>\n",
       "      <td>0|1:0.363:0.761,0.894:0.995,0.002,0.003</td>\n",
       "    </tr>\n",
       "  </tbody>\n",
       "</table>\n",
       "</div>"
      ],
      "text/plain": [
       "                   ID                                    SA010  \\\n",
       "rowid                                                            \n",
       "1654040  3:100000:G:T  1|0:0.184:0.051,0.062:0.353,0.285,0.362   \n",
       "\n",
       "                                           SA090  \n",
       "rowid                                             \n",
       "1654040  0|1:0.363:0.761,0.894:0.995,0.002,0.003  "
      ]
     },
     "execution_count": 67,
     "metadata": {},
     "output_type": "execute_result"
    }
   ],
   "source": [
    "duration, result = parse_vcf('chr3', 100000, ['ID', 'SA010', 'SA090'])\n",
    "result     "
   ]
  },
  {
   "cell_type": "code",
   "execution_count": 68,
   "id": "d01af005-8b3a-4a01-aba0-95fd6cb0caf0",
   "metadata": {
    "tags": []
   },
   "outputs": [
    {
     "name": "stdout",
     "output_type": "stream",
     "text": [
      "Time to parse vcf: 0.1 s\n"
     ]
    }
   ],
   "source": [
    "print(f\"Time to parse vcf: {duration} s\")  "
   ]
  },
  {
   "cell_type": "code",
   "execution_count": 69,
   "id": "09a05f42-6e3a-4a70-bdf6-53addd9fa0ef",
   "metadata": {
    "tags": []
   },
   "outputs": [
    {
     "data": {
      "text/html": [
       "<div>\n",
       "<style scoped>\n",
       "    .dataframe tbody tr th:only-of-type {\n",
       "        vertical-align: middle;\n",
       "    }\n",
       "\n",
       "    .dataframe tbody tr th {\n",
       "        vertical-align: top;\n",
       "    }\n",
       "\n",
       "    .dataframe thead th {\n",
       "        text-align: right;\n",
       "    }\n",
       "</style>\n",
       "<table border=\"1\" class=\"dataframe\">\n",
       "  <thead>\n",
       "    <tr style=\"text-align: right;\">\n",
       "      <th></th>\n",
       "      <th>ID</th>\n",
       "      <th>SA010</th>\n",
       "      <th>SA090</th>\n",
       "    </tr>\n",
       "    <tr>\n",
       "      <th>rowid</th>\n",
       "      <th></th>\n",
       "      <th></th>\n",
       "      <th></th>\n",
       "    </tr>\n",
       "  </thead>\n",
       "  <tbody>\n",
       "    <tr>\n",
       "      <th>9588773</th>\n",
       "      <td>22:100000:T:A</td>\n",
       "      <td>1|1:0.542:0.438,0.166:0.957,0.016,0.027</td>\n",
       "      <td>1|0:0.888:0.686,0.946:0.231,0.194,0.575</td>\n",
       "    </tr>\n",
       "  </tbody>\n",
       "</table>\n",
       "</div>"
      ],
      "text/plain": [
       "                    ID                                    SA010  \\\n",
       "rowid                                                             \n",
       "9588773  22:100000:T:A  1|1:0.542:0.438,0.166:0.957,0.016,0.027   \n",
       "\n",
       "                                           SA090  \n",
       "rowid                                             \n",
       "9588773  1|0:0.888:0.686,0.946:0.231,0.194,0.575  "
      ]
     },
     "execution_count": 69,
     "metadata": {},
     "output_type": "execute_result"
    }
   ],
   "source": [
    "duration, result = parse_vcf('chr22', 100000, ['ID', 'SA010', 'SA090'])\n",
    "result"
   ]
  },
  {
   "cell_type": "code",
   "execution_count": 70,
   "id": "34e8b93e-e629-4b97-8ac4-5cf094849db0",
   "metadata": {
    "tags": []
   },
   "outputs": [
    {
     "name": "stdout",
     "output_type": "stream",
     "text": [
      "Time to parse vcf: 0.1 s\n"
     ]
    }
   ],
   "source": [
    "print(f\"Time to parse vcf: {duration} s\")"
   ]
  },
  {
   "cell_type": "code",
   "execution_count": 71,
   "id": "e2e9922f-85df-4249-8720-fd64e2317233",
   "metadata": {
    "tags": []
   },
   "outputs": [
    {
     "data": {
      "text/html": [
       "<div>\n",
       "<style scoped>\n",
       "    .dataframe tbody tr th:only-of-type {\n",
       "        vertical-align: middle;\n",
       "    }\n",
       "\n",
       "    .dataframe tbody tr th {\n",
       "        vertical-align: top;\n",
       "    }\n",
       "\n",
       "    .dataframe thead th {\n",
       "        text-align: right;\n",
       "    }\n",
       "</style>\n",
       "<table border=\"1\" class=\"dataframe\">\n",
       "  <thead>\n",
       "    <tr style=\"text-align: right;\">\n",
       "      <th></th>\n",
       "      <th>POS</th>\n",
       "      <th>ID</th>\n",
       "      <th>SA010</th>\n",
       "      <th>SA090</th>\n",
       "    </tr>\n",
       "    <tr>\n",
       "      <th>rowid</th>\n",
       "      <th></th>\n",
       "      <th></th>\n",
       "      <th></th>\n",
       "      <th></th>\n",
       "    </tr>\n",
       "  </thead>\n",
       "  <tbody>\n",
       "    <tr>\n",
       "      <th>90000</th>\n",
       "      <td>100000</td>\n",
       "      <td>1:100000:G:A</td>\n",
       "      <td>0|1:0.641:0.88,0.203:0.934,0.052,0.014</td>\n",
       "      <td>0|1:0.322:0.518,0.689:0.519,0.382,0.099</td>\n",
       "    </tr>\n",
       "    <tr>\n",
       "      <th>832932</th>\n",
       "      <td>100000</td>\n",
       "      <td>2:100000:C:T</td>\n",
       "      <td>1|0:0.144:0.462,0.846:0.759,0.197,0.044</td>\n",
       "      <td>1|0:0.72:0.378,0.539:0.059,0.664,0.277</td>\n",
       "    </tr>\n",
       "    <tr>\n",
       "      <th>1654040</th>\n",
       "      <td>100000</td>\n",
       "      <td>3:100000:G:T</td>\n",
       "      <td>1|0:0.184:0.051,0.062:0.353,0.285,0.362</td>\n",
       "      <td>0|1:0.363:0.761,0.894:0.995,0.002,0.003</td>\n",
       "    </tr>\n",
       "    <tr>\n",
       "      <th>2355176</th>\n",
       "      <td>100000</td>\n",
       "      <td>4:100000:C:G</td>\n",
       "      <td>1|0:0.363:0.021,0.732:0.172,0.233,0.595</td>\n",
       "      <td>1|0:0.119:0.441,0.84:0.413,0.083,0.504</td>\n",
       "    </tr>\n",
       "    <tr>\n",
       "      <th>3066329</th>\n",
       "      <td>100000</td>\n",
       "      <td>5:100000:C:G</td>\n",
       "      <td>0|0:0.423:0.948,0.166:0.015,0.454,0.531</td>\n",
       "      <td>0|0:0.62:0.254,0.99:0.903,0.049,0.048</td>\n",
       "    </tr>\n",
       "    <tr>\n",
       "      <th>3702775</th>\n",
       "      <td>100000</td>\n",
       "      <td>6:100000:C:A</td>\n",
       "      <td>1|1:0.17:0.174,0.625:0.935,0.006,0.059</td>\n",
       "      <td>1|0:0.07:0.751,0.039:0.772,0.095,0.133</td>\n",
       "    </tr>\n",
       "    <tr>\n",
       "      <th>4349834</th>\n",
       "      <td>100000</td>\n",
       "      <td>7:100000:A:C</td>\n",
       "      <td>1|1:0.498:0.045,0.372:0.818,0.081,0.101</td>\n",
       "      <td>0|1:0.078:0.716,0.819:0.151,0.258,0.591</td>\n",
       "    </tr>\n",
       "    <tr>\n",
       "      <th>4911808</th>\n",
       "      <td>100000</td>\n",
       "      <td>8:100000:T:C</td>\n",
       "      <td>0|1:0.757:0.785,0.161:0.778,0.207,0.015</td>\n",
       "      <td>1|0:0.185:0.632,0.472:0.83,0.133,0.037</td>\n",
       "    </tr>\n",
       "    <tr>\n",
       "      <th>5459234</th>\n",
       "      <td>100000</td>\n",
       "      <td>9:100000:A:C</td>\n",
       "      <td>0|1:0.774:0.915,0.858:0.975,0.003,0.022</td>\n",
       "      <td>1|0:0.732:0.647,0.803:0.607,0.005,0.388</td>\n",
       "    </tr>\n",
       "    <tr>\n",
       "      <th>5876401</th>\n",
       "      <td>100000</td>\n",
       "      <td>10:100000:T:A</td>\n",
       "      <td>1|1:0.235:0.982,0.52:0.729,0.11,0.161</td>\n",
       "      <td>0|1:0.041:0.004,0.031:0.805,0.015,0.18</td>\n",
       "    </tr>\n",
       "    <tr>\n",
       "      <th>6370708</th>\n",
       "      <td>100000</td>\n",
       "      <td>11:100000:A:T</td>\n",
       "      <td>0|1:0.494:0.63,0.363:0.393,0.168,0.439</td>\n",
       "      <td>1|1:0.296:0.89,0.411:0.717,0.206,0.077</td>\n",
       "    </tr>\n",
       "    <tr>\n",
       "      <th>6858100</th>\n",
       "      <td>100000</td>\n",
       "      <td>12:100000:T:C</td>\n",
       "      <td>0|0:0.124:0.582,0.742:0.968,0.017,0.015</td>\n",
       "      <td>1|1:0.824:0.99,0.816:0.871,0.084,0.045</td>\n",
       "    </tr>\n",
       "    <tr>\n",
       "      <th>7315204</th>\n",
       "      <td>100000</td>\n",
       "      <td>13:100000:T:A</td>\n",
       "      <td>0|0:0.871:0.845,0.932:0.053,0.696,0.251</td>\n",
       "      <td>0|1:0.41:0.219,0.662:0.141,0.592,0.267</td>\n",
       "    </tr>\n",
       "    <tr>\n",
       "      <th>7675107</th>\n",
       "      <td>100000</td>\n",
       "      <td>14:100000:G:A</td>\n",
       "      <td>0|0:0.765:0.804,0.514:0.484,0.258,0.258</td>\n",
       "      <td>0|1:0.11:0.814,0.262:0.9,0.079,0.021</td>\n",
       "    </tr>\n",
       "    <tr>\n",
       "      <th>7987317</th>\n",
       "      <td>100000</td>\n",
       "      <td>15:100000:T:G</td>\n",
       "      <td>1|1:0.248:0.269,0.53:0.494,0.288,0.218</td>\n",
       "      <td>1|0:0.193:0.446,0.133:0.18,0.406,0.414</td>\n",
       "    </tr>\n",
       "    <tr>\n",
       "      <th>8253819</th>\n",
       "      <td>100000</td>\n",
       "      <td>16:100000:C:T</td>\n",
       "      <td>1|1:0.094:0.184,0.641:0.56,0.178,0.262</td>\n",
       "      <td>1|1:0.155:0.063,0.759:0.983,0.002,0.015</td>\n",
       "    </tr>\n",
       "    <tr>\n",
       "      <th>8545284</th>\n",
       "      <td>100000</td>\n",
       "      <td>17:100000:T:G</td>\n",
       "      <td>1|1:0.789:0.466,0.504:0.858,0.058,0.084</td>\n",
       "      <td>1|0:0.84:0.263,0.996:0.428,0.147,0.425</td>\n",
       "    </tr>\n",
       "    <tr>\n",
       "      <th>8788352</th>\n",
       "      <td>100000</td>\n",
       "      <td>18:100000:C:T</td>\n",
       "      <td>0|0:0.488:0.486,0.865:0.355,0.36,0.285</td>\n",
       "      <td>0|0:0.85:0.235,0.548:0.419,0.211,0.37</td>\n",
       "    </tr>\n",
       "    <tr>\n",
       "      <th>9059248</th>\n",
       "      <td>100000</td>\n",
       "      <td>19:100000:G:T</td>\n",
       "      <td>1|1:0.092:0.59,0.258:0.662,0.29,0.048</td>\n",
       "      <td>1|0:0.086:0.381,0.389:0.765,0.013,0.222</td>\n",
       "    </tr>\n",
       "    <tr>\n",
       "      <th>9249465</th>\n",
       "      <td>100000</td>\n",
       "      <td>20:100000:A:G</td>\n",
       "      <td>1|0:0.035:0.564,0.668:0.925,0.065,0.01</td>\n",
       "      <td>0|1:0.071:0.306,0.734:0.366,0.632,0.002</td>\n",
       "    </tr>\n",
       "    <tr>\n",
       "      <th>9461243</th>\n",
       "      <td>100000</td>\n",
       "      <td>21:100000:A:C</td>\n",
       "      <td>0|0:0.835:0.05,0.892:0.732,0.111,0.157</td>\n",
       "      <td>0|0:0.886:0.915,0.837:0.744,0.046,0.21</td>\n",
       "    </tr>\n",
       "    <tr>\n",
       "      <th>9588773</th>\n",
       "      <td>100000</td>\n",
       "      <td>22:100000:T:A</td>\n",
       "      <td>1|1:0.542:0.438,0.166:0.957,0.016,0.027</td>\n",
       "      <td>1|0:0.888:0.686,0.946:0.231,0.194,0.575</td>\n",
       "    </tr>\n",
       "  </tbody>\n",
       "</table>\n",
       "</div>"
      ],
      "text/plain": [
       "            POS             ID                                    SA010  \\\n",
       "rowid                                                                     \n",
       "90000    100000   1:100000:G:A   0|1:0.641:0.88,0.203:0.934,0.052,0.014   \n",
       "832932   100000   2:100000:C:T  1|0:0.144:0.462,0.846:0.759,0.197,0.044   \n",
       "1654040  100000   3:100000:G:T  1|0:0.184:0.051,0.062:0.353,0.285,0.362   \n",
       "2355176  100000   4:100000:C:G  1|0:0.363:0.021,0.732:0.172,0.233,0.595   \n",
       "3066329  100000   5:100000:C:G  0|0:0.423:0.948,0.166:0.015,0.454,0.531   \n",
       "3702775  100000   6:100000:C:A   1|1:0.17:0.174,0.625:0.935,0.006,0.059   \n",
       "4349834  100000   7:100000:A:C  1|1:0.498:0.045,0.372:0.818,0.081,0.101   \n",
       "4911808  100000   8:100000:T:C  0|1:0.757:0.785,0.161:0.778,0.207,0.015   \n",
       "5459234  100000   9:100000:A:C  0|1:0.774:0.915,0.858:0.975,0.003,0.022   \n",
       "5876401  100000  10:100000:T:A    1|1:0.235:0.982,0.52:0.729,0.11,0.161   \n",
       "6370708  100000  11:100000:A:T   0|1:0.494:0.63,0.363:0.393,0.168,0.439   \n",
       "6858100  100000  12:100000:T:C  0|0:0.124:0.582,0.742:0.968,0.017,0.015   \n",
       "7315204  100000  13:100000:T:A  0|0:0.871:0.845,0.932:0.053,0.696,0.251   \n",
       "7675107  100000  14:100000:G:A  0|0:0.765:0.804,0.514:0.484,0.258,0.258   \n",
       "7987317  100000  15:100000:T:G   1|1:0.248:0.269,0.53:0.494,0.288,0.218   \n",
       "8253819  100000  16:100000:C:T   1|1:0.094:0.184,0.641:0.56,0.178,0.262   \n",
       "8545284  100000  17:100000:T:G  1|1:0.789:0.466,0.504:0.858,0.058,0.084   \n",
       "8788352  100000  18:100000:C:T   0|0:0.488:0.486,0.865:0.355,0.36,0.285   \n",
       "9059248  100000  19:100000:G:T    1|1:0.092:0.59,0.258:0.662,0.29,0.048   \n",
       "9249465  100000  20:100000:A:G   1|0:0.035:0.564,0.668:0.925,0.065,0.01   \n",
       "9461243  100000  21:100000:A:C   0|0:0.835:0.05,0.892:0.732,0.111,0.157   \n",
       "9588773  100000  22:100000:T:A  1|1:0.542:0.438,0.166:0.957,0.016,0.027   \n",
       "\n",
       "                                           SA090  \n",
       "rowid                                             \n",
       "90000    0|1:0.322:0.518,0.689:0.519,0.382,0.099  \n",
       "832932    1|0:0.72:0.378,0.539:0.059,0.664,0.277  \n",
       "1654040  0|1:0.363:0.761,0.894:0.995,0.002,0.003  \n",
       "2355176   1|0:0.119:0.441,0.84:0.413,0.083,0.504  \n",
       "3066329    0|0:0.62:0.254,0.99:0.903,0.049,0.048  \n",
       "3702775   1|0:0.07:0.751,0.039:0.772,0.095,0.133  \n",
       "4349834  0|1:0.078:0.716,0.819:0.151,0.258,0.591  \n",
       "4911808   1|0:0.185:0.632,0.472:0.83,0.133,0.037  \n",
       "5459234  1|0:0.732:0.647,0.803:0.607,0.005,0.388  \n",
       "5876401   0|1:0.041:0.004,0.031:0.805,0.015,0.18  \n",
       "6370708   1|1:0.296:0.89,0.411:0.717,0.206,0.077  \n",
       "6858100   1|1:0.824:0.99,0.816:0.871,0.084,0.045  \n",
       "7315204   0|1:0.41:0.219,0.662:0.141,0.592,0.267  \n",
       "7675107     0|1:0.11:0.814,0.262:0.9,0.079,0.021  \n",
       "7987317   1|0:0.193:0.446,0.133:0.18,0.406,0.414  \n",
       "8253819  1|1:0.155:0.063,0.759:0.983,0.002,0.015  \n",
       "8545284   1|0:0.84:0.263,0.996:0.428,0.147,0.425  \n",
       "8788352    0|0:0.85:0.235,0.548:0.419,0.211,0.37  \n",
       "9059248  1|0:0.086:0.381,0.389:0.765,0.013,0.222  \n",
       "9249465  0|1:0.071:0.306,0.734:0.366,0.632,0.002  \n",
       "9461243   0|0:0.886:0.915,0.837:0.744,0.046,0.21  \n",
       "9588773  1|0:0.888:0.686,0.946:0.231,0.194,0.575  "
      ]
     },
     "execution_count": 71,
     "metadata": {},
     "output_type": "execute_result"
    }
   ],
   "source": [
    "duration, result = parse_vcf(chromo=None, pos=100000, columns=['ID', 'SA010', 'SA090'])\n",
    "result"
   ]
  },
  {
   "cell_type": "code",
   "execution_count": 72,
   "id": "80c34712-1b04-434c-a2fe-a396c714ac78",
   "metadata": {
    "tags": []
   },
   "outputs": [
    {
     "name": "stdout",
     "output_type": "stream",
     "text": [
      "Time to parse vcf: 0.09 s\n"
     ]
    }
   ],
   "source": [
    "print(f\"Time to parse vcf: {duration} s\")"
   ]
  },
  {
   "cell_type": "code",
   "execution_count": 73,
   "id": "e2d21279-30e8-4df9-9079-3832f29faaa7",
   "metadata": {
    "tags": []
   },
   "outputs": [
    {
     "data": {
      "text/html": [
       "<div>\n",
       "<style scoped>\n",
       "    .dataframe tbody tr th:only-of-type {\n",
       "        vertical-align: middle;\n",
       "    }\n",
       "\n",
       "    .dataframe tbody tr th {\n",
       "        vertical-align: top;\n",
       "    }\n",
       "\n",
       "    .dataframe thead th {\n",
       "        text-align: right;\n",
       "    }\n",
       "</style>\n",
       "<table border=\"1\" class=\"dataframe\">\n",
       "  <thead>\n",
       "    <tr style=\"text-align: right;\">\n",
       "      <th></th>\n",
       "      <th>ID</th>\n",
       "      <th>SA010</th>\n",
       "      <th>SA090</th>\n",
       "    </tr>\n",
       "    <tr>\n",
       "      <th>rowid</th>\n",
       "      <th></th>\n",
       "      <th></th>\n",
       "      <th></th>\n",
       "    </tr>\n",
       "  </thead>\n",
       "  <tbody>\n",
       "    <tr>\n",
       "      <th>7937317</th>\n",
       "      <td>15:50000:A:G</td>\n",
       "      <td>1|1:0.502:0.24,0.938:0.434,0.19,0.376</td>\n",
       "      <td>1|0:0.975:0.318,0.538:0.176,0.674,0.15</td>\n",
       "    </tr>\n",
       "    <tr>\n",
       "      <th>7937318</th>\n",
       "      <td>15:50001:C:T</td>\n",
       "      <td>1|1:0.214:0.732,0.514:0.236,0.158,0.606</td>\n",
       "      <td>0|0:0.732:0.979,0.842:0.1,0.066,0.834</td>\n",
       "    </tr>\n",
       "    <tr>\n",
       "      <th>7937319</th>\n",
       "      <td>15:50002:A:G</td>\n",
       "      <td>1|1:0.396:0.537,0.581:0.534,0.277,0.189</td>\n",
       "      <td>0|0:0.446:0.276,0.065:0.747,0.047,0.206</td>\n",
       "    </tr>\n",
       "    <tr>\n",
       "      <th>7937320</th>\n",
       "      <td>15:50003:A:G</td>\n",
       "      <td>0|0:0.677:0.191,0.832:0.589,0.254,0.157</td>\n",
       "      <td>0|1:0.336:0.97,0.848:0.737,0.194,0.069</td>\n",
       "    </tr>\n",
       "    <tr>\n",
       "      <th>7937321</th>\n",
       "      <td>15:50004:A:G</td>\n",
       "      <td>1|0:0.947:0.946,0.091:0.468,0.477,0.055</td>\n",
       "      <td>0|1:0.252:0.284,0.098:0.888,0.037,0.075</td>\n",
       "    </tr>\n",
       "    <tr>\n",
       "      <th>7937322</th>\n",
       "      <td>15:50005:T:G</td>\n",
       "      <td>1|0:0.055:0.06,0.958:0.846,0.102,0.052</td>\n",
       "      <td>1|0:0.344:0.956,0.419:0.204,0.495,0.301</td>\n",
       "    </tr>\n",
       "    <tr>\n",
       "      <th>7937323</th>\n",
       "      <td>15:50006:C:A</td>\n",
       "      <td>0|0:0.108:0.658,0.017:0.771,0.056,0.173</td>\n",
       "      <td>0|1:0.85:0.109,0.291:0.932,0.028,0.04</td>\n",
       "    </tr>\n",
       "    <tr>\n",
       "      <th>7937324</th>\n",
       "      <td>15:50007:T:C</td>\n",
       "      <td>1|1:0.53:0.347,0.236:0.381,0.571,0.048</td>\n",
       "      <td>1|1:0.764:0.96,0.585:0.152,0.184,0.664</td>\n",
       "    </tr>\n",
       "    <tr>\n",
       "      <th>7937325</th>\n",
       "      <td>15:50008:T:A</td>\n",
       "      <td>1|1:0.542:0.539,0.925:0.344,0.492,0.164</td>\n",
       "      <td>1|1:0.799:0.346,0.185:0.125,0.456,0.419</td>\n",
       "    </tr>\n",
       "    <tr>\n",
       "      <th>7937326</th>\n",
       "      <td>15:50009:C:T</td>\n",
       "      <td>0|1:0.699:0.793,0.185:0.085,0.404,0.511</td>\n",
       "      <td>0|1:0.741:0.316,0.701:0.717,0.029,0.254</td>\n",
       "    </tr>\n",
       "    <tr>\n",
       "      <th>7937327</th>\n",
       "      <td>15:50010:G:T</td>\n",
       "      <td>0|0:0.872:0.603,0.466:0.177,0.701,0.122</td>\n",
       "      <td>0|0:0.866:0.536,0.804:0.065,0.03,0.905</td>\n",
       "    </tr>\n",
       "  </tbody>\n",
       "</table>\n",
       "</div>"
      ],
      "text/plain": [
       "                   ID                                    SA010  \\\n",
       "rowid                                                            \n",
       "7937317  15:50000:A:G    1|1:0.502:0.24,0.938:0.434,0.19,0.376   \n",
       "7937318  15:50001:C:T  1|1:0.214:0.732,0.514:0.236,0.158,0.606   \n",
       "7937319  15:50002:A:G  1|1:0.396:0.537,0.581:0.534,0.277,0.189   \n",
       "7937320  15:50003:A:G  0|0:0.677:0.191,0.832:0.589,0.254,0.157   \n",
       "7937321  15:50004:A:G  1|0:0.947:0.946,0.091:0.468,0.477,0.055   \n",
       "7937322  15:50005:T:G   1|0:0.055:0.06,0.958:0.846,0.102,0.052   \n",
       "7937323  15:50006:C:A  0|0:0.108:0.658,0.017:0.771,0.056,0.173   \n",
       "7937324  15:50007:T:C   1|1:0.53:0.347,0.236:0.381,0.571,0.048   \n",
       "7937325  15:50008:T:A  1|1:0.542:0.539,0.925:0.344,0.492,0.164   \n",
       "7937326  15:50009:C:T  0|1:0.699:0.793,0.185:0.085,0.404,0.511   \n",
       "7937327  15:50010:G:T  0|0:0.872:0.603,0.466:0.177,0.701,0.122   \n",
       "\n",
       "                                           SA090  \n",
       "rowid                                             \n",
       "7937317   1|0:0.975:0.318,0.538:0.176,0.674,0.15  \n",
       "7937318    0|0:0.732:0.979,0.842:0.1,0.066,0.834  \n",
       "7937319  0|0:0.446:0.276,0.065:0.747,0.047,0.206  \n",
       "7937320   0|1:0.336:0.97,0.848:0.737,0.194,0.069  \n",
       "7937321  0|1:0.252:0.284,0.098:0.888,0.037,0.075  \n",
       "7937322  1|0:0.344:0.956,0.419:0.204,0.495,0.301  \n",
       "7937323    0|1:0.85:0.109,0.291:0.932,0.028,0.04  \n",
       "7937324   1|1:0.764:0.96,0.585:0.152,0.184,0.664  \n",
       "7937325  1|1:0.799:0.346,0.185:0.125,0.456,0.419  \n",
       "7937326  0|1:0.741:0.316,0.701:0.717,0.029,0.254  \n",
       "7937327   0|0:0.866:0.536,0.804:0.065,0.03,0.905  "
      ]
     },
     "execution_count": 73,
     "metadata": {},
     "output_type": "execute_result"
    }
   ],
   "source": [
    "duration, result = parse_range_vcf('chr15', 50000, 50010, ['ID', 'SA010', 'SA090'])\n",
    "result"
   ]
  },
  {
   "cell_type": "code",
   "execution_count": 74,
   "id": "aa571b93-b354-4947-aba6-757128818933",
   "metadata": {
    "tags": []
   },
   "outputs": [
    {
     "name": "stdout",
     "output_type": "stream",
     "text": [
      "Time to parse vcf: 0.11 s\n"
     ]
    }
   ],
   "source": [
    "print(f\"Time to parse vcf: {duration} s\")"
   ]
  },
  {
   "cell_type": "markdown",
   "id": "624e767b-e653-4070-8471-6316e24dc182",
   "metadata": {},
   "source": [
    "## Retrieve stored data in parallel"
   ]
  },
  {
   "cell_type": "markdown",
   "id": "8c9dab7e-0957-46f9-a38c-cb8343e5e1b3",
   "metadata": {},
   "source": [
    "For parallel data retrieval, the database should be accessed in read-only mode"
   ]
  },
  {
   "cell_type": "code",
   "execution_count": 75,
   "id": "a966995d-5927-40a2-83f8-53c318d03821",
   "metadata": {
    "tags": []
   },
   "outputs": [],
   "source": [
    "omi = Omilayers(\"project.duckdb\", read_only=True)"
   ]
  },
  {
   "cell_type": "code",
   "execution_count": 76,
   "id": "af0227d5-8d0f-406a-9578-ec9f1a707315",
   "metadata": {
    "tags": []
   },
   "outputs": [],
   "source": [
    "def getSamples(chromo, pos):\n",
    "    result = omi.layers['vcf'].query(f\"CHROM == '{chromo}' and POS == {pos}\")[['SA096', 'SA098', 'SA099']]\n",
    "    return (chromo, pos, result.values)\n",
    "\n",
    "@timeit\n",
    "def queryInParallel(queries):\n",
    "    with multiprocessing.Pool(processes=8) as pool:\n",
    "        results = pool.starmap(getSamples, queries)\n",
    "    return results\n",
    "\n",
    "queries = []\n",
    "for i in [1,10,20]:\n",
    "    for j in range(1, 100):\n",
    "        queries.append((f\"chr{i}\", 100000+j))\n",
    "        \n",
    "duration, results = queryInParallel(queries)"
   ]
  },
  {
   "cell_type": "code",
   "execution_count": 77,
   "id": "c2f4607d-18a8-4c30-b292-a358e4696290",
   "metadata": {
    "tags": []
   },
   "outputs": [
    {
     "data": {
      "text/plain": [
       "[('chr1',\n",
       "  100001,\n",
       "  array([['0|0:0.508:0.702,0.432:0.962,0.013,0.025',\n",
       "          '1|1:0.913:0.092,0.546:0.795,0.028,0.177',\n",
       "          '1|0:0.721:0.193,0.479:0.051,0.172,0.777']], dtype=object)),\n",
       " ('chr1',\n",
       "  100002,\n",
       "  array([['1|0:0.25:0.389,0.383:0.668,0.059,0.273',\n",
       "          '0|1:0.681:0.042,0.261:0.72,0.034,0.246',\n",
       "          '0|0:0.455:0.177,0.445:0.776,0.003,0.221']], dtype=object)),\n",
       " ('chr1',\n",
       "  100003,\n",
       "  array([['0|1:0.981:0.986,0.122:0.157,0.182,0.661',\n",
       "          '1|0:0.513:0.84,0.457:0.292,0.133,0.575',\n",
       "          '1|1:0.766:0.471,0.88:0.145,0.423,0.432']], dtype=object)),\n",
       " ('chr1',\n",
       "  100004,\n",
       "  array([['0|1:0.676:0.346,0.759:0.183,0.637,0.18',\n",
       "          '1|0:0.061:0.735,0.559:0.236,0.309,0.455',\n",
       "          '1|1:0.895:0.97,0.068:0.275,0.665,0.06']], dtype=object)),\n",
       " ('chr1',\n",
       "  100005,\n",
       "  array([['1|1:0.364:0.393,0.319:0.193,0.313,0.494',\n",
       "          '0|1:0.569:0.968,0.188:0.516,0.027,0.457',\n",
       "          '0|1:0.896:0.018,0.915:0.057,0.866,0.077']], dtype=object))]"
      ]
     },
     "execution_count": 77,
     "metadata": {},
     "output_type": "execute_result"
    }
   ],
   "source": [
    "results[:5]"
   ]
  },
  {
   "cell_type": "code",
   "execution_count": 78,
   "id": "c4cc2826-4ec6-4d78-96cb-43d3d65001e4",
   "metadata": {
    "tags": []
   },
   "outputs": [
    {
     "name": "stdout",
     "output_type": "stream",
     "text": [
      "Time to parse vcf in parallel: 8.47 s\n"
     ]
    }
   ],
   "source": [
    "print(f\"Time to parse vcf in parallel: {duration} s\")"
   ]
  },
  {
   "cell_type": "markdown",
   "id": "3113789b-8b8a-4b5d-9745-35d64d9c00d3",
   "metadata": {},
   "source": [
    "# View stored omic layers"
   ]
  },
  {
   "cell_type": "code",
   "execution_count": 79,
   "id": "fba33265-34da-4484-a656-d950118f2449",
   "metadata": {
    "tags": []
   },
   "outputs": [
    {
     "data": {
      "text/plain": [
       "       name tag       shape                        info\n",
       "     cohort raw       100x4            Cohort features.\n",
       "blood_metas raw   37228x101 Raw blood metabolomic data.\n",
       "urine_metas raw    5661x101 Raw urine metabolomic data.\n",
       "     rnaseq raw   60605x102       Raw bulk RNASeq data.\n",
       " microbiome raw    6914x101    Raw gut microbiome data.\n",
       "        vcf raw 9640953x110         Cohort imputed VCF."
      ]
     },
     "execution_count": 79,
     "metadata": {},
     "output_type": "execute_result"
    }
   ],
   "source": [
    "omi.layers"
   ]
  }
 ],
 "metadata": {
  "kernelspec": {
   "display_name": "Python 3 (ipykernel)",
   "language": "python",
   "name": "python3"
  },
  "language_info": {
   "codemirror_mode": {
    "name": "ipython",
    "version": 3
   },
   "file_extension": ".py",
   "mimetype": "text/x-python",
   "name": "python",
   "nbconvert_exporter": "python",
   "pygments_lexer": "ipython3",
   "version": "3.12.6"
  }
 },
 "nbformat": 4,
 "nbformat_minor": 5
}
